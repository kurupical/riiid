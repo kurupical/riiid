{
 "cells": [
  {
   "cell_type": "code",
   "execution_count": 1,
   "metadata": {
    "collapsed": true
   },
   "outputs": [],
   "source": [
    "import pandas as pd\n",
    "import numpy as np\n",
    "%matplotlib inline"
   ]
  },
  {
   "cell_type": "code",
   "execution_count": 2,
   "metadata": {
    "collapsed": true
   },
   "outputs": [],
   "source": [
    "\n",
    "\n",
    "data_types_dict = {\n",
    "    'row_id': 'int64',\n",
    "    'timestamp': 'int64',\n",
    "    'user_id': 'int32',\n",
    "    'content_id': 'int16',\n",
    "    'content_type_id': 'int8',\n",
    "    'task_container_id': 'int16',\n",
    "    'user_answer': 'int8',\n",
    "    'answered_correctly': 'int8',\n",
    "}\n",
    "\n",
    "\n",
    "df = pd.read_csv(\"../input/riiid-test-answer-prediction/train.csv\",\n",
    "                 dtype=data_types_dict)"
   ]
  },
  {
   "cell_type": "code",
   "execution_count": 3,
   "metadata": {
    "collapsed": true
   },
   "outputs": [],
   "source": [
    "df_question = pd.read_csv(\"../input/riiid-test-answer-prediction/questions.csv\",\n",
    "                          dtype={\"bundle_id\": \"int32\",\n",
    "                                 \"question_id\": \"int32\",\n",
    "                                 \"correct_answer\": \"int8\",\n",
    "                                 \"part\": \"int8\"})\n",
    "df_lecture = pd.read_csv(\"../input/riiid-test-answer-prediction/lectures.csv\",\n",
    "                         dtype={\"lecture_id\": \"int32\",\n",
    "                                \"tag\": \"int16\",\n",
    "                                \"part\": \"int8\"})"
   ]
  },
  {
   "cell_type": "code",
   "execution_count": 4,
   "metadata": {
    "collapsed": true
   },
   "outputs": [],
   "source": [
    "div_num = 10"
   ]
  },
  {
   "cell_type": "code",
   "execution_count": 5,
   "metadata": {
    "collapsed": true
   },
   "outputs": [],
   "source": [
    "df[f\"user_id_div{div_num}\"] = df[\"user_id\"]%div_num"
   ]
  },
  {
   "cell_type": "code",
   "execution_count": 6,
   "metadata": {},
   "outputs": [
    {
     "name": "stdout",
     "output_type": "stream",
     "text": [
      "10033866\n",
      "10033866\n",
      "10327224\n",
      "10327224\n",
      "10197970\n",
      "10197970\n",
      "10142289\n",
      "10142289\n",
      "10029278\n",
      "10029278\n",
      "10352714\n",
      "10352714\n",
      "9850792\n",
      "9850792\n",
      "10096249\n",
      "10096249\n",
      "10033170\n",
      "10033170\n",
      "10166780\n",
      "10166780\n"
     ]
    }
   ],
   "source": [
    "for user_id, w_df in df.groupby(f\"user_id_div{div_num}\"):\n",
    "    print(len(w_df))\n",
    "    w_df1 = pd.merge(w_df[w_df[\"content_type_id\"]==0], df_question, how=\"left\", left_on=\"content_id\", right_on=\"question_id\")\n",
    "    w_df2 = pd.merge(w_df[w_df[\"content_type_id\"]==1], df_lecture, how=\"left\", left_on=\"content_id\", right_on=\"lecture_id\")\n",
    "    w_df = pd.concat([w_df1, w_df2])\n",
    "    w_df[\"tag\"] = w_df[\"tag\"].fillna(-1).astype(\"int16\")\n",
    "    w_df[\"correct_answer\"] = w_df[\"correct_answer\"].fillna(-1).astype(\"int8\")\n",
    "    w_df[\"bundle_id\"] = w_df[\"bundle_id\"].fillna(-1).astype(\"int32\")\n",
    "    w_df[\"question_id\"] = w_df[\"question_id\"].fillna(-1).astype(\"uint16\")\n",
    "    print(len(w_df))\n",
    "    w_df = w_df.drop([\"lecture_id\"], axis=1)\n",
    "    w_df.drop([f\"user_id_div{div_num}\", \"row_id\"], axis=1).to_pickle(f\"../input/riiid-test-answer-prediction/split10/train_{user_id}.pickle\")"
   ]
  },
  {
   "cell_type": "code",
   "execution_count": 7,
   "metadata": {},
   "outputs": [
    {
     "data": {
      "text/plain": [
       "0         1\n",
       "1         1\n",
       "2         1\n",
       "3         2\n",
       "4         3\n",
       "         ..\n",
       "193588    5\n",
       "193589    5\n",
       "193590    5\n",
       "193591    5\n",
       "193592    5\n",
       "Name: part, Length: 10166780, dtype: int8"
      ]
     },
     "execution_count": 7,
     "metadata": {},
     "output_type": "execute_result"
    }
   ],
   "source": [
    "w_df[\"part\"]"
   ]
  },
  {
   "cell_type": "code",
   "execution_count": null,
   "metadata": {
    "collapsed": true
   },
   "outputs": [],
   "source": []
  }
 ],
 "metadata": {
  "kernelspec": {
   "display_name": "Python 3",
   "language": "python",
   "name": "python3"
  },
  "language_info": {
   "codemirror_mode": {
    "name": "ipython",
    "version": 3
   },
   "file_extension": ".py",
   "mimetype": "text/x-python",
   "name": "python",
   "nbconvert_exporter": "python",
   "pygments_lexer": "ipython3",
   "version": "3.6.1"
  }
 },
 "nbformat": 4,
 "nbformat_minor": 2
}
