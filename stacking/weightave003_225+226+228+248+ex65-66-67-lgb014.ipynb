{
 "cells": [
  {
   "cell_type": "code",
   "execution_count": 2,
   "metadata": {},
   "outputs": [],
   "source": [
    "import pandas as pd\n",
    "import numpy as np\n",
    "from sklearn.metrics import roc_auc_score\n",
    "import lightgbm as lgb"
   ]
  },
  {
   "cell_type": "code",
   "execution_count": 3,
   "metadata": {},
   "outputs": [],
   "source": [
    "base_dir = \"data/\""
   ]
  },
  {
   "cell_type": "code",
   "execution_count": 4,
   "metadata": {},
   "outputs": [],
   "source": [
    "# kurupical\n",
    "df1 = pd.read_csv(f\"{base_dir}/model275/epoch11.csv\")\n",
    "# df2 = pd.read_csv(f\"{base_dir}/model276/epoch10.csv\")\n",
    "df3 = pd.read_csv(f\"{base_dir}/model277/epoch11.csv\")\n",
    "df4 = pd.read_csv(f\"{base_dir}/model277_2/epoch11.csv\")\n",
    "df5 = pd.read_csv(f\"{base_dir}/model288_3/epoch19.csv\")\n",
    "df6 = pd.read_csv(f\"{base_dir}/model294/epoch18.csv\")\n",
    "df7 = pd.read_csv(f\"{base_dir}/model288_4/epoch24.csv\")"
   ]
  },
  {
   "cell_type": "code",
   "execution_count": 5,
   "metadata": {},
   "outputs": [],
   "source": [
    "# takoi-san\n",
    "df_val_row = pd.read_feather(\"../input/riiid-test-answer-prediction/train_transformer_last2500k_only_row_id.feather\")\n",
    "\n",
    "def extract_val_row(path):\n",
    "    df = pd.read_csv(path)\n",
    "    return pd.merge(df, df_val_row, how=\"inner\")\n",
    "\n",
    "df101 = extract_val_row(f\"{base_dir}/ex67_68_70_74_75_predict.csv/ex67_68_70_74_75_predict.csv\")\n",
    "df102 = extract_val_row(f\"{base_dir}/lgb014.csv/lgb014.csv\") \n",
    "df103 = extract_val_row(f\"{base_dir}/ex82_predict.csv/ex82_predict.csv\")\n",
    "df104 = extract_val_row(f\"{base_dir}/ex85_predict.csv/ex85_predict.csv\")\n",
    "df105 = extract_val_row(f\"{base_dir}/ex86_predict.csv/ex86_predict.csv\")"
   ]
  },
  {
   "cell_type": "code",
   "execution_count": 6,
   "metadata": {},
   "outputs": [
    {
     "data": {
      "text/plain": [
       "(Index(['Unnamed: 0', 'predict', 'target'], dtype='object'),\n",
       " Index(['Unnamed: 0', 'predict', 'target'], dtype='object'))"
      ]
     },
     "execution_count": 6,
     "metadata": {},
     "output_type": "execute_result"
    }
   ],
   "source": [
    "df5.columns, df6.columns"
   ]
  },
  {
   "cell_type": "code",
   "execution_count": 7,
   "metadata": {},
   "outputs": [],
   "source": [
    "def sigmoid(x):\n",
    "    return 1 / (1 + np.e**-x)"
   ]
  },
  {
   "cell_type": "code",
   "execution_count": null,
   "metadata": {},
   "outputs": [],
   "source": []
  },
  {
   "cell_type": "code",
   "execution_count": 8,
   "metadata": {},
   "outputs": [],
   "source": [
    "# merge\n",
    "df = pd.DataFrame()\n",
    "df[\"target\"] = df1[\"target\"]\n",
    "df[\"model275\"] = df1[\"predict\"]\n",
    "# df[\"model276\"] = df2[\"predict\"]\n",
    "# df[\"model277\"] = df3[\"predict\"]\n",
    "df[\"model277_2\"] = df4[\"predict\"]\n",
    "df[\"model288_3\"] = df5[\"predict\"]\n",
    "df[\"model294\"] = df6[\"predict\"]\n",
    "df[\"model288_4\"] = df7[\"predict\"]\n",
    "# df[\"ex68\"] = sigmoid(df101[\"ex68_transformer_75m\"])\n",
    "# df[\"ex70\"] = sigmoid(df101[\"ex70_transformer_75m\"])\n",
    "df[\"ex67\"] = sigmoid(df101[\"ex67_lstm_75m\"])\n",
    "df[\"ex74\"] = sigmoid(df101[\"ex74_transformer_conv1d_75m\"])\n",
    "# df[\"ex75\"] = sigmoid(df101[\"ex75_transformer_linear_75m\"])\n",
    "df[\"lgb014\"] = df102[\"ex014_lgb\"]\n",
    "df[\"ex82\"] = sigmoid(df103[\"ex82_transformer_75m\"])\n",
    "df[\"ex85\"] = sigmoid(df104[\"ex85_transformer_75m\"])\n",
    "df[\"ex86\"] = sigmoid(df105[\"ex86_lstm_75m\"])\n",
    "\n",
    "# df[\"ex55\"] = df4[\"ex55\"]\n",
    "# df[\"ex56\"] = df4[\"ex56\"]\n",
    "# df[\"ex57\"] = df4[\"ex57\"]"
   ]
  },
  {
   "cell_type": "code",
   "execution_count": 9,
   "metadata": {},
   "outputs": [],
   "source": [
    "from scipy.optimize import minimize"
   ]
  },
  {
   "cell_type": "code",
   "execution_count": 10,
   "metadata": {},
   "outputs": [],
   "source": [
    "X = df.drop(\"target\", axis=1).values\n",
    "y = df[\"target\"].values"
   ]
  },
  {
   "cell_type": "code",
   "execution_count": 11,
   "metadata": {},
   "outputs": [],
   "source": [
    "def auc(weights):\n",
    "    ''' scipy minimize will pass the weights as a numpy array '''\n",
    "    weights = weights / weights.sum()\n",
    "    auc = roc_auc_score(y, (X*weights).sum(axis=1))\n",
    "    return -auc"
   ]
  },
  {
   "cell_type": "code",
   "execution_count": 12,
   "metadata": {
    "scrolled": true
   },
   "outputs": [],
   "source": [
    "initial_weight = np.ones(len(df.columns)-1)\n",
    "coef_ = minimize(auc, initial_weight, method='nelder-mead')"
   ]
  },
  {
   "cell_type": "code",
   "execution_count": 13,
   "metadata": {},
   "outputs": [
    {
     "data": {
      "text/plain": [
       " final_simplex: (array([[ 0.40751513,  0.19931971,  3.14111179,  1.32114717,  0.27590745,\n",
       "         0.023674  ,  1.37974106,  1.43674849, -0.12025644,  4.51680562,\n",
       "         0.84483714],\n",
       "       [ 0.40750225,  0.19931526,  3.14109937,  1.3211441 ,  0.2759275 ,\n",
       "         0.02365666,  1.37975163,  1.43676569, -0.12027483,  4.5167925 ,\n",
       "         0.84489423],\n",
       "       [ 0.40750822,  0.19930552,  3.14113781,  1.32116852,  0.27589793,\n",
       "         0.02364619,  1.37975719,  1.43676134, -0.1202583 ,  4.51680665,\n",
       "         0.84488603],\n",
       "       [ 0.40751218,  0.1993117 ,  3.14110071,  1.32112077,  0.27591902,\n",
       "         0.02367017,  1.37974997,  1.4367577 , -0.12028355,  4.51679794,\n",
       "         0.84487419],\n",
       "       [ 0.40750698,  0.19932606,  3.14110966,  1.32115665,  0.275905  ,\n",
       "         0.02364311,  1.3797602 ,  1.43677848, -0.12026205,  4.51680899,\n",
       "         0.84487962],\n",
       "       [ 0.40750764,  0.19930913,  3.14114951,  1.32116214,  0.27587548,\n",
       "         0.02365849,  1.37975009,  1.43677514, -0.1202601 ,  4.51678418,\n",
       "         0.84488248],\n",
       "       [ 0.40750362,  0.19930512,  3.14113603,  1.32115508,  0.27588522,\n",
       "         0.0236697 ,  1.37975647,  1.43675885, -0.12026856,  4.51677855,\n",
       "         0.84488871],\n",
       "       [ 0.40751404,  0.19928267,  3.14110022,  1.32110293,  0.27592864,\n",
       "         0.02371733,  1.3797131 ,  1.43674561, -0.12027032,  4.51676202,\n",
       "         0.84485197],\n",
       "       [ 0.40750523,  0.1993197 ,  3.14110077,  1.3211485 ,  0.2759191 ,\n",
       "         0.02365168,  1.3797514 ,  1.43677884, -0.12027652,  4.51680083,\n",
       "         0.8448897 ],\n",
       "       [ 0.40751975,  0.19932157,  3.14112351,  1.32114135,  0.27589196,\n",
       "         0.02365107,  1.37975924,  1.43676546, -0.12027524,  4.51678953,\n",
       "         0.84488856],\n",
       "       [ 0.40750097,  0.19930862,  3.14115167,  1.32112163,  0.27588953,\n",
       "         0.02366008,  1.37976421,  1.4367334 , -0.12029429,  4.51679813,\n",
       "         0.8448986 ],\n",
       "       [ 0.40750844,  0.19931085,  3.14111716,  1.32115314,  0.27590288,\n",
       "         0.02366684,  1.37974909,  1.43677109, -0.12026581,  4.51678524,\n",
       "         0.84487585]]), array([-0.81571629, -0.81571629, -0.81571629, -0.81571629, -0.81571629,\n",
       "       -0.81571629, -0.81571629, -0.81571629, -0.81571629, -0.81571629,\n",
       "       -0.81571629, -0.81571629]))\n",
       "           fun: -0.8157162934599331\n",
       "       message: 'Optimization terminated successfully.'\n",
       "          nfev: 1073\n",
       "           nit: 736\n",
       "        status: 0\n",
       "       success: True\n",
       "             x: array([ 0.40751513,  0.19931971,  3.14111179,  1.32114717,  0.27590745,\n",
       "        0.023674  ,  1.37974106,  1.43674849, -0.12025644,  4.51680562,\n",
       "        0.84483714])"
      ]
     },
     "execution_count": 13,
     "metadata": {},
     "output_type": "execute_result"
    }
   ],
   "source": [
    "coef_"
   ]
  },
  {
   "cell_type": "code",
   "execution_count": 14,
   "metadata": {},
   "outputs": [],
   "source": [
    "weight_norm = coef_.x / coef_.x.sum()"
   ]
  },
  {
   "cell_type": "code",
   "execution_count": 15,
   "metadata": {},
   "outputs": [
    {
     "data": {
      "text/plain": [
       "array([ 0.03035144,  0.01484519,  0.23394778,  0.0983981 ,  0.02054939,\n",
       "        0.00176322,  0.10276214,  0.10700801, -0.00895661,  0.33640848,\n",
       "        0.06292287])"
      ]
     },
     "execution_count": 15,
     "metadata": {},
     "output_type": "execute_result"
    }
   ],
   "source": [
    "weight_norm"
   ]
  },
  {
   "cell_type": "code",
   "execution_count": 16,
   "metadata": {},
   "outputs": [
    {
     "data": {
      "text/plain": [
       "0.8133208580085063"
      ]
     },
     "execution_count": 16,
     "metadata": {},
     "output_type": "execute_result"
    }
   ],
   "source": [
    "roc_auc_score(y[-500000:], (X[-500000:]*coef_.x).sum(axis=1))"
   ]
  },
  {
   "cell_type": "code",
   "execution_count": 17,
   "metadata": {},
   "outputs": [
    {
     "name": "stdout",
     "output_type": "stream",
     "text": [
      "model275: 0.0304\n",
      "model277_2: 0.0148\n",
      "model288_3: 0.2339\n",
      "model294: 0.0984\n",
      "model288_4: 0.0205\n",
      "ex67: 0.0018\n",
      "ex74: 0.1028\n",
      "lgb014: 0.107\n",
      "ex82: -0.009\n",
      "ex85: 0.3364\n",
      "ex86: 0.0629\n"
     ]
    }
   ],
   "source": [
    "for i in range(len(weight_norm)):\n",
    "    print(\"{}: {}\".format(df.columns[i+1], round(weight_norm[i], 4)))"
   ]
  },
  {
   "cell_type": "code",
   "execution_count": null,
   "metadata": {},
   "outputs": [],
   "source": []
  },
  {
   "cell_type": "code",
   "execution_count": null,
   "metadata": {},
   "outputs": [],
   "source": []
  },
  {
   "cell_type": "code",
   "execution_count": null,
   "metadata": {},
   "outputs": [],
   "source": []
  },
  {
   "cell_type": "code",
   "execution_count": 17,
   "metadata": {},
   "outputs": [],
   "source": [
    "weight = coef_.x.copy()"
   ]
  },
  {
   "cell_type": "code",
   "execution_count": 18,
   "metadata": {},
   "outputs": [],
   "source": [
    "weight[7] = weight[7] + 0.7"
   ]
  },
  {
   "cell_type": "code",
   "execution_count": 19,
   "metadata": {},
   "outputs": [
    {
     "data": {
      "text/plain": [
       "array([ 0.9533741 , -1.66231918,  0.84880659,  4.521392  ,  2.01035548,\n",
       "        0.77509809, -0.5466162 ,  0.19701345,  0.33705262,  2.79873232,\n",
       "       -0.87630663,  2.28667754,  0.47155189,  6.49923451,  1.4390571 ])"
      ]
     },
     "execution_count": 19,
     "metadata": {},
     "output_type": "execute_result"
    }
   ],
   "source": [
    "weight"
   ]
  },
  {
   "cell_type": "code",
   "execution_count": 20,
   "metadata": {},
   "outputs": [],
   "source": [
    "weight_norm = weight / weight.sum()"
   ]
  },
  {
   "cell_type": "code",
   "execution_count": 21,
   "metadata": {},
   "outputs": [
    {
     "data": {
      "text/plain": [
       "array([ 0.04754247, -0.08289586,  0.04232794,  0.22547093,  0.10025159,\n",
       "        0.03865228, -0.02725843,  0.00982459,  0.016808  ,  0.13956604,\n",
       "       -0.0436993 ,  0.1140311 ,  0.02351516,  0.32410118,  0.07176231])"
      ]
     },
     "execution_count": 21,
     "metadata": {},
     "output_type": "execute_result"
    }
   ],
   "source": [
    "weight_norm"
   ]
  },
  {
   "cell_type": "code",
   "execution_count": 22,
   "metadata": {},
   "outputs": [
    {
     "name": "stdout",
     "output_type": "stream",
     "text": [
      "model275: 0.0475\n",
      "model277: -0.0829\n",
      "model277_2: 0.0423\n",
      "model288_3: 0.2255\n",
      "model294: 0.1003\n",
      "model288_4: 0.0387\n",
      "ex68: -0.0273\n",
      "ex70: 0.0098\n",
      "ex67: 0.0168\n",
      "ex74: 0.1396\n",
      "ex75: -0.0437\n",
      "lgb014: 0.114\n",
      "ex82: 0.0235\n",
      "ex85: 0.3241\n",
      "ex86: 0.0718\n"
     ]
    }
   ],
   "source": [
    "for i in range(len(weight_norm)):\n",
    "    print(\"{}: {}\".format(df.columns[i+1], round(weight_norm[i], 4)))"
   ]
  },
  {
   "cell_type": "code",
   "execution_count": null,
   "metadata": {},
   "outputs": [],
   "source": []
  },
  {
   "cell_type": "code",
   "execution_count": null,
   "metadata": {},
   "outputs": [],
   "source": []
  }
 ],
 "metadata": {
  "kernelspec": {
   "display_name": "Python 3",
   "language": "python",
   "name": "python3"
  },
  "language_info": {
   "codemirror_mode": {
    "name": "ipython",
    "version": 3
   },
   "file_extension": ".py",
   "mimetype": "text/x-python",
   "name": "python",
   "nbconvert_exporter": "python",
   "pygments_lexer": "ipython3",
   "version": "3.8.5"
  }
 },
 "nbformat": 4,
 "nbformat_minor": 4
}
