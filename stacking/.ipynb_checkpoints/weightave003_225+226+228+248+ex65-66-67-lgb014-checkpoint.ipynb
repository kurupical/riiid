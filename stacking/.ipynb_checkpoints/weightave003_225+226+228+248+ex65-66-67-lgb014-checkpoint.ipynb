{
 "cells": [
  {
   "cell_type": "code",
   "execution_count": 1,
   "metadata": {},
   "outputs": [],
   "source": [
    "import pandas as pd\n",
    "import numpy as np\n",
    "from sklearn.metrics import roc_auc_score\n",
    "import lightgbm as lgb"
   ]
  },
  {
   "cell_type": "code",
   "execution_count": 2,
   "metadata": {},
   "outputs": [],
   "source": [
    "base_dir = \"data/\""
   ]
  },
  {
   "cell_type": "code",
   "execution_count": 3,
   "metadata": {},
   "outputs": [],
   "source": [
    "# kurupical\n",
    "df1 = pd.read_csv(f\"{base_dir}/model275/epoch11.csv\")\n",
    "# df2 = pd.read_csv(f\"{base_dir}/model276/epoch10.csv\")\n",
    "df3 = pd.read_csv(f\"{base_dir}/model277/epoch11.csv\")\n",
    "df4 = pd.read_csv(f\"{base_dir}/model277_2/epoch11.csv\")\n",
    "df5 = pd.read_csv(f\"{base_dir}/model288_3/epoch19.csv\")\n",
    "df6 = pd.read_csv(f\"{base_dir}/model294/epoch18.csv\")\n",
    "df7 = pd.read_csv(f\"{base_dir}/model288_4/epoch24.csv\")"
   ]
  },
  {
   "cell_type": "code",
   "execution_count": 4,
   "metadata": {},
   "outputs": [],
   "source": [
    "# takoi-san\n",
    "df_val_row = pd.read_feather(\"../input/riiid-test-answer-prediction/train_transformer_last2500k_only_row_id.feather\")\n",
    "\n",
    "def extract_val_row(path):\n",
    "    df = pd.read_csv(path)\n",
    "    return pd.merge(df, df_val_row, how=\"inner\")\n",
    "\n",
    "df101 = extract_val_row(f\"{base_dir}/ex67_68_70_74_75_predict.csv/ex67_68_70_74_75_predict.csv\")\n",
    "df102 = extract_val_row(f\"{base_dir}/lgb014.csv/lgb014.csv\") \n",
    "df103 = extract_val_row(f\"{base_dir}/ex82_predict.csv/ex82_predict.csv\")\n",
    "df104 = extract_val_row(f\"{base_dir}/ex85_predict.csv/ex85_predict.csv\")\n",
    "df105 = extract_val_row(f\"{base_dir}/ex86_predict.csv/ex86_predict.csv\")"
   ]
  },
  {
   "cell_type": "code",
   "execution_count": 5,
   "metadata": {},
   "outputs": [
    {
     "data": {
      "text/plain": [
       "(Index(['Unnamed: 0', 'predict', 'target'], dtype='object'),\n",
       " Index(['Unnamed: 0', 'predict', 'target'], dtype='object'))"
      ]
     },
     "execution_count": 5,
     "metadata": {},
     "output_type": "execute_result"
    }
   ],
   "source": [
    "df5.columns, df6.columns"
   ]
  },
  {
   "cell_type": "code",
   "execution_count": 6,
   "metadata": {},
   "outputs": [],
   "source": [
    "def sigmoid(x):\n",
    "    return 1 / (1 + np.e**-x)"
   ]
  },
  {
   "cell_type": "code",
   "execution_count": null,
   "metadata": {},
   "outputs": [],
   "source": []
  },
  {
   "cell_type": "code",
   "execution_count": 7,
   "metadata": {},
   "outputs": [],
   "source": [
    "# merge\n",
    "df = pd.DataFrame()\n",
    "df[\"target\"] = df1[\"target\"]\n",
    "df[\"model275\"] = df1[\"predict\"]\n",
    "# df[\"model276\"] = df2[\"predict\"]\n",
    "df[\"model277\"] = df3[\"predict\"]\n",
    "df[\"model277_2\"] = df4[\"predict\"]\n",
    "df[\"model288_3\"] = df5[\"predict\"]\n",
    "df[\"model294\"] = df6[\"predict\"]\n",
    "df[\"model288_4\"] = df7[\"predict\"]\n",
    "df[\"ex68\"] = sigmoid(df101[\"ex68_transformer_75m\"])\n",
    "df[\"ex70\"] = sigmoid(df101[\"ex70_transformer_75m\"])\n",
    "df[\"ex67\"] = sigmoid(df101[\"ex67_lstm_75m\"])\n",
    "df[\"ex74\"] = sigmoid(df101[\"ex74_transformer_conv1d_75m\"])\n",
    "df[\"ex75\"] = sigmoid(df101[\"ex75_transformer_linear_75m\"])\n",
    "df[\"lgb014\"] = df102[\"ex014_lgb\"]\n",
    "df[\"ex82\"] = sigmoid(df103[\"ex82_transformer_75m\"])\n",
    "df[\"ex85\"] = sigmoid(df104[\"ex85_transformer_75m\"])\n",
    "df[\"ex86\"] = sigmoid(df105[\"ex86_lstm_75m\"])\n",
    "\n",
    "# df[\"ex55\"] = df4[\"ex55\"]\n",
    "# df[\"ex56\"] = df4[\"ex56\"]\n",
    "# df[\"ex57\"] = df4[\"ex57\"]"
   ]
  },
  {
   "cell_type": "code",
   "execution_count": 8,
   "metadata": {},
   "outputs": [],
   "source": [
    "from scipy.optimize import minimize"
   ]
  },
  {
   "cell_type": "code",
   "execution_count": 9,
   "metadata": {},
   "outputs": [],
   "source": [
    "X = df.drop(\"target\", axis=1).values\n",
    "y = df[\"target\"].values"
   ]
  },
  {
   "cell_type": "code",
   "execution_count": 10,
   "metadata": {},
   "outputs": [],
   "source": [
    "def auc(weights):\n",
    "    ''' scipy minimize will pass the weights as a numpy array '''\n",
    "    weights = weights / weights.sum()\n",
    "    auc = roc_auc_score(y, (X*weights).sum(axis=1))\n",
    "    return -auc"
   ]
  },
  {
   "cell_type": "code",
   "execution_count": 11,
   "metadata": {
    "scrolled": true
   },
   "outputs": [],
   "source": [
    "initial_weight = np.ones(len(df.columns)-1)\n",
    "coef_ = minimize(auc, initial_weight, method='nelder-mead')"
   ]
  },
  {
   "cell_type": "code",
   "execution_count": 12,
   "metadata": {},
   "outputs": [
    {
     "data": {
      "text/plain": [
       " final_simplex: (array([[ 0.9533741 , -1.66231918,  0.84880659,  4.521392  ,  2.01035548,\n",
       "         0.77509809, -0.5466162 , -0.50298655,  0.33705262,  2.79873232,\n",
       "        -0.87630663,  2.28667754,  0.47155189,  6.49923451,  1.4390571 ],\n",
       "       [ 0.95335577, -1.66231815,  0.84884943,  4.52140274,  2.0103428 ,\n",
       "         0.77508921, -0.54660117, -0.50302192,  0.33704608,  2.79876266,\n",
       "        -0.87631349,  2.2866866 ,  0.47154466,  6.49922398,  1.43907569],\n",
       "       [ 0.95336423, -1.66231945,  0.84883428,  4.52138884,  2.01035396,\n",
       "         0.7750899 , -0.54660866, -0.50299201,  0.33705209,  2.79874078,\n",
       "        -0.87630228,  2.28667676,  0.47154603,  6.49923001,  1.43903719],\n",
       "       [ 0.95336239, -1.66232141,  0.84884054,  4.52139674,  2.0103443 ,\n",
       "         0.77509492, -0.54661593, -0.50298093,  0.33703955,  2.79874194,\n",
       "        -0.87628402,  2.28667928,  0.47152669,  6.49924159,  1.43906618],\n",
       "       [ 0.95334538, -1.66230039,  0.84883556,  4.52141033,  2.01034837,\n",
       "         0.77511229, -0.54662955, -0.50300521,  0.3370417 ,  2.79873783,\n",
       "        -0.87628748,  2.286675  ,  0.47155635,  6.49922025,  1.43907811],\n",
       "       [ 0.95335303, -1.6622935 ,  0.84882185,  4.52138833,  2.01035834,\n",
       "         0.77509419, -0.54663018, -0.50299896,  0.33704721,  2.79876019,\n",
       "        -0.87631526,  2.28667073,  0.47157806,  6.4992284 ,  1.43904943],\n",
       "       [ 0.9533639 , -1.66231502,  0.84882713,  4.52139885,  2.01035077,\n",
       "         0.77511542, -0.54663903, -0.50300949,  0.33704411,  2.7987685 ,\n",
       "        -0.87628827,  2.28667681,  0.47154501,  6.49923091,  1.43908339],\n",
       "       [ 0.95337079, -1.66228648,  0.84880363,  4.52138683,  2.01035173,\n",
       "         0.77512158, -0.54668341, -0.5029915 ,  0.337052  ,  2.79877439,\n",
       "        -0.87627299,  2.28664732,  0.47155803,  6.49925987,  1.43906495],\n",
       "       [ 0.95336621, -1.66232471,  0.84883007,  4.52138537,  2.01035173,\n",
       "         0.77512483, -0.54661175, -0.50301076,  0.33703235,  2.7987671 ,\n",
       "        -0.87629021,  2.28669113,  0.47154322,  6.4992075 ,  1.43906689],\n",
       "       [ 0.95335981, -1.66232361,  0.84882435,  4.52141418,  2.01035429,\n",
       "         0.77510118, -0.54661233, -0.50299897,  0.33706217,  2.79874095,\n",
       "        -0.8762972 ,  2.28668127,  0.47154289,  6.49921665,  1.43905103],\n",
       "       [ 0.953358  , -1.66232373,  0.84883049,  4.52139152,  2.01035989,\n",
       "         0.77509905, -0.54659826, -0.50299388,  0.33704296,  2.7987413 ,\n",
       "        -0.87629984,  2.28667517,  0.47153166,  6.49922279,  1.43906637],\n",
       "       [ 0.95336347, -1.66231841,  0.84884151,  4.52138612,  2.01034715,\n",
       "         0.77510697, -0.54658994, -0.50301298,  0.33704578,  2.79874737,\n",
       "        -0.87628657,  2.28667479,  0.471515  ,  6.49920401,  1.43908368],\n",
       "       [ 0.95336625, -1.66232401,  0.8488271 ,  4.52139618,  2.01036138,\n",
       "         0.77509586, -0.54662317, -0.50299631,  0.33703845,  2.79876874,\n",
       "        -0.87630522,  2.28668751,  0.47153979,  6.49924975,  1.43906227],\n",
       "       [ 0.9533696 , -1.66233507,  0.84881987,  4.5214235 ,  2.01035739,\n",
       "         0.77510844, -0.54662738, -0.50301297,  0.33704395,  2.79877478,\n",
       "        -0.87630314,  2.28669833,  0.47152795,  6.49925296,  1.43908589],\n",
       "       [ 0.95335691, -1.66232594,  0.84881546,  4.5214067 ,  2.01036885,\n",
       "         0.77511199, -0.54663226, -0.50299504,  0.33704342,  2.79876145,\n",
       "        -0.8763033 ,  2.28668582,  0.47155383,  6.49923043,  1.43907397],\n",
       "       [ 0.95338133, -1.66232554,  0.848834  ,  4.52138403,  2.01035534,\n",
       "         0.77510671, -0.5466067 , -0.50298805,  0.33702249,  2.7987334 ,\n",
       "        -0.87627392,  2.28668079,  0.47151981,  6.49922374,  1.43906462]]), array([-0.81576687, -0.81576687, -0.81576687, -0.81576687, -0.81576687,\n",
       "       -0.81576687, -0.81576687, -0.81576687, -0.81576687, -0.81576687,\n",
       "       -0.81576687, -0.81576687, -0.81576687, -0.81576687, -0.81576687,\n",
       "       -0.81576687]))\n",
       "           fun: -0.8157668678959203\n",
       "       message: 'Optimization terminated successfully.'\n",
       "          nfev: 2093\n",
       "           nit: 1535\n",
       "        status: 0\n",
       "       success: True\n",
       "             x: array([ 0.9533741 , -1.66231918,  0.84880659,  4.521392  ,  2.01035548,\n",
       "        0.77509809, -0.5466162 , -0.50298655,  0.33705262,  2.79873232,\n",
       "       -0.87630663,  2.28667754,  0.47155189,  6.49923451,  1.4390571 ])"
      ]
     },
     "execution_count": 12,
     "metadata": {},
     "output_type": "execute_result"
    }
   ],
   "source": [
    "coef_"
   ]
  },
  {
   "cell_type": "code",
   "execution_count": 13,
   "metadata": {},
   "outputs": [],
   "source": [
    "weight_norm = coef_.x / coef_.x.sum()"
   ]
  },
  {
   "cell_type": "code",
   "execution_count": 14,
   "metadata": {},
   "outputs": [
    {
     "data": {
      "text/plain": [
       "array([ 0.04926208, -0.08589419,  0.04385894,  0.2336262 ,  0.10387768,\n",
       "        0.04005032, -0.02824437, -0.02598997,  0.01741595,  0.14461413,\n",
       "       -0.0452799 ,  0.1181556 ,  0.0243657 ,  0.33582389,  0.07435795])"
      ]
     },
     "execution_count": 14,
     "metadata": {},
     "output_type": "execute_result"
    }
   ],
   "source": [
    "weight_norm"
   ]
  },
  {
   "cell_type": "code",
   "execution_count": 15,
   "metadata": {},
   "outputs": [
    {
     "data": {
      "text/plain": [
       "0.8133559133964046"
      ]
     },
     "execution_count": 15,
     "metadata": {},
     "output_type": "execute_result"
    }
   ],
   "source": [
    "roc_auc_score(y[-500000:], (X[-500000:]*coef_.x).sum(axis=1))"
   ]
  },
  {
   "cell_type": "code",
   "execution_count": 16,
   "metadata": {},
   "outputs": [
    {
     "name": "stdout",
     "output_type": "stream",
     "text": [
      "model275: 0.0493\n",
      "model277: -0.0859\n",
      "model277_2: 0.0439\n",
      "model288_3: 0.2336\n",
      "model294: 0.1039\n",
      "model288_4: 0.0401\n",
      "ex68: -0.0282\n",
      "ex70: -0.026\n",
      "ex67: 0.0174\n",
      "ex74: 0.1446\n",
      "ex75: -0.0453\n",
      "lgb014: 0.1182\n",
      "ex82: 0.0244\n",
      "ex85: 0.3358\n",
      "ex86: 0.0744\n"
     ]
    }
   ],
   "source": [
    "for i in range(len(weight_norm)):\n",
    "    print(\"{}: {}\".format(df.columns[i+1], round(weight_norm[i], 4)))"
   ]
  },
  {
   "cell_type": "code",
   "execution_count": null,
   "metadata": {},
   "outputs": [],
   "source": []
  },
  {
   "cell_type": "code",
   "execution_count": null,
   "metadata": {},
   "outputs": [],
   "source": []
  },
  {
   "cell_type": "code",
   "execution_count": null,
   "metadata": {},
   "outputs": [],
   "source": []
  },
  {
   "cell_type": "code",
   "execution_count": 17,
   "metadata": {},
   "outputs": [],
   "source": [
    "weight = coef_.x.copy()"
   ]
  },
  {
   "cell_type": "code",
   "execution_count": 18,
   "metadata": {},
   "outputs": [],
   "source": [
    "weight[7] = weight[7] + 0.7"
   ]
  },
  {
   "cell_type": "code",
   "execution_count": 19,
   "metadata": {},
   "outputs": [
    {
     "data": {
      "text/plain": [
       "array([ 0.9533741 , -1.66231918,  0.84880659,  4.521392  ,  2.01035548,\n",
       "        0.77509809, -0.5466162 ,  0.19701345,  0.33705262,  2.79873232,\n",
       "       -0.87630663,  2.28667754,  0.47155189,  6.49923451,  1.4390571 ])"
      ]
     },
     "execution_count": 19,
     "metadata": {},
     "output_type": "execute_result"
    }
   ],
   "source": [
    "weight"
   ]
  },
  {
   "cell_type": "code",
   "execution_count": 20,
   "metadata": {},
   "outputs": [],
   "source": [
    "weight_norm = weight / weight.sum()"
   ]
  },
  {
   "cell_type": "code",
   "execution_count": 21,
   "metadata": {},
   "outputs": [
    {
     "data": {
      "text/plain": [
       "array([ 0.04754247, -0.08289586,  0.04232794,  0.22547093,  0.10025159,\n",
       "        0.03865228, -0.02725843,  0.00982459,  0.016808  ,  0.13956604,\n",
       "       -0.0436993 ,  0.1140311 ,  0.02351516,  0.32410118,  0.07176231])"
      ]
     },
     "execution_count": 21,
     "metadata": {},
     "output_type": "execute_result"
    }
   ],
   "source": [
    "weight_norm"
   ]
  },
  {
   "cell_type": "code",
   "execution_count": 22,
   "metadata": {},
   "outputs": [
    {
     "name": "stdout",
     "output_type": "stream",
     "text": [
      "model275: 0.0475\n",
      "model277: -0.0829\n",
      "model277_2: 0.0423\n",
      "model288_3: 0.2255\n",
      "model294: 0.1003\n",
      "model288_4: 0.0387\n",
      "ex68: -0.0273\n",
      "ex70: 0.0098\n",
      "ex67: 0.0168\n",
      "ex74: 0.1396\n",
      "ex75: -0.0437\n",
      "lgb014: 0.114\n",
      "ex82: 0.0235\n",
      "ex85: 0.3241\n",
      "ex86: 0.0718\n"
     ]
    }
   ],
   "source": [
    "for i in range(len(weight_norm)):\n",
    "    print(\"{}: {}\".format(df.columns[i+1], round(weight_norm[i], 4)))"
   ]
  },
  {
   "cell_type": "code",
   "execution_count": null,
   "metadata": {},
   "outputs": [],
   "source": []
  },
  {
   "cell_type": "code",
   "execution_count": null,
   "metadata": {},
   "outputs": [],
   "source": []
  }
 ],
 "metadata": {
  "kernelspec": {
   "display_name": "Python 3",
   "language": "python",
   "name": "python3"
  },
  "language_info": {
   "codemirror_mode": {
    "name": "ipython",
    "version": 3
   },
   "file_extension": ".py",
   "mimetype": "text/x-python",
   "name": "python",
   "nbconvert_exporter": "python",
   "pygments_lexer": "ipython3",
   "version": "3.8.5"
  }
 },
 "nbformat": 4,
 "nbformat_minor": 4
}
