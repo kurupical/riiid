{
 "cells": [
  {
   "cell_type": "code",
   "execution_count": 17,
   "metadata": {},
   "outputs": [],
   "source": [
    "import pandas as pd\n",
    "import numpy as np\n",
    "from sklearn.metrics import roc_auc_score\n",
    "import lightgbm as lgb"
   ]
  },
  {
   "cell_type": "code",
   "execution_count": 12,
   "metadata": {},
   "outputs": [],
   "source": [
    "base_dir = \"data/\""
   ]
  },
  {
   "cell_type": "code",
   "execution_count": 13,
   "metadata": {},
   "outputs": [],
   "source": [
    "# kurupical\n",
    "df1 = pd.read_csv(f\"{base_dir}/model225/transformers1.csv\")\n",
    "df2 = pd.read_csv(f\"{base_dir}/model226/transformers1.csv\")\n",
    "df3 = pd.read_csv(f\"{base_dir}/model228/transformers1.csv\")"
   ]
  },
  {
   "cell_type": "code",
   "execution_count": null,
   "metadata": {},
   "outputs": [],
   "source": []
  },
  {
   "cell_type": "code",
   "execution_count": 15,
   "metadata": {},
   "outputs": [],
   "source": [
    "# takoi-san\n",
    "df_val_row = pd.read_feather(\"../input/riiid-test-answer-prediction/train_transformer_last2500k_only_row_id.feather\")\n",
    "\n",
    "def extract_val_row(path):\n",
    "    df = pd.read_feather(path)\n",
    "    return pd.merge(df, df_val_row, how=\"inner\")\n",
    "# takoi_san\n",
    "df4 = extract_val_row(f\"{base_dir}/takoi_ex55_56_57/train_ex55_ex56_ex57.feather\")"
   ]
  },
  {
   "cell_type": "code",
   "execution_count": 20,
   "metadata": {},
   "outputs": [
    {
     "data": {
      "text/html": [
       "<div>\n",
       "<style scoped>\n",
       "    .dataframe tbody tr th:only-of-type {\n",
       "        vertical-align: middle;\n",
       "    }\n",
       "\n",
       "    .dataframe tbody tr th {\n",
       "        vertical-align: top;\n",
       "    }\n",
       "\n",
       "    .dataframe thead th {\n",
       "        text-align: right;\n",
       "    }\n",
       "</style>\n",
       "<table border=\"1\" class=\"dataframe\">\n",
       "  <thead>\n",
       "    <tr style=\"text-align: right;\">\n",
       "      <th></th>\n",
       "      <th>row_id</th>\n",
       "      <th>answered_correctly</th>\n",
       "      <th>ex55</th>\n",
       "      <th>ex56</th>\n",
       "      <th>ex57</th>\n",
       "    </tr>\n",
       "  </thead>\n",
       "  <tbody>\n",
       "    <tr>\n",
       "      <th>0</th>\n",
       "      <td>10753</td>\n",
       "      <td>1</td>\n",
       "      <td>1.098598</td>\n",
       "      <td>1.017184</td>\n",
       "      <td>1.354200</td>\n",
       "    </tr>\n",
       "    <tr>\n",
       "      <th>1</th>\n",
       "      <td>10754</td>\n",
       "      <td>1</td>\n",
       "      <td>1.579756</td>\n",
       "      <td>1.821863</td>\n",
       "      <td>1.717242</td>\n",
       "    </tr>\n",
       "    <tr>\n",
       "      <th>2</th>\n",
       "      <td>10755</td>\n",
       "      <td>0</td>\n",
       "      <td>-0.476880</td>\n",
       "      <td>-0.236096</td>\n",
       "      <td>-0.361019</td>\n",
       "    </tr>\n",
       "    <tr>\n",
       "      <th>3</th>\n",
       "      <td>10756</td>\n",
       "      <td>1</td>\n",
       "      <td>2.296592</td>\n",
       "      <td>2.599542</td>\n",
       "      <td>2.009301</td>\n",
       "    </tr>\n",
       "    <tr>\n",
       "      <th>4</th>\n",
       "      <td>10757</td>\n",
       "      <td>0</td>\n",
       "      <td>-0.137751</td>\n",
       "      <td>-0.063009</td>\n",
       "      <td>-0.064646</td>\n",
       "    </tr>\n",
       "    <tr>\n",
       "      <th>...</th>\n",
       "      <td>...</td>\n",
       "      <td>...</td>\n",
       "      <td>...</td>\n",
       "      <td>...</td>\n",
       "      <td>...</td>\n",
       "    </tr>\n",
       "    <tr>\n",
       "      <th>2499995</th>\n",
       "      <td>101230020</td>\n",
       "      <td>1</td>\n",
       "      <td>1.958967</td>\n",
       "      <td>1.710324</td>\n",
       "      <td>1.325099</td>\n",
       "    </tr>\n",
       "    <tr>\n",
       "      <th>2499996</th>\n",
       "      <td>101230021</td>\n",
       "      <td>1</td>\n",
       "      <td>1.342866</td>\n",
       "      <td>1.091345</td>\n",
       "      <td>1.129338</td>\n",
       "    </tr>\n",
       "    <tr>\n",
       "      <th>2499997</th>\n",
       "      <td>101230022</td>\n",
       "      <td>1</td>\n",
       "      <td>2.421757</td>\n",
       "      <td>2.378265</td>\n",
       "      <td>2.595206</td>\n",
       "    </tr>\n",
       "    <tr>\n",
       "      <th>2499998</th>\n",
       "      <td>101230023</td>\n",
       "      <td>0</td>\n",
       "      <td>-0.691799</td>\n",
       "      <td>-0.754669</td>\n",
       "      <td>-0.884679</td>\n",
       "    </tr>\n",
       "    <tr>\n",
       "      <th>2499999</th>\n",
       "      <td>101230024</td>\n",
       "      <td>1</td>\n",
       "      <td>3.940424</td>\n",
       "      <td>3.791936</td>\n",
       "      <td>4.055119</td>\n",
       "    </tr>\n",
       "  </tbody>\n",
       "</table>\n",
       "<p>2500000 rows × 5 columns</p>\n",
       "</div>"
      ],
      "text/plain": [
       "            row_id  answered_correctly      ex55      ex56      ex57\n",
       "0            10753                   1  1.098598  1.017184  1.354200\n",
       "1            10754                   1  1.579756  1.821863  1.717242\n",
       "2            10755                   0 -0.476880 -0.236096 -0.361019\n",
       "3            10756                   1  2.296592  2.599542  2.009301\n",
       "4            10757                   0 -0.137751 -0.063009 -0.064646\n",
       "...            ...                 ...       ...       ...       ...\n",
       "2499995  101230020                   1  1.958967  1.710324  1.325099\n",
       "2499996  101230021                   1  1.342866  1.091345  1.129338\n",
       "2499997  101230022                   1  2.421757  2.378265  2.595206\n",
       "2499998  101230023                   0 -0.691799 -0.754669 -0.884679\n",
       "2499999  101230024                   1  3.940424  3.791936  4.055119\n",
       "\n",
       "[2500000 rows x 5 columns]"
      ]
     },
     "execution_count": 20,
     "metadata": {},
     "output_type": "execute_result"
    }
   ],
   "source": [
    "df4"
   ]
  },
  {
   "cell_type": "code",
   "execution_count": 70,
   "metadata": {},
   "outputs": [],
   "source": [
    "# merge\n",
    "df = pd.DataFrame()\n",
    "df[\"target\"] = df1[\"target\"]\n",
    "df[\"model225\"] = df1[\"predict\"]\n",
    "df[\"model226\"] = df2[\"predict\"]\n",
    "df[\"model228\"] = df3[\"predict\"]\n",
    "df[\"ex55\"] = sigmoid(df4[\"ex55\"])\n",
    "df[\"ex56\"] = sigmoid(df4[\"ex56\"])\n",
    "df[\"ex57\"] = sigmoid(df4[\"ex57\"])"
   ]
  },
  {
   "cell_type": "code",
   "execution_count": 87,
   "metadata": {},
   "outputs": [],
   "source": [
    "df_train = df.iloc[:2_000_000]\n",
    "df_val = df.iloc[2_000_000:]"
   ]
  },
  {
   "cell_type": "code",
   "execution_count": 89,
   "metadata": {},
   "outputs": [
    {
     "name": "stdout",
     "output_type": "stream",
     "text": [
      "model=model225 auc=0.8073\n",
      "model=model226 auc=0.8083\n",
      "model=model228 auc=0.8078\n",
      "model=ex55 auc=0.8054\n",
      "model=ex56 auc=0.8055\n",
      "model=ex57 auc=0.8055\n"
     ]
    }
   ],
   "source": [
    "for col in [\"model225\", \"model226\", \"model228\", \"ex55\", \"ex56\", \"ex57\"]:\n",
    "    score = roc_auc_score(df_val[\"target\"], df_val[col])\n",
    "    print(f\"model={col} auc={round(score, 4)}\")"
   ]
  },
  {
   "cell_type": "code",
   "execution_count": 90,
   "metadata": {},
   "outputs": [],
   "source": [
    "params = {\n",
    "    'objective': 'binary',\n",
    "    'max_depth': 6,\n",
    "    'learning_rate': 0.01,\n",
    "    'bagging_fraction': 0.7,\n",
    "    'bagging_seed': 0,\n",
    "    'random_state': 0,\n",
    "    'metric': 'auc',\n",
    "    'verbosity': -1,\n",
    "    \"n_estimators\": 10000,\n",
    "    \"early_stopping_rounds\": 50\n",
    "}"
   ]
  },
  {
   "cell_type": "code",
   "execution_count": null,
   "metadata": {},
   "outputs": [],
   "source": []
  },
  {
   "cell_type": "code",
   "execution_count": 91,
   "metadata": {},
   "outputs": [
    {
     "name": "stderr",
     "output_type": "stream",
     "text": [
      "C:\\ProgramData\\Anaconda3\\lib\\site-packages\\lightgbm\\engine.py:151: UserWarning: Found `n_estimators` in params. Will use it instead of argument\n",
      "  warnings.warn(\"Found `{}` in params. Will use it instead of argument\".format(alias))\n",
      "C:\\ProgramData\\Anaconda3\\lib\\site-packages\\lightgbm\\engine.py:156: UserWarning: Found `early_stopping_rounds` in params. Will use it instead of argument\n",
      "  warnings.warn(\"Found `{}` in params. Will use it instead of argument\".format(alias))\n"
     ]
    },
    {
     "name": "stdout",
     "output_type": "stream",
     "text": [
      "[LightGBM] [Warning] Accuracy may be bad since you didn't explicitly set num_leaves OR 2^max_depth > num_leaves. (num_leaves=31).\n",
      "Training until validation scores don't improve for 50 rounds\n",
      "[100]\ttraining's auc: 0.814974\tvalid_1's auc: 0.81101\n",
      "[200]\ttraining's auc: 0.815183\tvalid_1's auc: 0.811193\n",
      "[300]\ttraining's auc: 0.81529\tvalid_1's auc: 0.81126\n",
      "[400]\ttraining's auc: 0.81538\tvalid_1's auc: 0.81128\n",
      "[500]\ttraining's auc: 0.815459\tvalid_1's auc: 0.811288\n",
      "Early stopping, best iteration is:\n",
      "[545]\ttraining's auc: 0.815496\tvalid_1's auc: 0.81129\n"
     ]
    }
   ],
   "source": [
    "# lgbm\n",
    "train_data = lgb.Dataset(df_train.drop(\"target\", axis=1), label=df_train[\"target\"])\n",
    "valid_data = lgb.Dataset(df_val.drop(\"target\", axis=1), label=df_val[\"target\"])\n",
    "\n",
    "model = lgb.train(\n",
    "    params,\n",
    "    train_data,\n",
    "    valid_sets=[train_data, valid_data],\n",
    "    verbose_eval=100\n",
    ")"
   ]
  },
  {
   "cell_type": "code",
   "execution_count": 47,
   "metadata": {},
   "outputs": [],
   "source": [
    "lgbm = model.predict(df_val.drop(\"target\", axis=1))"
   ]
  },
  {
   "cell_type": "code",
   "execution_count": null,
   "metadata": {},
   "outputs": [],
   "source": []
  },
  {
   "cell_type": "markdown",
   "metadata": {},
   "source": [
    "# 以下、没になったモデリング集"
   ]
  },
  {
   "cell_type": "code",
   "execution_count": null,
   "metadata": {},
   "outputs": [],
   "source": []
  },
  {
   "cell_type": "code",
   "execution_count": null,
   "metadata": {},
   "outputs": [],
   "source": []
  },
  {
   "cell_type": "code",
   "execution_count": 92,
   "metadata": {},
   "outputs": [
    {
     "ename": "ModuleNotFoundError",
     "evalue": "No module named 'rgf'",
     "output_type": "error",
     "traceback": [
      "\u001b[1;31m---------------------------------------------------------------------------\u001b[0m",
      "\u001b[1;31mModuleNotFoundError\u001b[0m                       Traceback (most recent call last)",
      "\u001b[1;32m<ipython-input-92-babfcbaf1651>\u001b[0m in \u001b[0;36m<module>\u001b[1;34m\u001b[0m\n\u001b[1;32m----> 1\u001b[1;33m \u001b[1;32mfrom\u001b[0m \u001b[0mrgf\u001b[0m\u001b[1;33m.\u001b[0m\u001b[0msklearn\u001b[0m \u001b[1;32mimport\u001b[0m \u001b[0mRGFClassifier\u001b[0m\u001b[1;33m\u001b[0m\u001b[1;33m\u001b[0m\u001b[0m\n\u001b[0m\u001b[0;32m      2\u001b[0m \u001b[1;32mfrom\u001b[0m \u001b[0msklearn\u001b[0m\u001b[1;33m.\u001b[0m\u001b[0mneighbors\u001b[0m \u001b[1;32mimport\u001b[0m \u001b[0mKNeighborsClassifier\u001b[0m\u001b[1;33m\u001b[0m\u001b[1;33m\u001b[0m\u001b[0m\n\u001b[0;32m      3\u001b[0m \u001b[1;32mfrom\u001b[0m \u001b[0msklearn\u001b[0m\u001b[1;33m.\u001b[0m\u001b[0mlinear_model\u001b[0m \u001b[1;32mimport\u001b[0m \u001b[0mLogisticRegression\u001b[0m\u001b[1;33m\u001b[0m\u001b[1;33m\u001b[0m\u001b[0m\n\u001b[0;32m      4\u001b[0m \u001b[1;32mfrom\u001b[0m \u001b[0msklearn\u001b[0m\u001b[1;33m.\u001b[0m\u001b[0mensemble\u001b[0m \u001b[1;32mimport\u001b[0m \u001b[0mRandomForestClassifier\u001b[0m\u001b[1;33m,\u001b[0m \u001b[0mExtraTreesClassifier\u001b[0m\u001b[1;33m\u001b[0m\u001b[1;33m\u001b[0m\u001b[0m\n",
      "\u001b[1;31mModuleNotFoundError\u001b[0m: No module named 'rgf'"
     ]
    }
   ],
   "source": [
    "from sklearn.neighbors import KNeighborsClassifier\n",
    "from sklearn.linear_model import LogisticRegression\n",
    "from sklearn.ensemble import RandomForestClassifier, ExtraTreesClassifier"
   ]
  },
  {
   "cell_type": "code",
   "execution_count": 93,
   "metadata": {},
   "outputs": [],
   "source": [
    "from sklearn.ensemble import StackingClassifier"
   ]
  },
  {
   "cell_type": "code",
   "execution_count": null,
   "metadata": {},
   "outputs": [],
   "source": [
    "clf = StackingClassifier(\n",
    "    estimators= [\n",
    "        ('lgb', lgbm.LGBMClassifier(**lgbm_params)),\n",
    "        ('et', ExtraTreesClassifier(**et_params)),\n",
    "        ('rf', RandomForestClassifier(**rf_params)),\n",
    "        ('lr', LogisticRegression()),\n",
    "        ('knn', KNeighborsClassifier())\n",
    "    ],\n",
    "    final_estimator=final_estimator\n",
    ")"
   ]
  },
  {
   "cell_type": "code",
   "execution_count": null,
   "metadata": {},
   "outputs": [],
   "source": []
  },
  {
   "cell_type": "code",
   "execution_count": null,
   "metadata": {},
   "outputs": [],
   "source": []
  },
  {
   "cell_type": "code",
   "execution_count": null,
   "metadata": {},
   "outputs": [],
   "source": []
  },
  {
   "cell_type": "code",
   "execution_count": null,
   "metadata": {},
   "outputs": [],
   "source": []
  },
  {
   "cell_type": "code",
   "execution_count": 78,
   "metadata": {},
   "outputs": [],
   "source": [
    "# logistic reg\n",
    "from sklearn.linear_model import LogisticRegression\n",
    "\n",
    "clf_logistic = LogisticRegression()\n",
    "clf_logistic.fit(df_train.drop(\"target\", axis=1).values, df_train[\"target\"].values)\n",
    "logistic = clf_logistic.predict_proba(df_val.drop(\"target\", axis=1).values)[:, 1]"
   ]
  },
  {
   "cell_type": "code",
   "execution_count": null,
   "metadata": {},
   "outputs": [],
   "source": []
  },
  {
   "cell_type": "code",
   "execution_count": 79,
   "metadata": {},
   "outputs": [
    {
     "data": {
      "text/plain": [
       "0.8101269984455765"
      ]
     },
     "execution_count": 79,
     "metadata": {},
     "output_type": "execute_result"
    }
   ],
   "source": [
    "roc_auc_score(df_val[\"target\"].values, logistic)"
   ]
  },
  {
   "cell_type": "code",
   "execution_count": 73,
   "metadata": {},
   "outputs": [],
   "source": [
    "# mlp\n",
    "from sklearn.neural_network import MLPClassifier\n",
    "\n",
    "clf_mlp = MLPClassifier()\n",
    "clf_mlp.fit(df_train.drop(\"target\", axis=1).values, df_train[\"target\"].values)\n",
    "mlp = clf_mlp.predict(df_val.drop(\"target\", axis=1).values)"
   ]
  },
  {
   "cell_type": "code",
   "execution_count": 81,
   "metadata": {},
   "outputs": [
    {
     "data": {
      "text/plain": [
       "0.8103880130787595"
      ]
     },
     "execution_count": 81,
     "metadata": {},
     "output_type": "execute_result"
    }
   ],
   "source": [
    "mlp = clf_mlp.predict_proba(df_val.drop(\"target\", axis=1).values)[:, 1]\n",
    "roc_auc_score(df_val[\"target\"].values, mlp)"
   ]
  },
  {
   "cell_type": "code",
   "execution_count": 86,
   "metadata": {},
   "outputs": [
    {
     "data": {
      "text/plain": [
       "0.8104891955658622"
      ]
     },
     "execution_count": 86,
     "metadata": {},
     "output_type": "execute_result"
    }
   ],
   "source": [
    "roc_auc_score(df_val[\"target\"].values, lgbm*10 + logistic + mlp)"
   ]
  },
  {
   "cell_type": "code",
   "execution_count": null,
   "metadata": {},
   "outputs": [],
   "source": []
  },
  {
   "cell_type": "code",
   "execution_count": null,
   "metadata": {},
   "outputs": [],
   "source": []
  },
  {
   "cell_type": "code",
   "execution_count": null,
   "metadata": {},
   "outputs": [],
   "source": []
  },
  {
   "cell_type": "code",
   "execution_count": 54,
   "metadata": {},
   "outputs": [],
   "source": [
    "import torch\n",
    "import torch.nn.functional\n",
    "import torch.utils.data\n",
    "\n",
    "\n",
    "class Net(torch.nn.Module):\n",
    "    def __init__(self, input_dim):\n",
    "        super(Net, self).__init__()\n",
    "        self.fc1 = torch.nn.Linear(input_dim, 128)\n",
    "        self.fc2 = torch.nn.Linear(128, 64)\n",
    "        self.fc3 = torch.nn.Linear(64, 1)\n",
    "    def forward(self, x):\n",
    "        x = torch.nn.functional.relu(self.fc1(x))\n",
    "        x = torch.nn.functional.relu(self.fc2(x))\n",
    "        x = self.fc3(x)\n",
    "        return x"
   ]
  },
  {
   "cell_type": "code",
   "execution_count": 69,
   "metadata": {},
   "outputs": [
    {
     "name": "stdout",
     "output_type": "stream",
     "text": [
      "0.7909581340391222\n",
      "0.7935409500374382\n",
      "0.7956666729694192\n",
      "0.7974297737518439\n",
      "0.7988992712446684\n",
      "0.8001329722162667\n",
      "0.8011701916274742\n",
      "0.8020340682563649\n",
      "0.8027583226875239\n",
      "0.8033708392113896\n",
      "0.8038887175406277\n",
      "0.804325117394177\n",
      "0.8046982276649539\n",
      "0.8050129981342328\n",
      "0.8052841835169412\n",
      "0.8055141863101432\n",
      "0.8057102073651655\n",
      "0.8058813882524619\n",
      "0.8060306927844096\n",
      "0.8061612273097309\n",
      "0.8062760516807792\n",
      "0.806376720136718\n",
      "0.806466009344421\n",
      "0.8065450104319479\n",
      "0.8066167818319152\n",
      "0.8066805997470996\n",
      "0.8067388392407545\n",
      "0.8067913341344606\n",
      "0.8068394449512679\n",
      "0.806883785839731\n",
      "0.8069241703642148\n",
      "0.8069614405929146\n",
      "0.8069959036477212\n",
      "0.8070278322825143\n",
      "0.8070579214669422\n",
      "0.8070863846635745\n",
      "0.8071132274301601\n",
      "0.807138871653504\n",
      "0.807162856083742\n",
      "0.8071856804767614\n",
      "0.8072081889957349\n",
      "0.8072291030381362\n",
      "0.8072491589450804\n",
      "0.8072681256371467\n",
      "0.8072863242171664\n",
      "0.8073029564383213\n",
      "0.8073194043274748\n",
      "0.8073341931333909\n",
      "0.8073485380725576\n",
      "0.8073623072479955\n",
      "0.8073752850502173\n",
      "0.8073876057914849\n",
      "0.8073991259139354\n",
      "0.8074101526779701\n",
      "0.807420163109817\n",
      "0.8074296958349763\n",
      "0.807438815763106\n",
      "0.807447172323187\n",
      "0.807455622516618\n",
      "0.8074633281794785\n",
      "0.8074705586375046\n",
      "0.8074781876778815\n",
      "0.8074848351782704\n",
      "0.8074917377204615\n",
      "0.8074982715986497\n",
      "0.8075044620045008\n",
      "0.8075107175797176\n",
      "0.807516597721213\n",
      "0.8075222055416748\n",
      "0.8075279075581875\n",
      "0.8075331531380886\n",
      "0.807538465324406\n",
      "0.8075440988299779\n",
      "0.8075490865545751\n",
      "0.8075541811143399\n",
      "0.8075589798148801\n",
      "0.8075637292834617\n",
      "0.8075683579878757\n",
      "0.8075725881965081\n",
      "0.8075772939822232\n",
      "0.8075817478512879\n",
      "0.8075862227913191\n",
      "0.8075907599919878\n",
      "0.807595534842687\n",
      "0.807600098204597\n",
      "0.8076043510424431\n",
      "0.8076082700517716\n",
      "0.8076118167265594\n",
      "0.8076152851946453\n",
      "0.8076186705302366\n",
      "0.8076224595817385\n",
      "0.8076259720876251\n",
      "0.8076296266450691\n",
      "0.8076329354447462\n",
      "0.807636455447534\n",
      "0.8076398270186073\n",
      "0.8076426792171916\n",
      "0.807645642484182\n",
      "0.8076478952423353\n",
      "0.8076500539516056\n"
     ]
    }
   ],
   "source": [
    "num_epochs = 100\n",
    "X_train = torch.from_numpy(df_train.drop(\"target\", axis=1).values).float().to(\"cuda\")\n",
    "y_train = torch.from_numpy(df_train[\"target\"].values.reshape(-1, 1)).float().to(\"cuda\")\n",
    "\n",
    "X_val = torch.from_numpy(df_val.drop(\"target\", axis=1).values).float().to(\"cuda\")\n",
    "y_val = df_val[\"target\"].values.reshape(-1, 1)\n",
    "\n",
    "clf_nn = Net(input_dim=6).to(\"cuda\")\n",
    "clf_nn.train()\n",
    "\n",
    "# set training parameters\n",
    "optimizer = torch.optim.Adam(clf_nn.parameters(), lr=0.0001)\n",
    "criterion = torch.nn.BCEWithLogitsLoss()\n",
    "\n",
    "# start to train\n",
    "epoch_loss = []\n",
    "for epoch in range(num_epochs):\n",
    "    # forward\n",
    "    outputs = clf_nn(X_train)\n",
    "    \n",
    "    # calculate loss\n",
    "    loss = criterion(outputs, y_train)\n",
    "    \n",
    "    # update weights\n",
    "    optimizer.zero_grad()\n",
    "    loss.backward()\n",
    "    optimizer.step()\n",
    "    \n",
    "    print(roc_auc_score(y_val, clf_nn(X_val).data.cpu().numpy().tolist()))\n",
    "    # save loss of this epoch"
   ]
  },
  {
   "cell_type": "code",
   "execution_count": null,
   "metadata": {},
   "outputs": [],
   "source": []
  }
 ],
 "metadata": {
  "kernelspec": {
   "display_name": "Python 3",
   "language": "python",
   "name": "python3"
  },
  "language_info": {
   "codemirror_mode": {
    "name": "ipython",
    "version": 3
   },
   "file_extension": ".py",
   "mimetype": "text/x-python",
   "name": "python",
   "nbconvert_exporter": "python",
   "pygments_lexer": "ipython3",
   "version": "3.8.5"
  }
 },
 "nbformat": 4,
 "nbformat_minor": 4
}
