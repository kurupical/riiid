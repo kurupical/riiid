{
 "cells": [
  {
   "cell_type": "code",
   "execution_count": 16,
   "metadata": {},
   "outputs": [],
   "source": [
    "import pandas as pd\n",
    "import numpy as np\n",
    "from sklearn.metrics import roc_auc_score\n",
    "import lightgbm as lgb\n",
    "from catboost import CatBoostClassifier\n"
   ]
  },
  {
   "cell_type": "code",
   "execution_count": 2,
   "metadata": {},
   "outputs": [],
   "source": [
    "base_dir = \"data/\""
   ]
  },
  {
   "cell_type": "code",
   "execution_count": 3,
   "metadata": {},
   "outputs": [],
   "source": [
    "# kurupical\n",
    "df1 = pd.read_csv(f\"{base_dir}/model275/epoch11.csv\")\n",
    "df2 = pd.read_csv(f\"{base_dir}/model276/epoch10.csv\")\n",
    "df3 = pd.read_csv(f\"{base_dir}/model277/epoch11.csv\")\n",
    "df4 = pd.read_csv(f\"{base_dir}/model277_2/epoch11.csv\")\n"
   ]
  },
  {
   "cell_type": "code",
   "execution_count": 4,
   "metadata": {},
   "outputs": [],
   "source": [
    "# takoi-san\n",
    "df_val_row = pd.read_feather(\"../input/riiid-test-answer-prediction/train_transformer_last2500k_only_row_id.feather\")\n",
    "\n",
    "def extract_val_row(path):\n",
    "    df = pd.read_csv(path)\n",
    "    return pd.merge(df, df_val_row, how=\"inner\")\n",
    "\n",
    "df5 = extract_val_row(f\"{base_dir}/ex67_68_70_predict.csv/ex67_68_70_predict.csv\")\n",
    "df6 = extract_val_row(f\"{base_dir}/lgb014.csv/lgb014.csv\") "
   ]
  },
  {
   "cell_type": "code",
   "execution_count": 5,
   "metadata": {},
   "outputs": [
    {
     "data": {
      "text/plain": [
       "(Index(['row_id', 'ex68_transformer_75m', 'ex70_transformer_75m',\n",
       "        'ex67_lstm_75m'],\n",
       "       dtype='object'),\n",
       " Index(['row_id', 'ex014_lgb'], dtype='object'))"
      ]
     },
     "execution_count": 5,
     "metadata": {},
     "output_type": "execute_result"
    }
   ],
   "source": [
    "df5.columns, df6.columns"
   ]
  },
  {
   "cell_type": "code",
   "execution_count": null,
   "metadata": {},
   "outputs": [],
   "source": []
  },
  {
   "cell_type": "code",
   "execution_count": 6,
   "metadata": {},
   "outputs": [
    {
     "data": {
      "text/plain": [
       "(2500000, 2500000)"
      ]
     },
     "execution_count": 6,
     "metadata": {},
     "output_type": "execute_result"
    }
   ],
   "source": [
    "len(df5),len(df6)"
   ]
  },
  {
   "cell_type": "code",
   "execution_count": 7,
   "metadata": {},
   "outputs": [],
   "source": [
    "# merge\n",
    "df = pd.DataFrame()\n",
    "df[\"target\"] = df1[\"target\"]\n",
    "df[\"model275\"] = df1[\"predict\"]\n",
    "df[\"model276\"] = df2[\"predict\"]\n",
    "df[\"model277\"] = df3[\"predict\"]\n",
    "df[\"model277_2\"] = df4[\"predict\"]\n",
    "df[\"ex68\"] = df5[\"ex68_transformer_75m\"]\n",
    "df[\"ex70\"] = df5[\"ex70_transformer_75m\"]\n",
    "df[\"ex67\"] = df5[\"ex67_lstm_75m\"]\n",
    "df[\"lgb014\"] = df6[\"ex014_lgb\"]\n",
    "\n",
    "# df[\"ex55\"] = df4[\"ex55\"]\n",
    "# df[\"ex56\"] = df4[\"ex56\"]\n",
    "# df[\"ex57\"] = df4[\"ex57\"]"
   ]
  },
  {
   "cell_type": "code",
   "execution_count": 8,
   "metadata": {},
   "outputs": [],
   "source": [
    "df_train = df.iloc[:2_000_000]\n",
    "df_val = df.iloc[2_000_000:]"
   ]
  },
  {
   "cell_type": "code",
   "execution_count": 9,
   "metadata": {},
   "outputs": [
    {
     "name": "stdout",
     "output_type": "stream",
     "text": [
      "model=target auc=1.0\n",
      "model=model275 auc=0.8072\n",
      "model=model276 auc=0.8035\n",
      "model=model277 auc=0.8061\n",
      "model=model277_2 auc=0.8075\n",
      "model=ex68 auc=0.8082\n",
      "model=ex70 auc=0.8083\n",
      "model=ex67 auc=0.8067\n",
      "model=lgb014 auc=0.8011\n"
     ]
    }
   ],
   "source": [
    "for col in df_val.columns:\n",
    "    score = roc_auc_score(df_val[\"target\"], df_val[col])\n",
    "    print(f\"model={col} auc={round(score, 4)}\")"
   ]
  },
  {
   "cell_type": "code",
   "execution_count": 41,
   "metadata": {},
   "outputs": [],
   "source": [
    "params = {\n",
    "    'objective': 'binary',\n",
    "    'max_depth': 6,\n",
    "    'learning_rate': 0.01,\n",
    "    'bagging_fraction': 0.7,\n",
    "    'bagging_seed': 0,\n",
    "    'random_state': 0,\n",
    "    'metric': 'auc',\n",
    "    'verbosity': -1,\n",
    "    \"n_estimators\": 10000,\n",
    "    \"early_stopping_rounds\": 50\n",
    "}"
   ]
  },
  {
   "cell_type": "code",
   "execution_count": null,
   "metadata": {},
   "outputs": [],
   "source": []
  },
  {
   "cell_type": "code",
   "execution_count": 42,
   "metadata": {},
   "outputs": [
    {
     "name": "stderr",
     "output_type": "stream",
     "text": [
      "C:\\ProgramData\\Anaconda3\\lib\\site-packages\\lightgbm\\engine.py:151: UserWarning: Found `n_estimators` in params. Will use it instead of argument\n",
      "  warnings.warn(\"Found `{}` in params. Will use it instead of argument\".format(alias))\n",
      "C:\\ProgramData\\Anaconda3\\lib\\site-packages\\lightgbm\\engine.py:156: UserWarning: Found `early_stopping_rounds` in params. Will use it instead of argument\n",
      "  warnings.warn(\"Found `{}` in params. Will use it instead of argument\".format(alias))\n"
     ]
    },
    {
     "name": "stdout",
     "output_type": "stream",
     "text": [
      "[LightGBM] [Warning] Accuracy may be bad since you didn't explicitly set num_leaves OR 2^max_depth > num_leaves. (num_leaves=31).\n",
      "Training until validation scores don't improve for 50 rounds\n",
      "[100]\ttraining's auc: 0.814656\tvalid_1's auc: 0.811356\n",
      "[200]\ttraining's auc: 0.814899\tvalid_1's auc: 0.81159\n",
      "[300]\ttraining's auc: 0.815002\tvalid_1's auc: 0.811686\n",
      "[400]\ttraining's auc: 0.815071\tvalid_1's auc: 0.811741\n",
      "[500]\ttraining's auc: 0.815129\tvalid_1's auc: 0.811775\n",
      "[600]\ttraining's auc: 0.815186\tvalid_1's auc: 0.8118\n",
      "[700]\ttraining's auc: 0.815235\tvalid_1's auc: 0.811807\n",
      "[800]\ttraining's auc: 0.815281\tvalid_1's auc: 0.811816\n",
      "[900]\ttraining's auc: 0.815322\tvalid_1's auc: 0.811821\n",
      "[1000]\ttraining's auc: 0.815366\tvalid_1's auc: 0.811826\n",
      "[1100]\ttraining's auc: 0.81542\tvalid_1's auc: 0.811828\n",
      "Early stopping, best iteration is:\n",
      "[1070]\ttraining's auc: 0.815402\tvalid_1's auc: 0.81183\n"
     ]
    }
   ],
   "source": [
    "# lgbm\n",
    "train_data = lgb.Dataset(df_train.drop(\"target\", axis=1), label=df_train[\"target\"])\n",
    "valid_data = lgb.Dataset(df_val.drop(\"target\", axis=1), label=df_val[\"target\"])\n",
    "\n",
    "model_lgb = lgb.train(\n",
    "    params,\n",
    "    train_data,\n",
    "    valid_sets=[train_data, valid_data],\n",
    "    verbose_eval=100\n",
    ")"
   ]
  },
  {
   "cell_type": "code",
   "execution_count": 43,
   "metadata": {},
   "outputs": [],
   "source": [
    "lgbm = model_lgb.predict(df_val.drop(\"target\", axis=1))"
   ]
  },
  {
   "cell_type": "code",
   "execution_count": null,
   "metadata": {},
   "outputs": [],
   "source": []
  },
  {
   "cell_type": "code",
   "execution_count": null,
   "metadata": {},
   "outputs": [],
   "source": [
    "params = {\n",
    "    'objective': 'binary',\n",
    "    'max_depth': ,\n",
    "    'learning_rate': 0.01,\n",
    "    'bagging_fraction': 0.7,\n",
    "    'bagging_seed': 0,\n",
    "    'random_state': 0,\n",
    "    'metric': 'auc',\n",
    "    'verbosity': -1,\n",
    "    \"n_estimators\": 10000,\n",
    "    \"early_stopping_rounds\": 50\n",
    "}"
   ]
  },
  {
   "cell_type": "code",
   "execution_count": null,
   "metadata": {},
   "outputs": [],
   "source": [
    "# lgbm\n",
    "train_data = lgb.Dataset(df_train.drop(\"target\", axis=1), label=df_train[\"target\"])\n",
    "valid_data = lgb.Dataset(df_val.drop(\"target\", axis=1), label=df_val[\"target\"])\n",
    "\n",
    "model_lgb = lgb.train(\n",
    "    params,\n",
    "    train_data,\n",
    "    valid_sets=[train_data, valid_data],\n",
    "    verbose_eval=100\n",
    ")"
   ]
  },
  {
   "cell_type": "code",
   "execution_count": null,
   "metadata": {},
   "outputs": [],
   "source": []
  },
  {
   "cell_type": "code",
   "execution_count": 50,
   "metadata": {},
   "outputs": [],
   "source": [
    "params = {\n",
    "    'n_estimators': 12000,\n",
    "    'learning_rate': 0.03,\n",
    "    'eval_metric': 'AUC',\n",
    "    'loss_function': 'Logloss',\n",
    "    'random_seed': 0,\n",
    "    'metric_period': 50,\n",
    "    'od_wait': 100,\n",
    "    'task_type': 'GPU',\n",
    "    'max_depth': 5,\n",
    "    \"verbose\": 100\n",
    "}"
   ]
  },
  {
   "cell_type": "code",
   "execution_count": 51,
   "metadata": {},
   "outputs": [
    {
     "name": "stdout",
     "output_type": "stream",
     "text": [
      "0:\tlearn: 0.7985815\ttest: 0.7956688\tbest: 0.7956688 (0)\ttotal: 60.1ms\tremaining: 12m\n",
      "100:\tlearn: 0.8147293\ttest: 0.8116797\tbest: 0.8116798 (99)\ttotal: 3.97s\tremaining: 7m 47s\n",
      "200:\tlearn: 0.8148428\ttest: 0.8117724\tbest: 0.8117724 (200)\ttotal: 7.95s\tremaining: 7m 46s\n",
      "300:\tlearn: 0.8149213\ttest: 0.8118075\tbest: 0.8118075 (300)\ttotal: 11.9s\tremaining: 7m 44s\n",
      "400:\tlearn: 0.8149936\ttest: 0.8118195\tbest: 0.8118198 (397)\ttotal: 16s\tremaining: 7m 42s\n",
      "500:\tlearn: 0.8150652\ttest: 0.8118297\tbest: 0.8118297 (500)\ttotal: 20s\tremaining: 7m 38s\n",
      "600:\tlearn: 0.8151319\ttest: 0.8118370\tbest: 0.8118374 (594)\ttotal: 24s\tremaining: 7m 35s\n",
      "700:\tlearn: 0.8151953\ttest: 0.8118407\tbest: 0.8118409 (697)\ttotal: 28s\tremaining: 7m 32s\n",
      "800:\tlearn: 0.8152570\ttest: 0.8118397\tbest: 0.8118414 (714)\ttotal: 32.1s\tremaining: 7m 29s\n",
      "bestTest = 0.8118413687\n",
      "bestIteration = 714\n",
      "Shrink model to first 715 iterations.\n"
     ]
    },
    {
     "data": {
      "text/plain": [
       "<catboost.core.CatBoostClassifier at 0x1ec828cc190>"
      ]
     },
     "execution_count": 51,
     "metadata": {},
     "output_type": "execute_result"
    }
   ],
   "source": [
    "model_cat = CatBoostClassifier(**params)\n",
    "model_cat.fit(df_train.drop(\"target\", axis=1),\n",
    "              df_train[\"target\"],\n",
    "              eval_set=(df_val.drop(\"target\", axis=1), df_val[\"target\"]))"
   ]
  },
  {
   "cell_type": "code",
   "execution_count": 26,
   "metadata": {},
   "outputs": [],
   "source": [
    "cat = model_cat.predict_proba(df_val.drop(\"target\", axis=1))[:, 1]"
   ]
  },
  {
   "cell_type": "code",
   "execution_count": 38,
   "metadata": {},
   "outputs": [
    {
     "data": {
      "text/plain": [
       "0.8118602390453308"
      ]
     },
     "execution_count": 38,
     "metadata": {},
     "output_type": "execute_result"
    }
   ],
   "source": [
    "roc_auc_score(df_val[\"target\"].values, lgbm+cat)"
   ]
  },
  {
   "cell_type": "code",
   "execution_count": null,
   "metadata": {},
   "outputs": [],
   "source": []
  },
  {
   "cell_type": "code",
   "execution_count": null,
   "metadata": {},
   "outputs": [],
   "source": []
  },
  {
   "cell_type": "code",
   "execution_count": 13,
   "metadata": {},
   "outputs": [],
   "source": [
    "from datetime import datetime as dt\n",
    "import os\n",
    "import pickle\n",
    "now = dt.now().strftime(\"%Y%m%d%H%M%S\")\n",
    "os.makedirs(f\"model/{now}\")\n",
    "with open(f\"model/{now}/lgbm_stacking006.pickle\", \"wb\") as f:\n",
    "    pickle.dump(model, f)"
   ]
  },
  {
   "cell_type": "markdown",
   "metadata": {},
   "source": [
    "# 以下、没になったモデリング集"
   ]
  },
  {
   "cell_type": "code",
   "execution_count": 54,
   "metadata": {},
   "outputs": [
    {
     "data": {
      "text/plain": [
       "0.810462038379595"
      ]
     },
     "execution_count": 54,
     "metadata": {},
     "output_type": "execute_result"
    }
   ],
   "source": []
  },
  {
   "cell_type": "code",
   "execution_count": null,
   "metadata": {},
   "outputs": [],
   "source": []
  },
  {
   "cell_type": "code",
   "execution_count": 29,
   "metadata": {},
   "outputs": [],
   "source": [
    "# logistic reg\n",
    "from sklearn.linear_model import LogisticRegression\n",
    "\n",
    "clf_logistic = LogisticRegression()\n",
    "clf_logistic.fit(df_train.drop(\"target\", axis=1).values, df_train[\"target\"].values)\n",
    "logistic = clf_logistic.predict_proba(df_val.drop(\"target\", axis=1).values)[:, 1]"
   ]
  },
  {
   "cell_type": "code",
   "execution_count": null,
   "metadata": {},
   "outputs": [],
   "source": []
  },
  {
   "cell_type": "code",
   "execution_count": 30,
   "metadata": {},
   "outputs": [
    {
     "data": {
      "text/plain": [
       "0.8114119715542071"
      ]
     },
     "execution_count": 30,
     "metadata": {},
     "output_type": "execute_result"
    }
   ],
   "source": [
    "roc_auc_score(df_val[\"target\"].values, logistic)"
   ]
  },
  {
   "cell_type": "code",
   "execution_count": 73,
   "metadata": {},
   "outputs": [],
   "source": [
    "# mlp\n",
    "from sklearn.neural_network import MLPClassifier\n",
    "\n",
    "clf_mlp = MLPClassifier()\n",
    "clf_mlp.fit(df_train.drop(\"target\", axis=1).values, df_train[\"target\"].values)\n",
    "mlp = clf_mlp.predict(df_val.drop(\"target\", axis=1).values)"
   ]
  },
  {
   "cell_type": "code",
   "execution_count": 81,
   "metadata": {},
   "outputs": [
    {
     "data": {
      "text/plain": [
       "0.8103880130787595"
      ]
     },
     "execution_count": 81,
     "metadata": {},
     "output_type": "execute_result"
    }
   ],
   "source": [
    "mlp = clf_mlp.predict_proba(df_val.drop(\"target\", axis=1).values)[:, 1]\n",
    "roc_auc_score(df_val[\"target\"].values, mlp)"
   ]
  },
  {
   "cell_type": "code",
   "execution_count": 86,
   "metadata": {},
   "outputs": [
    {
     "data": {
      "text/plain": [
       "0.8104891955658622"
      ]
     },
     "execution_count": 86,
     "metadata": {},
     "output_type": "execute_result"
    }
   ],
   "source": [
    "roc_auc_score(df_val[\"target\"].values, lgbm*10 + logistic + mlp)"
   ]
  },
  {
   "cell_type": "code",
   "execution_count": null,
   "metadata": {},
   "outputs": [],
   "source": []
  },
  {
   "cell_type": "code",
   "execution_count": null,
   "metadata": {},
   "outputs": [],
   "source": []
  },
  {
   "cell_type": "code",
   "execution_count": null,
   "metadata": {},
   "outputs": [],
   "source": []
  },
  {
   "cell_type": "code",
   "execution_count": 54,
   "metadata": {},
   "outputs": [],
   "source": [
    "import torch\n",
    "import torch.nn.functional\n",
    "import torch.utils.data\n",
    "\n",
    "\n",
    "class Net(torch.nn.Module):\n",
    "    def __init__(self, input_dim):\n",
    "        super(Net, self).__init__()\n",
    "        self.fc1 = torch.nn.Linear(input_dim, 128)\n",
    "        self.fc2 = torch.nn.Linear(128, 64)\n",
    "        self.fc3 = torch.nn.Linear(64, 1)\n",
    "    def forward(self, x):\n",
    "        x = torch.nn.functional.relu(self.fc1(x))\n",
    "        x = torch.nn.functional.relu(self.fc2(x))\n",
    "        x = self.fc3(x)\n",
    "        return x"
   ]
  },
  {
   "cell_type": "code",
   "execution_count": 69,
   "metadata": {},
   "outputs": [
    {
     "name": "stdout",
     "output_type": "stream",
     "text": [
      "0.7909581340391222\n",
      "0.7935409500374382\n",
      "0.7956666729694192\n",
      "0.7974297737518439\n",
      "0.7988992712446684\n",
      "0.8001329722162667\n",
      "0.8011701916274742\n",
      "0.8020340682563649\n",
      "0.8027583226875239\n",
      "0.8033708392113896\n",
      "0.8038887175406277\n",
      "0.804325117394177\n",
      "0.8046982276649539\n",
      "0.8050129981342328\n",
      "0.8052841835169412\n",
      "0.8055141863101432\n",
      "0.8057102073651655\n",
      "0.8058813882524619\n",
      "0.8060306927844096\n",
      "0.8061612273097309\n",
      "0.8062760516807792\n",
      "0.806376720136718\n",
      "0.806466009344421\n",
      "0.8065450104319479\n",
      "0.8066167818319152\n",
      "0.8066805997470996\n",
      "0.8067388392407545\n",
      "0.8067913341344606\n",
      "0.8068394449512679\n",
      "0.806883785839731\n",
      "0.8069241703642148\n",
      "0.8069614405929146\n",
      "0.8069959036477212\n",
      "0.8070278322825143\n",
      "0.8070579214669422\n",
      "0.8070863846635745\n",
      "0.8071132274301601\n",
      "0.807138871653504\n",
      "0.807162856083742\n",
      "0.8071856804767614\n",
      "0.8072081889957349\n",
      "0.8072291030381362\n",
      "0.8072491589450804\n",
      "0.8072681256371467\n",
      "0.8072863242171664\n",
      "0.8073029564383213\n",
      "0.8073194043274748\n",
      "0.8073341931333909\n",
      "0.8073485380725576\n",
      "0.8073623072479955\n",
      "0.8073752850502173\n",
      "0.8073876057914849\n",
      "0.8073991259139354\n",
      "0.8074101526779701\n",
      "0.807420163109817\n",
      "0.8074296958349763\n",
      "0.807438815763106\n",
      "0.807447172323187\n",
      "0.807455622516618\n",
      "0.8074633281794785\n",
      "0.8074705586375046\n",
      "0.8074781876778815\n",
      "0.8074848351782704\n",
      "0.8074917377204615\n",
      "0.8074982715986497\n",
      "0.8075044620045008\n",
      "0.8075107175797176\n",
      "0.807516597721213\n",
      "0.8075222055416748\n",
      "0.8075279075581875\n",
      "0.8075331531380886\n",
      "0.807538465324406\n",
      "0.8075440988299779\n",
      "0.8075490865545751\n",
      "0.8075541811143399\n",
      "0.8075589798148801\n",
      "0.8075637292834617\n",
      "0.8075683579878757\n",
      "0.8075725881965081\n",
      "0.8075772939822232\n",
      "0.8075817478512879\n",
      "0.8075862227913191\n",
      "0.8075907599919878\n",
      "0.807595534842687\n",
      "0.807600098204597\n",
      "0.8076043510424431\n",
      "0.8076082700517716\n",
      "0.8076118167265594\n",
      "0.8076152851946453\n",
      "0.8076186705302366\n",
      "0.8076224595817385\n",
      "0.8076259720876251\n",
      "0.8076296266450691\n",
      "0.8076329354447462\n",
      "0.807636455447534\n",
      "0.8076398270186073\n",
      "0.8076426792171916\n",
      "0.807645642484182\n",
      "0.8076478952423353\n",
      "0.8076500539516056\n"
     ]
    }
   ],
   "source": [
    "num_epochs = 100\n",
    "X_train = torch.from_numpy(df_train.drop(\"target\", axis=1).values).float().to(\"cuda\")\n",
    "y_train = torch.from_numpy(df_train[\"target\"].values.reshape(-1, 1)).float().to(\"cuda\")\n",
    "\n",
    "X_val = torch.from_numpy(df_val.drop(\"target\", axis=1).values).float().to(\"cuda\")\n",
    "y_val = df_val[\"target\"].values.reshape(-1, 1)\n",
    "\n",
    "clf_nn = Net(input_dim=6).to(\"cuda\")\n",
    "clf_nn.train()\n",
    "\n",
    "# set training parameters\n",
    "optimizer = torch.optim.Adam(clf_nn.parameters(), lr=0.0001)\n",
    "criterion = torch.nn.BCEWithLogitsLoss()\n",
    "\n",
    "# start to train\n",
    "epoch_loss = []\n",
    "for epoch in range(num_epochs):\n",
    "    # forward\n",
    "    outputs = clf_nn(X_train)\n",
    "    \n",
    "    # calculate loss\n",
    "    loss = criterion(outputs, y_train)\n",
    "    \n",
    "    # update weights\n",
    "    optimizer.zero_grad()\n",
    "    loss.backward()\n",
    "    optimizer.step()\n",
    "    \n",
    "    print(roc_auc_score(y_val, clf_nn(X_val).data.cpu().numpy().tolist()))\n",
    "    # save loss of this epoch"
   ]
  },
  {
   "cell_type": "code",
   "execution_count": null,
   "metadata": {},
   "outputs": [],
   "source": []
  }
 ],
 "metadata": {
  "kernelspec": {
   "display_name": "Python 3",
   "language": "python",
   "name": "python3"
  },
  "language_info": {
   "codemirror_mode": {
    "name": "ipython",
    "version": 3
   },
   "file_extension": ".py",
   "mimetype": "text/x-python",
   "name": "python",
   "nbconvert_exporter": "python",
   "pygments_lexer": "ipython3",
   "version": "3.8.5"
  }
 },
 "nbformat": 4,
 "nbformat_minor": 4
}
