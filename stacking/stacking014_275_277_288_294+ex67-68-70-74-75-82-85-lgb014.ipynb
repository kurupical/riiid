{
 "cells": [
  {
   "cell_type": "code",
   "execution_count": 1,
   "metadata": {},
   "outputs": [],
   "source": [
    "import pandas as pd\n",
    "import numpy as np\n",
    "from sklearn.metrics import roc_auc_score\n",
    "import lightgbm as lgb"
   ]
  },
  {
   "cell_type": "code",
   "execution_count": 2,
   "metadata": {},
   "outputs": [],
   "source": [
    "base_dir = \"data/\""
   ]
  },
  {
   "cell_type": "code",
   "execution_count": 3,
   "metadata": {},
   "outputs": [],
   "source": [
    "# kurupical\n",
    "df1 = pd.read_csv(f\"{base_dir}/model275/epoch11.csv\")\n",
    "# df2 = pd.read_csv(f\"{base_dir}/model276/epoch10.csv\")\n",
    "df3 = pd.read_csv(f\"{base_dir}/model277/epoch11.csv\")\n",
    "df4 = pd.read_csv(f\"{base_dir}/model277_2/epoch11.csv\")\n",
    "df5 = pd.read_csv(f\"{base_dir}/model288_3/epoch19.csv\")\n",
    "df6 = pd.read_csv(f\"{base_dir}/model294/epoch18.csv\")\n",
    "df7 = pd.read_csv(f\"{base_dir}/model288_4/epoch24.csv\")"
   ]
  },
  {
   "cell_type": "code",
   "execution_count": null,
   "metadata": {},
   "outputs": [],
   "source": [
    "# takoi-san\n",
    "df_val_row = pd.read_feather(\"../input/riiid-test-answer-prediction/train_transformer_last2500k_only_row_id.feather\")\n",
    "\n",
    "def extract_val_row(path):\n",
    "    df = pd.read_csv(path)\n",
    "    return pd.merge(df, df_val_row, how=\"inner\")\n",
    "\n",
    "df101 = extract_val_row(f\"{base_dir}/ex67_68_70_74_75_predict.csv/ex67_68_70_74_75_predict.csv\")\n",
    "df102 = extract_val_row(f\"{base_dir}/lgb014.csv/lgb014.csv\") \n",
    "df103 = extract_val_row(f\"{base_dir}/ex82_predict.csv/ex82_predict.csv\")\n",
    "df104 = extract_val_row(f\"{base_dir}/ex85_predict.csv/ex85_predict.csv\")"
   ]
  },
  {
   "cell_type": "code",
   "execution_count": null,
   "metadata": {},
   "outputs": [],
   "source": [
    "df101.columns, df102.columns, df103.columns, df104.columns"
   ]
  },
  {
   "cell_type": "code",
   "execution_count": null,
   "metadata": {},
   "outputs": [],
   "source": []
  },
  {
   "cell_type": "code",
   "execution_count": null,
   "metadata": {},
   "outputs": [],
   "source": [
    "len(df101)"
   ]
  },
  {
   "cell_type": "code",
   "execution_count": null,
   "metadata": {},
   "outputs": [],
   "source": [
    "# merge\n",
    "df = pd.DataFrame()\n",
    "df[\"target\"] = df1[\"target\"]\n",
    "df[\"model275\"] = df1[\"predict\"]\n",
    "# df[\"model276\"] = df2[\"predict\"]\n",
    "df[\"model277\"] = df3[\"predict\"]\n",
    "df[\"model277_2\"] = df4[\"predict\"]\n",
    "df[\"model288_3\"] = df5[\"predict\"]\n",
    "df[\"model294\"] = df6[\"predict\"]\n",
    "df[\"model288_4\"] = df7[\"predict\"]\n",
    "df[\"ex68\"] = df101[\"ex68_transformer_75m\"]\n",
    "df[\"ex70\"] = df101[\"ex70_transformer_75m\"]\n",
    "df[\"ex67\"] = df101[\"ex67_lstm_75m\"]\n",
    "df[\"ex74\"] = df101[\"ex74_transformer_conv1d_75m\"]\n",
    "df[\"ex75\"] = df101[\"ex75_transformer_linear_75m\"]\n",
    "df[\"lgb014\"] = df102[\"ex014_lgb\"]\n",
    "df[\"ex82\"] = df103[\"ex82_transformer_75m\"]\n",
    "df[\"ex85\"] = df104[\"ex85_transformer_75m\"]\n",
    "\n",
    "# df[\"ex55\"] = df4[\"ex55\"]\n",
    "# df[\"ex56\"] = df4[\"ex56\"]\n",
    "# df[\"ex57\"] = df4[\"ex57\"]"
   ]
  },
  {
   "cell_type": "code",
   "execution_count": null,
   "metadata": {},
   "outputs": [],
   "source": [
    "df_train = df.iloc[:2_000_000]\n",
    "df_val = df.iloc[2_000_000:]"
   ]
  },
  {
   "cell_type": "code",
   "execution_count": null,
   "metadata": {},
   "outputs": [],
   "source": [
    "for col in df_val.columns:\n",
    "    score = roc_auc_score(df_val[\"target\"], df_val[col])\n",
    "    print(f\"model={col} auc={round(score, 4)}\")"
   ]
  },
  {
   "cell_type": "code",
   "execution_count": null,
   "metadata": {},
   "outputs": [],
   "source": [
    "params = {\n",
    "    'objective': 'binary',\n",
    "    'max_depth': -1,\n",
    "    'num_leaves': 8,\n",
    "    'learning_rate': 0.01,\n",
    "    'bagging_fraction': 0.7,\n",
    "    'bagging_seed': 0,\n",
    "    'random_state': 0,\n",
    "    'metric': 'auc',\n",
    "    'verbosity': -1,\n",
    "    \"n_estimators\": 10000,\n",
    "    \"early_stopping_rounds\": 50\n",
    "}"
   ]
  },
  {
   "cell_type": "code",
   "execution_count": null,
   "metadata": {},
   "outputs": [],
   "source": []
  },
  {
   "cell_type": "code",
   "execution_count": null,
   "metadata": {},
   "outputs": [],
   "source": [
    "# lgbm\n",
    "train_data = lgb.Dataset(df_train.drop(\"target\", axis=1), label=df_train[\"target\"])\n",
    "valid_data = lgb.Dataset(df_val.drop(\"target\", axis=1), label=df_val[\"target\"])\n",
    "\n",
    "model = lgb.train(\n",
    "    params,\n",
    "    train_data,\n",
    "    valid_sets=[train_data, valid_data],\n",
    "    verbose_eval=100\n",
    ")"
   ]
  },
  {
   "cell_type": "code",
   "execution_count": null,
   "metadata": {},
   "outputs": [],
   "source": [
    "lgbm = model.predict(df_val.drop(\"target\", axis=1))"
   ]
  },
  {
   "cell_type": "code",
   "execution_count": null,
   "metadata": {},
   "outputs": [],
   "source": [
    "from datetime import datetime as dt\n",
    "import os\n",
    "import pickle\n",
    "now = dt.now().strftime(\"%Y%m%d%H%M%S\")\n",
    "os.makedirs(f\"model/{now}\")\n",
    "with open(f\"model/{now}/lgbm_stacking014.pickle\", \"wb\") as f:\n",
    "    pickle.dump(model, f)"
   ]
  },
  {
   "cell_type": "code",
   "execution_count": null,
   "metadata": {},
   "outputs": [],
   "source": []
  },
  {
   "cell_type": "code",
   "execution_count": null,
   "metadata": {},
   "outputs": [],
   "source": []
  },
  {
   "cell_type": "code",
   "execution_count": null,
   "metadata": {},
   "outputs": [],
   "source": []
  },
  {
   "cell_type": "code",
   "execution_count": null,
   "metadata": {},
   "outputs": [],
   "source": []
  },
  {
   "cell_type": "code",
   "execution_count": null,
   "metadata": {},
   "outputs": [],
   "source": []
  },
  {
   "cell_type": "code",
   "execution_count": null,
   "metadata": {},
   "outputs": [],
   "source": []
  },
  {
   "cell_type": "code",
   "execution_count": null,
   "metadata": {},
   "outputs": [],
   "source": []
  },
  {
   "cell_type": "markdown",
   "metadata": {},
   "source": [
    "# 以下、没になったモデリング集"
   ]
  },
  {
   "cell_type": "code",
   "execution_count": null,
   "metadata": {},
   "outputs": [],
   "source": []
  },
  {
   "cell_type": "code",
   "execution_count": null,
   "metadata": {},
   "outputs": [],
   "source": []
  },
  {
   "cell_type": "code",
   "execution_count": null,
   "metadata": {},
   "outputs": [],
   "source": [
    "from sklearn.neighbors import KNeighborsClassifier\n",
    "from sklearn.linear_model import LogisticRegression\n",
    "from sklearn.ensemble import RandomForestClassifier, ExtraTreesClassifier"
   ]
  },
  {
   "cell_type": "code",
   "execution_count": null,
   "metadata": {},
   "outputs": [],
   "source": [
    "from sklearn.ensemble import StackingClassifier"
   ]
  },
  {
   "cell_type": "code",
   "execution_count": null,
   "metadata": {},
   "outputs": [],
   "source": [
    "clf = StackingClassifier(\n",
    "    estimators= [\n",
    "        ('lgb', lgb.LGBMClassifier()),\n",
    "        ('et', ExtraTreesClassifier()),\n",
    "        ('rf', RandomForestClassifier()),\n",
    "        ('lr', LogisticRegression()),\n",
    "    ],\n",
    "    final_estimator=LogisticRegression()\n",
    ")"
   ]
  },
  {
   "cell_type": "code",
   "execution_count": null,
   "metadata": {},
   "outputs": [],
   "source": [
    "clf.fit(df_train.drop(\"target\", axis=1).values, df_train[\"target\"].values)"
   ]
  },
  {
   "cell_type": "code",
   "execution_count": null,
   "metadata": {},
   "outputs": [],
   "source": [
    "pred = clf.predict_proba(df_val.drop(\"target\", axis=1).values)[:, 1]"
   ]
  },
  {
   "cell_type": "code",
   "execution_count": null,
   "metadata": {},
   "outputs": [],
   "source": []
  },
  {
   "cell_type": "code",
   "execution_count": null,
   "metadata": {},
   "outputs": [],
   "source": []
  },
  {
   "cell_type": "code",
   "execution_count": null,
   "metadata": {},
   "outputs": [],
   "source": [
    "# logistic reg\n",
    "from sklearn.linear_model import LogisticRegression\n",
    "\n",
    "clf_logistic = LogisticRegression()\n",
    "clf_logistic.fit(df_train.drop(\"target\", axis=1).values, df_train[\"target\"].values)\n",
    "logistic = clf_logistic.predict_proba(df_val.drop(\"target\", axis=1).values)[:, 1]"
   ]
  },
  {
   "cell_type": "code",
   "execution_count": null,
   "metadata": {},
   "outputs": [],
   "source": []
  },
  {
   "cell_type": "code",
   "execution_count": null,
   "metadata": {},
   "outputs": [],
   "source": [
    "roc_auc_score(df_val[\"target\"].values, logistic)"
   ]
  },
  {
   "cell_type": "code",
   "execution_count": null,
   "metadata": {},
   "outputs": [],
   "source": [
    "# mlp\n",
    "from sklearn.neural_network import MLPClassifier\n",
    "\n",
    "clf_mlp = MLPClassifier()\n",
    "clf_mlp.fit(df_train.drop(\"target\", axis=1).values, df_train[\"target\"].values)\n",
    "mlp = clf_mlp.predict(df_val.drop(\"target\", axis=1).values)"
   ]
  },
  {
   "cell_type": "code",
   "execution_count": null,
   "metadata": {},
   "outputs": [],
   "source": [
    "mlp = clf_mlp.predict_proba(df_val.drop(\"target\", axis=1).values)[:, 1]\n",
    "roc_auc_score(df_val[\"target\"].values, mlp)"
   ]
  },
  {
   "cell_type": "code",
   "execution_count": null,
   "metadata": {},
   "outputs": [],
   "source": [
    "roc_auc_score(df_val[\"target\"].values, lgbm*10 + logistic + mlp)"
   ]
  },
  {
   "cell_type": "code",
   "execution_count": null,
   "metadata": {},
   "outputs": [],
   "source": []
  },
  {
   "cell_type": "code",
   "execution_count": null,
   "metadata": {},
   "outputs": [],
   "source": []
  },
  {
   "cell_type": "code",
   "execution_count": null,
   "metadata": {},
   "outputs": [],
   "source": []
  },
  {
   "cell_type": "code",
   "execution_count": null,
   "metadata": {},
   "outputs": [],
   "source": [
    "import torch\n",
    "import torch.nn.functional\n",
    "import torch.utils.data\n",
    "\n",
    "\n",
    "class Net(torch.nn.Module):\n",
    "    def __init__(self, input_dim):\n",
    "        super(Net, self).__init__()\n",
    "        self.fc1 = torch.nn.Linear(input_dim, 128)\n",
    "        self.fc2 = torch.nn.Linear(128, 64)\n",
    "        self.fc3 = torch.nn.Linear(64, 1)\n",
    "    def forward(self, x):\n",
    "        x = torch.nn.functional.relu(self.fc1(x))\n",
    "        x = torch.nn.functional.relu(self.fc2(x))\n",
    "        x = self.fc3(x)\n",
    "        return x"
   ]
  },
  {
   "cell_type": "code",
   "execution_count": null,
   "metadata": {},
   "outputs": [],
   "source": [
    "num_epochs = 100\n",
    "X_train = torch.from_numpy(df_train.drop(\"target\", axis=1).values).float().to(\"cuda\")\n",
    "y_train = torch.from_numpy(df_train[\"target\"].values.reshape(-1, 1)).float().to(\"cuda\")\n",
    "\n",
    "X_val = torch.from_numpy(df_val.drop(\"target\", axis=1).values).float().to(\"cuda\")\n",
    "y_val = df_val[\"target\"].values.reshape(-1, 1)\n",
    "\n",
    "clf_nn = Net(input_dim=6).to(\"cuda\")\n",
    "clf_nn.train()\n",
    "\n",
    "# set training parameters\n",
    "optimizer = torch.optim.Adam(clf_nn.parameters(), lr=0.0001)\n",
    "criterion = torch.nn.BCEWithLogitsLoss()\n",
    "\n",
    "# start to train\n",
    "epoch_loss = []\n",
    "for epoch in range(num_epochs):\n",
    "    # forward\n",
    "    outputs = clf_nn(X_train)\n",
    "    \n",
    "    # calculate loss\n",
    "    loss = criterion(outputs, y_train)\n",
    "    \n",
    "    # update weights\n",
    "    optimizer.zero_grad()\n",
    "    loss.backward()\n",
    "    optimizer.step()\n",
    "    \n",
    "    print(roc_auc_score(y_val, clf_nn(X_val).data.cpu().numpy().tolist()))\n",
    "    # save loss of this epoch"
   ]
  },
  {
   "cell_type": "code",
   "execution_count": null,
   "metadata": {},
   "outputs": [],
   "source": []
  }
 ],
 "metadata": {
  "kernelspec": {
   "display_name": "Python 3",
   "language": "python",
   "name": "python3"
  },
  "language_info": {
   "codemirror_mode": {
    "name": "ipython",
    "version": 3
   },
   "file_extension": ".py",
   "mimetype": "text/x-python",
   "name": "python",
   "nbconvert_exporter": "python",
   "pygments_lexer": "ipython3",
   "version": "3.8.5"
  }
 },
 "nbformat": 4,
 "nbformat_minor": 4
}
