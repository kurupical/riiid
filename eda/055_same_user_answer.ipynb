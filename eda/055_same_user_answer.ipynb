{
 "cells": [
  {
   "cell_type": "code",
   "execution_count": 1,
   "metadata": {},
   "outputs": [
    {
     "name": "stderr",
     "output_type": "stream",
     "text": [
      "C:\\ProgramData\\Anaconda3\\lib\\site-packages\\tqdm\\std.py:697: FutureWarning: The Panel class is removed from pandas. Accessing it from the top-level namespace will also be removed in the next version\n",
      "  from pandas import Panel\n"
     ]
    }
   ],
   "source": [
    "import pandas as pd\n",
    "import numpy as np\n",
    "import tqdm\n",
    "import warnings\n",
    "import matplotlib.pyplot as plt\n",
    "from sklearn.metrics import roc_auc_score\n",
    "\n",
    "pd.set_option(\"max_rows\", 200)\n",
    "pd.set_option(\"max_columns\", 50)\n",
    "tqdm.tqdm.pandas()\n",
    "%matplotlib inline"
   ]
  },
  {
   "cell_type": "code",
   "execution_count": 2,
   "metadata": {},
   "outputs": [],
   "source": [
    "df = pd.read_pickle(\"../input/riiid-test-answer-prediction/split10/train_0.pickle\").sort_values([\"user_id\", \"timestamp\"]).reset_index(drop=True)"
   ]
  },
  {
   "cell_type": "code",
   "execution_count": 3,
   "metadata": {},
   "outputs": [],
   "source": [
    "import sys\n",
    "sys.path.append(\"../\")\n",
    "# df = pd.read_pickle(\"../input/riiid-test-answer-prediction/split10/train_0.pickle\")\n",
    "df = df.sort_values([\"user_id\", \"timestamp\"])\n",
    "# large_user_id = df[\"user_id\"].value_counts()\n",
    "# large_user_id = large_user_id[large_user_id > 1000] \n",
    "# df = df[df[\"user_id\"].isin(large_user_id.index)]\n",
    "# df = df[df[\"answered_correctly\"] != -1]\n",
    "df[\"answered_correctly\"] = df[\"answered_correctly\"].replace(-1, np.nan)"
   ]
  },
  {
   "cell_type": "code",
   "execution_count": null,
   "metadata": {},
   "outputs": [],
   "source": []
  },
  {
   "cell_type": "code",
   "execution_count": 15,
   "metadata": {},
   "outputs": [],
   "source": [
    "for i in range(4):\n",
    "    df[f\"ans{i}_size\"] = df[\"user_answer\"] == i\n",
    "    df[f\"ans{i}_size\"] = df.groupby(\"user_id\")[f\"ans{i}_size\"].transform(\"sum\") / df.groupby(\"user_id\")[\"user_id\"].transform(\"count\")"
   ]
  },
  {
   "cell_type": "code",
   "execution_count": 16,
   "metadata": {},
   "outputs": [
    {
     "data": {
      "text/plain": [
       "837177950     2\n",
       "1231833900    1\n",
       "719804730     1\n",
       "1527175400    1\n",
       "1777952220    1\n",
       "1632816630    1\n",
       "2119645200    1\n",
       "Name: user_id, dtype: int64"
      ]
     },
     "execution_count": 16,
     "metadata": {},
     "output_type": "execute_result"
    }
   ],
   "source": [
    "df[df[\"ans0_size\"] == 1][\"user_id\"].value_counts()"
   ]
  },
  {
   "cell_type": "code",
   "execution_count": 17,
   "metadata": {},
   "outputs": [
    {
     "data": {
      "text/plain": [
       "2097498310    89\n",
       "2100053240    30\n",
       "1821791870    30\n",
       "1255907180    30\n",
       "1031172430    30\n",
       "2098274630    16\n",
       "1317856170     7\n",
       "1880240        1\n",
       "Name: user_id, dtype: int64"
      ]
     },
     "execution_count": 17,
     "metadata": {},
     "output_type": "execute_result"
    }
   ],
   "source": [
    "df[df[\"ans1_size\"] == 1][\"user_id\"].value_counts()"
   ]
  },
  {
   "cell_type": "code",
   "execution_count": 18,
   "metadata": {},
   "outputs": [
    {
     "data": {
      "text/plain": [
       "2103184240    1\n",
       "1240997940    1\n",
       "Name: user_id, dtype: int64"
      ]
     },
     "execution_count": 18,
     "metadata": {},
     "output_type": "execute_result"
    }
   ],
   "source": [
    "df[df[\"ans2_size\"] == 1][\"user_id\"].value_counts()"
   ]
  },
  {
   "cell_type": "code",
   "execution_count": 19,
   "metadata": {},
   "outputs": [
    {
     "data": {
      "text/plain": [
       "1610758750    1\n",
       "Name: user_id, dtype: int64"
      ]
     },
     "execution_count": 19,
     "metadata": {},
     "output_type": "execute_result"
    }
   ],
   "source": [
    "df[df[\"ans3_size\"] == 1][\"user_id\"].value_counts()"
   ]
  },
  {
   "cell_type": "code",
   "execution_count": 20,
   "metadata": {},
   "outputs": [
    {
     "ename": "AttributeError",
     "evalue": "'RollingGroupby' object has no attribute 'cumstd'",
     "output_type": "error",
     "traceback": [
      "\u001b[1;31m---------------------------------------------------------------------------\u001b[0m",
      "\u001b[1;31mAttributeError\u001b[0m                            Traceback (most recent call last)",
      "\u001b[1;32m<ipython-input-20-ffc1f03af927>\u001b[0m in \u001b[0;36m<module>\u001b[1;34m\u001b[0m\n\u001b[1;32m----> 1\u001b[1;33m \u001b[0ma\u001b[0m \u001b[1;33m=\u001b[0m \u001b[0mdf\u001b[0m\u001b[1;33m.\u001b[0m\u001b[0mgroupby\u001b[0m\u001b[1;33m(\u001b[0m\u001b[1;34m\"user_id\"\u001b[0m\u001b[1;33m)\u001b[0m\u001b[1;33m.\u001b[0m\u001b[0mrolling\u001b[0m\u001b[1;33m(\u001b[0m\u001b[0mwindow\u001b[0m\u001b[1;33m=\u001b[0m\u001b[1;36m30\u001b[0m\u001b[1;33m)\u001b[0m\u001b[1;33m.\u001b[0m\u001b[0mcumstd\u001b[0m\u001b[1;33m(\u001b[0m\u001b[1;33m)\u001b[0m\u001b[1;33m\u001b[0m\u001b[1;33m\u001b[0m\u001b[0m\n\u001b[0m",
      "\u001b[1;32mC:\\ProgramData\\Anaconda3\\lib\\site-packages\\pandas\\core\\window\\rolling.py\u001b[0m in \u001b[0;36m__getattr__\u001b[1;34m(self, attr)\u001b[0m\n\u001b[0;32m    260\u001b[0m             \u001b[1;32mreturn\u001b[0m \u001b[0mself\u001b[0m\u001b[1;33m[\u001b[0m\u001b[0mattr\u001b[0m\u001b[1;33m]\u001b[0m\u001b[1;33m\u001b[0m\u001b[1;33m\u001b[0m\u001b[0m\n\u001b[0;32m    261\u001b[0m \u001b[1;33m\u001b[0m\u001b[0m\n\u001b[1;32m--> 262\u001b[1;33m         raise AttributeError(\n\u001b[0m\u001b[0;32m    263\u001b[0m             \u001b[1;34mf\"'{type(self).__name__}' object has no attribute '{attr}'\"\u001b[0m\u001b[1;33m\u001b[0m\u001b[1;33m\u001b[0m\u001b[0m\n\u001b[0;32m    264\u001b[0m         )\n",
      "\u001b[1;31mAttributeError\u001b[0m: 'RollingGroupby' object has no attribute 'cumstd'"
     ]
    }
   ],
   "source": [
    "a = df.groupby(\"user_id\").rolling(window=30).cumstd()"
   ]
  },
  {
   "cell_type": "code",
   "execution_count": 23,
   "metadata": {},
   "outputs": [],
   "source": [
    "df[\"timedelta_cap100k\"] = [x if x < 100000 else 100000 for x in df[\"timedelta\"].values]\n",
    "df[\"mean_timedelta_cap100k\"] = df.groupby([\"user_id\", \"part\"])[\"timedelta\"].cumsum() / (df.groupby(\"user_id\").cumcount()+1)\n",
    "df[\"diff_mean_timedelta_cap100k\"] = df[\"timedelta\"] - df[\"mean_timedelta_cap100k\"]"
   ]
  },
  {
   "cell_type": "code",
   "execution_count": 24,
   "metadata": {},
   "outputs": [
    {
     "data": {
      "text/plain": [
       "0                    NaN\n",
       "1           12689.500000\n",
       "2            8045.666667\n",
       "3           15033.000000\n",
       "4           62736.000000\n",
       "                ...     \n",
       "10033861   -42395.869565\n",
       "10033862   -54327.829787\n",
       "10033863   -48124.895833\n",
       "10033864   -45725.285714\n",
       "10033865   -55958.280000\n",
       "Name: diff_mean_timedelta_cap100k, Length: 10033866, dtype: float64"
      ]
     },
     "execution_count": 24,
     "metadata": {},
     "output_type": "execute_result"
    }
   ],
   "source": [
    "df[\"diff_mean_timedelta_cap100k\"]"
   ]
  },
  {
   "cell_type": "code",
   "execution_count": 26,
   "metadata": {},
   "outputs": [],
   "source": [
    "df[\"elapsed_time\"] = df.groupby(\"user_id\")[\"prior_question_elapsed_time\"].shift(-1)\n",
    "df[\"elapsed_mean_contant_id\"] = df.groupby(\"content_id\")[\"elapsed_time\"].transform(\"mean\")\n",
    "df[\"diff_timedelta_elapsed_mean_content_id\"] = df[\"timedelta\"] - df[\"elapsed_mean_contant_id\"]"
   ]
  },
  {
   "cell_type": "code",
   "execution_count": 32,
   "metadata": {},
   "outputs": [],
   "source": [
    "df[\"study_time\"] = (df[\"timedelta_cap100k\"] - df[\"prior_question_had_explanation\"]).astype(\"float32\")\n",
    "df[\"diff_mean_study_time\"] = df[\"timedelta_cap100k\"] - df.groupby([\"user_id\", \"part\"])[\"study_time\"].transform(\"mean\")"
   ]
  },
  {
   "cell_type": "code",
   "execution_count": 33,
   "metadata": {},
   "outputs": [],
   "source": [
    "df[\"timedelta_cap100k\"] = [x if x < 100000 else 100000 for x in df[\"timedelta\"].values]\n",
    "correct_dict = df[df[\"answered_correctly\"]==1].groupby([\"content_id\"])[\"timedelta_cap100k\"].mean().to_dict()\n",
    "incorrect_dict = df[df[\"answered_correctly\"]==0].groupby([\"content_id\"])[\"timedelta_cap100k\"].mean().to_dict()\n",
    "\n",
    "df[\"diff_correct_timedelta_cap100k\"] = df[\"timedelta_cap100k\"] - df[\"content_id\"].map(correct_dict)\n",
    "df[\"diff_incorrect_timedelta_cap100k\"] = df[\"timedelta_cap100k\"] - df[\"content_id\"].map(incorrect_dict)"
   ]
  },
  {
   "cell_type": "code",
   "execution_count": 35,
   "metadata": {},
   "outputs": [
    {
     "data": {
      "text/html": [
       "<div>\n",
       "<style scoped>\n",
       "    .dataframe tbody tr th:only-of-type {\n",
       "        vertical-align: middle;\n",
       "    }\n",
       "\n",
       "    .dataframe tbody tr th {\n",
       "        vertical-align: top;\n",
       "    }\n",
       "\n",
       "    .dataframe thead th {\n",
       "        text-align: right;\n",
       "    }\n",
       "</style>\n",
       "<table border=\"1\" class=\"dataframe\">\n",
       "  <thead>\n",
       "    <tr style=\"text-align: right;\">\n",
       "      <th></th>\n",
       "      <th>timedelta_cap100k</th>\n",
       "      <th>diff_correct_timedelta_cap100k</th>\n",
       "      <th>diff_incorrect_timedelta_cap100k</th>\n",
       "    </tr>\n",
       "  </thead>\n",
       "  <tbody>\n",
       "    <tr>\n",
       "      <th>0</th>\n",
       "      <td>100000.0</td>\n",
       "      <td>9994.460586</td>\n",
       "      <td>8364.047148</td>\n",
       "    </tr>\n",
       "    <tr>\n",
       "      <th>1</th>\n",
       "      <td>25379.0</td>\n",
       "      <td>-6520.752666</td>\n",
       "      <td>-6294.014079</td>\n",
       "    </tr>\n",
       "    <tr>\n",
       "      <th>2</th>\n",
       "      <td>24758.0</td>\n",
       "      <td>-9617.424628</td>\n",
       "      <td>-8597.855108</td>\n",
       "    </tr>\n",
       "    <tr>\n",
       "      <th>3</th>\n",
       "      <td>20044.0</td>\n",
       "      <td>-6272.117127</td>\n",
       "      <td>-8355.064081</td>\n",
       "    </tr>\n",
       "    <tr>\n",
       "      <th>4</th>\n",
       "      <td>78420.0</td>\n",
       "      <td>53695.235745</td>\n",
       "      <td>54678.881050</td>\n",
       "    </tr>\n",
       "    <tr>\n",
       "      <th>...</th>\n",
       "      <td>...</td>\n",
       "      <td>...</td>\n",
       "      <td>...</td>\n",
       "    </tr>\n",
       "    <tr>\n",
       "      <th>10033861</th>\n",
       "      <td>34075.0</td>\n",
       "      <td>-9861.153846</td>\n",
       "      <td>-16837.163636</td>\n",
       "    </tr>\n",
       "    <tr>\n",
       "      <th>10033862</th>\n",
       "      <td>20962.0</td>\n",
       "      <td>-32408.263274</td>\n",
       "      <td>-35373.680000</td>\n",
       "    </tr>\n",
       "    <tr>\n",
       "      <th>10033863</th>\n",
       "      <td>26141.0</td>\n",
       "      <td>-22469.677180</td>\n",
       "      <td>-27384.735294</td>\n",
       "    </tr>\n",
       "    <tr>\n",
       "      <th>10033864</th>\n",
       "      <td>27588.0</td>\n",
       "      <td>-20036.299118</td>\n",
       "      <td>-32667.449569</td>\n",
       "    </tr>\n",
       "    <tr>\n",
       "      <th>10033865</th>\n",
       "      <td>16213.0</td>\n",
       "      <td>-25746.038462</td>\n",
       "      <td>-34498.742857</td>\n",
       "    </tr>\n",
       "  </tbody>\n",
       "</table>\n",
       "<p>10033866 rows × 3 columns</p>\n",
       "</div>"
      ],
      "text/plain": [
       "          timedelta_cap100k  diff_correct_timedelta_cap100k  \\\n",
       "0                  100000.0                     9994.460586   \n",
       "1                   25379.0                    -6520.752666   \n",
       "2                   24758.0                    -9617.424628   \n",
       "3                   20044.0                    -6272.117127   \n",
       "4                   78420.0                    53695.235745   \n",
       "...                     ...                             ...   \n",
       "10033861            34075.0                    -9861.153846   \n",
       "10033862            20962.0                   -32408.263274   \n",
       "10033863            26141.0                   -22469.677180   \n",
       "10033864            27588.0                   -20036.299118   \n",
       "10033865            16213.0                   -25746.038462   \n",
       "\n",
       "          diff_incorrect_timedelta_cap100k  \n",
       "0                              8364.047148  \n",
       "1                             -6294.014079  \n",
       "2                             -8597.855108  \n",
       "3                             -8355.064081  \n",
       "4                             54678.881050  \n",
       "...                                    ...  \n",
       "10033861                     -16837.163636  \n",
       "10033862                     -35373.680000  \n",
       "10033863                     -27384.735294  \n",
       "10033864                     -32667.449569  \n",
       "10033865                     -34498.742857  \n",
       "\n",
       "[10033866 rows x 3 columns]"
      ]
     },
     "execution_count": 35,
     "metadata": {},
     "output_type": "execute_result"
    }
   ],
   "source": [
    "df[[\"timedelta_cap100k\", \"diff_correct_timedelta_cap100k\", \"diff_incorrect_timedelta_cap100k\"]]"
   ]
  },
  {
   "cell_type": "code",
   "execution_count": null,
   "metadata": {},
   "outputs": [],
   "source": []
  }
 ],
 "metadata": {
  "kernelspec": {
   "display_name": "Python 3",
   "language": "python",
   "name": "python3"
  },
  "language_info": {
   "codemirror_mode": {
    "name": "ipython",
    "version": 3
   },
   "file_extension": ".py",
   "mimetype": "text/x-python",
   "name": "python",
   "nbconvert_exporter": "python",
   "pygments_lexer": "ipython3",
   "version": "3.8.5"
  }
 },
 "nbformat": 4,
 "nbformat_minor": 2
}
