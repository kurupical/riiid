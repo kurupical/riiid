{
 "cells": [
  {
   "cell_type": "code",
   "execution_count": 1,
   "metadata": {
    "collapsed": true
   },
   "outputs": [],
   "source": [
    "import pandas as pd\n",
    "import numpy as np\n",
    "%matplotlib inline"
   ]
  },
  {
   "cell_type": "code",
   "execution_count": 2,
   "metadata": {
    "collapsed": true
   },
   "outputs": [],
   "source": [
    "\n",
    "\n",
    "data_types_dict = {\n",
    "    'row_id': 'int64',\n",
    "    'timestamp': 'int64',\n",
    "    'user_id': 'int32',\n",
    "    'content_id': 'int16',\n",
    "    'content_type_id': 'int8',\n",
    "    'task_container_id': 'int16',\n",
    "    'user_answer': 'int8',\n",
    "    'answered_correctly': 'int8',\n",
    "}\n",
    "\n",
    "\n",
    "df = pd.read_csv(\"../input/riiid-test-answer-prediction/train.csv\",\n",
    "                 dtype=data_types_dict,\n",
    "                 nrows=1000000)"
   ]
  },
  {
   "cell_type": "code",
   "execution_count": 3,
   "metadata": {
    "collapsed": true
   },
   "outputs": [],
   "source": [
    "df_question = pd.read_csv(\"../input/riiid-test-answer-prediction/questions.csv\",\n",
    "                          dtype={\"bundle_id\": \"int32\",\n",
    "                                 \"question_id\": \"int32\",\n",
    "                                 \"correct_answer\": \"int8\",\n",
    "                                 \"part\": \"int8\"})\n",
    "df_lecture = pd.read_csv(\"../input/riiid-test-answer-prediction/lectures.csv\",\n",
    "                         dtype={\"lecture_id\": \"int32\",\n",
    "                                \"tag\": \"int16\",\n",
    "                                \"part\": \"int8\"})"
   ]
  },
  {
   "cell_type": "code",
   "execution_count": 4,
   "metadata": {
    "collapsed": true
   },
   "outputs": [],
   "source": [
    "div_num = 10"
   ]
  },
  {
   "cell_type": "code",
   "execution_count": 5,
   "metadata": {
    "collapsed": true
   },
   "outputs": [],
   "source": [
    "df[f\"user_id_div{div_num}\"] = df[\"user_id\"]%div_num"
   ]
  },
  {
   "cell_type": "code",
   "execution_count": 6,
   "metadata": {},
   "outputs": [
    {
     "name": "stdout",
     "output_type": "stream",
     "text": [
      "58974\n",
      "58974\n"
     ]
    },
    {
     "name": "stderr",
     "output_type": "stream",
     "text": [
      "/home/yuma/anaconda3/lib/python3.6/site-packages/ipykernel_launcher.py:5: FutureWarning: Sorting because non-concatenation axis is not aligned. A future version\n",
      "of pandas will change to not sort by default.\n",
      "\n",
      "To accept the future behavior, pass 'sort=False'.\n",
      "\n",
      "To retain the current behavior and silence the warning, pass 'sort=True'.\n",
      "\n",
      "  \"\"\"\n"
     ]
    }
   ],
   "source": [
    "for user_id, w_df in df.groupby(f\"user_id_div{div_num}\"):\n",
    "    print(len(w_df))\n",
    "    w_df1 = pd.merge(w_df[w_df[\"content_type_id\"]==0], df_question, how=\"left\", left_on=\"content_id\", right_on=\"question_id\")\n",
    "    w_df2 = pd.merge(w_df[w_df[\"content_type_id\"]==1], df_lecture, how=\"left\", left_on=\"content_id\", right_on=\"lecture_id\")\n",
    "    w_df = pd.concat([w_df1, w_df2])\n",
    "    w_df[\"tag\"] = w_df[\"tag\"].fillna(-1).astype(\"int16\")\n",
    "    w_df[\"correct_answer\"] = w_df[\"correct_answer\"].fillna(-1).astype(\"int8\")\n",
    "    w_df[\"bundle_id\"] = w_df[\"bundle_id\"].fillna(-1).astype(\"int32\")\n",
    "    print(len(w_df))\n",
    "    w_df = w_df.drop([\"question_id\", \"lecture_id\"], axis=1)\n",
    "    w_df.drop([f\"user_id_div{div_num}\", \"row_id\"], axis=1).to_pickle(f\"../input/riiid-test-answer-prediction/split10/train_{user_id}.pickle\")\n",
    "    break"
   ]
  },
  {
   "cell_type": "code",
   "execution_count": 11,
   "metadata": {},
   "outputs": [
    {
     "data": {
      "text/plain": [
       "0         5\n",
       "1         2\n",
       "2         5\n",
       "3         5\n",
       "4         5\n",
       "         ..\n",
       "650358    5\n",
       "650359    3\n",
       "650360    1\n",
       "650361    4\n",
       "650362    5\n",
       "Name: part, Length: 33353280, dtype: int8"
      ]
     },
     "execution_count": 11,
     "metadata": {},
     "output_type": "execute_result"
    }
   ],
   "source": [
    "w_df[\"part\"]"
   ]
  },
  {
   "cell_type": "code",
   "execution_count": null,
   "metadata": {
    "collapsed": true
   },
   "outputs": [],
   "source": []
  }
 ],
 "metadata": {
  "kernelspec": {
   "display_name": "Python 3",
   "language": "python",
   "name": "python3"
  },
  "language_info": {
   "codemirror_mode": {
    "name": "ipython",
    "version": 3
   },
   "file_extension": ".py",
   "mimetype": "text/x-python",
   "name": "python",
   "nbconvert_exporter": "python",
   "pygments_lexer": "ipython3",
   "version": "3.6.1"
  }
 },
 "nbformat": 4,
 "nbformat_minor": 2
}
