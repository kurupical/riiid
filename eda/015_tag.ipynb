{
 "cells": [
  {
   "cell_type": "code",
   "execution_count": null,
   "metadata": {
    "collapsed": true
   },
   "outputs": [],
   "source": []
  },
  {
   "cell_type": "code",
   "execution_count": 1,
   "metadata": {
    "collapsed": true
   },
   "outputs": [],
   "source": [
    "import pandas as pd\n",
    "import numpy as np\n",
    "import tqdm\n",
    "import warnings\n",
    "import matplotlib.pyplot as plt\n",
    "\n",
    "pd.set_option(\"max_rows\", 200)\n",
    "pd.set_option(\"max_columns\", 50)\n",
    "\n",
    "%matplotlib inline"
   ]
  },
  {
   "cell_type": "code",
   "execution_count": 2,
   "metadata": {
    "collapsed": true
   },
   "outputs": [],
   "source": [
    "\n",
    "\n",
    "data_types_dict = {\n",
    "    'row_id': 'int64',\n",
    "    'timestamp': 'int64',\n",
    "    'user_id': 'int32',\n",
    "    'content_id': 'int16',\n",
    "    'content_type_id': 'int8',\n",
    "    'task_container_id': 'int16',\n",
    "    'user_answer': 'int8',\n",
    "    'answered_correctly': 'int8',\n",
    "}\n",
    "\n",
    "\n",
    "df = pd.read_pickle(\"../input/riiid-test-answer-prediction/split10/train_0.pickle\")"
   ]
  },
  {
   "cell_type": "code",
   "execution_count": 3,
   "metadata": {
    "collapsed": true
   },
   "outputs": [],
   "source": [
    "import sys\n",
    "sys.path.append(\"../\")\n",
    "# df = pd.read_pickle(\"../input/riiid-test-answer-prediction/split10/train_0.pickle\")\n",
    "df = df.sort_values([\"user_id\", \"timestamp\"])\n",
    "# large_user_id = df[\"user_id\"].value_counts()\n",
    "# large_user_id = large_user_id[large_user_id > 1000] \n",
    "# df = df[df[\"user_id\"].isin(large_user_id.index)]\n",
    "# df = df[df[\"answered_correctly\"] != -1]"
   ]
  },
  {
   "cell_type": "code",
   "execution_count": 4,
   "metadata": {
    "collapsed": true
   },
   "outputs": [],
   "source": [
    "df[\"answered_correctly\"] = df[\"answered_correctly\"].replace(-1, np.nan)"
   ]
  },
  {
   "cell_type": "code",
   "execution_count": 5,
   "metadata": {
    "collapsed": true
   },
   "outputs": [],
   "source": [
    "tags = df[\"tags\"].str.split(\" \", n=10, expand=True)"
   ]
  },
  {
   "cell_type": "code",
   "execution_count": 17,
   "metadata": {
    "collapsed": true
   },
   "outputs": [],
   "source": [
    "tag = df[\"tags\"].str.split(\" \", n=10, expand=True)\n",
    "tag.columns = [f\"tags{i}\" for i in range(1, len(tag.columns) + 1)]\n",
    "\n",
    "\n",
    "for col in [\"tags1\", \"tags2\", \"tags3\", \"tags4\", \"tags5\", \"tags6\"]:\n",
    "    tag[col] = pd.to_numeric(tag[col], errors='coerce').fillna(-1).astype(\"int16\")"
   ]
  },
  {
   "cell_type": "code",
   "execution_count": 20,
   "metadata": {},
   "outputs": [
    {
     "name": "stderr",
     "output_type": "stream",
     "text": [
      "100%|██████████| 118/118 [01:27<00:00,  1.35it/s]\n"
     ]
    }
   ],
   "source": [
    "for t in tqdm.tqdm(tag[\"tags1\"].drop_duplicates().values):\n",
    "    df[f\"tag_{t}\"] = (tag == t).sum(axis=1).astype(\"int16\")"
   ]
  },
  {
   "cell_type": "code",
   "execution_count": 22,
   "metadata": {},
   "outputs": [],
   "source": [
    "cols = [f\"tag_{x}\" for x in tag[\"tags1\"].drop_duplicates().values]"
   ]
  },
  {
   "cell_type": "code",
   "execution_count": 23,
   "metadata": {},
   "outputs": [
    {
     "data": {
      "text/plain": [
       "['tag_131',\n",
       " 'tag_10',\n",
       " 'tag_9',\n",
       " 'tag_143',\n",
       " 'tag_157',\n",
       " 'tag_136',\n",
       " 'tag_74',\n",
       " 'tag_82',\n",
       " 'tag_161',\n",
       " 'tag_80',\n",
       " 'tag_123',\n",
       " 'tag_133',\n",
       " 'tag_23',\n",
       " 'tag_151',\n",
       " 'tag_79',\n",
       " 'tag_73',\n",
       " 'tag_96',\n",
       " 'tag_65',\n",
       " 'tag_27',\n",
       " 'tag_50',\n",
       " 'tag_97',\n",
       " 'tag_115',\n",
       " 'tag_134',\n",
       " 'tag_1',\n",
       " 'tag_91',\n",
       " 'tag_109',\n",
       " 'tag_125',\n",
       " 'tag_132',\n",
       " 'tag_69',\n",
       " 'tag_129',\n",
       " 'tag_17',\n",
       " 'tag_62',\n",
       " 'tag_137',\n",
       " 'tag_55',\n",
       " 'tag_48',\n",
       " 'tag_28',\n",
       " 'tag_53',\n",
       " 'tag_156',\n",
       " 'tag_60',\n",
       " 'tag_127',\n",
       " 'tag_49',\n",
       " 'tag_75',\n",
       " 'tag_15',\n",
       " 'tag_51',\n",
       " 'tag_90',\n",
       " 'tag_138',\n",
       " 'tag_7',\n",
       " 'tag_173',\n",
       " 'tag_177',\n",
       " 'tag_58',\n",
       " 'tag_147',\n",
       " 'tag_31',\n",
       " 'tag_45',\n",
       " 'tag_61',\n",
       " 'tag_179',\n",
       " 'tag_47',\n",
       " 'tag_95',\n",
       " 'tag_24',\n",
       " 'tag_54',\n",
       " 'tag_44',\n",
       " 'tag_152',\n",
       " 'tag_175',\n",
       " 'tag_116',\n",
       " 'tag_181',\n",
       " 'tag_180',\n",
       " 'tag_170',\n",
       " 'tag_85',\n",
       " 'tag_8',\n",
       " 'tag_26',\n",
       " 'tag_155',\n",
       " 'tag_2',\n",
       " 'tag_174',\n",
       " 'tag_52',\n",
       " 'tag_33',\n",
       " 'tag_106',\n",
       " 'tag_113',\n",
       " 'tag_14',\n",
       " 'tag_128',\n",
       " 'tag_43',\n",
       " 'tag_89',\n",
       " 'tag_-1',\n",
       " 'tag_78',\n",
       " 'tag_76',\n",
       " 'tag_118',\n",
       " 'tag_18',\n",
       " 'tag_37',\n",
       " 'tag_84',\n",
       " 'tag_39',\n",
       " 'tag_98',\n",
       " 'tag_148',\n",
       " 'tag_168',\n",
       " 'tag_145',\n",
       " 'tag_159',\n",
       " 'tag_4',\n",
       " 'tag_34',\n",
       " 'tag_72',\n",
       " 'tag_66',\n",
       " 'tag_25',\n",
       " 'tag_108',\n",
       " 'tag_64',\n",
       " 'tag_167',\n",
       " 'tag_57',\n",
       " 'tag_124',\n",
       " 'tag_166',\n",
       " 'tag_32',\n",
       " 'tag_172',\n",
       " 'tag_112',\n",
       " 'tag_86',\n",
       " 'tag_42',\n",
       " 'tag_182',\n",
       " 'tag_19',\n",
       " 'tag_16',\n",
       " 'tag_184',\n",
       " 'tag_100',\n",
       " 'tag_41',\n",
       " 'tag_160',\n",
       " 'tag_38',\n",
       " 'tag_117']"
      ]
     },
     "execution_count": 23,
     "metadata": {},
     "output_type": "execute_result"
    }
   ],
   "source": [
    "cols"
   ]
  },
  {
   "cell_type": "code",
   "execution_count": 11,
   "metadata": {
    "collapsed": true
   },
   "outputs": [],
   "source": [
    "s = df[cols].sum().sort_values(ascending=False)"
   ]
  },
  {
   "cell_type": "code",
   "execution_count": 20,
   "metadata": {
    "collapsed": true
   },
   "outputs": [],
   "source": [
    "from sklearn.decomposition import PCA"
   ]
  },
  {
   "cell_type": "code",
   "execution_count": 29,
   "metadata": {},
   "outputs": [
    {
     "data": {
      "text/plain": [
       "array([ -1,   0,  11,  22,  29,  35,  38,  63,  81,  87,  92, 102, 117,\n",
       "       121, 122, 135, 139, 146, 154, 162, 165], dtype=int16)"
      ]
     },
     "execution_count": 29,
     "metadata": {},
     "output_type": "execute_result"
    }
   ],
   "source": [
    "tag[\"tags4\"].drop_duplicates().sort_values().values"
   ]
  },
  {
   "cell_type": "code",
   "execution_count": 28,
   "metadata": {},
   "outputs": [
    {
     "data": {
      "text/plain": [
       "array([ -1,   0,   3,   6,  11,  16,  18,  20,  21,  29,  30,  32,  35,\n",
       "        38,  39,  41,  42,  46,  50,  56,  59,  62,  69,  71,  76,  77,\n",
       "        81,  87,  88,  92,  97, 100, 102, 105, 107, 114, 117, 118, 119,\n",
       "       135, 138, 141, 142, 145, 146, 148, 154, 160, 162, 163, 176, 184,\n",
       "       185, 186], dtype=int16)"
      ]
     },
     "execution_count": 28,
     "metadata": {},
     "output_type": "execute_result"
    }
   ],
   "source": [
    "tag[\"tags3\"].drop_duplicates().sort_values().values"
   ]
  },
  {
   "cell_type": "code",
   "execution_count": 27,
   "metadata": {},
   "outputs": [
    {
     "data": {
      "text/plain": [
       "array([ -1,   1,   2,   4,   7,   8,   9,  10,  14,  15,  16,  17,  18,\n",
       "        19,  23,  24,  25,  26,  27,  28,  31,  32,  33,  34,  37,  38,\n",
       "        39,  41,  42,  43,  44,  45,  47,  48,  49,  50,  51,  52,  53,\n",
       "        54,  55,  57,  58,  60,  61,  62,  64,  65,  66,  69,  72,  73,\n",
       "        74,  75,  76,  78,  79,  80,  82,  84,  85,  86,  89,  90,  91,\n",
       "        95,  96,  97,  98, 100, 106, 108, 109, 112, 113, 115, 116, 117,\n",
       "       118, 123, 124, 125, 127, 128, 129, 131, 132, 133, 134, 136, 137,\n",
       "       138, 143, 145, 147, 148, 151, 152, 155, 156, 157, 159, 160, 161,\n",
       "       166, 167, 168, 170, 172, 173, 174, 175, 177, 179, 180, 181, 182,\n",
       "       184], dtype=int16)"
      ]
     },
     "execution_count": 27,
     "metadata": {},
     "output_type": "execute_result"
    }
   ],
   "source": [
    "tag[\"tags1\"].drop_duplicates().sort_values().values"
   ]
  },
  {
   "cell_type": "code",
   "execution_count": 26,
   "metadata": {},
   "outputs": [
    {
     "data": {
      "text/plain": [
       "array([ -1,   0,   2,   5,  10,  12,  13,  16,  17,  18,  19,  20,  29,\n",
       "        30,  32,  35,  36,  37,  38,  39,  40,  41,  42,  50,  56,  62,\n",
       "        67,  68,  69,  70,  71,  76,  77,  81,  83,  84,  88,  90,  92,\n",
       "        93,  94,  97,  99, 100, 101, 102, 103, 104, 105, 107, 110, 111,\n",
       "       114, 117, 118, 119, 120, 126, 130, 131, 137, 138, 139, 140, 141,\n",
       "       142, 143, 144, 145, 148, 149, 150, 153, 155, 158, 160, 162, 163,\n",
       "       164, 169, 171, 176, 178, 183, 184, 185, 187], dtype=int16)"
      ]
     },
     "execution_count": 26,
     "metadata": {},
     "output_type": "execute_result"
    }
   ],
   "source": [
    "tag[\"tags2\"].drop_duplicates().sort_values().values"
   ]
  },
  {
   "cell_type": "code",
   "execution_count": 16,
   "metadata": {},
   "outputs": [
    {
     "data": {
      "text/plain": [
       "69                 131 130 38\n",
       "76                 131 130 92\n",
       "133            131 130 162 38\n",
       "142               131 130 102\n",
       "631        129 143 176 38 102\n",
       "                  ...        \n",
       "9639559                     1\n",
       "9639768        143 114 38 102\n",
       "9639777                   152\n",
       "9640880         136 162 92 29\n",
       "9640907             157 38 81\n",
       "Name: tags, Length: 24104, dtype: object"
      ]
     },
     "execution_count": 16,
     "metadata": {},
     "output_type": "execute_result"
    }
   ],
   "source": [
    "df.iloc[tag[tag[\"tags2\"] == -126].index][\"tags\"]"
   ]
  },
  {
   "cell_type": "code",
   "execution_count": 31,
   "metadata": {},
   "outputs": [
    {
     "data": {
      "text/plain": [
       "0           93\n",
       "1           94\n",
       "2           10\n",
       "3          140\n",
       "4           92\n",
       "          ... \n",
       "9837537    255\n",
       "9837538    255\n",
       "9837539    255\n",
       "9837540    255\n",
       "9837541    255\n",
       "Name: tags2, Length: 10033866, dtype: uint8"
      ]
     },
     "execution_count": 31,
     "metadata": {},
     "output_type": "execute_result"
    }
   ],
   "source": [
    "tag[\"tags2\"].astype(\"uint8\")"
   ]
  },
  {
   "cell_type": "code",
   "execution_count": null,
   "metadata": {
    "collapsed": true
   },
   "outputs": [],
   "source": [
    "pca = PCA()"
   ]
  },
  {
   "cell_type": "code",
   "execution_count": 13,
   "metadata": {},
   "outputs": [
    {
     "data": {
      "text/plain": [
       "tag_-1     36939817\n",
       "tag_38      1657688\n",
       "tag_143      720211\n",
       "tag_136      502226\n",
       "tag_131      443507\n",
       "tag_62       332508\n",
       "tag_73       324914\n",
       "tag_53       296607\n",
       "tag_74       288813\n",
       "tag_82       278638\n",
       "tag_27       255843\n",
       "tag_10       254659\n",
       "tag_1        240811\n",
       "tag_155      228826\n",
       "tag_106      218494\n",
       "tag_96       208994\n",
       "tag_137      205101\n",
       "tag_8        201115\n",
       "tag_90       193438\n",
       "tag_100      174930\n",
       "tag_2        172370\n",
       "tag_97       171172\n",
       "tag_157      154663\n",
       "tag_32       143417\n",
       "tag_55       137340\n",
       "tag_69       131873\n",
       "tag_138      130919\n",
       "tag_148      126063\n",
       "tag_41       124879\n",
       "tag_79       121068\n",
       "tag_42       108547\n",
       "tag_173      107509\n",
       "tag_118      102797\n",
       "tag_98       102145\n",
       "dtype: int64"
      ]
     },
     "execution_count": 13,
     "metadata": {},
     "output_type": "execute_result"
    }
   ],
   "source": [
    "s[s>10**5]"
   ]
  },
  {
   "cell_type": "code",
   "execution_count": 21,
   "metadata": {},
   "outputs": [
    {
     "data": {
      "text/plain": [
       "tag_38  part\n",
       "0       1        581676\n",
       "        2        952121\n",
       "        3        460487\n",
       "        4        651753\n",
       "        5       4182879\n",
       "        6       1050297\n",
       "        7        496965\n",
       "1       1        175612\n",
       "        2        950553\n",
       "        3        387897\n",
       "        4        143626\n",
       "dtype: int64"
      ]
     },
     "execution_count": 21,
     "metadata": {},
     "output_type": "execute_result"
    }
   ],
   "source": [
    "df.groupby([\"tag_38\", \"part\"]).size()"
   ]
  },
  {
   "cell_type": "code",
   "execution_count": 22,
   "metadata": {},
   "outputs": [
    {
     "data": {
      "text/plain": [
       "tag_143  part\n",
       "0        1        757288\n",
       "         2       1182463\n",
       "         3        848384\n",
       "         4        795379\n",
       "         5       4182879\n",
       "         6       1050297\n",
       "         7        496965\n",
       "1        2        720211\n",
       "dtype: int64"
      ]
     },
     "execution_count": 22,
     "metadata": {},
     "output_type": "execute_result"
    }
   ],
   "source": [
    "df.groupby([\"tag_143\", \"part\"]).size()"
   ]
  },
  {
   "cell_type": "code",
   "execution_count": 14,
   "metadata": {},
   "outputs": [
    {
     "data": {
      "text/plain": [
       "tag_38\n",
       "0    0.643411\n",
       "1    0.712293\n",
       "Name: answered_correctly, dtype: float64"
      ]
     },
     "execution_count": 14,
     "metadata": {},
     "output_type": "execute_result"
    }
   ],
   "source": [
    "df.groupby(\"tag_38\")[\"answered_correctly\"].mean()"
   ]
  },
  {
   "cell_type": "code",
   "execution_count": 19,
   "metadata": {},
   "outputs": [
    {
     "data": {
      "text/plain": [
       "tag_78\n",
       "0    0.655002\n",
       "1    0.663080\n",
       "Name: answered_correctly, dtype: float64"
      ]
     },
     "execution_count": 19,
     "metadata": {},
     "output_type": "execute_result"
    }
   ],
   "source": [
    "df.groupby(\"tag_78\")[\"answered_correctly\"].mean()"
   ]
  },
  {
   "cell_type": "code",
   "execution_count": null,
   "metadata": {
    "collapsed": true
   },
   "outputs": [],
   "source": []
  }
 ],
 "metadata": {
  "kernelspec": {
   "display_name": "Python 3",
   "language": "python",
   "name": "python3"
  },
  "language_info": {
   "codemirror_mode": {
    "name": "ipython",
    "version": 3
   },
   "file_extension": ".py",
   "mimetype": "text/x-python",
   "name": "python",
   "nbconvert_exporter": "python",
   "pygments_lexer": "ipython3",
   "version": "3.6.1"
  }
 },
 "nbformat": 4,
 "nbformat_minor": 2
}
