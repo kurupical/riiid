{
 "cells": [
  {
   "cell_type": "code",
   "execution_count": null,
   "metadata": {
    "collapsed": true
   },
   "outputs": [],
   "source": []
  },
  {
   "cell_type": "code",
   "execution_count": 1,
   "metadata": {
    "collapsed": true
   },
   "outputs": [],
   "source": [
    "import pandas as pd\n",
    "import numpy as np\n",
    "import tqdm\n",
    "import warnings\n",
    "import matplotlib.pyplot as plt\n",
    "from sklearn.metrics import roc_auc_score\n",
    "\n",
    "pd.set_option(\"max_rows\", 200)\n",
    "pd.set_option(\"max_columns\", 50)\n",
    "tqdm.tqdm.pandas()\n",
    "%matplotlib inline"
   ]
  },
  {
   "cell_type": "code",
   "execution_count": null,
   "metadata": {
    "collapsed": true
   },
   "outputs": [],
   "source": []
  },
  {
   "cell_type": "code",
   "execution_count": 32,
   "metadata": {
    "collapsed": true
   },
   "outputs": [],
   "source": [
    "df = pd.read_pickle(\"../input/riiid-test-answer-prediction/split10/train_0.pickle\").sort_values([\"user_id\", \"timestamp\"]).reset_index(drop=True)"
   ]
  },
  {
   "cell_type": "code",
   "execution_count": 33,
   "metadata": {},
   "outputs": [
    {
     "data": {
      "text/html": [
       "<div>\n",
       "<style scoped>\n",
       "    .dataframe tbody tr th:only-of-type {\n",
       "        vertical-align: middle;\n",
       "    }\n",
       "\n",
       "    .dataframe tbody tr th {\n",
       "        vertical-align: top;\n",
       "    }\n",
       "\n",
       "    .dataframe thead th {\n",
       "        text-align: right;\n",
       "    }\n",
       "</style>\n",
       "<table border=\"1\" class=\"dataframe\">\n",
       "  <thead>\n",
       "    <tr style=\"text-align: right;\">\n",
       "      <th></th>\n",
       "      <th>timestamp</th>\n",
       "      <th>user_id</th>\n",
       "      <th>content_id</th>\n",
       "      <th>content_type_id</th>\n",
       "      <th>task_container_id</th>\n",
       "      <th>user_answer</th>\n",
       "      <th>answered_correctly</th>\n",
       "      <th>prior_question_elapsed_time</th>\n",
       "      <th>prior_question_had_explanation</th>\n",
       "      <th>bundle_id</th>\n",
       "      <th>correct_answer</th>\n",
       "      <th>part</th>\n",
       "      <th>tags</th>\n",
       "      <th>tag</th>\n",
       "      <th>type_of</th>\n",
       "    </tr>\n",
       "  </thead>\n",
       "  <tbody>\n",
       "    <tr>\n",
       "      <th>0</th>\n",
       "      <td>0</td>\n",
       "      <td>24600</td>\n",
       "      <td>7900</td>\n",
       "      <td>0</td>\n",
       "      <td>0</td>\n",
       "      <td>0</td>\n",
       "      <td>1</td>\n",
       "      <td>NaN</td>\n",
       "      <td>NaN</td>\n",
       "      <td>7900</td>\n",
       "      <td>0</td>\n",
       "      <td>1</td>\n",
       "      <td>131 93 81</td>\n",
       "      <td>-1</td>\n",
       "      <td>NaN</td>\n",
       "    </tr>\n",
       "    <tr>\n",
       "      <th>1</th>\n",
       "      <td>25379</td>\n",
       "      <td>24600</td>\n",
       "      <td>7876</td>\n",
       "      <td>0</td>\n",
       "      <td>1</td>\n",
       "      <td>2</td>\n",
       "      <td>0</td>\n",
       "      <td>24000.0</td>\n",
       "      <td>False</td>\n",
       "      <td>7876</td>\n",
       "      <td>3</td>\n",
       "      <td>1</td>\n",
       "      <td>10 94 92</td>\n",
       "      <td>-1</td>\n",
       "      <td>NaN</td>\n",
       "    </tr>\n",
       "    <tr>\n",
       "      <th>2</th>\n",
       "      <td>50137</td>\n",
       "      <td>24600</td>\n",
       "      <td>175</td>\n",
       "      <td>0</td>\n",
       "      <td>2</td>\n",
       "      <td>2</td>\n",
       "      <td>1</td>\n",
       "      <td>23000.0</td>\n",
       "      <td>False</td>\n",
       "      <td>175</td>\n",
       "      <td>2</td>\n",
       "      <td>1</td>\n",
       "      <td>9 10 92</td>\n",
       "      <td>-1</td>\n",
       "      <td>NaN</td>\n",
       "    </tr>\n",
       "    <tr>\n",
       "      <th>3</th>\n",
       "      <td>70181</td>\n",
       "      <td>24600</td>\n",
       "      <td>1278</td>\n",
       "      <td>0</td>\n",
       "      <td>3</td>\n",
       "      <td>3</td>\n",
       "      <td>1</td>\n",
       "      <td>22000.0</td>\n",
       "      <td>False</td>\n",
       "      <td>1278</td>\n",
       "      <td>3</td>\n",
       "      <td>2</td>\n",
       "      <td>143 140 81 29</td>\n",
       "      <td>-1</td>\n",
       "      <td>NaN</td>\n",
       "    </tr>\n",
       "    <tr>\n",
       "      <th>4</th>\n",
       "      <td>148601</td>\n",
       "      <td>24600</td>\n",
       "      <td>2064</td>\n",
       "      <td>0</td>\n",
       "      <td>4</td>\n",
       "      <td>2</td>\n",
       "      <td>0</td>\n",
       "      <td>18000.0</td>\n",
       "      <td>False</td>\n",
       "      <td>2063</td>\n",
       "      <td>1</td>\n",
       "      <td>3</td>\n",
       "      <td>157 92 29</td>\n",
       "      <td>-1</td>\n",
       "      <td>NaN</td>\n",
       "    </tr>\n",
       "    <tr>\n",
       "      <th>...</th>\n",
       "      <td>...</td>\n",
       "      <td>...</td>\n",
       "      <td>...</td>\n",
       "      <td>...</td>\n",
       "      <td>...</td>\n",
       "      <td>...</td>\n",
       "      <td>...</td>\n",
       "      <td>...</td>\n",
       "      <td>...</td>\n",
       "      <td>...</td>\n",
       "      <td>...</td>\n",
       "      <td>...</td>\n",
       "      <td>...</td>\n",
       "      <td>...</td>\n",
       "      <td>...</td>\n",
       "    </tr>\n",
       "    <tr>\n",
       "      <th>10033861</th>\n",
       "      <td>55863864</td>\n",
       "      <td>2147481750</td>\n",
       "      <td>9980</td>\n",
       "      <td>0</td>\n",
       "      <td>45</td>\n",
       "      <td>2</td>\n",
       "      <td>1</td>\n",
       "      <td>3000.0</td>\n",
       "      <td>True</td>\n",
       "      <td>9980</td>\n",
       "      <td>2</td>\n",
       "      <td>5</td>\n",
       "      <td>79</td>\n",
       "      <td>-1</td>\n",
       "      <td>NaN</td>\n",
       "    </tr>\n",
       "    <tr>\n",
       "      <th>10033862</th>\n",
       "      <td>55884826</td>\n",
       "      <td>2147481750</td>\n",
       "      <td>5528</td>\n",
       "      <td>0</td>\n",
       "      <td>46</td>\n",
       "      <td>2</td>\n",
       "      <td>1</td>\n",
       "      <td>28000.0</td>\n",
       "      <td>True</td>\n",
       "      <td>5528</td>\n",
       "      <td>2</td>\n",
       "      <td>5</td>\n",
       "      <td>14</td>\n",
       "      <td>-1</td>\n",
       "      <td>NaN</td>\n",
       "    </tr>\n",
       "    <tr>\n",
       "      <th>10033863</th>\n",
       "      <td>55910967</td>\n",
       "      <td>2147481750</td>\n",
       "      <td>5279</td>\n",
       "      <td>0</td>\n",
       "      <td>47</td>\n",
       "      <td>3</td>\n",
       "      <td>1</td>\n",
       "      <td>14000.0</td>\n",
       "      <td>True</td>\n",
       "      <td>5279</td>\n",
       "      <td>3</td>\n",
       "      <td>5</td>\n",
       "      <td>177</td>\n",
       "      <td>-1</td>\n",
       "      <td>NaN</td>\n",
       "    </tr>\n",
       "    <tr>\n",
       "      <th>10033864</th>\n",
       "      <td>55938555</td>\n",
       "      <td>2147481750</td>\n",
       "      <td>5222</td>\n",
       "      <td>0</td>\n",
       "      <td>48</td>\n",
       "      <td>1</td>\n",
       "      <td>0</td>\n",
       "      <td>20000.0</td>\n",
       "      <td>True</td>\n",
       "      <td>5222</td>\n",
       "      <td>2</td>\n",
       "      <td>5</td>\n",
       "      <td>175</td>\n",
       "      <td>-1</td>\n",
       "      <td>NaN</td>\n",
       "    </tr>\n",
       "    <tr>\n",
       "      <th>10033865</th>\n",
       "      <td>55954768</td>\n",
       "      <td>2147481750</td>\n",
       "      <td>8558</td>\n",
       "      <td>0</td>\n",
       "      <td>49</td>\n",
       "      <td>0</td>\n",
       "      <td>1</td>\n",
       "      <td>21000.0</td>\n",
       "      <td>True</td>\n",
       "      <td>8558</td>\n",
       "      <td>0</td>\n",
       "      <td>5</td>\n",
       "      <td>96</td>\n",
       "      <td>-1</td>\n",
       "      <td>NaN</td>\n",
       "    </tr>\n",
       "  </tbody>\n",
       "</table>\n",
       "<p>10033866 rows × 15 columns</p>\n",
       "</div>"
      ],
      "text/plain": [
       "          timestamp     user_id  content_id  content_type_id  \\\n",
       "0                 0       24600        7900                0   \n",
       "1             25379       24600        7876                0   \n",
       "2             50137       24600         175                0   \n",
       "3             70181       24600        1278                0   \n",
       "4            148601       24600        2064                0   \n",
       "...             ...         ...         ...              ...   \n",
       "10033861   55863864  2147481750        9980                0   \n",
       "10033862   55884826  2147481750        5528                0   \n",
       "10033863   55910967  2147481750        5279                0   \n",
       "10033864   55938555  2147481750        5222                0   \n",
       "10033865   55954768  2147481750        8558                0   \n",
       "\n",
       "          task_container_id  user_answer  answered_correctly  \\\n",
       "0                         0            0                   1   \n",
       "1                         1            2                   0   \n",
       "2                         2            2                   1   \n",
       "3                         3            3                   1   \n",
       "4                         4            2                   0   \n",
       "...                     ...          ...                 ...   \n",
       "10033861                 45            2                   1   \n",
       "10033862                 46            2                   1   \n",
       "10033863                 47            3                   1   \n",
       "10033864                 48            1                   0   \n",
       "10033865                 49            0                   1   \n",
       "\n",
       "          prior_question_elapsed_time prior_question_had_explanation  \\\n",
       "0                                 NaN                            NaN   \n",
       "1                             24000.0                          False   \n",
       "2                             23000.0                          False   \n",
       "3                             22000.0                          False   \n",
       "4                             18000.0                          False   \n",
       "...                               ...                            ...   \n",
       "10033861                       3000.0                           True   \n",
       "10033862                      28000.0                           True   \n",
       "10033863                      14000.0                           True   \n",
       "10033864                      20000.0                           True   \n",
       "10033865                      21000.0                           True   \n",
       "\n",
       "          bundle_id  correct_answer  part           tags  tag type_of  \n",
       "0              7900               0     1      131 93 81   -1     NaN  \n",
       "1              7876               3     1       10 94 92   -1     NaN  \n",
       "2               175               2     1        9 10 92   -1     NaN  \n",
       "3              1278               3     2  143 140 81 29   -1     NaN  \n",
       "4              2063               1     3      157 92 29   -1     NaN  \n",
       "...             ...             ...   ...            ...  ...     ...  \n",
       "10033861       9980               2     5             79   -1     NaN  \n",
       "10033862       5528               2     5             14   -1     NaN  \n",
       "10033863       5279               3     5            177   -1     NaN  \n",
       "10033864       5222               2     5            175   -1     NaN  \n",
       "10033865       8558               0     5             96   -1     NaN  \n",
       "\n",
       "[10033866 rows x 15 columns]"
      ]
     },
     "execution_count": 33,
     "metadata": {},
     "output_type": "execute_result"
    }
   ],
   "source": [
    "df"
   ]
  },
  {
   "cell_type": "code",
   "execution_count": 35,
   "metadata": {},
   "outputs": [],
   "source": [
    "df = df.reset_index()"
   ]
  },
  {
   "cell_type": "code",
   "execution_count": 36,
   "metadata": {},
   "outputs": [
    {
     "data": {
      "text/html": [
       "<div>\n",
       "<style scoped>\n",
       "    .dataframe tbody tr th:only-of-type {\n",
       "        vertical-align: middle;\n",
       "    }\n",
       "\n",
       "    .dataframe tbody tr th {\n",
       "        vertical-align: top;\n",
       "    }\n",
       "\n",
       "    .dataframe thead th {\n",
       "        text-align: right;\n",
       "    }\n",
       "</style>\n",
       "<table border=\"1\" class=\"dataframe\">\n",
       "  <thead>\n",
       "    <tr style=\"text-align: right;\">\n",
       "      <th></th>\n",
       "      <th>index</th>\n",
       "      <th>timestamp</th>\n",
       "      <th>user_id</th>\n",
       "      <th>content_id</th>\n",
       "      <th>content_type_id</th>\n",
       "      <th>task_container_id</th>\n",
       "      <th>user_answer</th>\n",
       "      <th>answered_correctly</th>\n",
       "      <th>prior_question_elapsed_time</th>\n",
       "      <th>prior_question_had_explanation</th>\n",
       "      <th>bundle_id</th>\n",
       "      <th>correct_answer</th>\n",
       "      <th>part</th>\n",
       "      <th>tags</th>\n",
       "      <th>tag</th>\n",
       "      <th>type_of</th>\n",
       "    </tr>\n",
       "  </thead>\n",
       "  <tbody>\n",
       "    <tr>\n",
       "      <th>0</th>\n",
       "      <td>0</td>\n",
       "      <td>0</td>\n",
       "      <td>24600</td>\n",
       "      <td>7900</td>\n",
       "      <td>0</td>\n",
       "      <td>0</td>\n",
       "      <td>0</td>\n",
       "      <td>1</td>\n",
       "      <td>NaN</td>\n",
       "      <td>NaN</td>\n",
       "      <td>7900</td>\n",
       "      <td>0</td>\n",
       "      <td>1</td>\n",
       "      <td>131 93 81</td>\n",
       "      <td>-1</td>\n",
       "      <td>NaN</td>\n",
       "    </tr>\n",
       "    <tr>\n",
       "      <th>1</th>\n",
       "      <td>1</td>\n",
       "      <td>25379</td>\n",
       "      <td>24600</td>\n",
       "      <td>7876</td>\n",
       "      <td>0</td>\n",
       "      <td>1</td>\n",
       "      <td>2</td>\n",
       "      <td>0</td>\n",
       "      <td>24000.0</td>\n",
       "      <td>False</td>\n",
       "      <td>7876</td>\n",
       "      <td>3</td>\n",
       "      <td>1</td>\n",
       "      <td>10 94 92</td>\n",
       "      <td>-1</td>\n",
       "      <td>NaN</td>\n",
       "    </tr>\n",
       "    <tr>\n",
       "      <th>2</th>\n",
       "      <td>2</td>\n",
       "      <td>50137</td>\n",
       "      <td>24600</td>\n",
       "      <td>175</td>\n",
       "      <td>0</td>\n",
       "      <td>2</td>\n",
       "      <td>2</td>\n",
       "      <td>1</td>\n",
       "      <td>23000.0</td>\n",
       "      <td>False</td>\n",
       "      <td>175</td>\n",
       "      <td>2</td>\n",
       "      <td>1</td>\n",
       "      <td>9 10 92</td>\n",
       "      <td>-1</td>\n",
       "      <td>NaN</td>\n",
       "    </tr>\n",
       "    <tr>\n",
       "      <th>3</th>\n",
       "      <td>3</td>\n",
       "      <td>70181</td>\n",
       "      <td>24600</td>\n",
       "      <td>1278</td>\n",
       "      <td>0</td>\n",
       "      <td>3</td>\n",
       "      <td>3</td>\n",
       "      <td>1</td>\n",
       "      <td>22000.0</td>\n",
       "      <td>False</td>\n",
       "      <td>1278</td>\n",
       "      <td>3</td>\n",
       "      <td>2</td>\n",
       "      <td>143 140 81 29</td>\n",
       "      <td>-1</td>\n",
       "      <td>NaN</td>\n",
       "    </tr>\n",
       "    <tr>\n",
       "      <th>4</th>\n",
       "      <td>4</td>\n",
       "      <td>148601</td>\n",
       "      <td>24600</td>\n",
       "      <td>2064</td>\n",
       "      <td>0</td>\n",
       "      <td>4</td>\n",
       "      <td>2</td>\n",
       "      <td>0</td>\n",
       "      <td>18000.0</td>\n",
       "      <td>False</td>\n",
       "      <td>2063</td>\n",
       "      <td>1</td>\n",
       "      <td>3</td>\n",
       "      <td>157 92 29</td>\n",
       "      <td>-1</td>\n",
       "      <td>NaN</td>\n",
       "    </tr>\n",
       "    <tr>\n",
       "      <th>...</th>\n",
       "      <td>...</td>\n",
       "      <td>...</td>\n",
       "      <td>...</td>\n",
       "      <td>...</td>\n",
       "      <td>...</td>\n",
       "      <td>...</td>\n",
       "      <td>...</td>\n",
       "      <td>...</td>\n",
       "      <td>...</td>\n",
       "      <td>...</td>\n",
       "      <td>...</td>\n",
       "      <td>...</td>\n",
       "      <td>...</td>\n",
       "      <td>...</td>\n",
       "      <td>...</td>\n",
       "      <td>...</td>\n",
       "    </tr>\n",
       "    <tr>\n",
       "      <th>10033861</th>\n",
       "      <td>10033861</td>\n",
       "      <td>55863864</td>\n",
       "      <td>2147481750</td>\n",
       "      <td>9980</td>\n",
       "      <td>0</td>\n",
       "      <td>45</td>\n",
       "      <td>2</td>\n",
       "      <td>1</td>\n",
       "      <td>3000.0</td>\n",
       "      <td>True</td>\n",
       "      <td>9980</td>\n",
       "      <td>2</td>\n",
       "      <td>5</td>\n",
       "      <td>79</td>\n",
       "      <td>-1</td>\n",
       "      <td>NaN</td>\n",
       "    </tr>\n",
       "    <tr>\n",
       "      <th>10033862</th>\n",
       "      <td>10033862</td>\n",
       "      <td>55884826</td>\n",
       "      <td>2147481750</td>\n",
       "      <td>5528</td>\n",
       "      <td>0</td>\n",
       "      <td>46</td>\n",
       "      <td>2</td>\n",
       "      <td>1</td>\n",
       "      <td>28000.0</td>\n",
       "      <td>True</td>\n",
       "      <td>5528</td>\n",
       "      <td>2</td>\n",
       "      <td>5</td>\n",
       "      <td>14</td>\n",
       "      <td>-1</td>\n",
       "      <td>NaN</td>\n",
       "    </tr>\n",
       "    <tr>\n",
       "      <th>10033863</th>\n",
       "      <td>10033863</td>\n",
       "      <td>55910967</td>\n",
       "      <td>2147481750</td>\n",
       "      <td>5279</td>\n",
       "      <td>0</td>\n",
       "      <td>47</td>\n",
       "      <td>3</td>\n",
       "      <td>1</td>\n",
       "      <td>14000.0</td>\n",
       "      <td>True</td>\n",
       "      <td>5279</td>\n",
       "      <td>3</td>\n",
       "      <td>5</td>\n",
       "      <td>177</td>\n",
       "      <td>-1</td>\n",
       "      <td>NaN</td>\n",
       "    </tr>\n",
       "    <tr>\n",
       "      <th>10033864</th>\n",
       "      <td>10033864</td>\n",
       "      <td>55938555</td>\n",
       "      <td>2147481750</td>\n",
       "      <td>5222</td>\n",
       "      <td>0</td>\n",
       "      <td>48</td>\n",
       "      <td>1</td>\n",
       "      <td>0</td>\n",
       "      <td>20000.0</td>\n",
       "      <td>True</td>\n",
       "      <td>5222</td>\n",
       "      <td>2</td>\n",
       "      <td>5</td>\n",
       "      <td>175</td>\n",
       "      <td>-1</td>\n",
       "      <td>NaN</td>\n",
       "    </tr>\n",
       "    <tr>\n",
       "      <th>10033865</th>\n",
       "      <td>10033865</td>\n",
       "      <td>55954768</td>\n",
       "      <td>2147481750</td>\n",
       "      <td>8558</td>\n",
       "      <td>0</td>\n",
       "      <td>49</td>\n",
       "      <td>0</td>\n",
       "      <td>1</td>\n",
       "      <td>21000.0</td>\n",
       "      <td>True</td>\n",
       "      <td>8558</td>\n",
       "      <td>0</td>\n",
       "      <td>5</td>\n",
       "      <td>96</td>\n",
       "      <td>-1</td>\n",
       "      <td>NaN</td>\n",
       "    </tr>\n",
       "  </tbody>\n",
       "</table>\n",
       "<p>10033866 rows × 16 columns</p>\n",
       "</div>"
      ],
      "text/plain": [
       "             index  timestamp     user_id  content_id  content_type_id  \\\n",
       "0                0          0       24600        7900                0   \n",
       "1                1      25379       24600        7876                0   \n",
       "2                2      50137       24600         175                0   \n",
       "3                3      70181       24600        1278                0   \n",
       "4                4     148601       24600        2064                0   \n",
       "...            ...        ...         ...         ...              ...   \n",
       "10033861  10033861   55863864  2147481750        9980                0   \n",
       "10033862  10033862   55884826  2147481750        5528                0   \n",
       "10033863  10033863   55910967  2147481750        5279                0   \n",
       "10033864  10033864   55938555  2147481750        5222                0   \n",
       "10033865  10033865   55954768  2147481750        8558                0   \n",
       "\n",
       "          task_container_id  user_answer  answered_correctly  \\\n",
       "0                         0            0                   1   \n",
       "1                         1            2                   0   \n",
       "2                         2            2                   1   \n",
       "3                         3            3                   1   \n",
       "4                         4            2                   0   \n",
       "...                     ...          ...                 ...   \n",
       "10033861                 45            2                   1   \n",
       "10033862                 46            2                   1   \n",
       "10033863                 47            3                   1   \n",
       "10033864                 48            1                   0   \n",
       "10033865                 49            0                   1   \n",
       "\n",
       "          prior_question_elapsed_time prior_question_had_explanation  \\\n",
       "0                                 NaN                            NaN   \n",
       "1                             24000.0                          False   \n",
       "2                             23000.0                          False   \n",
       "3                             22000.0                          False   \n",
       "4                             18000.0                          False   \n",
       "...                               ...                            ...   \n",
       "10033861                       3000.0                           True   \n",
       "10033862                      28000.0                           True   \n",
       "10033863                      14000.0                           True   \n",
       "10033864                      20000.0                           True   \n",
       "10033865                      21000.0                           True   \n",
       "\n",
       "          bundle_id  correct_answer  part           tags  tag type_of  \n",
       "0              7900               0     1      131 93 81   -1     NaN  \n",
       "1              7876               3     1       10 94 92   -1     NaN  \n",
       "2               175               2     1        9 10 92   -1     NaN  \n",
       "3              1278               3     2  143 140 81 29   -1     NaN  \n",
       "4              2063               1     3      157 92 29   -1     NaN  \n",
       "...             ...             ...   ...            ...  ...     ...  \n",
       "10033861       9980               2     5             79   -1     NaN  \n",
       "10033862       5528               2     5             14   -1     NaN  \n",
       "10033863       5279               3     5            177   -1     NaN  \n",
       "10033864       5222               2     5            175   -1     NaN  \n",
       "10033865       8558               0     5             96   -1     NaN  \n",
       "\n",
       "[10033866 rows x 16 columns]"
      ]
     },
     "execution_count": 36,
     "metadata": {},
     "output_type": "execute_result"
    }
   ],
   "source": [
    "df"
   ]
  },
  {
   "cell_type": "code",
   "execution_count": 43,
   "metadata": {
    "collapsed": true
   },
   "outputs": [],
   "source": [
    "df_oof = pd.read_csv(\"../output/ex_111/20201123160621/oof_train_0_lgbm.csv\")"
   ]
  },
  {
   "cell_type": "code",
   "execution_count": 44,
   "metadata": {},
   "outputs": [],
   "source": [
    "df_oof = df_oof.rename(columns={\"row_id\": \"index\"})"
   ]
  },
  {
   "cell_type": "code",
   "execution_count": 45,
   "metadata": {
    "collapsed": true
   },
   "outputs": [],
   "source": [
    "df_oof2 = pd.read_csv(\"../output/ex_110/20201123163247/oof_train_0_lgbm.csv\")\n",
    "df_oof2 = df_oof2.rename(columns={\"row_id\": \"index\"})"
   ]
  },
  {
   "cell_type": "code",
   "execution_count": 47,
   "metadata": {},
   "outputs": [],
   "source": [
    "df_oof2 = pd.merge(df_oof2, df[[\"index\", \"correct_answer\"]])"
   ]
  },
  {
   "cell_type": "code",
   "execution_count": null,
   "metadata": {
    "collapsed": true
   },
   "outputs": [],
   "source": []
  },
  {
   "cell_type": "code",
   "execution_count": 49,
   "metadata": {},
   "outputs": [],
   "source": [
    "df_oof2[\"predict\"] = [x[int(x[6])+1] for x in df_oof2.values]"
   ]
  },
  {
   "cell_type": "code",
   "execution_count": 50,
   "metadata": {
    "collapsed": true
   },
   "outputs": [],
   "source": [
    "df_oof[\"predict2\"] = df_oof2[\"predict\"]"
   ]
  },
  {
   "cell_type": "code",
   "execution_count": 63,
   "metadata": {},
   "outputs": [
    {
     "data": {
      "text/plain": [
       "0.7827178784343186"
      ]
     },
     "execution_count": 63,
     "metadata": {},
     "output_type": "execute_result"
    }
   ],
   "source": [
    "roc_auc_score(df_oof[\"target\"].values, df_oof[\"predict2\"].values*0.2 + df_oof[\"predict\"].values)"
   ]
  },
  {
   "cell_type": "code",
   "execution_count": 28,
   "metadata": {},
   "outputs": [
    {
     "data": {
      "text/plain": [
       "row_id\n",
       "45          0.163825\n",
       "46          0.645549\n",
       "47          0.288614\n",
       "48          0.146502\n",
       "49          0.644255\n",
       "              ...   \n",
       "10033861    0.888944\n",
       "10033862    0.863109\n",
       "10033863    0.941382\n",
       "10033864    0.513821\n",
       "10033865    0.962736\n",
       "Name: predict, Length: 1825197, dtype: float64"
      ]
     },
     "execution_count": 28,
     "metadata": {},
     "output_type": "execute_result"
    }
   ],
   "source": [
    "df_oof2[\"predict\"]"
   ]
  },
  {
   "cell_type": "code",
   "execution_count": 25,
   "metadata": {},
   "outputs": [
    {
     "data": {
      "text/plain": [
       "row_id\n",
       "45          0.420518\n",
       "46          0.750781\n",
       "47          0.409510\n",
       "48          0.431359\n",
       "49          0.787787\n",
       "              ...   \n",
       "10033861    0.865307\n",
       "10033862    0.842721\n",
       "10033863    0.924880\n",
       "10033864    0.372705\n",
       "10033865    0.978843\n",
       "Name: predict, Length: 1825197, dtype: float64"
      ]
     },
     "execution_count": 25,
     "metadata": {},
     "output_type": "execute_result"
    }
   ],
   "source": [
    "df_oof[\"predict\"]"
   ]
  },
  {
   "cell_type": "code",
   "execution_count": 11,
   "metadata": {
    "collapsed": true
   },
   "outputs": [],
   "source": [
    "df = df.reset_index()"
   ]
  },
  {
   "cell_type": "code",
   "execution_count": null,
   "metadata": {
    "collapsed": true
   },
   "outputs": [],
   "source": []
  },
  {
   "cell_type": "code",
   "execution_count": 12,
   "metadata": {
    "collapsed": true
   },
   "outputs": [],
   "source": [
    "df_oof = df_oof.reset_index()\n",
    "df_oof.columns = [\"index\", \"predict\", \"target\"]"
   ]
  },
  {
   "cell_type": "code",
   "execution_count": 13,
   "metadata": {},
   "outputs": [
    {
     "data": {
      "text/html": [
       "<div>\n",
       "<style scoped>\n",
       "    .dataframe tbody tr th:only-of-type {\n",
       "        vertical-align: middle;\n",
       "    }\n",
       "\n",
       "    .dataframe tbody tr th {\n",
       "        vertical-align: top;\n",
       "    }\n",
       "\n",
       "    .dataframe thead th {\n",
       "        text-align: right;\n",
       "    }\n",
       "</style>\n",
       "<table border=\"1\" class=\"dataframe\">\n",
       "  <thead>\n",
       "    <tr style=\"text-align: right;\">\n",
       "      <th></th>\n",
       "      <th>index</th>\n",
       "      <th>predict</th>\n",
       "      <th>target</th>\n",
       "    </tr>\n",
       "  </thead>\n",
       "  <tbody>\n",
       "    <tr>\n",
       "      <th>0</th>\n",
       "      <td>45</td>\n",
       "      <td>0.420518</td>\n",
       "      <td>0.0</td>\n",
       "    </tr>\n",
       "    <tr>\n",
       "      <th>1</th>\n",
       "      <td>46</td>\n",
       "      <td>0.750781</td>\n",
       "      <td>1.0</td>\n",
       "    </tr>\n",
       "    <tr>\n",
       "      <th>2</th>\n",
       "      <td>47</td>\n",
       "      <td>0.409510</td>\n",
       "      <td>0.0</td>\n",
       "    </tr>\n",
       "    <tr>\n",
       "      <th>3</th>\n",
       "      <td>48</td>\n",
       "      <td>0.431359</td>\n",
       "      <td>0.0</td>\n",
       "    </tr>\n",
       "    <tr>\n",
       "      <th>4</th>\n",
       "      <td>49</td>\n",
       "      <td>0.787787</td>\n",
       "      <td>1.0</td>\n",
       "    </tr>\n",
       "    <tr>\n",
       "      <th>...</th>\n",
       "      <td>...</td>\n",
       "      <td>...</td>\n",
       "      <td>...</td>\n",
       "    </tr>\n",
       "    <tr>\n",
       "      <th>1825192</th>\n",
       "      <td>10033861</td>\n",
       "      <td>0.865307</td>\n",
       "      <td>1.0</td>\n",
       "    </tr>\n",
       "    <tr>\n",
       "      <th>1825193</th>\n",
       "      <td>10033862</td>\n",
       "      <td>0.842721</td>\n",
       "      <td>1.0</td>\n",
       "    </tr>\n",
       "    <tr>\n",
       "      <th>1825194</th>\n",
       "      <td>10033863</td>\n",
       "      <td>0.924880</td>\n",
       "      <td>1.0</td>\n",
       "    </tr>\n",
       "    <tr>\n",
       "      <th>1825195</th>\n",
       "      <td>10033864</td>\n",
       "      <td>0.372705</td>\n",
       "      <td>0.0</td>\n",
       "    </tr>\n",
       "    <tr>\n",
       "      <th>1825196</th>\n",
       "      <td>10033865</td>\n",
       "      <td>0.978843</td>\n",
       "      <td>1.0</td>\n",
       "    </tr>\n",
       "  </tbody>\n",
       "</table>\n",
       "<p>1825197 rows × 3 columns</p>\n",
       "</div>"
      ],
      "text/plain": [
       "            index   predict  target\n",
       "0              45  0.420518     0.0\n",
       "1              46  0.750781     1.0\n",
       "2              47  0.409510     0.0\n",
       "3              48  0.431359     0.0\n",
       "4              49  0.787787     1.0\n",
       "...           ...       ...     ...\n",
       "1825192  10033861  0.865307     1.0\n",
       "1825193  10033862  0.842721     1.0\n",
       "1825194  10033863  0.924880     1.0\n",
       "1825195  10033864  0.372705     0.0\n",
       "1825196  10033865  0.978843     1.0\n",
       "\n",
       "[1825197 rows x 3 columns]"
      ]
     },
     "execution_count": 13,
     "metadata": {},
     "output_type": "execute_result"
    }
   ],
   "source": [
    "df_oof"
   ]
  },
  {
   "cell_type": "code",
   "execution_count": 14,
   "metadata": {
    "collapsed": true
   },
   "outputs": [],
   "source": [
    "df2 = pd.merge(df, df_oof, how=\"inner\")"
   ]
  },
  {
   "cell_type": "code",
   "execution_count": 15,
   "metadata": {},
   "outputs": [
    {
     "data": {
      "text/html": [
       "<div>\n",
       "<style scoped>\n",
       "    .dataframe tbody tr th:only-of-type {\n",
       "        vertical-align: middle;\n",
       "    }\n",
       "\n",
       "    .dataframe tbody tr th {\n",
       "        vertical-align: top;\n",
       "    }\n",
       "\n",
       "    .dataframe thead th {\n",
       "        text-align: right;\n",
       "    }\n",
       "</style>\n",
       "<table border=\"1\" class=\"dataframe\">\n",
       "  <thead>\n",
       "    <tr style=\"text-align: right;\">\n",
       "      <th></th>\n",
       "      <th>index</th>\n",
       "      <th>timestamp</th>\n",
       "      <th>user_id</th>\n",
       "      <th>content_id</th>\n",
       "      <th>content_type_id</th>\n",
       "      <th>task_container_id</th>\n",
       "      <th>user_answer</th>\n",
       "      <th>answered_correctly</th>\n",
       "      <th>prior_question_elapsed_time</th>\n",
       "      <th>prior_question_had_explanation</th>\n",
       "      <th>bundle_id</th>\n",
       "      <th>correct_answer</th>\n",
       "      <th>part</th>\n",
       "      <th>tags</th>\n",
       "      <th>tag</th>\n",
       "      <th>type_of</th>\n",
       "      <th>user_count</th>\n",
       "      <th>user_count_50</th>\n",
       "      <th>predict</th>\n",
       "      <th>target</th>\n",
       "    </tr>\n",
       "  </thead>\n",
       "  <tbody>\n",
       "    <tr>\n",
       "      <th>0</th>\n",
       "      <td>45</td>\n",
       "      <td>1453702</td>\n",
       "      <td>24600</td>\n",
       "      <td>1262</td>\n",
       "      <td>0</td>\n",
       "      <td>31</td>\n",
       "      <td>0</td>\n",
       "      <td>0.0</td>\n",
       "      <td>16000.0</td>\n",
       "      <td>True</td>\n",
       "      <td>1262</td>\n",
       "      <td>1</td>\n",
       "      <td>2</td>\n",
       "      <td>143 71 81 29</td>\n",
       "      <td>-1</td>\n",
       "      <td>NaN</td>\n",
       "      <td>45</td>\n",
       "      <td>True</td>\n",
       "      <td>0.420518</td>\n",
       "      <td>0.0</td>\n",
       "    </tr>\n",
       "    <tr>\n",
       "      <th>1</th>\n",
       "      <td>46</td>\n",
       "      <td>1477283</td>\n",
       "      <td>24600</td>\n",
       "      <td>1348</td>\n",
       "      <td>0</td>\n",
       "      <td>32</td>\n",
       "      <td>3</td>\n",
       "      <td>1.0</td>\n",
       "      <td>19000.0</td>\n",
       "      <td>True</td>\n",
       "      <td>1348</td>\n",
       "      <td>3</td>\n",
       "      <td>2</td>\n",
       "      <td>143 105 81 92</td>\n",
       "      <td>-1</td>\n",
       "      <td>NaN</td>\n",
       "      <td>46</td>\n",
       "      <td>True</td>\n",
       "      <td>0.750781</td>\n",
       "      <td>1.0</td>\n",
       "    </tr>\n",
       "    <tr>\n",
       "      <th>2</th>\n",
       "      <td>47</td>\n",
       "      <td>1502268</td>\n",
       "      <td>24600</td>\n",
       "      <td>10686</td>\n",
       "      <td>0</td>\n",
       "      <td>33</td>\n",
       "      <td>3</td>\n",
       "      <td>0.0</td>\n",
       "      <td>14000.0</td>\n",
       "      <td>True</td>\n",
       "      <td>10686</td>\n",
       "      <td>0</td>\n",
       "      <td>2</td>\n",
       "      <td>62 137 142 38 29</td>\n",
       "      <td>-1</td>\n",
       "      <td>NaN</td>\n",
       "      <td>47</td>\n",
       "      <td>True</td>\n",
       "      <td>0.409510</td>\n",
       "      <td>0.0</td>\n",
       "    </tr>\n",
       "    <tr>\n",
       "      <th>3</th>\n",
       "      <td>48</td>\n",
       "      <td>1526285</td>\n",
       "      <td>24600</td>\n",
       "      <td>754</td>\n",
       "      <td>0</td>\n",
       "      <td>34</td>\n",
       "      <td>3</td>\n",
       "      <td>0.0</td>\n",
       "      <td>19000.0</td>\n",
       "      <td>True</td>\n",
       "      <td>754</td>\n",
       "      <td>1</td>\n",
       "      <td>2</td>\n",
       "      <td>137 88 38 81</td>\n",
       "      <td>-1</td>\n",
       "      <td>NaN</td>\n",
       "      <td>48</td>\n",
       "      <td>True</td>\n",
       "      <td>0.431359</td>\n",
       "      <td>0.0</td>\n",
       "    </tr>\n",
       "    <tr>\n",
       "      <th>4</th>\n",
       "      <td>49</td>\n",
       "      <td>1550831</td>\n",
       "      <td>24600</td>\n",
       "      <td>801</td>\n",
       "      <td>0</td>\n",
       "      <td>35</td>\n",
       "      <td>0</td>\n",
       "      <td>1.0</td>\n",
       "      <td>14000.0</td>\n",
       "      <td>True</td>\n",
       "      <td>801</td>\n",
       "      <td>0</td>\n",
       "      <td>2</td>\n",
       "      <td>143 20 38 29</td>\n",
       "      <td>-1</td>\n",
       "      <td>NaN</td>\n",
       "      <td>49</td>\n",
       "      <td>True</td>\n",
       "      <td>0.787787</td>\n",
       "      <td>1.0</td>\n",
       "    </tr>\n",
       "    <tr>\n",
       "      <th>...</th>\n",
       "      <td>...</td>\n",
       "      <td>...</td>\n",
       "      <td>...</td>\n",
       "      <td>...</td>\n",
       "      <td>...</td>\n",
       "      <td>...</td>\n",
       "      <td>...</td>\n",
       "      <td>...</td>\n",
       "      <td>...</td>\n",
       "      <td>...</td>\n",
       "      <td>...</td>\n",
       "      <td>...</td>\n",
       "      <td>...</td>\n",
       "      <td>...</td>\n",
       "      <td>...</td>\n",
       "      <td>...</td>\n",
       "      <td>...</td>\n",
       "      <td>...</td>\n",
       "      <td>...</td>\n",
       "      <td>...</td>\n",
       "    </tr>\n",
       "    <tr>\n",
       "      <th>1825192</th>\n",
       "      <td>10033861</td>\n",
       "      <td>55863864</td>\n",
       "      <td>2147481750</td>\n",
       "      <td>9980</td>\n",
       "      <td>0</td>\n",
       "      <td>45</td>\n",
       "      <td>2</td>\n",
       "      <td>1.0</td>\n",
       "      <td>3000.0</td>\n",
       "      <td>True</td>\n",
       "      <td>9980</td>\n",
       "      <td>2</td>\n",
       "      <td>5</td>\n",
       "      <td>79</td>\n",
       "      <td>-1</td>\n",
       "      <td>NaN</td>\n",
       "      <td>45</td>\n",
       "      <td>True</td>\n",
       "      <td>0.865307</td>\n",
       "      <td>1.0</td>\n",
       "    </tr>\n",
       "    <tr>\n",
       "      <th>1825193</th>\n",
       "      <td>10033862</td>\n",
       "      <td>55884826</td>\n",
       "      <td>2147481750</td>\n",
       "      <td>5528</td>\n",
       "      <td>0</td>\n",
       "      <td>46</td>\n",
       "      <td>2</td>\n",
       "      <td>1.0</td>\n",
       "      <td>28000.0</td>\n",
       "      <td>True</td>\n",
       "      <td>5528</td>\n",
       "      <td>2</td>\n",
       "      <td>5</td>\n",
       "      <td>14</td>\n",
       "      <td>-1</td>\n",
       "      <td>NaN</td>\n",
       "      <td>46</td>\n",
       "      <td>True</td>\n",
       "      <td>0.842721</td>\n",
       "      <td>1.0</td>\n",
       "    </tr>\n",
       "    <tr>\n",
       "      <th>1825194</th>\n",
       "      <td>10033863</td>\n",
       "      <td>55910967</td>\n",
       "      <td>2147481750</td>\n",
       "      <td>5279</td>\n",
       "      <td>0</td>\n",
       "      <td>47</td>\n",
       "      <td>3</td>\n",
       "      <td>1.0</td>\n",
       "      <td>14000.0</td>\n",
       "      <td>True</td>\n",
       "      <td>5279</td>\n",
       "      <td>3</td>\n",
       "      <td>5</td>\n",
       "      <td>177</td>\n",
       "      <td>-1</td>\n",
       "      <td>NaN</td>\n",
       "      <td>47</td>\n",
       "      <td>True</td>\n",
       "      <td>0.924880</td>\n",
       "      <td>1.0</td>\n",
       "    </tr>\n",
       "    <tr>\n",
       "      <th>1825195</th>\n",
       "      <td>10033864</td>\n",
       "      <td>55938555</td>\n",
       "      <td>2147481750</td>\n",
       "      <td>5222</td>\n",
       "      <td>0</td>\n",
       "      <td>48</td>\n",
       "      <td>1</td>\n",
       "      <td>0.0</td>\n",
       "      <td>20000.0</td>\n",
       "      <td>True</td>\n",
       "      <td>5222</td>\n",
       "      <td>2</td>\n",
       "      <td>5</td>\n",
       "      <td>175</td>\n",
       "      <td>-1</td>\n",
       "      <td>NaN</td>\n",
       "      <td>48</td>\n",
       "      <td>True</td>\n",
       "      <td>0.372705</td>\n",
       "      <td>0.0</td>\n",
       "    </tr>\n",
       "    <tr>\n",
       "      <th>1825196</th>\n",
       "      <td>10033865</td>\n",
       "      <td>55954768</td>\n",
       "      <td>2147481750</td>\n",
       "      <td>8558</td>\n",
       "      <td>0</td>\n",
       "      <td>49</td>\n",
       "      <td>0</td>\n",
       "      <td>1.0</td>\n",
       "      <td>21000.0</td>\n",
       "      <td>True</td>\n",
       "      <td>8558</td>\n",
       "      <td>0</td>\n",
       "      <td>5</td>\n",
       "      <td>96</td>\n",
       "      <td>-1</td>\n",
       "      <td>NaN</td>\n",
       "      <td>49</td>\n",
       "      <td>True</td>\n",
       "      <td>0.978843</td>\n",
       "      <td>1.0</td>\n",
       "    </tr>\n",
       "  </tbody>\n",
       "</table>\n",
       "<p>1825197 rows × 20 columns</p>\n",
       "</div>"
      ],
      "text/plain": [
       "            index  timestamp     user_id  content_id  content_type_id  \\\n",
       "0              45    1453702       24600        1262                0   \n",
       "1              46    1477283       24600        1348                0   \n",
       "2              47    1502268       24600       10686                0   \n",
       "3              48    1526285       24600         754                0   \n",
       "4              49    1550831       24600         801                0   \n",
       "...           ...        ...         ...         ...              ...   \n",
       "1825192  10033861   55863864  2147481750        9980                0   \n",
       "1825193  10033862   55884826  2147481750        5528                0   \n",
       "1825194  10033863   55910967  2147481750        5279                0   \n",
       "1825195  10033864   55938555  2147481750        5222                0   \n",
       "1825196  10033865   55954768  2147481750        8558                0   \n",
       "\n",
       "         task_container_id  user_answer  answered_correctly  \\\n",
       "0                       31            0                 0.0   \n",
       "1                       32            3                 1.0   \n",
       "2                       33            3                 0.0   \n",
       "3                       34            3                 0.0   \n",
       "4                       35            0                 1.0   \n",
       "...                    ...          ...                 ...   \n",
       "1825192                 45            2                 1.0   \n",
       "1825193                 46            2                 1.0   \n",
       "1825194                 47            3                 1.0   \n",
       "1825195                 48            1                 0.0   \n",
       "1825196                 49            0                 1.0   \n",
       "\n",
       "         prior_question_elapsed_time prior_question_had_explanation  \\\n",
       "0                            16000.0                           True   \n",
       "1                            19000.0                           True   \n",
       "2                            14000.0                           True   \n",
       "3                            19000.0                           True   \n",
       "4                            14000.0                           True   \n",
       "...                              ...                            ...   \n",
       "1825192                       3000.0                           True   \n",
       "1825193                      28000.0                           True   \n",
       "1825194                      14000.0                           True   \n",
       "1825195                      20000.0                           True   \n",
       "1825196                      21000.0                           True   \n",
       "\n",
       "         bundle_id  correct_answer  part              tags  tag type_of  \\\n",
       "0             1262               1     2      143 71 81 29   -1     NaN   \n",
       "1             1348               3     2     143 105 81 92   -1     NaN   \n",
       "2            10686               0     2  62 137 142 38 29   -1     NaN   \n",
       "3              754               1     2      137 88 38 81   -1     NaN   \n",
       "4              801               0     2      143 20 38 29   -1     NaN   \n",
       "...            ...             ...   ...               ...  ...     ...   \n",
       "1825192       9980               2     5                79   -1     NaN   \n",
       "1825193       5528               2     5                14   -1     NaN   \n",
       "1825194       5279               3     5               177   -1     NaN   \n",
       "1825195       5222               2     5               175   -1     NaN   \n",
       "1825196       8558               0     5                96   -1     NaN   \n",
       "\n",
       "         user_count  user_count_50   predict  target  \n",
       "0                45           True  0.420518     0.0  \n",
       "1                46           True  0.750781     1.0  \n",
       "2                47           True  0.409510     0.0  \n",
       "3                48           True  0.431359     0.0  \n",
       "4                49           True  0.787787     1.0  \n",
       "...             ...            ...       ...     ...  \n",
       "1825192          45           True  0.865307     1.0  \n",
       "1825193          46           True  0.842721     1.0  \n",
       "1825194          47           True  0.924880     1.0  \n",
       "1825195          48           True  0.372705     0.0  \n",
       "1825196          49           True  0.978843     1.0  \n",
       "\n",
       "[1825197 rows x 20 columns]"
      ]
     },
     "execution_count": 15,
     "metadata": {},
     "output_type": "execute_result"
    }
   ],
   "source": [
    "df2"
   ]
  },
  {
   "cell_type": "code",
   "execution_count": 16,
   "metadata": {
    "collapsed": true
   },
   "outputs": [],
   "source": [
    "df2 = df2[df2[\"answered_correctly\"].notnull()]"
   ]
  },
  {
   "cell_type": "code",
   "execution_count": 17,
   "metadata": {},
   "outputs": [
    {
     "data": {
      "text/plain": [
       "1825197"
      ]
     },
     "execution_count": 17,
     "metadata": {},
     "output_type": "execute_result"
    }
   ],
   "source": [
    "(df2[\"answered_correctly\"] == df2[\"target\"]).sum()"
   ]
  },
  {
   "cell_type": "code",
   "execution_count": null,
   "metadata": {
    "collapsed": true
   },
   "outputs": [],
   "source": []
  },
  {
   "cell_type": "code",
   "execution_count": 18,
   "metadata": {},
   "outputs": [
    {
     "data": {
      "text/plain": [
       "0.7823748334863405"
      ]
     },
     "execution_count": 18,
     "metadata": {},
     "output_type": "execute_result"
    }
   ],
   "source": [
    "roc_auc_score(df2[\"target\"].values, df2[\"predict\"].values)"
   ]
  },
  {
   "cell_type": "code",
   "execution_count": null,
   "metadata": {
    "collapsed": true
   },
   "outputs": [],
   "source": []
  },
  {
   "cell_type": "code",
   "execution_count": 19,
   "metadata": {
    "collapsed": true
   },
   "outputs": [],
   "source": [
    "def tags(df):\n",
    "    tag = df[\"tags\"].str.split(\" \", n=10, expand=True)\n",
    "    tag.columns = [f\"tags{i}\" for i in range(1, len(tag.columns) + 1)]\n",
    "\n",
    "    for col in [\"tags1\", \"tags2\", \"tags3\", \"tags4\", \"tags5\", \"tags6\"]:\n",
    "        if col in tag.columns:\n",
    "            df[col] = pd.to_numeric(tag[col], errors='coerce').fillna(-1).astype(\"int16\")\n",
    "        else:\n",
    "            df[col] = -1\n",
    "            df[col].astype(\"int16\")"
   ]
  },
  {
   "cell_type": "code",
   "execution_count": 20,
   "metadata": {
    "collapsed": true
   },
   "outputs": [],
   "source": [
    "tags(df2)"
   ]
  },
  {
   "cell_type": "markdown",
   "metadata": {},
   "source": [
    "# part5"
   ]
  },
  {
   "cell_type": "code",
   "execution_count": null,
   "metadata": {
    "collapsed": true
   },
   "outputs": [],
   "source": []
  },
  {
   "cell_type": "code",
   "execution_count": 21,
   "metadata": {},
   "outputs": [
    {
     "name": "stdout",
     "output_type": "stream",
     "text": [
      "tag=tag, n=30010: auc=0.7669\n",
      "tag=tag, n=45175: auc=0.7875\n",
      "tag=tag, n=39449: auc=0.7969\n",
      "tag=tag, n=33558: auc=0.7824\n",
      "tag=tag, n=30552: auc=0.7894\n",
      "tag=tag, n=22671: auc=0.7598\n"
     ]
    }
   ],
   "source": [
    "for tag in [8, 73, 53, 1, 96, 55]:\n",
    "    w_df = df2[df2[\"part\"] == 5]\n",
    "    w_df = w_df[w_df[\"tags1\"] == tag]\n",
    "    print(f\"tag=tag, n={len(w_df)}: auc={round(roc_auc_score(w_df['target'].values, w_df['predict'].values), 4)}\")"
   ]
  },
  {
   "cell_type": "code",
   "execution_count": 22,
   "metadata": {
    "collapsed": true
   },
   "outputs": [],
   "source": [
    "w_df = df2[(df2[\"part\"] == 5) & (df2[\"tags1\"] == 55)]"
   ]
  },
  {
   "cell_type": "code",
   "execution_count": 23,
   "metadata": {},
   "outputs": [
    {
     "data": {
      "text/plain": [
       "9693    384\n",
       "5352    364\n",
       "3865    266\n",
       "6186    264\n",
       "9315    246\n",
       "       ... \n",
       "3667      2\n",
       "9338      2\n",
       "8504      1\n",
       "3676      1\n",
       "4759      1\n",
       "Name: content_id, Length: 285, dtype: int64"
      ]
     },
     "execution_count": 23,
     "metadata": {},
     "output_type": "execute_result"
    }
   ],
   "source": [
    "w_df[\"content_id\"].value_counts()"
   ]
  },
  {
   "cell_type": "code",
   "execution_count": 24,
   "metadata": {
    "collapsed": true
   },
   "outputs": [],
   "source": [
    "w_df.groupby([\"content_id\", \"correct_answer\", \"user_answer\"]).size().to_csv(\"033_check_low_auc_tag/tags55.csv\")"
   ]
  },
  {
   "cell_type": "code",
   "execution_count": 25,
   "metadata": {
    "scrolled": false
   },
   "outputs": [
    {
     "name": "stdout",
     "output_type": "stream",
     "text": [
      "content_id=9693, n=384: auc=0.787\n",
      "                           predict                    \n",
      "                             count      mean       std\n",
      "correct_answer user_answer                            \n",
      "3              0               199  0.250771  0.146785\n",
      "               1                25  0.238727  0.163151\n",
      "               2                37  0.241825  0.172508\n",
      "               3               123  0.531241  0.306362\n"
     ]
    },
    {
     "name": "stderr",
     "output_type": "stream",
     "text": [
      "WARNING:matplotlib.font_manager:findfont: Font family ['IPAPGothic'] not found. Falling back to DejaVu Sans.\n"
     ]
    },
    {
     "data": {
      "image/png": "[encoded data removed]",
      "text/plain": [
       "<Figure size 432x288 with 1 Axes>"
      ]
     },
     "metadata": {},
     "output_type": "display_data"
    },
    {
     "name": "stdout",
     "output_type": "stream",
     "text": [
      "content_id=5352, n=364: auc=0.656\n",
      "                           predict                    \n",
      "                             count      mean       std\n",
      "correct_answer user_answer                            \n",
      "0              0               114  0.373505  0.245570\n",
      "               1               102  0.242911  0.121788\n",
      "               2                58  0.231808  0.087974\n",
      "               3                90  0.263901  0.127235\n"
     ]
    },
    {
     "data": {
      "image/png": "[encoded data removed]",
      "text/plain": [
       "<Figure size 432x288 with 1 Axes>"
      ]
     },
     "metadata": {},
     "output_type": "display_data"
    },
    {
     "name": "stdout",
     "output_type": "stream",
     "text": [
      "content_id=3865, n=266: auc=0.7649\n",
      "                           predict                    \n",
      "                             count      mean       std\n",
      "correct_answer user_answer                            \n",
      "2              0                39  0.181116  0.107557\n",
      "               1               126  0.162395  0.089955\n",
      "               2                70  0.396588  0.265503\n",
      "               3                31  0.213158  0.124185\n"
     ]
    },
    {
     "data": {
      "image/png": "[encoded data removed]",
      "text/plain": [
       "<Figure size 432x288 with 1 Axes>"
      ]
     },
     "metadata": {},
     "output_type": "display_data"
    },
    {
     "name": "stdout",
     "output_type": "stream",
     "text": [
      "content_id=6186, n=264: auc=0.6903\n",
      "                           predict                    \n",
      "                             count      mean       std\n",
      "correct_answer user_answer                            \n",
      "0              0               101  0.530926  0.232531\n",
      "               1               141  0.396062  0.151737\n",
      "               2                14  0.322566  0.172468\n",
      "               3                 8  0.202826  0.031036\n"
     ]
    },
    {
     "data": {
      "image/png": "[encoded data removed]",
      "text/plain": [
       "<Figure size 432x288 with 1 Axes>"
      ]
     },
     "metadata": {},
     "output_type": "display_data"
    },
    {
     "name": "stdout",
     "output_type": "stream",
     "text": [
      "content_id=9315, n=246: auc=0.6698\n",
      "                           predict                    \n",
      "                             count      mean       std\n",
      "correct_answer user_answer                            \n",
      "3              0                47  0.528805  0.135585\n",
      "               1                35  0.501259  0.149443\n",
      "               2                44  0.518385  0.147061\n",
      "               3               120  0.607617  0.149816\n"
     ]
    },
    {
     "data": {
      "image/png": "[encoded data removed]",
      "text/plain": [
       "<Figure size 432x288 with 1 Axes>"
      ]
     },
     "metadata": {},
     "output_type": "display_data"
    }
   ],
   "source": [
    "for content_id in [9693, 5352, 3865, 6186, 9315]:\n",
    "    ww_df = w_df[w_df[\"content_id\"] == content_id]\n",
    "    print(f\"content_id={content_id}, n={len(ww_df)}: auc={round(roc_auc_score(ww_df['target'].values, ww_df['predict'].values), 4)}\")\n",
    "    print(ww_df.groupby([\"correct_answer\", \"user_answer\"]).agg({\"predict\": [\"count\", \"mean\", \"std\"]}))\n",
    "    ww_df[ww_df[\"target\"]==0][\"predict\"].hist(bins=50, alpha=0.2, color=\"red\")\n",
    "    ww_df[ww_df[\"target\"]==1][\"predict\"].hist(bins=50, alpha=0.2, color=\"green\")\n",
    "    plt.show()"
   ]
  },
  {
   "cell_type": "code",
   "execution_count": 26,
   "metadata": {},
   "outputs": [
    {
     "data": {
      "text/plain": [
       "False    901\n",
       "True     582\n",
       "Name: user_count_50, dtype: int64"
      ]
     },
     "execution_count": 26,
     "metadata": {},
     "output_type": "execute_result"
    }
   ],
   "source": [
    "df[df[\"content_id\"] == 9315][\"user_count_50\"].value_counts()"
   ]
  },
  {
   "cell_type": "code",
   "execution_count": null,
   "metadata": {
    "collapsed": true
   },
   "outputs": [],
   "source": []
  },
  {
   "cell_type": "code",
   "execution_count": 27,
   "metadata": {},
   "outputs": [
    {
     "name": "stdout",
     "output_type": "stream",
     "text": [
      "content_id=9693, n=312: auc=0.825\n",
      "                           predict                    \n",
      "                             count      mean       std\n",
      "correct_answer user_answer                            \n",
      "3              0               169  0.256336  0.154903\n",
      "               1                16  0.254549  0.193484\n",
      "               2                25  0.271799  0.202928\n",
      "               3               102  0.590735  0.297056\n"
     ]
    },
    {
     "data": {
      "image/png": "[encoded data removed]",
      "text/plain": [
       "<Figure size 432x288 with 1 Axes>"
      ]
     },
     "metadata": {},
     "output_type": "display_data"
    },
    {
     "name": "stdout",
     "output_type": "stream",
     "text": [
      "content_id=5352, n=342: auc=0.6614\n",
      "                           predict                    \n",
      "                             count      mean       std\n",
      "correct_answer user_answer                            \n",
      "0              0               110  0.378609  0.248397\n",
      "               1                92  0.242981  0.126263\n",
      "               2                52  0.227315  0.085086\n",
      "               3                88  0.265456  0.128187\n"
     ]
    },
    {
     "data": {
      "image/png": "[encoded data removed]",
      "text/plain": [
       "<Figure size 432x288 with 1 Axes>"
      ]
     },
     "metadata": {},
     "output_type": "display_data"
    },
    {
     "name": "stdout",
     "output_type": "stream",
     "text": [
      "content_id=3865, n=228: auc=0.7852\n",
      "                           predict                    \n",
      "                             count      mean       std\n",
      "correct_answer user_answer                            \n",
      "2              0                35  0.186581  0.112292\n",
      "               1                99  0.164214  0.097917\n",
      "               2                65  0.416062  0.265428\n",
      "               3                29  0.215158  0.127558\n"
     ]
    },
    {
     "data": {
      "image/png": "[encoded data removed]",
      "text/plain": [
       "<Figure size 432x288 with 1 Axes>"
      ]
     },
     "metadata": {},
     "output_type": "display_data"
    },
    {
     "name": "stdout",
     "output_type": "stream",
     "text": [
      "content_id=6186, n=244: auc=0.7031\n",
      "                           predict                    \n",
      "                             count      mean       std\n",
      "correct_answer user_answer                            \n",
      "0              0                93  0.552266  0.228178\n",
      "               1               137  0.401274  0.150765\n",
      "               2                 9  0.383905  0.188566\n",
      "               3                 5  0.207361  0.037942\n"
     ]
    },
    {
     "data": {
      "image/png": "[encoded data removed]",
      "text/plain": [
       "<Figure size 432x288 with 1 Axes>"
      ]
     },
     "metadata": {},
     "output_type": "display_data"
    },
    {
     "name": "stdout",
     "output_type": "stream",
     "text": [
      "content_id=9315, n=174: auc=0.6034\n",
      "                           predict                    \n",
      "                             count      mean       std\n",
      "correct_answer user_answer                            \n",
      "3              0                29  0.549885  0.152252\n",
      "               1                21  0.577088  0.133550\n",
      "               2                24  0.580984  0.131196\n",
      "               3               100  0.628003  0.145287\n"
     ]
    },
    {
     "data": {
      "image/png": "[encoded data removed]",
      "text/plain": [
       "<Figure size 432x288 with 1 Axes>"
      ]
     },
     "metadata": {},
     "output_type": "display_data"
    }
   ],
   "source": [
    "for content_id in [9693, 5352, 3865, 6186, 9315]:\n",
    "    ww_df = w_df[w_df[\"content_id\"] == content_id]\n",
    "    ww_df = ww_df[ww_df[\"user_count_50\"] == 0]\n",
    "    print(f\"content_id={content_id}, n={len(ww_df)}: auc={round(roc_auc_score(ww_df['target'].values, ww_df['predict'].values), 4)}\")\n",
    "    print(ww_df.groupby([\"correct_answer\", \"user_answer\"]).agg({\"predict\": [\"count\", \"mean\", \"std\"]}))\n",
    "    ww_df[ww_df[\"target\"]==0][\"predict\"].hist(bins=50, alpha=0.2, color=\"red\")\n",
    "    ww_df[ww_df[\"target\"]==1][\"predict\"].hist(bins=50, alpha=0.2, color=\"green\")\n",
    "    plt.show()"
   ]
  },
  {
   "cell_type": "code",
   "execution_count": null,
   "metadata": {
    "collapsed": true
   },
   "outputs": [],
   "source": []
  },
  {
   "cell_type": "code",
   "execution_count": null,
   "metadata": {
    "collapsed": true
   },
   "outputs": [],
   "source": []
  },
  {
   "cell_type": "code",
   "execution_count": null,
   "metadata": {
    "collapsed": true
   },
   "outputs": [],
   "source": []
  },
  {
   "cell_type": "code",
   "execution_count": null,
   "metadata": {
    "collapsed": true
   },
   "outputs": [],
   "source": []
  },
  {
   "cell_type": "code",
   "execution_count": null,
   "metadata": {
    "collapsed": true
   },
   "outputs": [],
   "source": []
  },
  {
   "cell_type": "code",
   "execution_count": null,
   "metadata": {
    "collapsed": true
   },
   "outputs": [],
   "source": []
  },
  {
   "cell_type": "code",
   "execution_count": null,
   "metadata": {
    "collapsed": true
   },
   "outputs": [],
   "source": []
  },
  {
   "cell_type": "code",
   "execution_count": null,
   "metadata": {
    "collapsed": true
   },
   "outputs": [],
   "source": []
  },
  {
   "cell_type": "code",
   "execution_count": null,
   "metadata": {
    "collapsed": true
   },
   "outputs": [],
   "source": []
  }
 ],
 "metadata": {
  "kernelspec": {
   "display_name": "Python 3",
   "language": "python",
   "name": "python3"
  },
  "language_info": {
   "codemirror_mode": {
    "name": "ipython",
    "version": 3
   },
   "file_extension": ".py",
   "mimetype": "text/x-python",
   "name": "python",
   "nbconvert_exporter": "python",
   "pygments_lexer": "ipython3",
   "version": "3.6.1"
  }
 },
 "nbformat": 4,
 "nbformat_minor": 2
}
