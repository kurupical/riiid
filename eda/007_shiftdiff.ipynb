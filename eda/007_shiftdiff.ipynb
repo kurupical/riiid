{
 "cells": [
  {
   "cell_type": "code",
   "execution_count": 1,
   "metadata": {
    "collapsed": true
   },
   "outputs": [],
   "source": [
    "import pandas as pd\n",
    "import numpy as np\n",
    "import tqdm\n",
    "import warnings\n",
    "import matplotlib.pyplot as plt\n",
    "\n",
    "pd.set_option(\"max_rows\", 200)\n",
    "pd.set_option(\"max_columns\", 50)\n",
    "\n",
    "%matplotlib inline"
   ]
  },
  {
   "cell_type": "code",
   "execution_count": 2,
   "metadata": {
    "collapsed": true
   },
   "outputs": [],
   "source": [
    "import sys"
   ]
  },
  {
   "cell_type": "code",
   "execution_count": 3,
   "metadata": {
    "collapsed": true
   },
   "outputs": [],
   "source": [
    "sys.path.append(\"../\")"
   ]
  },
  {
   "cell_type": "code",
   "execution_count": 4,
   "metadata": {
    "collapsed": true
   },
   "outputs": [],
   "source": [
    "df = pd.read_pickle(\"../input/riiid-test-answer-prediction/split10/train_0.pickle\")\n",
    "df = df[df[\"user_id\"] % 100 == 0]\n",
    "df = df.sort_values([\"user_id\", \"timestamp\"])\n",
    "# large_user_id = df[\"user_id\"].value_counts()\n",
    "# large_user_id = large_user_id[large_user_id > 1000] \n",
    "# df = df[df[\"user_id\"].isin(large_user_id.index)]\n",
    "# df = df[df[\"answered_correctly\"] != -1]"
   ]
  },
  {
   "cell_type": "code",
   "execution_count": 5,
   "metadata": {
    "collapsed": true
   },
   "outputs": [],
   "source": [
    "from feature_engineering.feature_factory import FeatureFactoryManager, NUniqueEncoder, CountEncoder, ShiftDiffEncoder\n",
    "from experiment.common import get_logger\n"
   ]
  },
  {
   "cell_type": "code",
   "execution_count": 6,
   "metadata": {
    "collapsed": true
   },
   "outputs": [],
   "source": [
    "logger = get_logger()\n",
    "feature_factory_dict = {}\n",
    "feature_factory_dict[\"user_id\"] = {}"
   ]
  },
  {
   "cell_type": "code",
   "execution_count": 7,
   "metadata": {
    "collapsed": true
   },
   "outputs": [],
   "source": [
    "feature_factory_dict[\"user_id\"][\"CountEncoder\"] = CountEncoder(column=\"user_id\")\n",
    "\n",
    "feature_factory_dict[\"user_id\"][\"NUniqueEncoderContentId\"] = NUniqueEncoder(groupby=\"user_id\",\n",
    "                                                                            column=\"content_id\")\n",
    "feature_factory_dict[\"user_id\"][\"NUniqueEncoderTaskContainerId\"] = NUniqueEncoder(groupby=\"user_id\",\n",
    "                                                                                  column=\"task_container_id\")\n",
    "feature_factory_dict[\"user_id\"][\"ShiftDiffEncoder\"] = ShiftDiffEncoder(groupby=\"user_id\",\n",
    "                                                                       column=\"timestamp\")\n"
   ]
  },
  {
   "cell_type": "code",
   "execution_count": null,
   "metadata": {
    "collapsed": true
   },
   "outputs": [],
   "source": [
    "feature_factory_manager = FeatureFactoryManager(feature_factory_dict=feature_factory_dict,\n",
    "                                                logger=logger)\n"
   ]
  },
  {
   "cell_type": "code",
   "execution_count": null,
   "metadata": {},
   "outputs": [
    {
     "name": "stderr",
     "output_type": "stream",
     "text": [
      "2020-10-21 21:37:31,818|INFO| count_encoding_all_user_id\n"
     ]
    }
   ],
   "source": [
    "df = feature_factory_manager.all_predict(df)"
   ]
  },
  {
   "cell_type": "code",
   "execution_count": null,
   "metadata": {},
   "outputs": [],
   "source": [
    "df.columns"
   ]
  },
  {
   "cell_type": "code",
   "execution_count": null,
   "metadata": {
    "collapsed": true
   },
   "outputs": [],
   "source": [
    "df[\"bin_shiftdiff_timestamp_by_user_id\"] = pd.cut(df[\"shiftdiff_timestamp_by_user_id\"], [-1, 10**1, 10**2, 10**3, 10**3.5, 10**4, 10**4.5, 10**5, 10**5.5, 10**6, 10**7, 10**8, 10**9])"
   ]
  },
  {
   "cell_type": "code",
   "execution_count": null,
   "metadata": {},
   "outputs": [],
   "source": [
    "df.groupby(\"bin_shiftdiff_timestamp_by_user_id\")[\"answered_correctly\"].describe()"
   ]
  },
  {
   "cell_type": "code",
   "execution_count": null,
   "metadata": {},
   "outputs": [],
   "source": [
    "df[(df[\"shiftdiff_timestamp_by_user_id\"] > 10000)& (df[\"shiftdiff_timestamp_by_user_id\"] < 100000)][\"shiftdiff_timestamp_by_user_id\"].hist()"
   ]
  },
  {
   "cell_type": "code",
   "execution_count": null,
   "metadata": {
    "collapsed": true
   },
   "outputs": [],
   "source": []
  },
  {
   "cell_type": "code",
   "execution_count": null,
   "metadata": {
    "collapsed": true
   },
   "outputs": [],
   "source": [
    "df.groupby()"
   ]
  }
 ],
 "metadata": {
  "kernelspec": {
   "display_name": "Python 3",
   "language": "python",
   "name": "python3"
  },
  "language_info": {
   "codemirror_mode": {
    "name": "ipython",
    "version": 3
   },
   "file_extension": ".py",
   "mimetype": "text/x-python",
   "name": "python",
   "nbconvert_exporter": "python",
   "pygments_lexer": "ipython3",
   "version": "3.6.1"
  }
 },
 "nbformat": 4,
 "nbformat_minor": 2
}
