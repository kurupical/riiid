{
 "cells": [
  {
   "cell_type": "code",
   "execution_count": 45,
   "metadata": {
    "collapsed": true
   },
   "outputs": [],
   "source": [
    "import pandas as pd\n",
    "import numpy as np\n",
    "import tqdm\n",
    "import warnings\n",
    "import matplotlib.pyplot as plt\n",
    "from sklearn.metrics import roc_auc_score\n",
    "\n",
    "pd.set_option(\"max_rows\", 200)\n",
    "pd.set_option(\"max_columns\", 50)\n",
    "tqdm.tqdm.pandas()\n",
    "%matplotlib inline"
   ]
  },
  {
   "cell_type": "code",
   "execution_count": 46,
   "metadata": {},
   "outputs": [],
   "source": [
    "df = pd.read_csv(\"../input/riiid-test-answer-prediction/questions.csv\")"
   ]
  },
  {
   "cell_type": "code",
   "execution_count": 47,
   "metadata": {},
   "outputs": [
    {
     "data": {
      "text/html": [
       "<div>\n",
       "<style scoped>\n",
       "    .dataframe tbody tr th:only-of-type {\n",
       "        vertical-align: middle;\n",
       "    }\n",
       "\n",
       "    .dataframe tbody tr th {\n",
       "        vertical-align: top;\n",
       "    }\n",
       "\n",
       "    .dataframe thead th {\n",
       "        text-align: right;\n",
       "    }\n",
       "</style>\n",
       "<table border=\"1\" class=\"dataframe\">\n",
       "  <thead>\n",
       "    <tr style=\"text-align: right;\">\n",
       "      <th></th>\n",
       "      <th>question_id</th>\n",
       "      <th>bundle_id</th>\n",
       "      <th>correct_answer</th>\n",
       "      <th>part</th>\n",
       "      <th>tags</th>\n",
       "    </tr>\n",
       "  </thead>\n",
       "  <tbody>\n",
       "    <tr>\n",
       "      <th>0</th>\n",
       "      <td>0</td>\n",
       "      <td>0</td>\n",
       "      <td>0</td>\n",
       "      <td>1</td>\n",
       "      <td>51 131 162 38</td>\n",
       "    </tr>\n",
       "    <tr>\n",
       "      <th>1</th>\n",
       "      <td>1</td>\n",
       "      <td>1</td>\n",
       "      <td>1</td>\n",
       "      <td>1</td>\n",
       "      <td>131 36 81</td>\n",
       "    </tr>\n",
       "    <tr>\n",
       "      <th>2</th>\n",
       "      <td>2</td>\n",
       "      <td>2</td>\n",
       "      <td>0</td>\n",
       "      <td>1</td>\n",
       "      <td>131 101 162 92</td>\n",
       "    </tr>\n",
       "    <tr>\n",
       "      <th>3</th>\n",
       "      <td>3</td>\n",
       "      <td>3</td>\n",
       "      <td>0</td>\n",
       "      <td>1</td>\n",
       "      <td>131 149 162 29</td>\n",
       "    </tr>\n",
       "    <tr>\n",
       "      <th>4</th>\n",
       "      <td>4</td>\n",
       "      <td>4</td>\n",
       "      <td>3</td>\n",
       "      <td>1</td>\n",
       "      <td>131 5 162 38</td>\n",
       "    </tr>\n",
       "    <tr>\n",
       "      <th>...</th>\n",
       "      <td>...</td>\n",
       "      <td>...</td>\n",
       "      <td>...</td>\n",
       "      <td>...</td>\n",
       "      <td>...</td>\n",
       "    </tr>\n",
       "    <tr>\n",
       "      <th>13518</th>\n",
       "      <td>13518</td>\n",
       "      <td>13518</td>\n",
       "      <td>3</td>\n",
       "      <td>5</td>\n",
       "      <td>14</td>\n",
       "    </tr>\n",
       "    <tr>\n",
       "      <th>13519</th>\n",
       "      <td>13519</td>\n",
       "      <td>13519</td>\n",
       "      <td>3</td>\n",
       "      <td>5</td>\n",
       "      <td>8</td>\n",
       "    </tr>\n",
       "    <tr>\n",
       "      <th>13520</th>\n",
       "      <td>13520</td>\n",
       "      <td>13520</td>\n",
       "      <td>2</td>\n",
       "      <td>5</td>\n",
       "      <td>73</td>\n",
       "    </tr>\n",
       "    <tr>\n",
       "      <th>13521</th>\n",
       "      <td>13521</td>\n",
       "      <td>13521</td>\n",
       "      <td>0</td>\n",
       "      <td>5</td>\n",
       "      <td>125</td>\n",
       "    </tr>\n",
       "    <tr>\n",
       "      <th>13522</th>\n",
       "      <td>13522</td>\n",
       "      <td>13522</td>\n",
       "      <td>3</td>\n",
       "      <td>5</td>\n",
       "      <td>55</td>\n",
       "    </tr>\n",
       "  </tbody>\n",
       "</table>\n",
       "<p>13523 rows × 5 columns</p>\n",
       "</div>"
      ],
      "text/plain": [
       "       question_id  bundle_id  correct_answer  part            tags\n",
       "0                0          0               0     1   51 131 162 38\n",
       "1                1          1               1     1       131 36 81\n",
       "2                2          2               0     1  131 101 162 92\n",
       "3                3          3               0     1  131 149 162 29\n",
       "4                4          4               3     1    131 5 162 38\n",
       "...            ...        ...             ...   ...             ...\n",
       "13518        13518      13518               3     5              14\n",
       "13519        13519      13519               3     5               8\n",
       "13520        13520      13520               2     5              73\n",
       "13521        13521      13521               0     5             125\n",
       "13522        13522      13522               3     5              55\n",
       "\n",
       "[13523 rows x 5 columns]"
      ]
     },
     "execution_count": 47,
     "metadata": {},
     "output_type": "execute_result"
    }
   ],
   "source": [
    "df"
   ]
  },
  {
   "cell_type": "code",
   "execution_count": 66,
   "metadata": {
    "collapsed": true
   },
   "outputs": [],
   "source": [
    "tag = df[\"tags\"].str.split(\" \", n=10, expand=True)\n",
    "tag.columns = [f\"tags{i}\" for i in range(1, len(tag.columns) + 1)]\n",
    "tags = np.arange(1, 188)\n",
    "for col in tag.columns:\n",
    "    tag[col] = pd.to_numeric(tag[col], errors='coerce').fillna(-1).astype(\"uint8\")\n"
   ]
  },
  {
   "cell_type": "code",
   "execution_count": 67,
   "metadata": {},
   "outputs": [],
   "source": [
    "target_cols = []\n",
    "for t in tags:\n",
    "    target_cols.append(f\"tag_{t}\")\n",
    "    df[f\"tag_{t}\"] = (tag == t).sum(axis=1).astype(\"uint8\")"
   ]
  },
  {
   "cell_type": "code",
   "execution_count": null,
   "metadata": {
    "collapsed": true
   },
   "outputs": [],
   "source": []
  },
  {
   "cell_type": "markdown",
   "metadata": {},
   "source": [
    "# 生データをクラスタリング"
   ]
  },
  {
   "cell_type": "code",
   "execution_count": 68,
   "metadata": {
    "collapsed": true
   },
   "outputs": [],
   "source": [
    "from sklearn.cluster import KMeans"
   ]
  },
  {
   "cell_type": "code",
   "execution_count": 69,
   "metadata": {},
   "outputs": [],
   "source": [
    "df[\"km20\"] = KMeans(n_clusters=50).fit_predict(df[target_cols].values)"
   ]
  },
  {
   "cell_type": "code",
   "execution_count": 70,
   "metadata": {},
   "outputs": [
    {
     "data": {
      "text/plain": [
       "tags        part\n",
       "125         6         1\n",
       "123         6         2\n",
       "61 110 29   1         2\n",
       "44          6         2\n",
       "75          6         2\n",
       "95          6         2\n",
       "127         6         2\n",
       "43          6         2\n",
       "132         6         2\n",
       "156         6         3\n",
       "174         6         3\n",
       "152         6         3\n",
       "151         6         3\n",
       "55 162      6         4\n",
       "115         6         4\n",
       "134         6         4\n",
       "48          6         4\n",
       "49          6         4\n",
       "37          7         4\n",
       "54          6         4\n",
       "133         6         4\n",
       "72          6         4\n",
       "80          6         4\n",
       "180         6         5\n",
       "33          6         5\n",
       "166         6         5\n",
       "34          5         6\n",
       "61 110 102  1         6\n",
       "78          5         6\n",
       "177         6         6\n",
       "181         6         7\n",
       "4           6         7\n",
       "25          6         7\n",
       "64          6         7\n",
       "45          6         8\n",
       "47          6         8\n",
       "172         5         9\n",
       "58          5        10\n",
       "179         5        10\n",
       "23          5        10\n",
       "112         5        10\n",
       "168         6        10\n",
       "132         5        10\n",
       "57          5        10\n",
       "31          5        10\n",
       "167         5        11\n",
       "49          5        12\n",
       "182         5        12\n",
       "15          5        12\n",
       "159         6        12\n",
       "124         5        12\n",
       "151         5        13\n",
       "128         6        14\n",
       "95          5        15\n",
       "7           6        15\n",
       "43          5        16\n",
       "24          5        16\n",
       "115         5        17\n",
       "127         5        17\n",
       "44          5        18\n",
       "65          5        18\n",
       "33          5        18\n",
       "175         5        19\n",
       "108         5        20\n",
       "26          5        20\n",
       "75          5        21\n",
       "55          6        21\n",
       "128         5        22\n",
       "180         5        22\n",
       "170         5        23\n",
       "54          5        23\n",
       "85          5        23\n",
       "28          5        24\n",
       "47          5        25\n",
       "147         6        26\n",
       "123         5        26\n",
       "25          5        27\n",
       "80          5        32\n",
       "177         5        32\n",
       "168         5        36\n",
       "159         5        37\n",
       "174         5        39\n",
       "156         5        40\n",
       "64          5        40\n",
       "66          5        41\n",
       "45          5        42\n",
       "4           5        43\n",
       "181         5        45\n",
       "179         6        46\n",
       "147         5        49\n",
       "152         5        50\n",
       "52          5        50\n",
       "48          5        51\n",
       "166         5        55\n",
       "125         5        56\n",
       "133         5        58\n",
       "7           5        61\n",
       "134         5        61\n",
       "72          5        68\n",
       "55          5       287\n",
       "dtype: int64"
      ]
     },
     "execution_count": 70,
     "metadata": {},
     "output_type": "execute_result"
    }
   ],
   "source": [
    "df[df[\"km20\"] == 0].groupby([\"tags\", \"part\"]).size().sort_values().tail(100)"
   ]
  },
  {
   "cell_type": "code",
   "execution_count": 71,
   "metadata": {},
   "outputs": [
    {
     "data": {
      "text/plain": [
       "km20  part\n",
       "0     1          8\n",
       "      5       1866\n",
       "      6        284\n",
       "      7          5\n",
       "1     1          9\n",
       "      2         13\n",
       "      3        128\n",
       "      4        181\n",
       "2     1         24\n",
       "      2         30\n",
       "      3        110\n",
       "      4         87\n",
       "3     5        512\n",
       "      6        118\n",
       "4     2        289\n",
       "5     2         37\n",
       "      3        279\n",
       "      4         17\n",
       "6     5        348\n",
       "      6         74\n",
       "7     7        298\n",
       "8     5        697\n",
       "      6         54\n",
       "9     5        417\n",
       "      6        127\n",
       "10    6        302\n",
       "11    1        169\n",
       "12    1          5\n",
       "      2          7\n",
       "      3          4\n",
       "      4        154\n",
       "13    1        187\n",
       "14    2        135\n",
       "      3         92\n",
       "      4         21\n",
       "15    3          4\n",
       "      4        138\n",
       "16    5        196\n",
       "      6         30\n",
       "17    3        149\n",
       "      4        153\n",
       "18    3         81\n",
       "      4        143\n",
       "19    7        124\n",
       "20    2        197\n",
       "21    2         96\n",
       "22    5        330\n",
       "      6         48\n",
       "23    7        127\n",
       "24    1        294\n",
       "25    1          3\n",
       "      4          3\n",
       "      5         78\n",
       "      6         63\n",
       "26    5        272\n",
       "      6         24\n",
       "27    5        177\n",
       "      6         33\n",
       "28    3        102\n",
       "      4         83\n",
       "29    2        106\n",
       "30    7        260\n",
       "31    5        103\n",
       "      6          6\n",
       "32    5        211\n",
       "      6         21\n",
       "33    2         28\n",
       "      3        117\n",
       "      4         50\n",
       "34    5        191\n",
       "      6         12\n",
       "35    2        109\n",
       "      3        115\n",
       "      4         80\n",
       "36    3        110\n",
       "      4         97\n",
       "37    7        156\n",
       "38    3         89\n",
       "      4         60\n",
       "39    1        293\n",
       "40    5        113\n",
       "      6         16\n",
       "41    2        121\n",
       "42    3         79\n",
       "      4         53\n",
       "43    2        125\n",
       "44    2         81\n",
       "45    3         20\n",
       "      4         73\n",
       "46    3         83\n",
       "      4         46\n",
       "47    2        101\n",
       "48    2        172\n",
       "49    7        190\n",
       "dtype: int64"
      ]
     },
     "execution_count": 71,
     "metadata": {},
     "output_type": "execute_result"
    }
   ],
   "source": [
    "df.groupby([\"km20\", \"part\"]).size()"
   ]
  },
  {
   "cell_type": "code",
   "execution_count": 94,
   "metadata": {},
   "outputs": [
    {
     "data": {
      "text/plain": [
       "8                    738\n",
       "73                   617\n",
       "53                   523\n",
       "1                    413\n",
       "96                   373\n",
       "                    ... \n",
       "106 183 162 92         1\n",
       "98 118 46 135          1\n",
       "145 42 35 117 122      1\n",
       "170 162                1\n",
       "157 150 102            1\n",
       "Name: tags, Length: 1519, dtype: int64"
      ]
     },
     "execution_count": 94,
     "metadata": {},
     "output_type": "execute_result"
    }
   ],
   "source": []
  },
  {
   "cell_type": "code",
   "execution_count": 90,
   "metadata": {
    "collapsed": true
   },
   "outputs": [],
   "source": [
    "    df_question = pd.read_csv(\"../input/riiid-test-answer-prediction/questions.csv\")\n",
    "    tag = df_question[\"tags\"].str.split(\" \", n=10, expand=True)\n",
    "    tag.columns = [f\"tags{i}\" for i in range(1, len(tag.columns) + 1)]\n",
    "    tags = np.arange(1, 188)\n",
    "    for col in tag.columns:\n",
    "        tag[col] = pd.to_numeric(tag[col], errors='coerce').fillna(-1).astype(\"uint8\")\n",
    "    target_cols = []\n",
    "    for t in tags:\n",
    "        target_cols.append(f\"tag_{t}\")\n",
    "        df_question[f\"tag_{t}\"] = (tag == t).sum(axis=1).astype(\"uint8\")\n",
    "    for p in [1, 2, 3, 4, 5, 6, 7]:\n",
    "        target_cols.append(f\"part_{p}\")\n",
    "        df_question[f\"part_{p}\"] = (df_question[\"part\"] == p).astype(\"uint8\") / 3\n",
    "    df_question[\"kmeans_tags20\"] = KMeans(n_clusters=10).fit_predict(df_question[target_cols].values)"
   ]
  },
  {
   "cell_type": "code",
   "execution_count": 93,
   "metadata": {},
   "outputs": [
    {
     "data": {
      "text/plain": [
       "part  tags \n",
       "5     8        697\n",
       "6     8         41\n",
       "      8 162     13\n",
       "dtype: int64"
      ]
     },
     "execution_count": 93,
     "metadata": {},
     "output_type": "execute_result"
    }
   ],
   "source": [
    "df_question[df_question[\"kmeans_tags20\"] == 7].groupby([\"part\", \"tags\"]).size()"
   ]
  },
  {
   "cell_type": "code",
   "execution_count": 92,
   "metadata": {},
   "outputs": [
    {
     "data": {
      "text/plain": [
       "kmeans_tags20  part\n",
       "0              1        231\n",
       "               2        117\n",
       "               3          6\n",
       "               4        423\n",
       "1              5       4302\n",
       "               6       1040\n",
       "               7          7\n",
       "2              2        224\n",
       "               3        294\n",
       "3              1        468\n",
       "               2        253\n",
       "               3        305\n",
       "               4        575\n",
       "4              1         43\n",
       "               2        575\n",
       "               3        248\n",
       "               4         99\n",
       "5              2        225\n",
       "               3        306\n",
       "6              7       1153\n",
       "7              5        697\n",
       "               6         54\n",
       "8              5        512\n",
       "               6        118\n",
       "9              1        250\n",
       "               2        253\n",
       "               3        403\n",
       "               4        342\n",
       "dtype: int64"
      ]
     },
     "execution_count": 92,
     "metadata": {},
     "output_type": "execute_result"
    }
   ],
   "source": [
    "df_question.groupby([\"kmeans_tags20\", \"part\"]).size().head(50)"
   ]
  },
  {
   "cell_type": "code",
   "execution_count": null,
   "metadata": {
    "collapsed": true
   },
   "outputs": [],
   "source": []
  }
 ],
 "metadata": {
  "kernelspec": {
   "display_name": "Python 3",
   "language": "python",
   "name": "python3"
  },
  "language_info": {
   "codemirror_mode": {
    "name": "ipython",
    "version": 3
   },
   "file_extension": ".py",
   "mimetype": "text/x-python",
   "name": "python",
   "nbconvert_exporter": "python",
   "pygments_lexer": "ipython3",
   "version": "3.6.1"
  }
 },
 "nbformat": 4,
 "nbformat_minor": 2
}
