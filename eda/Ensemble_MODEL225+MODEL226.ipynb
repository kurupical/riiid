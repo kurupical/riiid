{
 "cells": [
  {
   "cell_type": "code",
   "execution_count": 2,
   "metadata": {},
   "outputs": [],
   "source": [
    "import pandas as pd\n",
    "import numpy as np\n",
    "from sklearn.metrics import roc_auc_score"
   ]
  },
  {
   "cell_type": "code",
   "execution_count": 3,
   "metadata": {},
   "outputs": [],
   "source": [
    "df1 = pd.read_csv(\"../output/model225/20201229000607//transformers1.csv\")"
   ]
  },
  {
   "cell_type": "code",
   "execution_count": 6,
   "metadata": {},
   "outputs": [],
   "source": [
    "df2 = pd.read_csv(\"../output/model226/20201229001216//transformers1.csv\")"
   ]
  },
  {
   "cell_type": "code",
   "execution_count": null,
   "metadata": {},
   "outputs": [],
   "source": []
  },
  {
   "cell_type": "code",
   "execution_count": 7,
   "metadata": {},
   "outputs": [
    {
     "data": {
      "text/plain": [
       "(2500000, 2500000)"
      ]
     },
     "execution_count": 7,
     "metadata": {},
     "output_type": "execute_result"
    }
   ],
   "source": [
    "len(df1), len(df2)"
   ]
  },
  {
   "cell_type": "code",
   "execution_count": 8,
   "metadata": {},
   "outputs": [
    {
     "data": {
      "text/html": [
       "<div>\n",
       "<style scoped>\n",
       "    .dataframe tbody tr th:only-of-type {\n",
       "        vertical-align: middle;\n",
       "    }\n",
       "\n",
       "    .dataframe tbody tr th {\n",
       "        vertical-align: top;\n",
       "    }\n",
       "\n",
       "    .dataframe thead th {\n",
       "        text-align: right;\n",
       "    }\n",
       "</style>\n",
       "<table border=\"1\" class=\"dataframe\">\n",
       "  <thead>\n",
       "    <tr style=\"text-align: right;\">\n",
       "      <th></th>\n",
       "      <th>predict</th>\n",
       "      <th>target</th>\n",
       "    </tr>\n",
       "  </thead>\n",
       "  <tbody>\n",
       "    <tr>\n",
       "      <th>0</th>\n",
       "      <td>0.734904</td>\n",
       "      <td>1.0</td>\n",
       "    </tr>\n",
       "    <tr>\n",
       "      <th>1</th>\n",
       "      <td>0.833495</td>\n",
       "      <td>1.0</td>\n",
       "    </tr>\n",
       "    <tr>\n",
       "      <th>2</th>\n",
       "      <td>0.398563</td>\n",
       "      <td>0.0</td>\n",
       "    </tr>\n",
       "    <tr>\n",
       "      <th>3</th>\n",
       "      <td>0.857219</td>\n",
       "      <td>1.0</td>\n",
       "    </tr>\n",
       "    <tr>\n",
       "      <th>4</th>\n",
       "      <td>0.447078</td>\n",
       "      <td>0.0</td>\n",
       "    </tr>\n",
       "    <tr>\n",
       "      <th>...</th>\n",
       "      <td>...</td>\n",
       "      <td>...</td>\n",
       "    </tr>\n",
       "    <tr>\n",
       "      <th>2499995</th>\n",
       "      <td>0.880446</td>\n",
       "      <td>1.0</td>\n",
       "    </tr>\n",
       "    <tr>\n",
       "      <th>2499996</th>\n",
       "      <td>0.783072</td>\n",
       "      <td>1.0</td>\n",
       "    </tr>\n",
       "    <tr>\n",
       "      <th>2499997</th>\n",
       "      <td>0.900164</td>\n",
       "      <td>1.0</td>\n",
       "    </tr>\n",
       "    <tr>\n",
       "      <th>2499998</th>\n",
       "      <td>0.362994</td>\n",
       "      <td>0.0</td>\n",
       "    </tr>\n",
       "    <tr>\n",
       "      <th>2499999</th>\n",
       "      <td>0.981385</td>\n",
       "      <td>1.0</td>\n",
       "    </tr>\n",
       "  </tbody>\n",
       "</table>\n",
       "<p>2500000 rows × 2 columns</p>\n",
       "</div>"
      ],
      "text/plain": [
       "          predict  target\n",
       "0        0.734904     1.0\n",
       "1        0.833495     1.0\n",
       "2        0.398563     0.0\n",
       "3        0.857219     1.0\n",
       "4        0.447078     0.0\n",
       "...           ...     ...\n",
       "2499995  0.880446     1.0\n",
       "2499996  0.783072     1.0\n",
       "2499997  0.900164     1.0\n",
       "2499998  0.362994     0.0\n",
       "2499999  0.981385     1.0\n",
       "\n",
       "[2500000 rows x 2 columns]"
      ]
     },
     "execution_count": 8,
     "metadata": {},
     "output_type": "execute_result"
    }
   ],
   "source": [
    "df2"
   ]
  },
  {
   "cell_type": "code",
   "execution_count": 9,
   "metadata": {},
   "outputs": [
    {
     "name": "stdout",
     "output_type": "stream",
     "text": [
      "t_ratio: 0.00 AUC: 0.80971\n",
      "t_ratio: 0.05 AUC: 0.81003\n",
      "t_ratio: 0.10 AUC: 0.81031\n",
      "t_ratio: 0.15 AUC: 0.81055\n",
      "t_ratio: 0.20 AUC: 0.81075\n",
      "t_ratio: 0.25 AUC: 0.81091\n",
      "t_ratio: 0.30 AUC: 0.81103\n",
      "t_ratio: 0.35 AUC: 0.81111\n",
      "t_ratio: 0.40 AUC: 0.81116\n",
      "t_ratio: 0.45 AUC: 0.81116\n",
      "t_ratio: 0.50 AUC: 0.81112\n",
      "t_ratio: 0.55 AUC: 0.81104\n",
      "t_ratio: 0.60 AUC: 0.81093\n",
      "t_ratio: 0.65 AUC: 0.81077\n",
      "t_ratio: 0.70 AUC: 0.81058\n",
      "t_ratio: 0.75 AUC: 0.81034\n",
      "t_ratio: 0.80 AUC: 0.81007\n",
      "t_ratio: 0.85 AUC: 0.80976\n",
      "t_ratio: 0.90 AUC: 0.80942\n",
      "t_ratio: 0.95 AUC: 0.80903\n",
      "t_ratio: 1.00 AUC: 0.80861\n"
     ]
    }
   ],
   "source": [
    "for t_ratio in np.arange(0, 1.05, 0.05):\n",
    "    auc = roc_auc_score(df1[\"target\"].values, df1[\"predict\"].values*t_ratio + df2[\"predict\"].values*(1-t_ratio))\n",
    "    print(\"t_ratio: {:.2f} AUC: {:.5f}\".format(t_ratio, auc))"
   ]
  },
  {
   "cell_type": "code",
   "execution_count": null,
   "metadata": {},
   "outputs": [],
   "source": []
  },
  {
   "cell_type": "code",
   "execution_count": null,
   "metadata": {},
   "outputs": [],
   "source": []
  }
 ],
 "metadata": {
  "kernelspec": {
   "display_name": "Python 3",
   "language": "python",
   "name": "python3"
  },
  "language_info": {
   "codemirror_mode": {
    "name": "ipython",
    "version": 3
   },
   "file_extension": ".py",
   "mimetype": "text/x-python",
   "name": "python",
   "nbconvert_exporter": "python",
   "pygments_lexer": "ipython3",
   "version": "3.8.5"
  }
 },
 "nbformat": 4,
 "nbformat_minor": 4
}
