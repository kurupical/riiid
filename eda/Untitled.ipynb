{
 "cells": [
  {
   "cell_type": "code",
   "execution_count": 7,
   "metadata": {
    "collapsed": true
   },
   "outputs": [],
   "source": [
    "import pandas as pd\n",
    "import numpy as np\n",
    "from sklearn.metrics import roc_auc_score"
   ]
  },
  {
   "cell_type": "code",
   "execution_count": 5,
   "metadata": {
    "collapsed": true
   },
   "outputs": [],
   "source": [
    "def calc_optimized_weight(df):\n",
    "    best_score = 0\n",
    "    best_cat_ratio = 0\n",
    "    for cat_ratio in np.arange(0, 1.05, 0.05):\n",
    "        pred = df[\"nn\"] * cat_ratio + df[\"lgbm\"] * (1 - cat_ratio)\n",
    "        score = roc_auc_score(df[\"target\"].values, pred)\n",
    "        print(\"[nn_ratio: {:.2f}] AUC: {:.4f}\".format(cat_ratio, score))\n",
    "        if score > best_score:\n",
    "            best_score = score\n",
    "            best_cat_ratio = cat_ratio\n",
    "\n",
    "    return best_score, best_cat_ratio"
   ]
  },
  {
   "cell_type": "code",
   "execution_count": 4,
   "metadata": {},
   "outputs": [],
   "source": [
    "df_oof_lgbm = pd.read_csv(\"../output/ex_172/20201202080625/oof_train_0_lgbm.csv\")\n",
    "df_oof_nn = pd.read_csv(f\"../output/ex_188/20201206185902/oof_train_0_nn.csv\")"
   ]
  },
  {
   "cell_type": "code",
   "execution_count": 8,
   "metadata": {},
   "outputs": [
    {
     "name": "stdout",
     "output_type": "stream",
     "text": [
      "[nn_ratio: 0.00] AUC: 0.7885\n",
      "[nn_ratio: 0.05] AUC: 0.7887\n",
      "[nn_ratio: 0.10] AUC: 0.7887\n",
      "[nn_ratio: 0.15] AUC: 0.7887\n",
      "[nn_ratio: 0.20] AUC: 0.7886\n",
      "[nn_ratio: 0.25] AUC: 0.7884\n",
      "[nn_ratio: 0.30] AUC: 0.7881\n",
      "[nn_ratio: 0.35] AUC: 0.7877\n",
      "[nn_ratio: 0.40] AUC: 0.7873\n",
      "[nn_ratio: 0.45] AUC: 0.7867\n",
      "[nn_ratio: 0.50] AUC: 0.7861\n",
      "[nn_ratio: 0.55] AUC: 0.7853\n",
      "[nn_ratio: 0.60] AUC: 0.7845\n",
      "[nn_ratio: 0.65] AUC: 0.7835\n",
      "[nn_ratio: 0.70] AUC: 0.7825\n",
      "[nn_ratio: 0.75] AUC: 0.7813\n",
      "[nn_ratio: 0.80] AUC: 0.7800\n",
      "[nn_ratio: 0.85] AUC: 0.7786\n",
      "[nn_ratio: 0.90] AUC: 0.7771\n",
      "[nn_ratio: 0.95] AUC: 0.7755\n",
      "[nn_ratio: 1.00] AUC: 0.7738\n"
     ]
    }
   ],
   "source": [
    "    df_oof = pd.DataFrame()\n",
    "    df_oof[\"target\"] = df_oof_lgbm[\"target\"]\n",
    "    df_oof[\"lgbm\"] = df_oof_lgbm[\"predict\"]\n",
    "    df_oof[\"nn\"] = df_oof_nn[\"predict\"]\n",
    "\n",
    "    score, weight = calc_optimized_weight(df_oof)\n"
   ]
  },
  {
   "cell_type": "code",
   "execution_count": 9,
   "metadata": {},
   "outputs": [
    {
     "data": {
      "text/html": [
       "<div>\n",
       "<style scoped>\n",
       "    .dataframe tbody tr th:only-of-type {\n",
       "        vertical-align: middle;\n",
       "    }\n",
       "\n",
       "    .dataframe tbody tr th {\n",
       "        vertical-align: top;\n",
       "    }\n",
       "\n",
       "    .dataframe thead th {\n",
       "        text-align: right;\n",
       "    }\n",
       "</style>\n",
       "<table border=\"1\" class=\"dataframe\">\n",
       "  <thead>\n",
       "    <tr style=\"text-align: right;\">\n",
       "      <th></th>\n",
       "      <th>lgbm</th>\n",
       "      <th>nn</th>\n",
       "    </tr>\n",
       "  </thead>\n",
       "  <tbody>\n",
       "    <tr>\n",
       "      <th>lgbm</th>\n",
       "      <td>1.000000</td>\n",
       "      <td>0.937928</td>\n",
       "    </tr>\n",
       "    <tr>\n",
       "      <th>nn</th>\n",
       "      <td>0.937928</td>\n",
       "      <td>1.000000</td>\n",
       "    </tr>\n",
       "  </tbody>\n",
       "</table>\n",
       "</div>"
      ],
      "text/plain": [
       "          lgbm        nn\n",
       "lgbm  1.000000  0.937928\n",
       "nn    0.937928  1.000000"
      ]
     },
     "execution_count": 9,
     "metadata": {},
     "output_type": "execute_result"
    }
   ],
   "source": [
    "df_oof[[\"lgbm\", \"nn\"]].corr()"
   ]
  },
  {
   "cell_type": "code",
   "execution_count": 10,
   "metadata": {},
   "outputs": [
    {
     "data": {
      "text/html": [
       "<div>\n",
       "<style scoped>\n",
       "    .dataframe tbody tr th:only-of-type {\n",
       "        vertical-align: middle;\n",
       "    }\n",
       "\n",
       "    .dataframe tbody tr th {\n",
       "        vertical-align: top;\n",
       "    }\n",
       "\n",
       "    .dataframe thead th {\n",
       "        text-align: right;\n",
       "    }\n",
       "</style>\n",
       "<table border=\"1\" class=\"dataframe\">\n",
       "  <thead>\n",
       "    <tr style=\"text-align: right;\">\n",
       "      <th></th>\n",
       "      <th>lgbm</th>\n",
       "      <th>nn</th>\n",
       "    </tr>\n",
       "  </thead>\n",
       "  <tbody>\n",
       "    <tr>\n",
       "      <th>0</th>\n",
       "      <td>0.440669</td>\n",
       "      <td>0.453914</td>\n",
       "    </tr>\n",
       "    <tr>\n",
       "      <th>1</th>\n",
       "      <td>0.523389</td>\n",
       "      <td>0.545798</td>\n",
       "    </tr>\n",
       "    <tr>\n",
       "      <th>2</th>\n",
       "      <td>0.384600</td>\n",
       "      <td>0.326650</td>\n",
       "    </tr>\n",
       "    <tr>\n",
       "      <th>3</th>\n",
       "      <td>0.428092</td>\n",
       "      <td>0.384978</td>\n",
       "    </tr>\n",
       "    <tr>\n",
       "      <th>4</th>\n",
       "      <td>0.692595</td>\n",
       "      <td>0.677085</td>\n",
       "    </tr>\n",
       "    <tr>\n",
       "      <th>...</th>\n",
       "      <td>...</td>\n",
       "      <td>...</td>\n",
       "    </tr>\n",
       "    <tr>\n",
       "      <th>1825192</th>\n",
       "      <td>0.776445</td>\n",
       "      <td>0.883830</td>\n",
       "    </tr>\n",
       "    <tr>\n",
       "      <th>1825193</th>\n",
       "      <td>0.757160</td>\n",
       "      <td>0.878370</td>\n",
       "    </tr>\n",
       "    <tr>\n",
       "      <th>1825194</th>\n",
       "      <td>0.926326</td>\n",
       "      <td>0.939075</td>\n",
       "    </tr>\n",
       "    <tr>\n",
       "      <th>1825195</th>\n",
       "      <td>0.379459</td>\n",
       "      <td>0.580447</td>\n",
       "    </tr>\n",
       "    <tr>\n",
       "      <th>1825196</th>\n",
       "      <td>0.973158</td>\n",
       "      <td>0.970784</td>\n",
       "    </tr>\n",
       "  </tbody>\n",
       "</table>\n",
       "<p>1825197 rows × 2 columns</p>\n",
       "</div>"
      ],
      "text/plain": [
       "             lgbm        nn\n",
       "0        0.440669  0.453914\n",
       "1        0.523389  0.545798\n",
       "2        0.384600  0.326650\n",
       "3        0.428092  0.384978\n",
       "4        0.692595  0.677085\n",
       "...           ...       ...\n",
       "1825192  0.776445  0.883830\n",
       "1825193  0.757160  0.878370\n",
       "1825194  0.926326  0.939075\n",
       "1825195  0.379459  0.580447\n",
       "1825196  0.973158  0.970784\n",
       "\n",
       "[1825197 rows x 2 columns]"
      ]
     },
     "execution_count": 10,
     "metadata": {},
     "output_type": "execute_result"
    }
   ],
   "source": [
    "df_oof[[\"lgbm\", \"nn\"]]"
   ]
  },
  {
   "cell_type": "code",
   "execution_count": null,
   "metadata": {
    "collapsed": true
   },
   "outputs": [],
   "source": []
  }
 ],
 "metadata": {
  "kernelspec": {
   "display_name": "Python 3",
   "language": "python",
   "name": "python3"
  },
  "language_info": {
   "codemirror_mode": {
    "name": "ipython",
    "version": 3
   },
   "file_extension": ".py",
   "mimetype": "text/x-python",
   "name": "python",
   "nbconvert_exporter": "python",
   "pygments_lexer": "ipython3",
   "version": "3.6.1"
  }
 },
 "nbformat": 4,
 "nbformat_minor": 2
}
