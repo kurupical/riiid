{
 "cells": [
  {
   "cell_type": "code",
   "execution_count": 1,
   "metadata": {},
   "outputs": [],
   "source": [
    "import pandas as pd\n",
    "import numpy as np\n",
    "from sklearn.metrics import roc_auc_score"
   ]
  },
  {
   "cell_type": "code",
   "execution_count": 8,
   "metadata": {},
   "outputs": [],
   "source": [
    "df1 = pd.read_csv(\"../output/model084/20201217002631/transformers1.csv\")"
   ]
  },
  {
   "cell_type": "code",
   "execution_count": 9,
   "metadata": {},
   "outputs": [],
   "source": [
    "df2 = pd.read_csv(\"../output/model055_2/20201215203451/transformers1.csv\")"
   ]
  },
  {
   "cell_type": "code",
   "execution_count": null,
   "metadata": {},
   "outputs": [],
   "source": []
  },
  {
   "cell_type": "code",
   "execution_count": 10,
   "metadata": {},
   "outputs": [
    {
     "data": {
      "text/plain": [
       "(6136529, 6136529)"
      ]
     },
     "execution_count": 10,
     "metadata": {},
     "output_type": "execute_result"
    }
   ],
   "source": [
    "len(df1), len(df2)"
   ]
  },
  {
   "cell_type": "code",
   "execution_count": 11,
   "metadata": {},
   "outputs": [
    {
     "data": {
      "text/html": [
       "<div>\n",
       "<style scoped>\n",
       "    .dataframe tbody tr th:only-of-type {\n",
       "        vertical-align: middle;\n",
       "    }\n",
       "\n",
       "    .dataframe tbody tr th {\n",
       "        vertical-align: top;\n",
       "    }\n",
       "\n",
       "    .dataframe thead th {\n",
       "        text-align: right;\n",
       "    }\n",
       "</style>\n",
       "<table border=\"1\" class=\"dataframe\">\n",
       "  <thead>\n",
       "    <tr style=\"text-align: right;\">\n",
       "      <th></th>\n",
       "      <th>predict</th>\n",
       "      <th>target</th>\n",
       "    </tr>\n",
       "  </thead>\n",
       "  <tbody>\n",
       "    <tr>\n",
       "      <th>0</th>\n",
       "      <td>0.186401</td>\n",
       "      <td>0.0</td>\n",
       "    </tr>\n",
       "    <tr>\n",
       "      <th>1</th>\n",
       "      <td>0.232206</td>\n",
       "      <td>0.0</td>\n",
       "    </tr>\n",
       "    <tr>\n",
       "      <th>2</th>\n",
       "      <td>0.449566</td>\n",
       "      <td>1.0</td>\n",
       "    </tr>\n",
       "    <tr>\n",
       "      <th>3</th>\n",
       "      <td>0.056929</td>\n",
       "      <td>0.0</td>\n",
       "    </tr>\n",
       "    <tr>\n",
       "      <th>4</th>\n",
       "      <td>0.109836</td>\n",
       "      <td>0.0</td>\n",
       "    </tr>\n",
       "    <tr>\n",
       "      <th>...</th>\n",
       "      <td>...</td>\n",
       "      <td>...</td>\n",
       "    </tr>\n",
       "    <tr>\n",
       "      <th>6136524</th>\n",
       "      <td>0.901537</td>\n",
       "      <td>1.0</td>\n",
       "    </tr>\n",
       "    <tr>\n",
       "      <th>6136525</th>\n",
       "      <td>0.930436</td>\n",
       "      <td>1.0</td>\n",
       "    </tr>\n",
       "    <tr>\n",
       "      <th>6136526</th>\n",
       "      <td>0.816619</td>\n",
       "      <td>1.0</td>\n",
       "    </tr>\n",
       "    <tr>\n",
       "      <th>6136527</th>\n",
       "      <td>0.561799</td>\n",
       "      <td>0.0</td>\n",
       "    </tr>\n",
       "    <tr>\n",
       "      <th>6136528</th>\n",
       "      <td>0.520942</td>\n",
       "      <td>1.0</td>\n",
       "    </tr>\n",
       "  </tbody>\n",
       "</table>\n",
       "<p>6136529 rows × 2 columns</p>\n",
       "</div>"
      ],
      "text/plain": [
       "          predict  target\n",
       "0        0.186401     0.0\n",
       "1        0.232206     0.0\n",
       "2        0.449566     1.0\n",
       "3        0.056929     0.0\n",
       "4        0.109836     0.0\n",
       "...           ...     ...\n",
       "6136524  0.901537     1.0\n",
       "6136525  0.930436     1.0\n",
       "6136526  0.816619     1.0\n",
       "6136527  0.561799     0.0\n",
       "6136528  0.520942     1.0\n",
       "\n",
       "[6136529 rows x 2 columns]"
      ]
     },
     "execution_count": 11,
     "metadata": {},
     "output_type": "execute_result"
    }
   ],
   "source": [
    "df2"
   ]
  },
  {
   "cell_type": "code",
   "execution_count": 12,
   "metadata": {},
   "outputs": [
    {
     "name": "stdout",
     "output_type": "stream",
     "text": [
      "t_ratio: 0.00 AUC: 0.77376\n",
      "t_ratio: 0.05 AUC: 0.77596\n",
      "t_ratio: 0.10 AUC: 0.77805\n",
      "t_ratio: 0.15 AUC: 0.78002\n",
      "t_ratio: 0.20 AUC: 0.78187\n",
      "t_ratio: 0.25 AUC: 0.78359\n",
      "t_ratio: 0.30 AUC: 0.78517\n",
      "t_ratio: 0.35 AUC: 0.78662\n",
      "t_ratio: 0.40 AUC: 0.78794\n",
      "t_ratio: 0.45 AUC: 0.78910\n",
      "t_ratio: 0.50 AUC: 0.79013\n",
      "t_ratio: 0.55 AUC: 0.79101\n",
      "t_ratio: 0.60 AUC: 0.79175\n",
      "t_ratio: 0.65 AUC: 0.79234\n",
      "t_ratio: 0.70 AUC: 0.79280\n",
      "t_ratio: 0.75 AUC: 0.79311\n",
      "t_ratio: 0.80 AUC: 0.79329\n",
      "t_ratio: 0.85 AUC: 0.79335\n",
      "t_ratio: 0.90 AUC: 0.79328\n",
      "t_ratio: 0.95 AUC: 0.79308\n",
      "t_ratio: 1.00 AUC: 0.79276\n"
     ]
    }
   ],
   "source": [
    "for t_ratio in np.arange(0, 1.05, 0.05):\n",
    "    auc = roc_auc_score(df1[\"target\"].values, df1[\"predict\"].values*t_ratio + df2[\"predict\"].values*(1-t_ratio))\n",
    "    print(\"t_ratio: {:.2f} AUC: {:.5f}\".format(t_ratio, auc))"
   ]
  },
  {
   "cell_type": "code",
   "execution_count": null,
   "metadata": {},
   "outputs": [],
   "source": []
  },
  {
   "cell_type": "code",
   "execution_count": null,
   "metadata": {},
   "outputs": [],
   "source": []
  }
 ],
 "metadata": {
  "kernelspec": {
   "display_name": "Python 3",
   "language": "python",
   "name": "python3"
  },
  "language_info": {
   "codemirror_mode": {
    "name": "ipython",
    "version": 3
   },
   "file_extension": ".py",
   "mimetype": "text/x-python",
   "name": "python",
   "nbconvert_exporter": "python",
   "pygments_lexer": "ipython3",
   "version": "3.8.5"
  }
 },
 "nbformat": 4,
 "nbformat_minor": 4
}
