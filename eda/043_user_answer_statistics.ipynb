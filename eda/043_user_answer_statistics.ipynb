{
 "cells": [
  {
   "cell_type": "code",
   "execution_count": 1,
   "metadata": {
    "collapsed": true
   },
   "outputs": [],
   "source": [
    "import pandas as pd\n",
    "import numpy as np\n",
    "import tqdm\n",
    "import warnings\n",
    "import matplotlib.pyplot as plt\n",
    "from sklearn.metrics import roc_auc_score\n",
    "\n",
    "pd.set_option(\"max_rows\", 200)\n",
    "pd.set_option(\"max_columns\", 50)\n",
    "tqdm.tqdm.pandas()\n",
    "%matplotlib inline"
   ]
  },
  {
   "cell_type": "code",
   "execution_count": 4,
   "metadata": {
    "collapsed": true
   },
   "outputs": [],
   "source": [
    "df = pd.read_pickle(\"../input/riiid-test-answer-prediction/split10/train_0.pickle\").sort_values([\"user_id\", \"timestamp\"]).reset_index(drop=True)"
   ]
  },
  {
   "cell_type": "code",
   "execution_count": null,
   "metadata": {
    "collapsed": true
   },
   "outputs": [],
   "source": []
  },
  {
   "cell_type": "code",
   "execution_count": null,
   "metadata": {
    "collapsed": true
   },
   "outputs": [],
   "source": []
  },
  {
   "cell_type": "code",
   "execution_count": 5,
   "metadata": {
    "collapsed": true
   },
   "outputs": [],
   "source": [
    "import sys\n",
    "sys.path.append(\"../\")\n",
    "# df = pd.read_pickle(\"../input/riiid-test-answer-prediction/split10/train_0.pickle\")\n",
    "df = df.sort_values([\"user_id\", \"timestamp\"])\n",
    "# large_user_id = df[\"user_id\"].value_counts()\n",
    "# large_user_id = large_user_id[large_user_id > 1000] \n",
    "# df = df[df[\"user_id\"].isin(large_user_id.index)]\n",
    "# df = df[df[\"answered_correctly\"] != -1]"
   ]
  },
  {
   "cell_type": "code",
   "execution_count": 6,
   "metadata": {
    "collapsed": true
   },
   "outputs": [],
   "source": [
    "df[\"answered_correctly\"] = df[\"answered_correctly\"].replace(-1, np.nan)"
   ]
  },
  {
   "cell_type": "code",
   "execution_count": 7,
   "metadata": {
    "collapsed": true
   },
   "outputs": [],
   "source": [
    "def f(series):\n",
    "    return series.shift(1).cumsum().fillna(0) / np.arange(len(series))\n",
    "df[\"target_enc_user_id\"] = df.groupby(\"user_id\")[\"answered_correctly\"].transform(f)"
   ]
  },
  {
   "cell_type": "code",
   "execution_count": 11,
   "metadata": {},
   "outputs": [],
   "source": [
    "aa = df.groupby([\"content_id\", \"user_answer\"]).size() / df.groupby(\"content_id\").size()"
   ]
  },
  {
   "cell_type": "code",
   "execution_count": 17,
   "metadata": {},
   "outputs": [],
   "source": [
    "df = pd.merge(df, aa.reset_index().rename(columns={0: \"ratio\"}))"
   ]
  },
  {
   "cell_type": "code",
   "execution_count": 21,
   "metadata": {},
   "outputs": [],
   "source": [
    "df[\"ratio_bin\"] = pd.cut(df[\"ratio\"], [-1, 0.1, 0.2, 0.3, 0.4, 0.5, 0.6, 0.7, 0.8, 0.9, 1.01])"
   ]
  },
  {
   "cell_type": "code",
   "execution_count": 23,
   "metadata": {},
   "outputs": [
    {
     "data": {
      "text/html": [
       "<div>\n",
       "<style scoped>\n",
       "    .dataframe tbody tr th:only-of-type {\n",
       "        vertical-align: middle;\n",
       "    }\n",
       "\n",
       "    .dataframe tbody tr th {\n",
       "        vertical-align: top;\n",
       "    }\n",
       "\n",
       "    .dataframe thead th {\n",
       "        text-align: right;\n",
       "    }\n",
       "</style>\n",
       "<table border=\"1\" class=\"dataframe\">\n",
       "  <thead>\n",
       "    <tr style=\"text-align: right;\">\n",
       "      <th></th>\n",
       "      <th>count</th>\n",
       "      <th>mean</th>\n",
       "      <th>std</th>\n",
       "      <th>min</th>\n",
       "      <th>25%</th>\n",
       "      <th>50%</th>\n",
       "      <th>75%</th>\n",
       "      <th>max</th>\n",
       "    </tr>\n",
       "    <tr>\n",
       "      <th>ratio_bin</th>\n",
       "      <th></th>\n",
       "      <th></th>\n",
       "      <th></th>\n",
       "      <th></th>\n",
       "      <th></th>\n",
       "      <th></th>\n",
       "      <th></th>\n",
       "      <th></th>\n",
       "    </tr>\n",
       "  </thead>\n",
       "  <tbody>\n",
       "    <tr>\n",
       "      <th>(-1.0, 0.1]</th>\n",
       "      <td>722410.0</td>\n",
       "      <td>0.568095</td>\n",
       "      <td>0.154991</td>\n",
       "      <td>0.0</td>\n",
       "      <td>0.500000</td>\n",
       "      <td>0.598592</td>\n",
       "      <td>0.667205</td>\n",
       "      <td>1.0</td>\n",
       "    </tr>\n",
       "    <tr>\n",
       "      <th>(0.1, 0.2]</th>\n",
       "      <td>1101096.0</td>\n",
       "      <td>0.586376</td>\n",
       "      <td>0.157236</td>\n",
       "      <td>0.0</td>\n",
       "      <td>0.521429</td>\n",
       "      <td>0.617397</td>\n",
       "      <td>0.683473</td>\n",
       "      <td>1.0</td>\n",
       "    </tr>\n",
       "    <tr>\n",
       "      <th>(0.2, 0.3]</th>\n",
       "      <td>853527.0</td>\n",
       "      <td>0.591752</td>\n",
       "      <td>0.163197</td>\n",
       "      <td>0.0</td>\n",
       "      <td>0.525424</td>\n",
       "      <td>0.625000</td>\n",
       "      <td>0.693878</td>\n",
       "      <td>1.0</td>\n",
       "    </tr>\n",
       "    <tr>\n",
       "      <th>(0.3, 0.4]</th>\n",
       "      <td>629160.0</td>\n",
       "      <td>0.611893</td>\n",
       "      <td>0.168119</td>\n",
       "      <td>0.0</td>\n",
       "      <td>0.550523</td>\n",
       "      <td>0.642857</td>\n",
       "      <td>0.711111</td>\n",
       "      <td>1.0</td>\n",
       "    </tr>\n",
       "    <tr>\n",
       "      <th>(0.4, 0.5]</th>\n",
       "      <td>700893.0</td>\n",
       "      <td>0.613097</td>\n",
       "      <td>0.173599</td>\n",
       "      <td>0.0</td>\n",
       "      <td>0.555556</td>\n",
       "      <td>0.649275</td>\n",
       "      <td>0.716237</td>\n",
       "      <td>1.0</td>\n",
       "    </tr>\n",
       "    <tr>\n",
       "      <th>(0.5, 0.6]</th>\n",
       "      <td>958369.0</td>\n",
       "      <td>0.623948</td>\n",
       "      <td>0.163672</td>\n",
       "      <td>0.0</td>\n",
       "      <td>0.577465</td>\n",
       "      <td>0.657754</td>\n",
       "      <td>0.719608</td>\n",
       "      <td>1.0</td>\n",
       "    </tr>\n",
       "    <tr>\n",
       "      <th>(0.6, 0.7]</th>\n",
       "      <td>1364772.0</td>\n",
       "      <td>0.632540</td>\n",
       "      <td>0.151396</td>\n",
       "      <td>0.0</td>\n",
       "      <td>0.587682</td>\n",
       "      <td>0.660104</td>\n",
       "      <td>0.719008</td>\n",
       "      <td>1.0</td>\n",
       "    </tr>\n",
       "    <tr>\n",
       "      <th>(0.7, 0.8]</th>\n",
       "      <td>1661611.0</td>\n",
       "      <td>0.635468</td>\n",
       "      <td>0.137701</td>\n",
       "      <td>0.0</td>\n",
       "      <td>0.588037</td>\n",
       "      <td>0.656724</td>\n",
       "      <td>0.715026</td>\n",
       "      <td>1.0</td>\n",
       "    </tr>\n",
       "    <tr>\n",
       "      <th>(0.8, 0.9]</th>\n",
       "      <td>1339830.0</td>\n",
       "      <td>0.638650</td>\n",
       "      <td>0.130218</td>\n",
       "      <td>0.0</td>\n",
       "      <td>0.586207</td>\n",
       "      <td>0.656573</td>\n",
       "      <td>0.715880</td>\n",
       "      <td>1.0</td>\n",
       "    </tr>\n",
       "    <tr>\n",
       "      <th>(0.9, 1.01]</th>\n",
       "      <td>662907.0</td>\n",
       "      <td>0.640700</td>\n",
       "      <td>0.131188</td>\n",
       "      <td>0.0</td>\n",
       "      <td>0.585492</td>\n",
       "      <td>0.656887</td>\n",
       "      <td>0.716836</td>\n",
       "      <td>1.0</td>\n",
       "    </tr>\n",
       "  </tbody>\n",
       "</table>\n",
       "</div>"
      ],
      "text/plain": [
       "                 count      mean       std  min       25%       50%       75%  \\\n",
       "ratio_bin                                                                       \n",
       "(-1.0, 0.1]   722410.0  0.568095  0.154991  0.0  0.500000  0.598592  0.667205   \n",
       "(0.1, 0.2]   1101096.0  0.586376  0.157236  0.0  0.521429  0.617397  0.683473   \n",
       "(0.2, 0.3]    853527.0  0.591752  0.163197  0.0  0.525424  0.625000  0.693878   \n",
       "(0.3, 0.4]    629160.0  0.611893  0.168119  0.0  0.550523  0.642857  0.711111   \n",
       "(0.4, 0.5]    700893.0  0.613097  0.173599  0.0  0.555556  0.649275  0.716237   \n",
       "(0.5, 0.6]    958369.0  0.623948  0.163672  0.0  0.577465  0.657754  0.719608   \n",
       "(0.6, 0.7]   1364772.0  0.632540  0.151396  0.0  0.587682  0.660104  0.719008   \n",
       "(0.7, 0.8]   1661611.0  0.635468  0.137701  0.0  0.588037  0.656724  0.715026   \n",
       "(0.8, 0.9]   1339830.0  0.638650  0.130218  0.0  0.586207  0.656573  0.715880   \n",
       "(0.9, 1.01]   662907.0  0.640700  0.131188  0.0  0.585492  0.656887  0.716836   \n",
       "\n",
       "             max  \n",
       "ratio_bin         \n",
       "(-1.0, 0.1]  1.0  \n",
       "(0.1, 0.2]   1.0  \n",
       "(0.2, 0.3]   1.0  \n",
       "(0.3, 0.4]   1.0  \n",
       "(0.4, 0.5]   1.0  \n",
       "(0.5, 0.6]   1.0  \n",
       "(0.6, 0.7]   1.0  \n",
       "(0.7, 0.8]   1.0  \n",
       "(0.8, 0.9]   1.0  \n",
       "(0.9, 1.01]  1.0  "
      ]
     },
     "execution_count": 23,
     "metadata": {},
     "output_type": "execute_result"
    }
   ],
   "source": [
    "df.groupby(\"ratio_bin\")[\"target_enc_user_id\"].describe()"
   ]
  },
  {
   "cell_type": "code",
   "execution_count": null,
   "metadata": {
    "collapsed": true
   },
   "outputs": [],
   "source": []
  }
 ],
 "metadata": {
  "kernelspec": {
   "display_name": "Python 3",
   "language": "python",
   "name": "python3"
  },
  "language_info": {
   "codemirror_mode": {
    "name": "ipython",
    "version": 3
   },
   "file_extension": ".py",
   "mimetype": "text/x-python",
   "name": "python",
   "nbconvert_exporter": "python",
   "pygments_lexer": "ipython3",
   "version": "3.6.1"
  }
 },
 "nbformat": 4,
 "nbformat_minor": 2
}
