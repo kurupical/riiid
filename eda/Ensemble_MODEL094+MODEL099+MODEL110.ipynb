{
 "cells": [
  {
   "cell_type": "code",
   "execution_count": 11,
   "metadata": {},
   "outputs": [],
   "source": [
    "import pandas as pd\n",
    "import numpy as np\n",
    "from sklearn.metrics import roc_auc_score"
   ]
  },
  {
   "cell_type": "code",
   "execution_count": 12,
   "metadata": {},
   "outputs": [],
   "source": [
    "df1 = pd.read_csv(\"../output/model084/20201217002631/transformers1.csv\")"
   ]
  },
  {
   "cell_type": "code",
   "execution_count": 13,
   "metadata": {},
   "outputs": [],
   "source": [
    "df2 = pd.read_csv(\"../output/model099/20201218000631/transformers1.csv\")"
   ]
  },
  {
   "cell_type": "code",
   "execution_count": 14,
   "metadata": {},
   "outputs": [],
   "source": [
    "df3 = pd.read_csv(\"../output/model110/20201218222728/transformers1.csv\")"
   ]
  },
  {
   "cell_type": "code",
   "execution_count": 15,
   "metadata": {},
   "outputs": [
    {
     "data": {
      "text/plain": [
       "(6136529, 6136529)"
      ]
     },
     "execution_count": 15,
     "metadata": {},
     "output_type": "execute_result"
    }
   ],
   "source": [
    "len(df1), len(df2)"
   ]
  },
  {
   "cell_type": "code",
   "execution_count": 16,
   "metadata": {},
   "outputs": [
    {
     "data": {
      "text/html": [
       "<div>\n",
       "<style scoped>\n",
       "    .dataframe tbody tr th:only-of-type {\n",
       "        vertical-align: middle;\n",
       "    }\n",
       "\n",
       "    .dataframe tbody tr th {\n",
       "        vertical-align: top;\n",
       "    }\n",
       "\n",
       "    .dataframe thead th {\n",
       "        text-align: right;\n",
       "    }\n",
       "</style>\n",
       "<table border=\"1\" class=\"dataframe\">\n",
       "  <thead>\n",
       "    <tr style=\"text-align: right;\">\n",
       "      <th></th>\n",
       "      <th>predict</th>\n",
       "      <th>target</th>\n",
       "    </tr>\n",
       "  </thead>\n",
       "  <tbody>\n",
       "    <tr>\n",
       "      <th>0</th>\n",
       "      <td>0.216067</td>\n",
       "      <td>0.0</td>\n",
       "    </tr>\n",
       "    <tr>\n",
       "      <th>1</th>\n",
       "      <td>0.254234</td>\n",
       "      <td>0.0</td>\n",
       "    </tr>\n",
       "    <tr>\n",
       "      <th>2</th>\n",
       "      <td>0.565345</td>\n",
       "      <td>1.0</td>\n",
       "    </tr>\n",
       "    <tr>\n",
       "      <th>3</th>\n",
       "      <td>0.160661</td>\n",
       "      <td>0.0</td>\n",
       "    </tr>\n",
       "    <tr>\n",
       "      <th>4</th>\n",
       "      <td>0.239658</td>\n",
       "      <td>0.0</td>\n",
       "    </tr>\n",
       "    <tr>\n",
       "      <th>...</th>\n",
       "      <td>...</td>\n",
       "      <td>...</td>\n",
       "    </tr>\n",
       "    <tr>\n",
       "      <th>6136524</th>\n",
       "      <td>0.945372</td>\n",
       "      <td>1.0</td>\n",
       "    </tr>\n",
       "    <tr>\n",
       "      <th>6136525</th>\n",
       "      <td>0.972785</td>\n",
       "      <td>1.0</td>\n",
       "    </tr>\n",
       "    <tr>\n",
       "      <th>6136526</th>\n",
       "      <td>0.859622</td>\n",
       "      <td>1.0</td>\n",
       "    </tr>\n",
       "    <tr>\n",
       "      <th>6136527</th>\n",
       "      <td>0.592618</td>\n",
       "      <td>0.0</td>\n",
       "    </tr>\n",
       "    <tr>\n",
       "      <th>6136528</th>\n",
       "      <td>0.406386</td>\n",
       "      <td>1.0</td>\n",
       "    </tr>\n",
       "  </tbody>\n",
       "</table>\n",
       "<p>6136529 rows × 2 columns</p>\n",
       "</div>"
      ],
      "text/plain": [
       "          predict  target\n",
       "0        0.216067     0.0\n",
       "1        0.254234     0.0\n",
       "2        0.565345     1.0\n",
       "3        0.160661     0.0\n",
       "4        0.239658     0.0\n",
       "...           ...     ...\n",
       "6136524  0.945372     1.0\n",
       "6136525  0.972785     1.0\n",
       "6136526  0.859622     1.0\n",
       "6136527  0.592618     0.0\n",
       "6136528  0.406386     1.0\n",
       "\n",
       "[6136529 rows x 2 columns]"
      ]
     },
     "execution_count": 16,
     "metadata": {},
     "output_type": "execute_result"
    }
   ],
   "source": [
    "df2"
   ]
  },
  {
   "cell_type": "code",
   "execution_count": 17,
   "metadata": {},
   "outputs": [
    {
     "name": "stdout",
     "output_type": "stream",
     "text": [
      "t_ratio: 0.00 AUC: 0.79624\n",
      "t_ratio: 0.05 AUC: 0.79649\n",
      "t_ratio: 0.10 AUC: 0.79671\n",
      "t_ratio: 0.15 AUC: 0.79689\n",
      "t_ratio: 0.20 AUC: 0.79703\n",
      "t_ratio: 0.25 AUC: 0.79714\n",
      "t_ratio: 0.30 AUC: 0.79721\n",
      "t_ratio: 0.35 AUC: 0.79724\n",
      "t_ratio: 0.40 AUC: 0.79724\n",
      "t_ratio: 0.45 AUC: 0.79719\n",
      "t_ratio: 0.50 AUC: 0.79711\n",
      "t_ratio: 0.55 AUC: 0.79699\n",
      "t_ratio: 0.60 AUC: 0.79683\n",
      "t_ratio: 0.65 AUC: 0.79664\n",
      "t_ratio: 0.70 AUC: 0.79641\n",
      "t_ratio: 0.75 AUC: 0.79614\n",
      "t_ratio: 0.80 AUC: 0.79583\n",
      "t_ratio: 0.85 AUC: 0.79549\n",
      "t_ratio: 0.90 AUC: 0.79511\n",
      "t_ratio: 0.95 AUC: 0.79470\n",
      "t_ratio: 1.00 AUC: 0.79425\n"
     ]
    }
   ],
   "source": [
    "for t_ratio in np.arange(0, 1.05, 0.05):\n",
    "    auc = roc_auc_score(df1[\"target\"].values, df2[\"predict\"].values*t_ratio + df3[\"predict\"].values*(1-t_ratio))\n",
    "    print(\"t_ratio: {:.2f} AUC: {:.5f}\".format(t_ratio, auc))"
   ]
  },
  {
   "cell_type": "code",
   "execution_count": 18,
   "metadata": {},
   "outputs": [
    {
     "name": "stdout",
     "output_type": "stream",
     "text": [
      "t_ratio: 0.00 AUC: 0.79624\n",
      "t_ratio: 0.05 AUC: 0.79680\n",
      "t_ratio: 0.10 AUC: 0.79729\n",
      "t_ratio: 0.15 AUC: 0.79771\n",
      "t_ratio: 0.20 AUC: 0.79805\n",
      "t_ratio: 0.25 AUC: 0.79831\n",
      "t_ratio: 0.30 AUC: 0.79849\n",
      "t_ratio: 0.35 AUC: 0.79859\n",
      "t_ratio: 0.40 AUC: 0.79862\n",
      "t_ratio: 0.45 AUC: 0.79856\n",
      "t_ratio: 0.50 AUC: 0.79842\n",
      "t_ratio: 0.55 AUC: 0.79821\n",
      "t_ratio: 0.60 AUC: 0.79791\n",
      "t_ratio: 0.65 AUC: 0.79753\n",
      "t_ratio: 0.70 AUC: 0.79708\n",
      "t_ratio: 0.75 AUC: 0.79654\n",
      "t_ratio: 0.80 AUC: 0.79593\n",
      "t_ratio: 0.85 AUC: 0.79525\n",
      "t_ratio: 0.90 AUC: 0.79449\n",
      "t_ratio: 0.95 AUC: 0.79366\n",
      "t_ratio: 1.00 AUC: 0.79276\n"
     ]
    }
   ],
   "source": [
    "for t_ratio in np.arange(0, 1.05, 0.05):\n",
    "    auc = roc_auc_score(df1[\"target\"].values, df1[\"predict\"].values*t_ratio + df3[\"predict\"].values*(1-t_ratio))\n",
    "    print(\"t_ratio: {:.2f} AUC: {:.5f}\".format(t_ratio, auc))"
   ]
  },
  {
   "cell_type": "markdown",
   "metadata": {},
   "source": [
    "## "
   ]
  }
 ],
 "metadata": {
  "kernelspec": {
   "display_name": "Python 3",
   "language": "python",
   "name": "python3"
  },
  "language_info": {
   "codemirror_mode": {
    "name": "ipython",
    "version": 3
   },
   "file_extension": ".py",
   "mimetype": "text/x-python",
   "name": "python",
   "nbconvert_exporter": "python",
   "pygments_lexer": "ipython3",
   "version": "3.8.5"
  }
 },
 "nbformat": 4,
 "nbformat_minor": 4
}
