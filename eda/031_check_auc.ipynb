{
 "cells": [
  {
   "cell_type": "code",
   "execution_count": null,
   "metadata": {
    "collapsed": true
   },
   "outputs": [],
   "source": []
  },
  {
   "cell_type": "code",
   "execution_count": 48,
   "metadata": {
    "collapsed": true
   },
   "outputs": [],
   "source": [
    "import pandas as pd\n",
    "import numpy as np\n",
    "import tqdm\n",
    "import warnings\n",
    "import matplotlib.pyplot as plt\n",
    "from sklearn.metrics import roc_auc_score\n",
    "\n",
    "pd.set_option(\"max_rows\", 200)\n",
    "pd.set_option(\"max_columns\", 50)\n",
    "tqdm.tqdm.pandas()\n",
    "%matplotlib inline"
   ]
  },
  {
   "cell_type": "code",
   "execution_count": 49,
   "metadata": {
    "collapsed": true
   },
   "outputs": [],
   "source": [
    "df = pd.read_pickle(\"../input/riiid-test-answer-prediction/split10/train_0.pickle\").sort_values([\"user_id\", \"timestamp\"]).reset_index(drop=True)"
   ]
  },
  {
   "cell_type": "code",
   "execution_count": 50,
   "metadata": {
    "collapsed": true
   },
   "outputs": [],
   "source": [
    "import sys\n",
    "sys.path.append(\"../\")\n",
    "# df = pd.read_pickle(\"../input/riiid-test-answer-prediction/split10/train_0.pickle\")\n",
    "df = df.sort_values([\"user_id\", \"timestamp\"])\n",
    "# large_user_id = df[\"user_id\"].value_counts()\n",
    "# large_user_id = large_user_id[large_user_id > 1000] \n",
    "# df = df[df[\"user_id\"].isin(large_user_id.index)]\n",
    "# df = df[df[\"answered_correctly\"] != -1]"
   ]
  },
  {
   "cell_type": "code",
   "execution_count": 51,
   "metadata": {
    "collapsed": true
   },
   "outputs": [],
   "source": [
    "df[\"answered_correctly\"] = df[\"answered_correctly\"].replace(-1, np.nan)"
   ]
  },
  {
   "cell_type": "code",
   "execution_count": 52,
   "metadata": {
    "collapsed": true
   },
   "outputs": [],
   "source": [
    "def f(series):\n",
    "    return series.shift(1).cumsum().fillna(0) / np.arange(len(series))\n"
   ]
  },
  {
   "cell_type": "code",
   "execution_count": 53,
   "metadata": {
    "collapsed": true
   },
   "outputs": [],
   "source": [
    "df[\"target_enc_content_id\"] = df.groupby(\"content_id\")[\"answered_correctly\"].transform(f)"
   ]
  },
  {
   "cell_type": "code",
   "execution_count": 54,
   "metadata": {
    "collapsed": true
   },
   "outputs": [],
   "source": [
    "df[\"target_enc_user_id\"] = df.groupby(\"user_id\")[\"answered_correctly\"].transform(f)"
   ]
  },
  {
   "cell_type": "code",
   "execution_count": 55,
   "metadata": {
    "collapsed": true
   },
   "outputs": [],
   "source": [
    "df[\"user_count\"] = df.groupby(\"user_id\").cumcount()"
   ]
  },
  {
   "cell_type": "code",
   "execution_count": 56,
   "metadata": {
    "collapsed": true
   },
   "outputs": [],
   "source": [
    "df[\"user_count_50\"] = (df[\"user_count\"] < 50)"
   ]
  },
  {
   "cell_type": "code",
   "execution_count": 57,
   "metadata": {
    "collapsed": true
   },
   "outputs": [],
   "source": [
    "df_oof = pd.read_csv(\"../output/ex_103/20201122201656/oof_train_0_lgbm.csv\")"
   ]
  },
  {
   "cell_type": "code",
   "execution_count": 58,
   "metadata": {
    "collapsed": true
   },
   "outputs": [],
   "source": [
    "df_oof = df_oof.set_index(\"row_id\")"
   ]
  },
  {
   "cell_type": "code",
   "execution_count": 59,
   "metadata": {
    "collapsed": true
   },
   "outputs": [],
   "source": [
    "df = df.reset_index()"
   ]
  },
  {
   "cell_type": "code",
   "execution_count": 60,
   "metadata": {
    "collapsed": true
   },
   "outputs": [],
   "source": [
    "df_oof = df_oof.reset_index()\n",
    "df_oof.columns = [\"index\", \"predict\", \"target\"]"
   ]
  },
  {
   "cell_type": "code",
   "execution_count": 61,
   "metadata": {},
   "outputs": [
    {
     "data": {
      "text/html": [
       "<div>\n",
       "<style scoped>\n",
       "    .dataframe tbody tr th:only-of-type {\n",
       "        vertical-align: middle;\n",
       "    }\n",
       "\n",
       "    .dataframe tbody tr th {\n",
       "        vertical-align: top;\n",
       "    }\n",
       "\n",
       "    .dataframe thead th {\n",
       "        text-align: right;\n",
       "    }\n",
       "</style>\n",
       "<table border=\"1\" class=\"dataframe\">\n",
       "  <thead>\n",
       "    <tr style=\"text-align: right;\">\n",
       "      <th></th>\n",
       "      <th>index</th>\n",
       "      <th>predict</th>\n",
       "      <th>target</th>\n",
       "    </tr>\n",
       "  </thead>\n",
       "  <tbody>\n",
       "    <tr>\n",
       "      <th>0</th>\n",
       "      <td>45</td>\n",
       "      <td>0.486944</td>\n",
       "      <td>0.0</td>\n",
       "    </tr>\n",
       "    <tr>\n",
       "      <th>1</th>\n",
       "      <td>46</td>\n",
       "      <td>0.617310</td>\n",
       "      <td>1.0</td>\n",
       "    </tr>\n",
       "    <tr>\n",
       "      <th>2</th>\n",
       "      <td>47</td>\n",
       "      <td>0.404973</td>\n",
       "      <td>0.0</td>\n",
       "    </tr>\n",
       "    <tr>\n",
       "      <th>3</th>\n",
       "      <td>48</td>\n",
       "      <td>0.460401</td>\n",
       "      <td>0.0</td>\n",
       "    </tr>\n",
       "    <tr>\n",
       "      <th>4</th>\n",
       "      <td>49</td>\n",
       "      <td>0.665140</td>\n",
       "      <td>1.0</td>\n",
       "    </tr>\n",
       "    <tr>\n",
       "      <th>...</th>\n",
       "      <td>...</td>\n",
       "      <td>...</td>\n",
       "      <td>...</td>\n",
       "    </tr>\n",
       "    <tr>\n",
       "      <th>1825192</th>\n",
       "      <td>10033861</td>\n",
       "      <td>0.862332</td>\n",
       "      <td>1.0</td>\n",
       "    </tr>\n",
       "    <tr>\n",
       "      <th>1825193</th>\n",
       "      <td>10033862</td>\n",
       "      <td>0.829812</td>\n",
       "      <td>1.0</td>\n",
       "    </tr>\n",
       "    <tr>\n",
       "      <th>1825194</th>\n",
       "      <td>10033863</td>\n",
       "      <td>0.930557</td>\n",
       "      <td>1.0</td>\n",
       "    </tr>\n",
       "    <tr>\n",
       "      <th>1825195</th>\n",
       "      <td>10033864</td>\n",
       "      <td>0.386326</td>\n",
       "      <td>0.0</td>\n",
       "    </tr>\n",
       "    <tr>\n",
       "      <th>1825196</th>\n",
       "      <td>10033865</td>\n",
       "      <td>0.978930</td>\n",
       "      <td>1.0</td>\n",
       "    </tr>\n",
       "  </tbody>\n",
       "</table>\n",
       "<p>1825197 rows × 3 columns</p>\n",
       "</div>"
      ],
      "text/plain": [
       "            index   predict  target\n",
       "0              45  0.486944     0.0\n",
       "1              46  0.617310     1.0\n",
       "2              47  0.404973     0.0\n",
       "3              48  0.460401     0.0\n",
       "4              49  0.665140     1.0\n",
       "...           ...       ...     ...\n",
       "1825192  10033861  0.862332     1.0\n",
       "1825193  10033862  0.829812     1.0\n",
       "1825194  10033863  0.930557     1.0\n",
       "1825195  10033864  0.386326     0.0\n",
       "1825196  10033865  0.978930     1.0\n",
       "\n",
       "[1825197 rows x 3 columns]"
      ]
     },
     "execution_count": 61,
     "metadata": {},
     "output_type": "execute_result"
    }
   ],
   "source": [
    "df_oof"
   ]
  },
  {
   "cell_type": "code",
   "execution_count": 62,
   "metadata": {
    "collapsed": true
   },
   "outputs": [],
   "source": [
    "df2 = pd.merge(df, df_oof, how=\"inner\")"
   ]
  },
  {
   "cell_type": "code",
   "execution_count": 63,
   "metadata": {},
   "outputs": [
    {
     "data": {
      "text/html": [
       "<div>\n",
       "<style scoped>\n",
       "    .dataframe tbody tr th:only-of-type {\n",
       "        vertical-align: middle;\n",
       "    }\n",
       "\n",
       "    .dataframe tbody tr th {\n",
       "        vertical-align: top;\n",
       "    }\n",
       "\n",
       "    .dataframe thead th {\n",
       "        text-align: right;\n",
       "    }\n",
       "</style>\n",
       "<table border=\"1\" class=\"dataframe\">\n",
       "  <thead>\n",
       "    <tr style=\"text-align: right;\">\n",
       "      <th></th>\n",
       "      <th>index</th>\n",
       "      <th>timestamp</th>\n",
       "      <th>user_id</th>\n",
       "      <th>content_id</th>\n",
       "      <th>content_type_id</th>\n",
       "      <th>task_container_id</th>\n",
       "      <th>user_answer</th>\n",
       "      <th>answered_correctly</th>\n",
       "      <th>prior_question_elapsed_time</th>\n",
       "      <th>prior_question_had_explanation</th>\n",
       "      <th>bundle_id</th>\n",
       "      <th>correct_answer</th>\n",
       "      <th>part</th>\n",
       "      <th>tags</th>\n",
       "      <th>tag</th>\n",
       "      <th>type_of</th>\n",
       "      <th>target_enc_content_id</th>\n",
       "      <th>target_enc_user_id</th>\n",
       "      <th>user_count</th>\n",
       "      <th>user_count_50</th>\n",
       "      <th>predict</th>\n",
       "      <th>target</th>\n",
       "    </tr>\n",
       "  </thead>\n",
       "  <tbody>\n",
       "    <tr>\n",
       "      <th>0</th>\n",
       "      <td>45</td>\n",
       "      <td>1453702</td>\n",
       "      <td>24600</td>\n",
       "      <td>1262</td>\n",
       "      <td>0</td>\n",
       "      <td>31</td>\n",
       "      <td>0</td>\n",
       "      <td>0.0</td>\n",
       "      <td>16000.0</td>\n",
       "      <td>True</td>\n",
       "      <td>1262</td>\n",
       "      <td>1</td>\n",
       "      <td>2</td>\n",
       "      <td>143 71 81 29</td>\n",
       "      <td>-1</td>\n",
       "      <td>NaN</td>\n",
       "      <td>NaN</td>\n",
       "      <td>0.333333</td>\n",
       "      <td>45</td>\n",
       "      <td>True</td>\n",
       "      <td>0.486944</td>\n",
       "      <td>0.0</td>\n",
       "    </tr>\n",
       "    <tr>\n",
       "      <th>1</th>\n",
       "      <td>46</td>\n",
       "      <td>1477283</td>\n",
       "      <td>24600</td>\n",
       "      <td>1348</td>\n",
       "      <td>0</td>\n",
       "      <td>32</td>\n",
       "      <td>3</td>\n",
       "      <td>1.0</td>\n",
       "      <td>19000.0</td>\n",
       "      <td>True</td>\n",
       "      <td>1348</td>\n",
       "      <td>3</td>\n",
       "      <td>2</td>\n",
       "      <td>143 105 81 92</td>\n",
       "      <td>-1</td>\n",
       "      <td>NaN</td>\n",
       "      <td>NaN</td>\n",
       "      <td>0.326087</td>\n",
       "      <td>46</td>\n",
       "      <td>True</td>\n",
       "      <td>0.617310</td>\n",
       "      <td>1.0</td>\n",
       "    </tr>\n",
       "    <tr>\n",
       "      <th>2</th>\n",
       "      <td>47</td>\n",
       "      <td>1502268</td>\n",
       "      <td>24600</td>\n",
       "      <td>10686</td>\n",
       "      <td>0</td>\n",
       "      <td>33</td>\n",
       "      <td>3</td>\n",
       "      <td>0.0</td>\n",
       "      <td>14000.0</td>\n",
       "      <td>True</td>\n",
       "      <td>10686</td>\n",
       "      <td>0</td>\n",
       "      <td>2</td>\n",
       "      <td>62 137 142 38 29</td>\n",
       "      <td>-1</td>\n",
       "      <td>NaN</td>\n",
       "      <td>NaN</td>\n",
       "      <td>0.340426</td>\n",
       "      <td>47</td>\n",
       "      <td>True</td>\n",
       "      <td>0.404973</td>\n",
       "      <td>0.0</td>\n",
       "    </tr>\n",
       "    <tr>\n",
       "      <th>3</th>\n",
       "      <td>48</td>\n",
       "      <td>1526285</td>\n",
       "      <td>24600</td>\n",
       "      <td>754</td>\n",
       "      <td>0</td>\n",
       "      <td>34</td>\n",
       "      <td>3</td>\n",
       "      <td>0.0</td>\n",
       "      <td>19000.0</td>\n",
       "      <td>True</td>\n",
       "      <td>754</td>\n",
       "      <td>1</td>\n",
       "      <td>2</td>\n",
       "      <td>137 88 38 81</td>\n",
       "      <td>-1</td>\n",
       "      <td>NaN</td>\n",
       "      <td>NaN</td>\n",
       "      <td>0.333333</td>\n",
       "      <td>48</td>\n",
       "      <td>True</td>\n",
       "      <td>0.460401</td>\n",
       "      <td>0.0</td>\n",
       "    </tr>\n",
       "    <tr>\n",
       "      <th>4</th>\n",
       "      <td>49</td>\n",
       "      <td>1550831</td>\n",
       "      <td>24600</td>\n",
       "      <td>801</td>\n",
       "      <td>0</td>\n",
       "      <td>35</td>\n",
       "      <td>0</td>\n",
       "      <td>1.0</td>\n",
       "      <td>14000.0</td>\n",
       "      <td>True</td>\n",
       "      <td>801</td>\n",
       "      <td>0</td>\n",
       "      <td>2</td>\n",
       "      <td>143 20 38 29</td>\n",
       "      <td>-1</td>\n",
       "      <td>NaN</td>\n",
       "      <td>NaN</td>\n",
       "      <td>0.326531</td>\n",
       "      <td>49</td>\n",
       "      <td>True</td>\n",
       "      <td>0.665140</td>\n",
       "      <td>1.0</td>\n",
       "    </tr>\n",
       "    <tr>\n",
       "      <th>...</th>\n",
       "      <td>...</td>\n",
       "      <td>...</td>\n",
       "      <td>...</td>\n",
       "      <td>...</td>\n",
       "      <td>...</td>\n",
       "      <td>...</td>\n",
       "      <td>...</td>\n",
       "      <td>...</td>\n",
       "      <td>...</td>\n",
       "      <td>...</td>\n",
       "      <td>...</td>\n",
       "      <td>...</td>\n",
       "      <td>...</td>\n",
       "      <td>...</td>\n",
       "      <td>...</td>\n",
       "      <td>...</td>\n",
       "      <td>...</td>\n",
       "      <td>...</td>\n",
       "      <td>...</td>\n",
       "      <td>...</td>\n",
       "      <td>...</td>\n",
       "      <td>...</td>\n",
       "    </tr>\n",
       "    <tr>\n",
       "      <th>1825192</th>\n",
       "      <td>10033861</td>\n",
       "      <td>55863864</td>\n",
       "      <td>2147481750</td>\n",
       "      <td>9980</td>\n",
       "      <td>0</td>\n",
       "      <td>45</td>\n",
       "      <td>2</td>\n",
       "      <td>1.0</td>\n",
       "      <td>3000.0</td>\n",
       "      <td>True</td>\n",
       "      <td>9980</td>\n",
       "      <td>2</td>\n",
       "      <td>5</td>\n",
       "      <td>79</td>\n",
       "      <td>-1</td>\n",
       "      <td>NaN</td>\n",
       "      <td>0.876126</td>\n",
       "      <td>0.755556</td>\n",
       "      <td>45</td>\n",
       "      <td>True</td>\n",
       "      <td>0.862332</td>\n",
       "      <td>1.0</td>\n",
       "    </tr>\n",
       "    <tr>\n",
       "      <th>1825193</th>\n",
       "      <td>10033862</td>\n",
       "      <td>55884826</td>\n",
       "      <td>2147481750</td>\n",
       "      <td>5528</td>\n",
       "      <td>0</td>\n",
       "      <td>46</td>\n",
       "      <td>2</td>\n",
       "      <td>1.0</td>\n",
       "      <td>28000.0</td>\n",
       "      <td>True</td>\n",
       "      <td>5528</td>\n",
       "      <td>2</td>\n",
       "      <td>5</td>\n",
       "      <td>14</td>\n",
       "      <td>-1</td>\n",
       "      <td>NaN</td>\n",
       "      <td>0.782986</td>\n",
       "      <td>0.760870</td>\n",
       "      <td>46</td>\n",
       "      <td>True</td>\n",
       "      <td>0.829812</td>\n",
       "      <td>1.0</td>\n",
       "    </tr>\n",
       "    <tr>\n",
       "      <th>1825194</th>\n",
       "      <td>10033863</td>\n",
       "      <td>55910967</td>\n",
       "      <td>2147481750</td>\n",
       "      <td>5279</td>\n",
       "      <td>0</td>\n",
       "      <td>47</td>\n",
       "      <td>3</td>\n",
       "      <td>1.0</td>\n",
       "      <td>14000.0</td>\n",
       "      <td>True</td>\n",
       "      <td>5279</td>\n",
       "      <td>3</td>\n",
       "      <td>5</td>\n",
       "      <td>177</td>\n",
       "      <td>-1</td>\n",
       "      <td>NaN</td>\n",
       "      <td>0.887789</td>\n",
       "      <td>0.765957</td>\n",
       "      <td>47</td>\n",
       "      <td>True</td>\n",
       "      <td>0.930557</td>\n",
       "      <td>1.0</td>\n",
       "    </tr>\n",
       "    <tr>\n",
       "      <th>1825195</th>\n",
       "      <td>10033864</td>\n",
       "      <td>55938555</td>\n",
       "      <td>2147481750</td>\n",
       "      <td>5222</td>\n",
       "      <td>0</td>\n",
       "      <td>48</td>\n",
       "      <td>1</td>\n",
       "      <td>0.0</td>\n",
       "      <td>20000.0</td>\n",
       "      <td>True</td>\n",
       "      <td>5222</td>\n",
       "      <td>2</td>\n",
       "      <td>5</td>\n",
       "      <td>175</td>\n",
       "      <td>-1</td>\n",
       "      <td>NaN</td>\n",
       "      <td>0.494242</td>\n",
       "      <td>0.770833</td>\n",
       "      <td>48</td>\n",
       "      <td>True</td>\n",
       "      <td>0.386326</td>\n",
       "      <td>0.0</td>\n",
       "    </tr>\n",
       "    <tr>\n",
       "      <th>1825196</th>\n",
       "      <td>10033865</td>\n",
       "      <td>55954768</td>\n",
       "      <td>2147481750</td>\n",
       "      <td>8558</td>\n",
       "      <td>0</td>\n",
       "      <td>49</td>\n",
       "      <td>0</td>\n",
       "      <td>1.0</td>\n",
       "      <td>21000.0</td>\n",
       "      <td>True</td>\n",
       "      <td>8558</td>\n",
       "      <td>0</td>\n",
       "      <td>5</td>\n",
       "      <td>96</td>\n",
       "      <td>-1</td>\n",
       "      <td>NaN</td>\n",
       "      <td>0.922222</td>\n",
       "      <td>0.755102</td>\n",
       "      <td>49</td>\n",
       "      <td>True</td>\n",
       "      <td>0.978930</td>\n",
       "      <td>1.0</td>\n",
       "    </tr>\n",
       "  </tbody>\n",
       "</table>\n",
       "<p>1825197 rows × 22 columns</p>\n",
       "</div>"
      ],
      "text/plain": [
       "            index  timestamp     user_id  content_id  content_type_id  \\\n",
       "0              45    1453702       24600        1262                0   \n",
       "1              46    1477283       24600        1348                0   \n",
       "2              47    1502268       24600       10686                0   \n",
       "3              48    1526285       24600         754                0   \n",
       "4              49    1550831       24600         801                0   \n",
       "...           ...        ...         ...         ...              ...   \n",
       "1825192  10033861   55863864  2147481750        9980                0   \n",
       "1825193  10033862   55884826  2147481750        5528                0   \n",
       "1825194  10033863   55910967  2147481750        5279                0   \n",
       "1825195  10033864   55938555  2147481750        5222                0   \n",
       "1825196  10033865   55954768  2147481750        8558                0   \n",
       "\n",
       "         task_container_id  user_answer  answered_correctly  \\\n",
       "0                       31            0                 0.0   \n",
       "1                       32            3                 1.0   \n",
       "2                       33            3                 0.0   \n",
       "3                       34            3                 0.0   \n",
       "4                       35            0                 1.0   \n",
       "...                    ...          ...                 ...   \n",
       "1825192                 45            2                 1.0   \n",
       "1825193                 46            2                 1.0   \n",
       "1825194                 47            3                 1.0   \n",
       "1825195                 48            1                 0.0   \n",
       "1825196                 49            0                 1.0   \n",
       "\n",
       "         prior_question_elapsed_time prior_question_had_explanation  \\\n",
       "0                            16000.0                           True   \n",
       "1                            19000.0                           True   \n",
       "2                            14000.0                           True   \n",
       "3                            19000.0                           True   \n",
       "4                            14000.0                           True   \n",
       "...                              ...                            ...   \n",
       "1825192                       3000.0                           True   \n",
       "1825193                      28000.0                           True   \n",
       "1825194                      14000.0                           True   \n",
       "1825195                      20000.0                           True   \n",
       "1825196                      21000.0                           True   \n",
       "\n",
       "         bundle_id  correct_answer  part              tags  tag type_of  \\\n",
       "0             1262               1     2      143 71 81 29   -1     NaN   \n",
       "1             1348               3     2     143 105 81 92   -1     NaN   \n",
       "2            10686               0     2  62 137 142 38 29   -1     NaN   \n",
       "3              754               1     2      137 88 38 81   -1     NaN   \n",
       "4              801               0     2      143 20 38 29   -1     NaN   \n",
       "...            ...             ...   ...               ...  ...     ...   \n",
       "1825192       9980               2     5                79   -1     NaN   \n",
       "1825193       5528               2     5                14   -1     NaN   \n",
       "1825194       5279               3     5               177   -1     NaN   \n",
       "1825195       5222               2     5               175   -1     NaN   \n",
       "1825196       8558               0     5                96   -1     NaN   \n",
       "\n",
       "         target_enc_content_id  target_enc_user_id  user_count  user_count_50  \\\n",
       "0                          NaN            0.333333          45           True   \n",
       "1                          NaN            0.326087          46           True   \n",
       "2                          NaN            0.340426          47           True   \n",
       "3                          NaN            0.333333          48           True   \n",
       "4                          NaN            0.326531          49           True   \n",
       "...                        ...                 ...         ...            ...   \n",
       "1825192               0.876126            0.755556          45           True   \n",
       "1825193               0.782986            0.760870          46           True   \n",
       "1825194               0.887789            0.765957          47           True   \n",
       "1825195               0.494242            0.770833          48           True   \n",
       "1825196               0.922222            0.755102          49           True   \n",
       "\n",
       "          predict  target  \n",
       "0        0.486944     0.0  \n",
       "1        0.617310     1.0  \n",
       "2        0.404973     0.0  \n",
       "3        0.460401     0.0  \n",
       "4        0.665140     1.0  \n",
       "...           ...     ...  \n",
       "1825192  0.862332     1.0  \n",
       "1825193  0.829812     1.0  \n",
       "1825194  0.930557     1.0  \n",
       "1825195  0.386326     0.0  \n",
       "1825196  0.978930     1.0  \n",
       "\n",
       "[1825197 rows x 22 columns]"
      ]
     },
     "execution_count": 63,
     "metadata": {},
     "output_type": "execute_result"
    }
   ],
   "source": [
    "df2"
   ]
  },
  {
   "cell_type": "code",
   "execution_count": 64,
   "metadata": {
    "collapsed": true
   },
   "outputs": [],
   "source": [
    "df2 = df2[df2[\"answered_correctly\"].notnull()]"
   ]
  },
  {
   "cell_type": "code",
   "execution_count": 66,
   "metadata": {},
   "outputs": [
    {
     "data": {
      "text/plain": [
       "1825197"
      ]
     },
     "execution_count": 66,
     "metadata": {},
     "output_type": "execute_result"
    }
   ],
   "source": [
    "(df2[\"answered_correctly\"] == df2[\"target\"]).sum()"
   ]
  },
  {
   "cell_type": "code",
   "execution_count": null,
   "metadata": {
    "collapsed": true
   },
   "outputs": [],
   "source": []
  },
  {
   "cell_type": "code",
   "execution_count": 85,
   "metadata": {},
   "outputs": [
    {
     "data": {
      "text/plain": [
       "0.7821607233102398"
      ]
     },
     "execution_count": 85,
     "metadata": {},
     "output_type": "execute_result"
    }
   ],
   "source": [
    "roc_auc_score(df2[\"target\"].values, df2[\"predict\"].values)"
   ]
  },
  {
   "cell_type": "markdown",
   "metadata": {},
   "source": [
    "# user_count < 50"
   ]
  },
  {
   "cell_type": "code",
   "execution_count": 70,
   "metadata": {
    "collapsed": true
   },
   "outputs": [],
   "source": []
  },
  {
   "cell_type": "code",
   "execution_count": 86,
   "metadata": {},
   "outputs": [
    {
     "name": "stdout",
     "output_type": "stream",
     "text": [
      "148399 0.7628736577283417\n"
     ]
    }
   ],
   "source": [
    "w_df = df2[df2[\"user_count\"] < 30]\n",
    "\n",
    "print(len(w_df), roc_auc_score(w_df[\"target\"].values, w_df[\"predict\"].values))"
   ]
  },
  {
   "cell_type": "code",
   "execution_count": null,
   "metadata": {
    "collapsed": true
   },
   "outputs": [],
   "source": []
  },
  {
   "cell_type": "code",
   "execution_count": 87,
   "metadata": {},
   "outputs": [
    {
     "name": "stdout",
     "output_type": "stream",
     "text": [
      "1673174 0.7796412245412583\n"
     ]
    }
   ],
   "source": [
    "w_df = df2[df2[\"user_count\"] > 30]\n",
    "print(len(w_df), roc_auc_score(w_df[\"target\"].values, w_df[\"predict\"].values))"
   ]
  },
  {
   "cell_type": "code",
   "execution_count": null,
   "metadata": {
    "collapsed": true
   },
   "outputs": [],
   "source": []
  },
  {
   "cell_type": "code",
   "execution_count": 91,
   "metadata": {},
   "outputs": [
    {
     "name": "stdout",
     "output_type": "stream",
     "text": [
      "part=1, n=115860: auc=0.809\n",
      "part=2, n=356685: auc=0.7552\n",
      "part=3, n=150430: auc=0.8008\n",
      "part=4, n=137949: auc=0.8173\n",
      "part=5, n=775714: auc=0.76\n",
      "part=6, n=181319: auc=0.7977\n",
      "part=7, n=107240: auc=0.8192\n"
     ]
    }
   ],
   "source": [
    "for part in [1, 2, 3, 4, 5, 6, 7]:\n",
    "    \n",
    "    w_df = df2[df2[\"part\"] == part]\n",
    "    print(f\"part={part}, n={len(w_df)}: auc={round(roc_auc_score(w_df['target'].values, w_df['predict'].values), 4)}\")"
   ]
  },
  {
   "cell_type": "markdown",
   "metadata": {},
   "source": [
    "# part2"
   ]
  },
  {
   "cell_type": "code",
   "execution_count": 106,
   "metadata": {},
   "outputs": [
    {
     "data": {
      "text/plain": [
       "<matplotlib.axes._subplots.AxesSubplot at 0x7f7fc88178d0>"
      ]
     },
     "execution_count": 106,
     "metadata": {},
     "output_type": "execute_result"
    },
    {
     "data": {
      "image/png": "[encoded data removed]",
      "text/plain": [
       "<Figure size 432x288 with 1 Axes>"
      ]
     },
     "metadata": {},
     "output_type": "display_data"
    }
   ],
   "source": [
    "w_df = df2[df2[\"part\"] == 2]\n",
    "w_df[w_df[\"target\"]==0][\"predict\"].hist(bins=100, alpha=0.2, color=\"red\")\n",
    "w_df[w_df[\"target\"]==1][\"predict\"].hist(bins=100, alpha=0.2, color=\"green\")"
   ]
  },
  {
   "cell_type": "code",
   "execution_count": 108,
   "metadata": {},
   "outputs": [
    {
     "data": {
      "text/plain": [
       "0    125423\n",
       "3    119179\n",
       "1    112083\n",
       "Name: user_answer, dtype: int64"
      ]
     },
     "execution_count": 108,
     "metadata": {},
     "output_type": "execute_result"
    }
   ],
   "source": [
    "w_df[\"user_answer\"].value_counts()"
   ]
  },
  {
   "cell_type": "code",
   "execution_count": null,
   "metadata": {
    "collapsed": true
   },
   "outputs": [],
   "source": []
  },
  {
   "cell_type": "markdown",
   "metadata": {},
   "source": [
    "# part5"
   ]
  },
  {
   "cell_type": "code",
   "execution_count": 109,
   "metadata": {},
   "outputs": [
    {
     "data": {
      "text/plain": [
       "<matplotlib.axes._subplots.AxesSubplot at 0x7f7fc858d5f8>"
      ]
     },
     "execution_count": 109,
     "metadata": {},
     "output_type": "execute_result"
    },
    {
     "data": {
      "image/png": "[encoded data removed]",
      "text/plain": [
       "<Figure size 432x288 with 1 Axes>"
      ]
     },
     "metadata": {},
     "output_type": "display_data"
    }
   ],
   "source": [
    "w_df = df2[df2[\"part\"] == 5]\n",
    "w_df[w_df[\"target\"]==0][\"predict\"].hist(bins=100, alpha=0.2, color=\"red\")\n",
    "w_df[w_df[\"target\"]==1][\"predict\"].hist(bins=100, alpha=0.2, color=\"green\")"
   ]
  },
  {
   "cell_type": "code",
   "execution_count": 110,
   "metadata": {},
   "outputs": [
    {
     "data": {
      "text/plain": [
       "0    211040\n",
       "1    209349\n",
       "3    188802\n",
       "2    166523\n",
       "Name: user_answer, dtype: int64"
      ]
     },
     "execution_count": 110,
     "metadata": {},
     "output_type": "execute_result"
    }
   ],
   "source": [
    "w_df[\"user_answer\"].value_counts()"
   ]
  },
  {
   "cell_type": "code",
   "execution_count": null,
   "metadata": {
    "collapsed": true
   },
   "outputs": [],
   "source": []
  },
  {
   "cell_type": "code",
   "execution_count": null,
   "metadata": {
    "collapsed": true
   },
   "outputs": [],
   "source": []
  },
  {
   "cell_type": "markdown",
   "metadata": {},
   "source": [
    "# part7"
   ]
  },
  {
   "cell_type": "code",
   "execution_count": 105,
   "metadata": {},
   "outputs": [
    {
     "data": {
      "text/plain": [
       "<matplotlib.axes._subplots.AxesSubplot at 0x7f7fddcdfb70>"
      ]
     },
     "execution_count": 105,
     "metadata": {},
     "output_type": "execute_result"
    },
    {
     "data": {
      "image/png": "[encoded data removed]",
      "text/plain": [
       "<Figure size 432x288 with 1 Axes>"
      ]
     },
     "metadata": {},
     "output_type": "display_data"
    }
   ],
   "source": [
    "w_df = df2[df2[\"part\"] == 7]\n",
    "w_df[w_df[\"target\"]==0][\"predict\"].hist(bins=100, alpha=0.2, color=\"red\")\n",
    "w_df[w_df[\"target\"]==1][\"predict\"].hist(bins=100, alpha=0.2, color=\"green\")"
   ]
  },
  {
   "cell_type": "code",
   "execution_count": null,
   "metadata": {
    "collapsed": true
   },
   "outputs": [],
   "source": []
  },
  {
   "cell_type": "code",
   "execution_count": null,
   "metadata": {
    "collapsed": true
   },
   "outputs": [],
   "source": []
  },
  {
   "cell_type": "code",
   "execution_count": 122,
   "metadata": {
    "collapsed": true
   },
   "outputs": [],
   "source": [
    "df2[\"pay_money\"] = (df2[\"part\"] != 2).astype(\"int\") * (df2[\"part\"] != 5).astype(\"int\")"
   ]
  },
  {
   "cell_type": "code",
   "execution_count": 123,
   "metadata": {
    "collapsed": true
   },
   "outputs": [],
   "source": [
    "df2[\"user_pay_money\"] = (df2.groupby(\"user_id\")[\"pay_money\"].cumsum() > 0).astype(\"int\")"
   ]
  },
  {
   "cell_type": "code",
   "execution_count": null,
   "metadata": {
    "collapsed": true
   },
   "outputs": [],
   "source": []
  },
  {
   "cell_type": "code",
   "execution_count": 126,
   "metadata": {},
   "outputs": [
    {
     "name": "stdout",
     "output_type": "stream",
     "text": [
      "n=438540: auc=0.758\n",
      "n=1386657: auc=0.7892\n"
     ]
    }
   ],
   "source": [
    "w_df = df2[df2[\"user_pay_money\"] == 0]\n",
    "print(f\"n={len(w_df)}: auc={round(roc_auc_score(w_df['target'].values, w_df['predict'].values), 4)}\")\n",
    "w_df = df2[df2[\"user_pay_money\"] == 1]\n",
    "print(f\"n={len(w_df)}: auc={round(roc_auc_score(w_df['target'].values, w_df['predict'].values), 4)}\")"
   ]
  },
  {
   "cell_type": "code",
   "execution_count": null,
   "metadata": {
    "collapsed": true
   },
   "outputs": [],
   "source": []
  },
  {
   "cell_type": "code",
   "execution_count": 128,
   "metadata": {},
   "outputs": [
    {
     "name": "stdout",
     "output_type": "stream",
     "text": [
      "part=1, n=115860: auc=0.809\n",
      "part=2, n=225000: auc=0.7567\n",
      "part=3, n=150430: auc=0.8008\n",
      "part=4, n=137949: auc=0.8173\n",
      "part=5, n=468859: auc=0.7635\n",
      "part=6, n=181319: auc=0.7977\n",
      "part=7, n=107240: auc=0.8192\n"
     ]
    }
   ],
   "source": [
    "for part in [1, 2, 3, 4, 5, 6, 7]:\n",
    "    \n",
    "    w_df = df2[df2[\"part\"] == part]\n",
    "    w_df = w_df[w_df[\"user_pay_money\"] == 1]\n",
    "    print(f\"part={part}, n={len(w_df)}: auc={round(roc_auc_score(w_df['target'].values, w_df['predict'].values), 4)}\")"
   ]
  },
  {
   "cell_type": "code",
   "execution_count": 129,
   "metadata": {},
   "outputs": [
    {
     "name": "stdout",
     "output_type": "stream",
     "text": [
      "part=2, n=131685: auc=0.7525\n",
      "part=5, n=306855: auc=0.7543\n"
     ]
    }
   ],
   "source": [
    "for part in [2, 5]:\n",
    "    \n",
    "    w_df = df2[df2[\"part\"] == part]\n",
    "    w_df = w_df[w_df[\"user_pay_money\"] == 0]\n",
    "    print(f\"part={part}, n={len(w_df)}: auc={round(roc_auc_score(w_df['target'].values, w_df['predict'].values), 4)}\")"
   ]
  },
  {
   "cell_type": "code",
   "execution_count": 133,
   "metadata": {},
   "outputs": [
    {
     "data": {
      "text/html": [
       "<div>\n",
       "<style scoped>\n",
       "    .dataframe tbody tr th:only-of-type {\n",
       "        vertical-align: middle;\n",
       "    }\n",
       "\n",
       "    .dataframe tbody tr th {\n",
       "        vertical-align: top;\n",
       "    }\n",
       "\n",
       "    .dataframe thead th {\n",
       "        text-align: right;\n",
       "    }\n",
       "</style>\n",
       "<table border=\"1\" class=\"dataframe\">\n",
       "  <thead>\n",
       "    <tr style=\"text-align: right;\">\n",
       "      <th></th>\n",
       "      <th></th>\n",
       "      <th></th>\n",
       "      <th>count</th>\n",
       "      <th>mean</th>\n",
       "      <th>std</th>\n",
       "      <th>min</th>\n",
       "      <th>25%</th>\n",
       "      <th>50%</th>\n",
       "      <th>75%</th>\n",
       "      <th>max</th>\n",
       "    </tr>\n",
       "    <tr>\n",
       "      <th>user_count_50</th>\n",
       "      <th>user_pay_money</th>\n",
       "      <th>part</th>\n",
       "      <th></th>\n",
       "      <th></th>\n",
       "      <th></th>\n",
       "      <th></th>\n",
       "      <th></th>\n",
       "      <th></th>\n",
       "      <th></th>\n",
       "      <th></th>\n",
       "    </tr>\n",
       "  </thead>\n",
       "  <tbody>\n",
       "    <tr>\n",
       "      <th rowspan=\"9\" valign=\"top\">False</th>\n",
       "      <th rowspan=\"2\" valign=\"top\">0</th>\n",
       "      <th>2</th>\n",
       "      <td>106239.0</td>\n",
       "      <td>0.709673</td>\n",
       "      <td>0.453915</td>\n",
       "      <td>0.0</td>\n",
       "      <td>0.0</td>\n",
       "      <td>1.0</td>\n",
       "      <td>1.0</td>\n",
       "      <td>1.0</td>\n",
       "    </tr>\n",
       "    <tr>\n",
       "      <th>5</th>\n",
       "      <td>244140.0</td>\n",
       "      <td>0.617089</td>\n",
       "      <td>0.486098</td>\n",
       "      <td>0.0</td>\n",
       "      <td>0.0</td>\n",
       "      <td>1.0</td>\n",
       "      <td>1.0</td>\n",
       "      <td>1.0</td>\n",
       "    </tr>\n",
       "    <tr>\n",
       "      <th rowspan=\"7\" valign=\"top\">1</th>\n",
       "      <th>1</th>\n",
       "      <td>95766.0</td>\n",
       "      <td>0.761732</td>\n",
       "      <td>0.426026</td>\n",
       "      <td>0.0</td>\n",
       "      <td>1.0</td>\n",
       "      <td>1.0</td>\n",
       "      <td>1.0</td>\n",
       "      <td>1.0</td>\n",
       "    </tr>\n",
       "    <tr>\n",
       "      <th>2</th>\n",
       "      <td>209038.0</td>\n",
       "      <td>0.710292</td>\n",
       "      <td>0.453628</td>\n",
       "      <td>0.0</td>\n",
       "      <td>0.0</td>\n",
       "      <td>1.0</td>\n",
       "      <td>1.0</td>\n",
       "      <td>1.0</td>\n",
       "    </tr>\n",
       "    <tr>\n",
       "      <th>3</th>\n",
       "      <td>144199.0</td>\n",
       "      <td>0.713569</td>\n",
       "      <td>0.452095</td>\n",
       "      <td>0.0</td>\n",
       "      <td>0.0</td>\n",
       "      <td>1.0</td>\n",
       "      <td>1.0</td>\n",
       "      <td>1.0</td>\n",
       "    </tr>\n",
       "    <tr>\n",
       "      <th>4</th>\n",
       "      <td>122229.0</td>\n",
       "      <td>0.681630</td>\n",
       "      <td>0.465846</td>\n",
       "      <td>0.0</td>\n",
       "      <td>0.0</td>\n",
       "      <td>1.0</td>\n",
       "      <td>1.0</td>\n",
       "      <td>1.0</td>\n",
       "    </tr>\n",
       "    <tr>\n",
       "      <th>5</th>\n",
       "      <td>436195.0</td>\n",
       "      <td>0.619432</td>\n",
       "      <td>0.485527</td>\n",
       "      <td>0.0</td>\n",
       "      <td>0.0</td>\n",
       "      <td>1.0</td>\n",
       "      <td>1.0</td>\n",
       "      <td>1.0</td>\n",
       "    </tr>\n",
       "    <tr>\n",
       "      <th>6</th>\n",
       "      <td>171142.0</td>\n",
       "      <td>0.676327</td>\n",
       "      <td>0.467878</td>\n",
       "      <td>0.0</td>\n",
       "      <td>0.0</td>\n",
       "      <td>1.0</td>\n",
       "      <td>1.0</td>\n",
       "      <td>1.0</td>\n",
       "    </tr>\n",
       "    <tr>\n",
       "      <th>7</th>\n",
       "      <td>84030.0</td>\n",
       "      <td>0.675057</td>\n",
       "      <td>0.468357</td>\n",
       "      <td>0.0</td>\n",
       "      <td>0.0</td>\n",
       "      <td>1.0</td>\n",
       "      <td>1.0</td>\n",
       "      <td>1.0</td>\n",
       "    </tr>\n",
       "    <tr>\n",
       "      <th rowspan=\"9\" valign=\"top\">True</th>\n",
       "      <th rowspan=\"2\" valign=\"top\">0</th>\n",
       "      <th>2</th>\n",
       "      <td>25446.0</td>\n",
       "      <td>0.647725</td>\n",
       "      <td>0.477689</td>\n",
       "      <td>0.0</td>\n",
       "      <td>0.0</td>\n",
       "      <td>1.0</td>\n",
       "      <td>1.0</td>\n",
       "      <td>1.0</td>\n",
       "    </tr>\n",
       "    <tr>\n",
       "      <th>5</th>\n",
       "      <td>62715.0</td>\n",
       "      <td>0.527848</td>\n",
       "      <td>0.499228</td>\n",
       "      <td>0.0</td>\n",
       "      <td>0.0</td>\n",
       "      <td>1.0</td>\n",
       "      <td>1.0</td>\n",
       "      <td>1.0</td>\n",
       "    </tr>\n",
       "    <tr>\n",
       "      <th rowspan=\"7\" valign=\"top\">1</th>\n",
       "      <th>1</th>\n",
       "      <td>20094.0</td>\n",
       "      <td>0.634518</td>\n",
       "      <td>0.481577</td>\n",
       "      <td>0.0</td>\n",
       "      <td>0.0</td>\n",
       "      <td>1.0</td>\n",
       "      <td>1.0</td>\n",
       "      <td>1.0</td>\n",
       "    </tr>\n",
       "    <tr>\n",
       "      <th>2</th>\n",
       "      <td>15962.0</td>\n",
       "      <td>0.677923</td>\n",
       "      <td>0.467287</td>\n",
       "      <td>0.0</td>\n",
       "      <td>0.0</td>\n",
       "      <td>1.0</td>\n",
       "      <td>1.0</td>\n",
       "      <td>1.0</td>\n",
       "    </tr>\n",
       "    <tr>\n",
       "      <th>3</th>\n",
       "      <td>6231.0</td>\n",
       "      <td>0.493179</td>\n",
       "      <td>0.499994</td>\n",
       "      <td>0.0</td>\n",
       "      <td>0.0</td>\n",
       "      <td>0.0</td>\n",
       "      <td>1.0</td>\n",
       "      <td>1.0</td>\n",
       "    </tr>\n",
       "    <tr>\n",
       "      <th>4</th>\n",
       "      <td>15720.0</td>\n",
       "      <td>0.367875</td>\n",
       "      <td>0.482243</td>\n",
       "      <td>0.0</td>\n",
       "      <td>0.0</td>\n",
       "      <td>0.0</td>\n",
       "      <td>1.0</td>\n",
       "      <td>1.0</td>\n",
       "    </tr>\n",
       "    <tr>\n",
       "      <th>5</th>\n",
       "      <td>32664.0</td>\n",
       "      <td>0.501623</td>\n",
       "      <td>0.500005</td>\n",
       "      <td>0.0</td>\n",
       "      <td>0.0</td>\n",
       "      <td>1.0</td>\n",
       "      <td>1.0</td>\n",
       "      <td>1.0</td>\n",
       "    </tr>\n",
       "    <tr>\n",
       "      <th>6</th>\n",
       "      <td>10177.0</td>\n",
       "      <td>0.535128</td>\n",
       "      <td>0.498789</td>\n",
       "      <td>0.0</td>\n",
       "      <td>0.0</td>\n",
       "      <td>1.0</td>\n",
       "      <td>1.0</td>\n",
       "      <td>1.0</td>\n",
       "    </tr>\n",
       "    <tr>\n",
       "      <th>7</th>\n",
       "      <td>23210.0</td>\n",
       "      <td>0.406549</td>\n",
       "      <td>0.491200</td>\n",
       "      <td>0.0</td>\n",
       "      <td>0.0</td>\n",
       "      <td>0.0</td>\n",
       "      <td>1.0</td>\n",
       "      <td>1.0</td>\n",
       "    </tr>\n",
       "  </tbody>\n",
       "</table>\n",
       "</div>"
      ],
      "text/plain": [
       "                                      count      mean       std  min  25%  \\\n",
       "user_count_50 user_pay_money part                                           \n",
       "False         0              2     106239.0  0.709673  0.453915  0.0  0.0   \n",
       "                             5     244140.0  0.617089  0.486098  0.0  0.0   \n",
       "              1              1      95766.0  0.761732  0.426026  0.0  1.0   \n",
       "                             2     209038.0  0.710292  0.453628  0.0  0.0   \n",
       "                             3     144199.0  0.713569  0.452095  0.0  0.0   \n",
       "                             4     122229.0  0.681630  0.465846  0.0  0.0   \n",
       "                             5     436195.0  0.619432  0.485527  0.0  0.0   \n",
       "                             6     171142.0  0.676327  0.467878  0.0  0.0   \n",
       "                             7      84030.0  0.675057  0.468357  0.0  0.0   \n",
       "True          0              2      25446.0  0.647725  0.477689  0.0  0.0   \n",
       "                             5      62715.0  0.527848  0.499228  0.0  0.0   \n",
       "              1              1      20094.0  0.634518  0.481577  0.0  0.0   \n",
       "                             2      15962.0  0.677923  0.467287  0.0  0.0   \n",
       "                             3       6231.0  0.493179  0.499994  0.0  0.0   \n",
       "                             4      15720.0  0.367875  0.482243  0.0  0.0   \n",
       "                             5      32664.0  0.501623  0.500005  0.0  0.0   \n",
       "                             6      10177.0  0.535128  0.498789  0.0  0.0   \n",
       "                             7      23210.0  0.406549  0.491200  0.0  0.0   \n",
       "\n",
       "                                   50%  75%  max  \n",
       "user_count_50 user_pay_money part                 \n",
       "False         0              2     1.0  1.0  1.0  \n",
       "                             5     1.0  1.0  1.0  \n",
       "              1              1     1.0  1.0  1.0  \n",
       "                             2     1.0  1.0  1.0  \n",
       "                             3     1.0  1.0  1.0  \n",
       "                             4     1.0  1.0  1.0  \n",
       "                             5     1.0  1.0  1.0  \n",
       "                             6     1.0  1.0  1.0  \n",
       "                             7     1.0  1.0  1.0  \n",
       "True          0              2     1.0  1.0  1.0  \n",
       "                             5     1.0  1.0  1.0  \n",
       "              1              1     1.0  1.0  1.0  \n",
       "                             2     1.0  1.0  1.0  \n",
       "                             3     0.0  1.0  1.0  \n",
       "                             4     0.0  1.0  1.0  \n",
       "                             5     1.0  1.0  1.0  \n",
       "                             6     1.0  1.0  1.0  \n",
       "                             7     0.0  1.0  1.0  "
      ]
     },
     "execution_count": 133,
     "metadata": {},
     "output_type": "execute_result"
    }
   ],
   "source": [
    "df2.groupby([\"user_count_50\", \"user_pay_money\", \"part\"])[\"answered_correctly\"].describe()"
   ]
  },
  {
   "cell_type": "code",
   "execution_count": null,
   "metadata": {
    "collapsed": true
   },
   "outputs": [],
   "source": []
  },
  {
   "cell_type": "code",
   "execution_count": 134,
   "metadata": {
    "collapsed": true
   },
   "outputs": [],
   "source": [
    "def tags(df):\n",
    "    tag = df[\"tags\"].str.split(\" \", n=10, expand=True)\n",
    "    tag.columns = [f\"tags{i}\" for i in range(1, len(tag.columns) + 1)]\n",
    "\n",
    "    for col in [\"tags1\", \"tags2\", \"tags3\", \"tags4\", \"tags5\", \"tags6\"]:\n",
    "        if col in tag.columns:\n",
    "            df[col] = pd.to_numeric(tag[col], errors='coerce').fillna(-1).astype(\"int16\")\n",
    "        else:\n",
    "            df[col] = -1\n",
    "            df[col].astype(\"int16\")"
   ]
  },
  {
   "cell_type": "code",
   "execution_count": 136,
   "metadata": {},
   "outputs": [],
   "source": [
    "tags(df2)"
   ]
  },
  {
   "cell_type": "markdown",
   "metadata": {},
   "source": [
    "# part5"
   ]
  },
  {
   "cell_type": "code",
   "execution_count": null,
   "metadata": {
    "collapsed": true
   },
   "outputs": [],
   "source": []
  },
  {
   "cell_type": "code",
   "execution_count": 138,
   "metadata": {},
   "outputs": [
    {
     "name": "stdout",
     "output_type": "stream",
     "text": [
      "part=5, n=30010: auc=0.7657\n",
      "part=5, n=45175: auc=0.7875\n",
      "part=5, n=39449: auc=0.7962\n",
      "part=5, n=33558: auc=0.7819\n",
      "part=5, n=30552: auc=0.7893\n",
      "part=5, n=22671: auc=0.759\n"
     ]
    }
   ],
   "source": [
    "for tag in [8, 73, 53, 1, 96, 55]:\n",
    "    w_df = df2[df2[\"part\"] == 5]\n",
    "    w_df = w_df[w_df[\"tags1\"] == tag]\n",
    "    print(f\"part={part}, n={len(w_df)}: auc={round(roc_auc_score(w_df['target'].values, w_df['predict'].values), 4)}\")"
   ]
  },
  {
   "cell_type": "code",
   "execution_count": null,
   "metadata": {
    "collapsed": true
   },
   "outputs": [],
   "source": []
  }
 ],
 "metadata": {
  "kernelspec": {
   "display_name": "Python 3",
   "language": "python",
   "name": "python3"
  },
  "language_info": {
   "codemirror_mode": {
    "name": "ipython",
    "version": 3
   },
   "file_extension": ".py",
   "mimetype": "text/x-python",
   "name": "python",
   "nbconvert_exporter": "python",
   "pygments_lexer": "ipython3",
   "version": "3.6.1"
  }
 },
 "nbformat": 4,
 "nbformat_minor": 2
}
