{
 "cells": [
  {
   "cell_type": "code",
   "execution_count": 1,
   "metadata": {},
   "outputs": [],
   "source": [
    "import pandas as pd\n",
    "import numpy as np\n",
    "from sklearn.metrics import roc_auc_score"
   ]
  },
  {
   "cell_type": "code",
   "execution_count": 2,
   "metadata": {},
   "outputs": [],
   "source": [
    "df1 = pd.read_csv(\"../output/model055_2/20201215203451/transformers1.csv\")"
   ]
  },
  {
   "cell_type": "code",
   "execution_count": 3,
   "metadata": {},
   "outputs": [],
   "source": [
    "df2 = pd.read_csv(\"../output/ex_261/20201214230144/oof_all_lgbm.csv\")"
   ]
  },
  {
   "cell_type": "code",
   "execution_count": null,
   "metadata": {},
   "outputs": [],
   "source": []
  },
  {
   "cell_type": "code",
   "execution_count": 4,
   "metadata": {},
   "outputs": [
    {
     "data": {
      "text/plain": [
       "(6136529, 6136529)"
      ]
     },
     "execution_count": 4,
     "metadata": {},
     "output_type": "execute_result"
    }
   ],
   "source": [
    "len(df1), len(df2)"
   ]
  },
  {
   "cell_type": "code",
   "execution_count": 5,
   "metadata": {},
   "outputs": [
    {
     "data": {
      "text/html": [
       "<div>\n",
       "<style scoped>\n",
       "    .dataframe tbody tr th:only-of-type {\n",
       "        vertical-align: middle;\n",
       "    }\n",
       "\n",
       "    .dataframe tbody tr th {\n",
       "        vertical-align: top;\n",
       "    }\n",
       "\n",
       "    .dataframe thead th {\n",
       "        text-align: right;\n",
       "    }\n",
       "</style>\n",
       "<table border=\"1\" class=\"dataframe\">\n",
       "  <thead>\n",
       "    <tr style=\"text-align: right;\">\n",
       "      <th></th>\n",
       "      <th>row_id</th>\n",
       "      <th>predict</th>\n",
       "      <th>target</th>\n",
       "    </tr>\n",
       "  </thead>\n",
       "  <tbody>\n",
       "    <tr>\n",
       "      <th>0</th>\n",
       "      <td>43</td>\n",
       "      <td>0.223549</td>\n",
       "      <td>0.0</td>\n",
       "    </tr>\n",
       "    <tr>\n",
       "      <th>1</th>\n",
       "      <td>44</td>\n",
       "      <td>0.264059</td>\n",
       "      <td>0.0</td>\n",
       "    </tr>\n",
       "    <tr>\n",
       "      <th>2</th>\n",
       "      <td>45</td>\n",
       "      <td>0.524798</td>\n",
       "      <td>1.0</td>\n",
       "    </tr>\n",
       "    <tr>\n",
       "      <th>3</th>\n",
       "      <td>74</td>\n",
       "      <td>0.075282</td>\n",
       "      <td>0.0</td>\n",
       "    </tr>\n",
       "    <tr>\n",
       "      <th>4</th>\n",
       "      <td>75</td>\n",
       "      <td>0.084280</td>\n",
       "      <td>0.0</td>\n",
       "    </tr>\n",
       "    <tr>\n",
       "      <th>...</th>\n",
       "      <td>...</td>\n",
       "      <td>...</td>\n",
       "      <td>...</td>\n",
       "    </tr>\n",
       "    <tr>\n",
       "      <th>6136524</th>\n",
       "      <td>101230302</td>\n",
       "      <td>0.932827</td>\n",
       "      <td>1.0</td>\n",
       "    </tr>\n",
       "    <tr>\n",
       "      <th>6136525</th>\n",
       "      <td>101230303</td>\n",
       "      <td>0.958316</td>\n",
       "      <td>1.0</td>\n",
       "    </tr>\n",
       "    <tr>\n",
       "      <th>6136526</th>\n",
       "      <td>101230304</td>\n",
       "      <td>0.803623</td>\n",
       "      <td>1.0</td>\n",
       "    </tr>\n",
       "    <tr>\n",
       "      <th>6136527</th>\n",
       "      <td>101230330</td>\n",
       "      <td>0.506069</td>\n",
       "      <td>0.0</td>\n",
       "    </tr>\n",
       "    <tr>\n",
       "      <th>6136528</th>\n",
       "      <td>101230331</td>\n",
       "      <td>0.401707</td>\n",
       "      <td>1.0</td>\n",
       "    </tr>\n",
       "  </tbody>\n",
       "</table>\n",
       "<p>6136529 rows × 3 columns</p>\n",
       "</div>"
      ],
      "text/plain": [
       "            row_id   predict  target\n",
       "0               43  0.223549     0.0\n",
       "1               44  0.264059     0.0\n",
       "2               45  0.524798     1.0\n",
       "3               74  0.075282     0.0\n",
       "4               75  0.084280     0.0\n",
       "...            ...       ...     ...\n",
       "6136524  101230302  0.932827     1.0\n",
       "6136525  101230303  0.958316     1.0\n",
       "6136526  101230304  0.803623     1.0\n",
       "6136527  101230330  0.506069     0.0\n",
       "6136528  101230331  0.401707     1.0\n",
       "\n",
       "[6136529 rows x 3 columns]"
      ]
     },
     "execution_count": 5,
     "metadata": {},
     "output_type": "execute_result"
    }
   ],
   "source": [
    "df2"
   ]
  },
  {
   "cell_type": "code",
   "execution_count": 6,
   "metadata": {},
   "outputs": [
    {
     "name": "stdout",
     "output_type": "stream",
     "text": [
      "t_ratio: 0.00 AUC: 0.79830\n",
      "t_ratio: 0.05 AUC: 0.79876\n",
      "t_ratio: 0.10 AUC: 0.79907\n",
      "t_ratio: 0.15 AUC: 0.79921\n",
      "t_ratio: 0.20 AUC: 0.79918\n",
      "t_ratio: 0.25 AUC: 0.79898\n",
      "t_ratio: 0.30 AUC: 0.79859\n",
      "t_ratio: 0.35 AUC: 0.79801\n",
      "t_ratio: 0.40 AUC: 0.79724\n",
      "t_ratio: 0.45 AUC: 0.79628\n",
      "t_ratio: 0.50 AUC: 0.79511\n",
      "t_ratio: 0.55 AUC: 0.79376\n",
      "t_ratio: 0.60 AUC: 0.79221\n",
      "t_ratio: 0.65 AUC: 0.79047\n",
      "t_ratio: 0.70 AUC: 0.78856\n",
      "t_ratio: 0.75 AUC: 0.78647\n",
      "t_ratio: 0.80 AUC: 0.78422\n",
      "t_ratio: 0.85 AUC: 0.78181\n",
      "t_ratio: 0.90 AUC: 0.77926\n",
      "t_ratio: 0.95 AUC: 0.77657\n",
      "t_ratio: 1.00 AUC: 0.77376\n"
     ]
    }
   ],
   "source": [
    "for t_ratio in np.arange(0, 1.05, 0.05):\n",
    "    auc = roc_auc_score(df1[\"target\"].values, df1[\"predict\"].values*t_ratio + df2[\"predict\"].values*(1-t_ratio))\n",
    "    print(\"t_ratio: {:.2f} AUC: {:.5f}\".format(t_ratio, auc))"
   ]
  },
  {
   "cell_type": "code",
   "execution_count": null,
   "metadata": {},
   "outputs": [],
   "source": []
  }
 ],
 "metadata": {
  "kernelspec": {
   "display_name": "Python 3",
   "language": "python",
   "name": "python3"
  },
  "language_info": {
   "codemirror_mode": {
    "name": "ipython",
    "version": 3
   },
   "file_extension": ".py",
   "mimetype": "text/x-python",
   "name": "python",
   "nbconvert_exporter": "python",
   "pygments_lexer": "ipython3",
   "version": "3.8.5"
  }
 },
 "nbformat": 4,
 "nbformat_minor": 4
}
