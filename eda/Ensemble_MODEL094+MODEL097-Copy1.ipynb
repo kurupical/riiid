{
 "cells": [
  {
   "cell_type": "code",
   "execution_count": 1,
   "metadata": {},
   "outputs": [],
   "source": [
    "import pandas as pd\n",
    "import numpy as np\n",
    "from sklearn.metrics import roc_auc_score"
   ]
  },
  {
   "cell_type": "code",
   "execution_count": 16,
   "metadata": {},
   "outputs": [],
   "source": [
    "df1 = pd.read_csv(\"../output/model217/20201227212840/transformers1.csv\")"
   ]
  },
  {
   "cell_type": "code",
   "execution_count": 17,
   "metadata": {},
   "outputs": [],
   "source": [
    "df2 = pd.read_csv(\"../output/model224/20201228203735//transformers1.csv\")"
   ]
  },
  {
   "cell_type": "code",
   "execution_count": null,
   "metadata": {},
   "outputs": [],
   "source": []
  },
  {
   "cell_type": "code",
   "execution_count": 18,
   "metadata": {},
   "outputs": [
    {
     "data": {
      "text/plain": [
       "(970187, 970187)"
      ]
     },
     "execution_count": 18,
     "metadata": {},
     "output_type": "execute_result"
    }
   ],
   "source": [
    "len(df1), len(df2)"
   ]
  },
  {
   "cell_type": "code",
   "execution_count": 19,
   "metadata": {},
   "outputs": [
    {
     "data": {
      "text/html": [
       "<div>\n",
       "<style scoped>\n",
       "    .dataframe tbody tr th:only-of-type {\n",
       "        vertical-align: middle;\n",
       "    }\n",
       "\n",
       "    .dataframe tbody tr th {\n",
       "        vertical-align: top;\n",
       "    }\n",
       "\n",
       "    .dataframe thead th {\n",
       "        text-align: right;\n",
       "    }\n",
       "</style>\n",
       "<table border=\"1\" class=\"dataframe\">\n",
       "  <thead>\n",
       "    <tr style=\"text-align: right;\">\n",
       "      <th></th>\n",
       "      <th>predict</th>\n",
       "      <th>target</th>\n",
       "    </tr>\n",
       "  </thead>\n",
       "  <tbody>\n",
       "    <tr>\n",
       "      <th>0</th>\n",
       "      <td>0.515297</td>\n",
       "      <td>0.0</td>\n",
       "    </tr>\n",
       "    <tr>\n",
       "      <th>1</th>\n",
       "      <td>0.679452</td>\n",
       "      <td>0.0</td>\n",
       "    </tr>\n",
       "    <tr>\n",
       "      <th>2</th>\n",
       "      <td>0.461494</td>\n",
       "      <td>1.0</td>\n",
       "    </tr>\n",
       "    <tr>\n",
       "      <th>3</th>\n",
       "      <td>0.355634</td>\n",
       "      <td>0.0</td>\n",
       "    </tr>\n",
       "    <tr>\n",
       "      <th>4</th>\n",
       "      <td>0.553077</td>\n",
       "      <td>0.0</td>\n",
       "    </tr>\n",
       "    <tr>\n",
       "      <th>...</th>\n",
       "      <td>...</td>\n",
       "      <td>...</td>\n",
       "    </tr>\n",
       "    <tr>\n",
       "      <th>970182</th>\n",
       "      <td>0.772700</td>\n",
       "      <td>1.0</td>\n",
       "    </tr>\n",
       "    <tr>\n",
       "      <th>970183</th>\n",
       "      <td>0.787416</td>\n",
       "      <td>1.0</td>\n",
       "    </tr>\n",
       "    <tr>\n",
       "      <th>970184</th>\n",
       "      <td>0.924182</td>\n",
       "      <td>1.0</td>\n",
       "    </tr>\n",
       "    <tr>\n",
       "      <th>970185</th>\n",
       "      <td>0.295750</td>\n",
       "      <td>0.0</td>\n",
       "    </tr>\n",
       "    <tr>\n",
       "      <th>970186</th>\n",
       "      <td>0.977537</td>\n",
       "      <td>1.0</td>\n",
       "    </tr>\n",
       "  </tbody>\n",
       "</table>\n",
       "<p>970187 rows × 2 columns</p>\n",
       "</div>"
      ],
      "text/plain": [
       "         predict  target\n",
       "0       0.515297     0.0\n",
       "1       0.679452     0.0\n",
       "2       0.461494     1.0\n",
       "3       0.355634     0.0\n",
       "4       0.553077     0.0\n",
       "...          ...     ...\n",
       "970182  0.772700     1.0\n",
       "970183  0.787416     1.0\n",
       "970184  0.924182     1.0\n",
       "970185  0.295750     0.0\n",
       "970186  0.977537     1.0\n",
       "\n",
       "[970187 rows x 2 columns]"
      ]
     },
     "execution_count": 19,
     "metadata": {},
     "output_type": "execute_result"
    }
   ],
   "source": [
    "df2"
   ]
  },
  {
   "cell_type": "code",
   "execution_count": 20,
   "metadata": {},
   "outputs": [
    {
     "name": "stdout",
     "output_type": "stream",
     "text": [
      "t_ratio: 0.00 AUC: 0.79283\n",
      "t_ratio: 0.05 AUC: 0.79324\n",
      "t_ratio: 0.10 AUC: 0.79361\n",
      "t_ratio: 0.15 AUC: 0.79394\n",
      "t_ratio: 0.20 AUC: 0.79423\n",
      "t_ratio: 0.25 AUC: 0.79448\n",
      "t_ratio: 0.30 AUC: 0.79470\n",
      "t_ratio: 0.35 AUC: 0.79487\n",
      "t_ratio: 0.40 AUC: 0.79500\n",
      "t_ratio: 0.45 AUC: 0.79509\n",
      "t_ratio: 0.50 AUC: 0.79514\n",
      "t_ratio: 0.55 AUC: 0.79515\n",
      "t_ratio: 0.60 AUC: 0.79511\n",
      "t_ratio: 0.65 AUC: 0.79504\n",
      "t_ratio: 0.70 AUC: 0.79491\n",
      "t_ratio: 0.75 AUC: 0.79475\n",
      "t_ratio: 0.80 AUC: 0.79454\n",
      "t_ratio: 0.85 AUC: 0.79429\n",
      "t_ratio: 0.90 AUC: 0.79400\n",
      "t_ratio: 0.95 AUC: 0.79366\n",
      "t_ratio: 1.00 AUC: 0.79329\n"
     ]
    }
   ],
   "source": [
    "for t_ratio in np.arange(0, 1.05, 0.05):\n",
    "    auc = roc_auc_score(df1[\"target\"].values, df1[\"predict\"].values*t_ratio + df2[\"predict\"].values*(1-t_ratio))\n",
    "    print(\"t_ratio: {:.2f} AUC: {:.5f}\".format(t_ratio, auc))"
   ]
  },
  {
   "cell_type": "code",
   "execution_count": null,
   "metadata": {},
   "outputs": [],
   "source": []
  },
  {
   "cell_type": "code",
   "execution_count": null,
   "metadata": {},
   "outputs": [],
   "source": []
  }
 ],
 "metadata": {
  "kernelspec": {
   "display_name": "Python 3",
   "language": "python",
   "name": "python3"
  },
  "language_info": {
   "codemirror_mode": {
    "name": "ipython",
    "version": 3
   },
   "file_extension": ".py",
   "mimetype": "text/x-python",
   "name": "python",
   "nbconvert_exporter": "python",
   "pygments_lexer": "ipython3",
   "version": "3.8.5"
  }
 },
 "nbformat": 4,
 "nbformat_minor": 4
}
