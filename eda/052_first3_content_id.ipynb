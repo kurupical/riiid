{
 "cells": [
  {
   "cell_type": "code",
   "execution_count": 1,
   "metadata": {},
   "outputs": [
    {
     "name": "stderr",
     "output_type": "stream",
     "text": [
      "C:\\ProgramData\\Anaconda3\\lib\\site-packages\\tqdm\\std.py:697: FutureWarning: The Panel class is removed from pandas. Accessing it from the top-level namespace will also be removed in the next version\n",
      "  from pandas import Panel\n"
     ]
    }
   ],
   "source": [
    "import pandas as pd\n",
    "import numpy as np\n",
    "import tqdm\n",
    "import warnings\n",
    "import matplotlib.pyplot as plt\n",
    "from sklearn.metrics import roc_auc_score\n",
    "\n",
    "pd.set_option(\"max_rows\", 200)\n",
    "pd.set_option(\"max_columns\", 50)\n",
    "tqdm.tqdm.pandas()\n",
    "%matplotlib inline"
   ]
  },
  {
   "cell_type": "code",
   "execution_count": 56,
   "metadata": {},
   "outputs": [],
   "source": [
    "df = pd.read_pickle(\"../input/riiid-test-answer-prediction/split10/train_0.pickle\").sort_values([\"user_id\", \"timestamp\"]).reset_index(drop=True)"
   ]
  },
  {
   "cell_type": "code",
   "execution_count": 57,
   "metadata": {},
   "outputs": [],
   "source": [
    "import sys\n",
    "sys.path.append(\"../\")\n",
    "# df = pd.read_pickle(\"../input/riiid-test-answer-prediction/split10/train_0.pickle\")\n",
    "df = df.sort_values([\"user_id\", \"timestamp\"])\n",
    "# large_user_id = df[\"user_id\"].value_counts()\n",
    "# large_user_id = large_user_id[large_user_id > 1000] \n",
    "# df = df[df[\"user_id\"].isin(large_user_id.index)]\n",
    "# df = df[df[\"answered_correctly\"] != -1]\n",
    "df[\"answered_correctly\"] = df[\"answered_correctly\"].replace(-1, np.nan)"
   ]
  },
  {
   "cell_type": "code",
   "execution_count": 58,
   "metadata": {},
   "outputs": [],
   "source": [
    "df = df.groupby(\"user_id\").head(3)"
   ]
  },
  {
   "cell_type": "code",
   "execution_count": 59,
   "metadata": {},
   "outputs": [],
   "source": [
    "df[\"content_id_shift1\"] = df.groupby(\"user_id\")[\"content_id\"].shift(1)\n",
    "df[\"content_id_shift2\"] = df.groupby(\"user_id\")[\"content_id\"].shift(2)\n",
    "\n",
    "df[\"user_answer_shift1\"] = df.groupby(\"user_id\")[\"user_answer\"].shift(1)\n",
    "df[\"user_answer_shift2\"] = df.groupby(\"user_id\")[\"user_answer\"].shift(2)\n",
    "\n",
    "df[\"prior_question_elapsed_time_shift1\"] = df.groupby(\"user_id\")[\"prior_question_elapsed_time\"].shift(1)\n",
    "df[\"prior_question_elapsed_time_shift2\"] = df.groupby(\"user_id\")[\"prior_question_elapsed_time\"].shift(2)"
   ]
  },
  {
   "cell_type": "code",
   "execution_count": 60,
   "metadata": {},
   "outputs": [],
   "source": [
    "df = df[df[\"content_id_shift2\"].notnull()]"
   ]
  },
  {
   "cell_type": "code",
   "execution_count": 61,
   "metadata": {},
   "outputs": [
    {
     "data": {
      "text/plain": [
       "content_id_shift2  user_answer_shift2  content_id_shift1  user_answer_shift1\n",
       "4221.0             1.0                 7876.0             2.0                      1\n",
       "7900.0             0.0                 7876.0             0.0                   1474\n",
       "                                                          1.0                    922\n",
       "                                                          2.0                   4903\n",
       "                                                          3.0                   5034\n",
       "                   1.0                 7876.0             0.0                    171\n",
       "                                                          1.0                    117\n",
       "                                                          2.0                    278\n",
       "                                                          3.0                    167\n",
       "                   2.0                 7876.0             0.0                    191\n",
       "                                                          1.0                    125\n",
       "                                                          2.0                    631\n",
       "                                                          3.0                    470\n",
       "                   3.0                 7876.0             0.0                     85\n",
       "                                                          1.0                     60\n",
       "                                                          2.0                    161\n",
       "                                                          3.0                     87\n",
       "9728.0             1.0                 7876.0             3.0                      1\n",
       "dtype: int64"
      ]
     },
     "execution_count": 61,
     "metadata": {},
     "output_type": "execute_result"
    }
   ],
   "source": [
    "df[df[\"content_id_shift1\"] == 7876].groupby([\"content_id_shift2\", \"user_answer_shift2\", \"content_id_shift1\", \"user_answer_shift1\"]).size()"
   ]
  },
  {
   "cell_type": "code",
   "execution_count": 62,
   "metadata": {
    "scrolled": false
   },
   "outputs": [
    {
     "data": {
      "text/plain": [
       "content_id_shift2  user_answer_shift2  content_id_shift1  user_answer_shift1\n",
       "7900.0             0.0                 7876.0             0.0                   1474\n",
       "                                                          1.0                    922\n",
       "                                                          2.0                   4903\n",
       "                                                          3.0                   5034\n",
       "                   1.0                 7876.0             0.0                    171\n",
       "                                                          1.0                    117\n",
       "                                                          2.0                    278\n",
       "                                                          3.0                    167\n",
       "                   2.0                 7876.0             0.0                    191\n",
       "                                                          1.0                    125\n",
       "                                                          2.0                    631\n",
       "                                                          3.0                    470\n",
       "                   3.0                 7876.0             0.0                     85\n",
       "                                                          1.0                     60\n",
       "                                                          2.0                    161\n",
       "                                                          3.0                     87\n",
       "dtype: int64"
      ]
     },
     "execution_count": 62,
     "metadata": {},
     "output_type": "execute_result"
    }
   ],
   "source": [
    "df[(df[\"content_id_shift2\"] == 7900) & (df[\"content_id_shift1\"] == 7876)].groupby([\"content_id_shift2\", \"user_answer_shift2\", \"content_id_shift1\", \"user_answer_shift1\"]).size()"
   ]
  },
  {
   "cell_type": "code",
   "execution_count": 73,
   "metadata": {
    "scrolled": false
   },
   "outputs": [
    {
     "data": {
      "text/plain": [
       "14876"
      ]
     },
     "execution_count": 73,
     "metadata": {},
     "output_type": "execute_result"
    }
   ],
   "source": [
    "df[(df[\"content_id_shift2\"] == 7900) & (df[\"content_id_shift1\"] == 7876)].groupby([\"content_id_shift2\", \"user_answer_shift2\", \"content_id_shift1\", \"user_answer_shift1\", \"content_id\", \"answered_correctly\"]).size()"
   ]
  },
  {
   "cell_type": "code",
   "execution_count": 76,
   "metadata": {},
   "outputs": [
    {
     "data": {
      "text/plain": [
       "content_id_shift2  user_answer_shift2  content_id_shift1  user_answer_shift1  answered_correctly\n",
       "7900.0             0.0                 7876.0             0.0                 0.0                   172\n",
       "                                                                              1.0                    62\n",
       "                                                          1.0                 0.0                    67\n",
       "                                                                              1.0                    31\n",
       "                                                          2.0                 0.0                   436\n",
       "                                                                              1.0                   165\n",
       "                                                          3.0                 0.0                   594\n",
       "                                                                              1.0                   449\n",
       "                   1.0                 7876.0             0.0                 0.0                    38\n",
       "                                                                              1.0                    19\n",
       "                                                          1.0                 0.0                    48\n",
       "                                                                              1.0                     5\n",
       "                                                          2.0                 0.0                    25\n",
       "                                                                              1.0                    14\n",
       "                                                          3.0                 0.0                    35\n",
       "                                                                              1.0                    19\n",
       "                   2.0                 7876.0             0.0                 0.0                    30\n",
       "                                                                              1.0                    14\n",
       "                                                          1.0                 0.0                    17\n",
       "                                                                              1.0                    11\n",
       "                                                          2.0                 0.0                    71\n",
       "                                                                              1.0                    17\n",
       "                                                          3.0                 0.0                    59\n",
       "                                                                              1.0                    27\n",
       "                   3.0                 7876.0             0.0                 0.0                    12\n",
       "                                                                              1.0                    11\n",
       "                                                          1.0                 0.0                    16\n",
       "                                                                              1.0                     6\n",
       "                                                          2.0                 0.0                    27\n",
       "                                                                              1.0                     9\n",
       "                                                          3.0                 0.0                    19\n",
       "                                                                              1.0                     6\n",
       "dtype: int64"
      ]
     },
     "execution_count": 76,
     "metadata": {},
     "output_type": "execute_result"
    }
   ],
   "source": [
    "cond = (df[\"content_id_shift2\"] == 7900) & (df[\"content_id_shift1\"] == 7876) & (df[\"prior_question_elapsed_time\"] < 20000)\n",
    "df[cond].groupby([\"content_id_shift2\", \"user_answer_shift2\", \"content_id_shift1\", \"user_answer_shift1\", \"answered_correctly\"]).size()"
   ]
  },
  {
   "cell_type": "code",
   "execution_count": 88,
   "metadata": {},
   "outputs": [
    {
     "data": {
      "text/plain": [
       "content_id_shift2  user_answer_shift2  content_id_shift1  user_answer_shift1  answered_correctly\n",
       "7900.0             0.0                 7876.0             0.0                 0.0                    883\n",
       "                                                                              1.0                    441\n",
       "                                                          1.0                 0.0                    569\n",
       "                                                                              1.0                    237\n",
       "                                                          2.0                 0.0                   3204\n",
       "                                                                              1.0                   1369\n",
       "                                                          3.0                 0.0                   2797\n",
       "                                                                              1.0                   1880\n",
       "                   1.0                 7876.0             0.0                 0.0                    102\n",
       "                                                                              1.0                     55\n",
       "                                                          1.0                 0.0                     78\n",
       "                                                                              1.0                     28\n",
       "                                                          2.0                 0.0                    172\n",
       "                                                                              1.0                     88\n",
       "                                                          3.0                 0.0                     89\n",
       "                                                                              1.0                     64\n",
       "                   2.0                 7876.0             0.0                 0.0                    119\n",
       "                                                                              1.0                     57\n",
       "                                                          1.0                 0.0                     78\n",
       "                                                                              1.0                     36\n",
       "                                                          2.0                 0.0                    423\n",
       "                                                                              1.0                    159\n",
       "                                                          3.0                 0.0                    295\n",
       "                                                                              1.0                    142\n",
       "                   3.0                 7876.0             0.0                 0.0                     54\n",
       "                                                                              1.0                     27\n",
       "                                                          1.0                 0.0                     39\n",
       "                                                                              1.0                     16\n",
       "                                                          2.0                 0.0                     99\n",
       "                                                                              1.0                     47\n",
       "                                                          3.0                 0.0                     58\n",
       "                                                                              1.0                     20\n",
       "dtype: int64"
      ]
     },
     "execution_count": 88,
     "metadata": {},
     "output_type": "execute_result"
    }
   ],
   "source": [
    "cond = (df[\"content_id_shift2\"] == 7900) & (df[\"content_id_shift1\"] == 7876) & (df[\"prior_question_elapsed_time\"] < 30000)\n",
    "df[cond].groupby([\"content_id_shift2\", \"user_answer_shift2\", \"content_id_shift1\", \"user_answer_shift1\", \"answered_correctly\"]).size()"
   ]
  },
  {
   "cell_type": "code",
   "execution_count": 80,
   "metadata": {},
   "outputs": [
    {
     "data": {
      "text/plain": [
       "content_id_shift2  user_answer_shift2  content_id_shift1  user_answer_shift1  answered_correctly\n",
       "7900.0             0.0                 7876.0             0.0                 0.0                    808\n",
       "                                                                              1.0                    401\n",
       "                                                          1.0                 0.0                    536\n",
       "                                                                              1.0                    218\n",
       "                                                          2.0                 0.0                   2873\n",
       "                                                                              1.0                   1207\n",
       "                                                          3.0                 0.0                   2431\n",
       "                                                                              1.0                   1669\n",
       "                   1.0                 7876.0             0.0                 0.0                     65\n",
       "                                                                              1.0                     34\n",
       "                                                          1.0                 0.0                     41\n",
       "                                                                              1.0                     15\n",
       "                                                          2.0                 0.0                    137\n",
       "                                                                              1.0                     60\n",
       "                                                          3.0                 0.0                     70\n",
       "                                                                              1.0                     47\n",
       "                   2.0                 7876.0             0.0                 0.0                     97\n",
       "                                                                              1.0                     45\n",
       "                                                          1.0                 0.0                     62\n",
       "                                                                              1.0                     28\n",
       "                                                          2.0                 0.0                    372\n",
       "                                                                              1.0                    135\n",
       "                                                          3.0                 0.0                    262\n",
       "                                                                              1.0                    129\n",
       "                   3.0                 7876.0             0.0                 0.0                     42\n",
       "                                                                              1.0                     17\n",
       "                                                          1.0                 0.0                     27\n",
       "                                                                              1.0                     12\n",
       "                                                          2.0                 0.0                     68\n",
       "                                                                              1.0                     40\n",
       "                                                          3.0                 0.0                     41\n",
       "                                                                              1.0                     17\n",
       "dtype: int64"
      ]
     },
     "execution_count": 80,
     "metadata": {},
     "output_type": "execute_result"
    }
   ],
   "source": [
    "cond = (df[\"content_id_shift2\"] == 7900) & (df[\"content_id_shift1\"] == 7876) & (df[\"prior_question_elapsed_time_shift1\"] > 15000) & (df[\"prior_question_elapsed_time_shift1\"] < 000)\n",
    "df[cond].groupby([\"content_id_shift2\", \"user_answer_shift2\", \"content_id_shift1\", \"user_answer_shift1\", \"answered_correctly\"]).size()"
   ]
  },
  {
   "cell_type": "code",
   "execution_count": 91,
   "metadata": {},
   "outputs": [
    {
     "data": {
      "text/plain": [
       "content_id  content_id_shift1  content_id_shift2\n",
       "175         7876.0             7900.0               14815\n",
       "7922        7860.0             128.0                 1362\n",
       "5344        5716.0             5692.0                 299\n",
       "1278        7876.0             7900.0                  23\n",
       "            175.0              7900.0                  18\n",
       "                                                    ...  \n",
       "5880        625.0              5102.0                   1\n",
       "                               6295.0                   1\n",
       "            638.0              6317.0                   1\n",
       "            648.0              6448.0                   1\n",
       "0           42.0               4919.0                   1\n",
       "Length: 22666, dtype: int64"
      ]
     },
     "execution_count": 91,
     "metadata": {},
     "output_type": "execute_result"
    }
   ],
   "source": [
    "df.groupby([\"content_id\", \"content_id_shift1\", \"content_id_shift2\"]).size().sort_values(ascending=False)"
   ]
  },
  {
   "cell_type": "code",
   "execution_count": null,
   "metadata": {},
   "outputs": [],
   "source": []
  }
 ],
 "metadata": {
  "kernelspec": {
   "display_name": "Python 3",
   "language": "python",
   "name": "python3"
  },
  "language_info": {
   "codemirror_mode": {
    "name": "ipython",
    "version": 3
   },
   "file_extension": ".py",
   "mimetype": "text/x-python",
   "name": "python",
   "nbconvert_exporter": "python",
   "pygments_lexer": "ipython3",
   "version": "3.8.5"
  }
 },
 "nbformat": 4,
 "nbformat_minor": 2
}
