{
 "cells": [
  {
   "cell_type": "code",
   "execution_count": 1,
   "metadata": {
    "collapsed": true
   },
   "outputs": [],
   "source": [
    "import pandas as pd\n",
    "import numpy as np\n",
    "import tqdm\n",
    "import warnings\n",
    "import matplotlib.pyplot as plt\n",
    "\n",
    "pd.set_option(\"max_rows\", 200)\n",
    "pd.set_option(\"max_columns\", 50)\n",
    "\n",
    "%matplotlib inline"
   ]
  },
  {
   "cell_type": "code",
   "execution_count": 73,
   "metadata": {
    "collapsed": true
   },
   "outputs": [],
   "source": [
    "df = pd.read_pickle(\"../input/riiid-test-answer-prediction/split10/train_0.pickle\")\n",
    "df = df[df[\"user_id\"] % 100 == 0]\n",
    "df = df.sort_values([\"user_id\", \"timestamp\"])\n",
    "# large_user_id = df[\"user_id\"].value_counts()\n",
    "# large_user_id = large_user_id[large_user_id > 1000] \n",
    "# df = df[df[\"user_id\"].isin(large_user_id.index)]\n",
    "# df = df[df[\"answered_correctly\"] != -1]\n",
    "df[\"answered_correctly\"] = df[\"answered_correctly\"].replace(-1, np.nan)"
   ]
  },
  {
   "cell_type": "code",
   "execution_count": 74,
   "metadata": {
    "collapsed": true
   },
   "outputs": [],
   "source": [
    "df[\"previous_tag\"] = df.groupby(\"user_id\")[\"tag\"].shift(1)"
   ]
  },
  {
   "cell_type": "code",
   "execution_count": 75,
   "metadata": {},
   "outputs": [
    {
     "data": {
      "text/plain": [
       "Index(['timestamp', 'user_id', 'content_id', 'content_type_id',\n",
       "       'task_container_id', 'user_answer', 'answered_correctly',\n",
       "       'prior_question_elapsed_time', 'prior_question_had_explanation',\n",
       "       'bundle_id', 'correct_answer', 'part', 'tags', 'tag', 'type_of',\n",
       "       'previous_tag'],\n",
       "      dtype='object')"
      ]
     },
     "execution_count": 75,
     "metadata": {},
     "output_type": "execute_result"
    }
   ],
   "source": [
    "df.columns"
   ]
  },
  {
   "cell_type": "code",
   "execution_count": 76,
   "metadata": {},
   "outputs": [
    {
     "data": {
      "text/plain": [
       "5    437040\n",
       "2    192162\n",
       "6    112269\n",
       "3     91982\n",
       "4     85210\n",
       "1     80653\n",
       "7     52232\n",
       "Name: part, dtype: int64"
      ]
     },
     "execution_count": 76,
     "metadata": {},
     "output_type": "execute_result"
    }
   ],
   "source": [
    "df[\"part\"].value_counts()"
   ]
  },
  {
   "cell_type": "code",
   "execution_count": 77,
   "metadata": {},
   "outputs": [
    {
     "data": {
      "text/plain": [
       "-1        20470\n",
       " 7216      6228\n",
       " 2063      5112\n",
       " 3363      5025\n",
       " 2946      4920\n",
       "          ...  \n",
       " 5767         1\n",
       " 9726         1\n",
       " 12723        1\n",
       " 933          1\n",
       " 12728        1\n",
       "Name: bundle_id, Length: 9530, dtype: int64"
      ]
     },
     "execution_count": 77,
     "metadata": {},
     "output_type": "execute_result"
    }
   ],
   "source": [
    "df[\"bundle_id\"].value_counts()"
   ]
  },
  {
   "cell_type": "code",
   "execution_count": null,
   "metadata": {
    "collapsed": true
   },
   "outputs": [],
   "source": []
  },
  {
   "cell_type": "code",
   "execution_count": 78,
   "metadata": {},
   "outputs": [
    {
     "name": "stdout",
     "output_type": "stream",
     "text": [
      "\n",
      "\n",
      "\n",
      "==================================\n",
      "content_id\n",
      "==================================\n",
      "                      count      mean       std  min  25%  50%  75%  max\n",
      "equal_content_id                                                        \n",
      "False             1028595.0  0.648794  0.477348  0.0  0.0  1.0  1.0  1.0\n",
      "True                 2483.0  0.625050  0.484207  0.0  0.0  1.0  1.0  1.0\n"
     ]
    },
    {
     "name": "stderr",
     "output_type": "stream",
     "text": [
      "/home/owner/anaconda3/lib/python3.6/site-packages/pandas/core/computation/expressions.py:201: UserWarning: evaluating in Python space because the '*' operator is not supported by numexpr for the bool dtype, use '&' instead\n",
      "  f\"evaluating in Python space because the {repr(op_str)} \"\n"
     ]
    },
    {
     "name": "stdout",
     "output_type": "stream",
     "text": [
      "                        count      mean       std  min  25%  50%  75%  max\n",
      "equal_2_content_id                                                        \n",
      "False               1031072.0  0.648735  0.477366  0.0  0.0  1.0  1.0  1.0\n",
      "True                      6.0  1.000000  0.000000  1.0  1.0  1.0  1.0  1.0\n",
      "\n",
      "\n",
      "\n",
      "==================================\n",
      "task_container_id\n",
      "==================================\n",
      "                            count      mean       std  min  25%  50%  75%  max\n",
      "equal_task_container_id                                                       \n",
      "False                    792732.0  0.646012  0.478206  0.0  0.0  1.0  1.0  1.0\n",
      "True                     238346.0  0.657800  0.474447  0.0  0.0  1.0  1.0  1.0\n"
     ]
    },
    {
     "name": "stderr",
     "output_type": "stream",
     "text": [
      "/home/owner/anaconda3/lib/python3.6/site-packages/pandas/core/computation/expressions.py:201: UserWarning: evaluating in Python space because the '*' operator is not supported by numexpr for the bool dtype, use '&' instead\n",
      "  f\"evaluating in Python space because the {repr(op_str)} \"\n"
     ]
    },
    {
     "name": "stdout",
     "output_type": "stream",
     "text": [
      "                              count      mean       std  min  25%  50%  75%  \\\n",
      "equal_2_task_container_id                                                     \n",
      "False                      890650.0  0.647554  0.477732  0.0  0.0  1.0  1.0   \n",
      "True                       140428.0  0.656237  0.474965  0.0  0.0  1.0  1.0   \n",
      "\n",
      "                           max  \n",
      "equal_2_task_container_id       \n",
      "False                      1.0  \n",
      "True                       1.0  \n",
      "\n",
      "\n",
      "\n",
      "==================================\n",
      "part\n",
      "==================================\n"
     ]
    },
    {
     "name": "stderr",
     "output_type": "stream",
     "text": [
      "/home/owner/anaconda3/lib/python3.6/site-packages/pandas/core/computation/expressions.py:201: UserWarning: evaluating in Python space because the '*' operator is not supported by numexpr for the bool dtype, use '&' instead\n",
      "  f\"evaluating in Python space because the {repr(op_str)} \"\n"
     ]
    },
    {
     "name": "stdout",
     "output_type": "stream",
     "text": [
      "               count      mean       std  min  25%  50%  75%  max\n",
      "equal_part                                                       \n",
      "False        75550.0  0.631727  0.482339  0.0  0.0  1.0  1.0  1.0\n",
      "True        955528.0  0.650081  0.476944  0.0  0.0  1.0  1.0  1.0\n",
      "                 count      mean       std  min  25%  50%  75%  max\n",
      "equal_2_part                                                       \n",
      "False         142880.0  0.629003  0.483073  0.0  0.0  1.0  1.0  1.0\n",
      "True          888198.0  0.651911  0.476365  0.0  0.0  1.0  1.0  1.0\n",
      "\n",
      "\n",
      "\n",
      "==================================\n",
      "bundle_id\n",
      "==================================\n",
      "                    count      mean       std  min  25%  50%  75%  max\n",
      "equal_bundle_id                                                       \n",
      "False            790020.0  0.646049  0.478194  0.0  0.0  1.0  1.0  1.0\n",
      "True             241058.0  0.657543  0.474533  0.0  0.0  1.0  1.0  1.0\n",
      "                      count      mean       std  min  25%  50%  75%  max\n",
      "equal_2_bundle_id                                                       \n",
      "False              890096.0  0.647502  0.477748  0.0  0.0  1.0  1.0  1.0\n",
      "True               140982.0  0.656531  0.474868  0.0  0.0  1.0  1.0  1.0\n"
     ]
    },
    {
     "name": "stderr",
     "output_type": "stream",
     "text": [
      "/home/owner/anaconda3/lib/python3.6/site-packages/pandas/core/computation/expressions.py:201: UserWarning: evaluating in Python space because the '*' operator is not supported by numexpr for the bool dtype, use '&' instead\n",
      "  f\"evaluating in Python space because the {repr(op_str)} \"\n"
     ]
    }
   ],
   "source": [
    "for c in [\"content_id\", \"task_container_id\", \"part\", \"bundle_id\"]:\n",
    "    print(\"\\n\\n\\n==================================\")\n",
    "    print(c)\n",
    "    print(\"==================================\")\n",
    "    df[f\"previous_{c}\"] = df.groupby(\"user_id\")[c].shift(1)\n",
    "    df[f\"previous_2_{c}\"] = df.groupby(\"user_id\")[c].shift(2)\n",
    "    df[f\"equal_{c}\"] = df[c] == df[f\"previous_{c}\"]\n",
    "    df[f\"equal_2_{c}\"] = (df[c] == df[f\"previous_{c}\"]) * (df[c] == df[f\"previous_2_{c}\"])\n",
    "    print(df.groupby(f\"equal_{c}\")[\"answered_correctly\"].describe())\n",
    "    print(df.groupby(f\"equal_2_{c}\")[\"answered_correctly\"].describe())"
   ]
  },
  {
   "cell_type": "code",
   "execution_count": null,
   "metadata": {
    "collapsed": true
   },
   "outputs": [],
   "source": []
  },
  {
   "cell_type": "code",
   "execution_count": 79,
   "metadata": {
    "collapsed": true
   },
   "outputs": [],
   "source": [
    "df[\"previous_timestamp\"] = df.groupby(\"user_id\")[\"timestamp\"].shift(1)"
   ]
  },
  {
   "cell_type": "code",
   "execution_count": 80,
   "metadata": {
    "collapsed": true
   },
   "outputs": [],
   "source": [
    "df[\"diff_timestamp\"] = df[\"timestamp\"] - df[\"previous_timestamp\"]"
   ]
  },
  {
   "cell_type": "code",
   "execution_count": 81,
   "metadata": {
    "collapsed": true
   },
   "outputs": [],
   "source": [
    "df = df.reset_index(drop=True)"
   ]
  },
  {
   "cell_type": "code",
   "execution_count": 84,
   "metadata": {},
   "outputs": [],
   "source": [
    "df[\"diff_bin_timestamp\"] = pd.cut(df[\"diff_timestamp\"], [-1, 10**3, 10**4, 10**5, 10**6, 10**7, 10**8, 10**9, 10**10])"
   ]
  },
  {
   "cell_type": "code",
   "execution_count": 85,
   "metadata": {},
   "outputs": [
    {
     "data": {
      "text/html": [
       "<div>\n",
       "<style scoped>\n",
       "    .dataframe tbody tr th:only-of-type {\n",
       "        vertical-align: middle;\n",
       "    }\n",
       "\n",
       "    .dataframe tbody tr th {\n",
       "        vertical-align: top;\n",
       "    }\n",
       "\n",
       "    .dataframe thead th {\n",
       "        text-align: right;\n",
       "    }\n",
       "</style>\n",
       "<table border=\"1\" class=\"dataframe\">\n",
       "  <thead>\n",
       "    <tr style=\"text-align: right;\">\n",
       "      <th></th>\n",
       "      <th>count</th>\n",
       "      <th>mean</th>\n",
       "      <th>std</th>\n",
       "      <th>min</th>\n",
       "      <th>25%</th>\n",
       "      <th>50%</th>\n",
       "      <th>75%</th>\n",
       "      <th>max</th>\n",
       "    </tr>\n",
       "    <tr>\n",
       "      <th>diff_bin_timestamp</th>\n",
       "      <th></th>\n",
       "      <th></th>\n",
       "      <th></th>\n",
       "      <th></th>\n",
       "      <th></th>\n",
       "      <th></th>\n",
       "      <th></th>\n",
       "      <th></th>\n",
       "    </tr>\n",
       "  </thead>\n",
       "  <tbody>\n",
       "    <tr>\n",
       "      <th>(-1, 1000]</th>\n",
       "      <td>238591.0</td>\n",
       "      <td>0.657464</td>\n",
       "      <td>0.474559</td>\n",
       "      <td>0.0</td>\n",
       "      <td>0.0</td>\n",
       "      <td>1.0</td>\n",
       "      <td>1.0</td>\n",
       "      <td>1.0</td>\n",
       "    </tr>\n",
       "    <tr>\n",
       "      <th>(1000, 10000]</th>\n",
       "      <td>8175.0</td>\n",
       "      <td>0.569297</td>\n",
       "      <td>0.495205</td>\n",
       "      <td>0.0</td>\n",
       "      <td>0.0</td>\n",
       "      <td>1.0</td>\n",
       "      <td>1.0</td>\n",
       "      <td>1.0</td>\n",
       "    </tr>\n",
       "    <tr>\n",
       "      <th>(10000, 100000]</th>\n",
       "      <td>569544.0</td>\n",
       "      <td>0.659410</td>\n",
       "      <td>0.473908</td>\n",
       "      <td>0.0</td>\n",
       "      <td>0.0</td>\n",
       "      <td>1.0</td>\n",
       "      <td>1.0</td>\n",
       "      <td>1.0</td>\n",
       "    </tr>\n",
       "    <tr>\n",
       "      <th>(100000, 1000000]</th>\n",
       "      <td>148429.0</td>\n",
       "      <td>0.612380</td>\n",
       "      <td>0.487209</td>\n",
       "      <td>0.0</td>\n",
       "      <td>0.0</td>\n",
       "      <td>1.0</td>\n",
       "      <td>1.0</td>\n",
       "      <td>1.0</td>\n",
       "    </tr>\n",
       "    <tr>\n",
       "      <th>(1000000, 10000000]</th>\n",
       "      <td>20762.0</td>\n",
       "      <td>0.619401</td>\n",
       "      <td>0.485546</td>\n",
       "      <td>0.0</td>\n",
       "      <td>0.0</td>\n",
       "      <td>1.0</td>\n",
       "      <td>1.0</td>\n",
       "      <td>1.0</td>\n",
       "    </tr>\n",
       "    <tr>\n",
       "      <th>(10000000, 100000000]</th>\n",
       "      <td>26961.0</td>\n",
       "      <td>0.618783</td>\n",
       "      <td>0.485695</td>\n",
       "      <td>0.0</td>\n",
       "      <td>0.0</td>\n",
       "      <td>1.0</td>\n",
       "      <td>1.0</td>\n",
       "      <td>1.0</td>\n",
       "    </tr>\n",
       "    <tr>\n",
       "      <th>(100000000, 1000000000]</th>\n",
       "      <td>11903.0</td>\n",
       "      <td>0.600605</td>\n",
       "      <td>0.489795</td>\n",
       "      <td>0.0</td>\n",
       "      <td>0.0</td>\n",
       "      <td>1.0</td>\n",
       "      <td>1.0</td>\n",
       "      <td>1.0</td>\n",
       "    </tr>\n",
       "    <tr>\n",
       "      <th>(1000000000, 10000000000]</th>\n",
       "      <td>2337.0</td>\n",
       "      <td>0.560976</td>\n",
       "      <td>0.496374</td>\n",
       "      <td>0.0</td>\n",
       "      <td>0.0</td>\n",
       "      <td>1.0</td>\n",
       "      <td>1.0</td>\n",
       "      <td>1.0</td>\n",
       "    </tr>\n",
       "  </tbody>\n",
       "</table>\n",
       "</div>"
      ],
      "text/plain": [
       "                              count      mean       std  min  25%  50%  75%  \\\n",
       "diff_bin_timestamp                                                            \n",
       "(-1, 1000]                 238591.0  0.657464  0.474559  0.0  0.0  1.0  1.0   \n",
       "(1000, 10000]                8175.0  0.569297  0.495205  0.0  0.0  1.0  1.0   \n",
       "(10000, 100000]            569544.0  0.659410  0.473908  0.0  0.0  1.0  1.0   \n",
       "(100000, 1000000]          148429.0  0.612380  0.487209  0.0  0.0  1.0  1.0   \n",
       "(1000000, 10000000]         20762.0  0.619401  0.485546  0.0  0.0  1.0  1.0   \n",
       "(10000000, 100000000]       26961.0  0.618783  0.485695  0.0  0.0  1.0  1.0   \n",
       "(100000000, 1000000000]     11903.0  0.600605  0.489795  0.0  0.0  1.0  1.0   \n",
       "(1000000000, 10000000000]    2337.0  0.560976  0.496374  0.0  0.0  1.0  1.0   \n",
       "\n",
       "                           max  \n",
       "diff_bin_timestamp              \n",
       "(-1, 1000]                 1.0  \n",
       "(1000, 10000]              1.0  \n",
       "(10000, 100000]            1.0  \n",
       "(100000, 1000000]          1.0  \n",
       "(1000000, 10000000]        1.0  \n",
       "(10000000, 100000000]      1.0  \n",
       "(100000000, 1000000000]    1.0  \n",
       "(1000000000, 10000000000]  1.0  "
      ]
     },
     "execution_count": 85,
     "metadata": {},
     "output_type": "execute_result"
    }
   ],
   "source": [
    "df.groupby(\"diff_bin_timestamp\")[\"answered_correctly\"].describe()"
   ]
  },
  {
   "cell_type": "code",
   "execution_count": 86,
   "metadata": {
    "collapsed": true
   },
   "outputs": [],
   "source": [
    "df[\"bin_timestamp\"] = pd.cut(df[\"timestamp\"], [-1, 10**3, 10**4, 10**5, 10**6, 10**7, 10**8, 10**9, 10**10])"
   ]
  },
  {
   "cell_type": "code",
   "execution_count": 87,
   "metadata": {},
   "outputs": [
    {
     "data": {
      "text/html": [
       "<div>\n",
       "<style scoped>\n",
       "    .dataframe tbody tr th:only-of-type {\n",
       "        vertical-align: middle;\n",
       "    }\n",
       "\n",
       "    .dataframe tbody tr th {\n",
       "        vertical-align: top;\n",
       "    }\n",
       "\n",
       "    .dataframe thead th {\n",
       "        text-align: right;\n",
       "    }\n",
       "</style>\n",
       "<table border=\"1\" class=\"dataframe\">\n",
       "  <thead>\n",
       "    <tr style=\"text-align: right;\">\n",
       "      <th></th>\n",
       "      <th>count</th>\n",
       "      <th>mean</th>\n",
       "      <th>std</th>\n",
       "      <th>min</th>\n",
       "      <th>25%</th>\n",
       "      <th>50%</th>\n",
       "      <th>75%</th>\n",
       "      <th>max</th>\n",
       "    </tr>\n",
       "    <tr>\n",
       "      <th>bin_timestamp</th>\n",
       "      <th></th>\n",
       "      <th></th>\n",
       "      <th></th>\n",
       "      <th></th>\n",
       "      <th></th>\n",
       "      <th></th>\n",
       "      <th></th>\n",
       "      <th></th>\n",
       "    </tr>\n",
       "  </thead>\n",
       "  <tbody>\n",
       "    <tr>\n",
       "      <th>(-1, 1000]</th>\n",
       "      <td>3977.0</td>\n",
       "      <td>0.672115</td>\n",
       "      <td>0.469502</td>\n",
       "      <td>0.0</td>\n",
       "      <td>0.0</td>\n",
       "      <td>1.0</td>\n",
       "      <td>1.0</td>\n",
       "      <td>1.0</td>\n",
       "    </tr>\n",
       "    <tr>\n",
       "      <th>(1000, 10000]</th>\n",
       "      <td>67.0</td>\n",
       "      <td>0.477612</td>\n",
       "      <td>0.503268</td>\n",
       "      <td>0.0</td>\n",
       "      <td>0.0</td>\n",
       "      <td>0.0</td>\n",
       "      <td>1.0</td>\n",
       "      <td>1.0</td>\n",
       "    </tr>\n",
       "    <tr>\n",
       "      <th>(10000, 100000]</th>\n",
       "      <td>12054.0</td>\n",
       "      <td>0.497760</td>\n",
       "      <td>0.500016</td>\n",
       "      <td>0.0</td>\n",
       "      <td>0.0</td>\n",
       "      <td>0.0</td>\n",
       "      <td>1.0</td>\n",
       "      <td>1.0</td>\n",
       "    </tr>\n",
       "    <tr>\n",
       "      <th>(100000, 1000000]</th>\n",
       "      <td>57777.0</td>\n",
       "      <td>0.469824</td>\n",
       "      <td>0.499093</td>\n",
       "      <td>0.0</td>\n",
       "      <td>0.0</td>\n",
       "      <td>0.0</td>\n",
       "      <td>1.0</td>\n",
       "      <td>1.0</td>\n",
       "    </tr>\n",
       "    <tr>\n",
       "      <th>(1000000, 10000000]</th>\n",
       "      <td>27917.0</td>\n",
       "      <td>0.615969</td>\n",
       "      <td>0.486374</td>\n",
       "      <td>0.0</td>\n",
       "      <td>0.0</td>\n",
       "      <td>1.0</td>\n",
       "      <td>1.0</td>\n",
       "      <td>1.0</td>\n",
       "    </tr>\n",
       "    <tr>\n",
       "      <th>(10000000, 100000000]</th>\n",
       "      <td>43956.0</td>\n",
       "      <td>0.644008</td>\n",
       "      <td>0.478818</td>\n",
       "      <td>0.0</td>\n",
       "      <td>0.0</td>\n",
       "      <td>1.0</td>\n",
       "      <td>1.0</td>\n",
       "      <td>1.0</td>\n",
       "    </tr>\n",
       "    <tr>\n",
       "      <th>(100000000, 1000000000]</th>\n",
       "      <td>196725.0</td>\n",
       "      <td>0.655362</td>\n",
       "      <td>0.475251</td>\n",
       "      <td>0.0</td>\n",
       "      <td>0.0</td>\n",
       "      <td>1.0</td>\n",
       "      <td>1.0</td>\n",
       "      <td>1.0</td>\n",
       "    </tr>\n",
       "    <tr>\n",
       "      <th>(1000000000, 10000000000]</th>\n",
       "      <td>440137.0</td>\n",
       "      <td>0.666954</td>\n",
       "      <td>0.471303</td>\n",
       "      <td>0.0</td>\n",
       "      <td>0.0</td>\n",
       "      <td>1.0</td>\n",
       "      <td>1.0</td>\n",
       "      <td>1.0</td>\n",
       "    </tr>\n",
       "  </tbody>\n",
       "</table>\n",
       "</div>"
      ],
      "text/plain": [
       "                              count      mean       std  min  25%  50%  75%  \\\n",
       "bin_timestamp                                                                 \n",
       "(-1, 1000]                   3977.0  0.672115  0.469502  0.0  0.0  1.0  1.0   \n",
       "(1000, 10000]                  67.0  0.477612  0.503268  0.0  0.0  0.0  1.0   \n",
       "(10000, 100000]             12054.0  0.497760  0.500016  0.0  0.0  0.0  1.0   \n",
       "(100000, 1000000]           57777.0  0.469824  0.499093  0.0  0.0  0.0  1.0   \n",
       "(1000000, 10000000]         27917.0  0.615969  0.486374  0.0  0.0  1.0  1.0   \n",
       "(10000000, 100000000]       43956.0  0.644008  0.478818  0.0  0.0  1.0  1.0   \n",
       "(100000000, 1000000000]    196725.0  0.655362  0.475251  0.0  0.0  1.0  1.0   \n",
       "(1000000000, 10000000000]  440137.0  0.666954  0.471303  0.0  0.0  1.0  1.0   \n",
       "\n",
       "                           max  \n",
       "bin_timestamp                   \n",
       "(-1, 1000]                 1.0  \n",
       "(1000, 10000]              1.0  \n",
       "(10000, 100000]            1.0  \n",
       "(100000, 1000000]          1.0  \n",
       "(1000000, 10000000]        1.0  \n",
       "(10000000, 100000000]      1.0  \n",
       "(100000000, 1000000000]    1.0  \n",
       "(1000000000, 10000000000]  1.0  "
      ]
     },
     "execution_count": 87,
     "metadata": {},
     "output_type": "execute_result"
    }
   ],
   "source": [
    "df.groupby(\"bin_timestamp\")[\"answered_correctly\"].describe()"
   ]
  },
  {
   "cell_type": "code",
   "execution_count": null,
   "metadata": {
    "collapsed": true
   },
   "outputs": [],
   "source": []
  },
  {
   "cell_type": "code",
   "execution_count": null,
   "metadata": {
    "collapsed": true
   },
   "outputs": [],
   "source": []
  }
 ],
 "metadata": {
  "kernelspec": {
   "display_name": "Python 3",
   "language": "python",
   "name": "python3"
  },
  "language_info": {
   "codemirror_mode": {
    "name": "ipython",
    "version": 3
   },
   "file_extension": ".py",
   "mimetype": "text/x-python",
   "name": "python",
   "nbconvert_exporter": "python",
   "pygments_lexer": "ipython3",
   "version": "3.6.1"
  }
 },
 "nbformat": 4,
 "nbformat_minor": 2
}
