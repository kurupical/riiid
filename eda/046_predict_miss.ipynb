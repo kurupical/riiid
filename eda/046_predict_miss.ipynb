{
 "cells": [
  {
   "cell_type": "code",
   "execution_count": 1,
   "metadata": {
    "collapsed": true
   },
   "outputs": [],
   "source": [
    "import pandas as pd\n",
    "import numpy as np\n",
    "import tqdm\n",
    "import warnings\n",
    "import matplotlib.pyplot as plt\n",
    "from sklearn.metrics import roc_auc_score\n",
    "\n",
    "pd.set_option(\"max_rows\", 200)\n",
    "pd.set_option(\"max_columns\", 50)\n",
    "tqdm.tqdm.pandas()\n",
    "%matplotlib inline"
   ]
  },
  {
   "cell_type": "code",
   "execution_count": 2,
   "metadata": {
    "collapsed": true
   },
   "outputs": [],
   "source": [
    "df = pd.read_pickle(\"../input/riiid-test-answer-prediction/split10/train_0.pickle\").sort_values([\"user_id\", \"timestamp\"]).reset_index(drop=True)"
   ]
  },
  {
   "cell_type": "code",
   "execution_count": 3,
   "metadata": {
    "collapsed": true
   },
   "outputs": [],
   "source": [
    "import sys\n",
    "sys.path.append(\"..\")"
   ]
  },
  {
   "cell_type": "code",
   "execution_count": 4,
   "metadata": {
    "collapsed": true
   },
   "outputs": [],
   "source": [
    "from feature_engineering.feature_factory import UserContentRateEncoder, FeatureFactoryManager\n",
    "from experiment.common import get_logger"
   ]
  },
  {
   "cell_type": "code",
   "execution_count": 5,
   "metadata": {
    "collapsed": true
   },
   "outputs": [],
   "source": [
    "\n",
    "feature_factory_dict = {\"user_id\": {}, (\"user_id\", \"part\"): {}}\n",
    "logger = get_logger()\n",
    "feature_factory_dict[\"user_id\"][\"UserContentRateEncoder\"] = UserContentRateEncoder(column=\"user_id\",\n",
    "                                                                                   rate_func=\"elo\")\n",
    "feature_factory_dict[(\"user_id\", \"part\")] = {\n",
    "    \"UserContentRateEncoder\": UserContentRateEncoder(column=[\"user_id\", \"part\"],\n",
    "                                                     rate_func=\"elo\")\n",
    "}\n",
    "\n",
    "feature_factory_manager = FeatureFactoryManager(feature_factory_dict=feature_factory_dict,\n",
    "                                                logger=logger,\n",
    "                                                split_num=10,\n",
    "                                                model_id=\"train_0\",\n",
    "                                                load_feature=True,\n",
    "                                                save_feature=True)"
   ]
  },
  {
   "cell_type": "code",
   "execution_count": null,
   "metadata": {
    "collapsed": true
   },
   "outputs": [],
   "source": []
  },
  {
   "cell_type": "code",
   "execution_count": 6,
   "metadata": {
    "collapsed": true
   },
   "outputs": [],
   "source": [
    "import sys\n",
    "sys.path.append(\"../\")\n",
    "# df = pd.read_pickle(\"../input/riiid-test-answer-prediction/split10/train_0.pickle\")\n",
    "df = df.sort_values([\"user_id\", \"timestamp\"])\n",
    "# large_user_id = df[\"user_id\"].value_counts()\n",
    "# large_user_id = large_user_id[large_user_id > 1000] \n",
    "# df = df[df[\"user_id\"].isin(large_user_id.index)]\n",
    "# df = df[df[\"answered_correctly\"] != -1]"
   ]
  },
  {
   "cell_type": "code",
   "execution_count": null,
   "metadata": {
    "collapsed": true
   },
   "outputs": [],
   "source": []
  },
  {
   "cell_type": "code",
   "execution_count": 7,
   "metadata": {
    "collapsed": true
   },
   "outputs": [],
   "source": [
    "df[\"answered_correctly\"] = df[\"answered_correctly\"].replace(-1, np.nan)"
   ]
  },
  {
   "cell_type": "code",
   "execution_count": 8,
   "metadata": {},
   "outputs": [
    {
     "name": "stderr",
     "output_type": "stream",
     "text": [
      "2020-12-07 20:51:35,756|INFO| load_feature from ../input/feature_engineering/user_content_rate_encoder_user_id_elo_rate_dict.pickle/model_id_train_0.pickle\n",
      "2020-12-07 20:51:35,995|INFO| load_feature from ../input/feature_engineering/user_content_rate_encoder_['user_id', 'part']_elo_rate_dict.pickle/model_id_train_0.pickle\n"
     ]
    }
   ],
   "source": [
    "df = feature_factory_manager.all_predict(df)"
   ]
  },
  {
   "cell_type": "code",
   "execution_count": 10,
   "metadata": {
    "collapsed": true
   },
   "outputs": [],
   "source": [
    "df_oof_lgbm = pd.read_csv(\"../output/ex_172/20201202080625/oof_train_0_lgbm.csv\")\n",
    "df_oof_lgbm.columns = [\"index\", \"predict\", \"target\"]"
   ]
  },
  {
   "cell_type": "code",
   "execution_count": 11,
   "metadata": {
    "collapsed": true
   },
   "outputs": [],
   "source": [
    "df = pd.merge(df.reset_index(), df_oof_lgbm, how=\"left\")"
   ]
  },
  {
   "cell_type": "code",
   "execution_count": null,
   "metadata": {
    "collapsed": true
   },
   "outputs": [],
   "source": []
  },
  {
   "cell_type": "code",
   "execution_count": 12,
   "metadata": {
    "collapsed": true
   },
   "outputs": [],
   "source": [
    "df[\"diff_target\"] = df[\"target\"] - df[\"predict\"]"
   ]
  },
  {
   "cell_type": "code",
   "execution_count": 13,
   "metadata": {},
   "outputs": [
    {
     "data": {
      "text/plain": [
       "<matplotlib.axes._subplots.AxesSubplot at 0x7ff3209a70b8>"
      ]
     },
     "execution_count": 13,
     "metadata": {},
     "output_type": "execute_result"
    },
    {
     "name": "stderr",
     "output_type": "stream",
     "text": [
      "findfont: Font family ['IPAPGothic'] not found. Falling back to DejaVu Sans.\n"
     ]
    },
    {
     "data": {
      "image/png": "[encoded data removed]",
      "text/plain": [
       "<Figure size 432x288 with 1 Axes>"
      ]
     },
     "metadata": {},
     "output_type": "display_data"
    }
   ],
   "source": [
    "df[\"diff_target\"].hist(bins=100)"
   ]
  },
  {
   "cell_type": "code",
   "execution_count": 14,
   "metadata": {},
   "outputs": [
    {
     "data": {
      "text/html": [
       "<div>\n",
       "<style scoped>\n",
       "    .dataframe tbody tr th:only-of-type {\n",
       "        vertical-align: middle;\n",
       "    }\n",
       "\n",
       "    .dataframe tbody tr th {\n",
       "        vertical-align: top;\n",
       "    }\n",
       "\n",
       "    .dataframe thead th {\n",
       "        text-align: right;\n",
       "    }\n",
       "</style>\n",
       "<table border=\"1\" class=\"dataframe\">\n",
       "  <thead>\n",
       "    <tr style=\"text-align: right;\">\n",
       "      <th></th>\n",
       "      <th>index</th>\n",
       "      <th>timestamp</th>\n",
       "      <th>user_id</th>\n",
       "      <th>content_id</th>\n",
       "      <th>content_type_id</th>\n",
       "      <th>task_container_id</th>\n",
       "      <th>user_answer</th>\n",
       "      <th>answered_correctly</th>\n",
       "      <th>prior_question_elapsed_time</th>\n",
       "      <th>prior_question_had_explanation</th>\n",
       "      <th>...</th>\n",
       "      <th>content_rating</th>\n",
       "      <th>user_id_rating</th>\n",
       "      <th>rating_diff_content_user_id</th>\n",
       "      <th>['user_id', 'part']_rating</th>\n",
       "      <th>rating_diff_content_['user_id', 'part']</th>\n",
       "      <th>user_id_rating_bin</th>\n",
       "      <th>content_rating_bin</th>\n",
       "      <th>predict</th>\n",
       "      <th>target</th>\n",
       "      <th>diff_target</th>\n",
       "    </tr>\n",
       "  </thead>\n",
       "  <tbody>\n",
       "    <tr>\n",
       "      <th>1131</th>\n",
       "      <td>1131</td>\n",
       "      <td>20370167464</td>\n",
       "      <td>138650</td>\n",
       "      <td>3990</td>\n",
       "      <td>0</td>\n",
       "      <td>782</td>\n",
       "      <td>2</td>\n",
       "      <td>0.0</td>\n",
       "      <td>27000.0</td>\n",
       "      <td>True</td>\n",
       "      <td>...</td>\n",
       "      <td>1517</td>\n",
       "      <td>1670</td>\n",
       "      <td>-153</td>\n",
       "      <td>1726</td>\n",
       "      <td>-234</td>\n",
       "      <td>16</td>\n",
       "      <td>15</td>\n",
       "      <td>0.901000</td>\n",
       "      <td>0.0</td>\n",
       "      <td>-0.901000</td>\n",
       "    </tr>\n",
       "    <tr>\n",
       "      <th>3239</th>\n",
       "      <td>3239</td>\n",
       "      <td>1585533801</td>\n",
       "      <td>475020</td>\n",
       "      <td>7001</td>\n",
       "      <td>0</td>\n",
       "      <td>542</td>\n",
       "      <td>0</td>\n",
       "      <td>0.0</td>\n",
       "      <td>37333.0</td>\n",
       "      <td>True</td>\n",
       "      <td>...</td>\n",
       "      <td>1174</td>\n",
       "      <td>1632</td>\n",
       "      <td>-458</td>\n",
       "      <td>1564</td>\n",
       "      <td>-435</td>\n",
       "      <td>16</td>\n",
       "      <td>11</td>\n",
       "      <td>0.931124</td>\n",
       "      <td>0.0</td>\n",
       "      <td>-0.931124</td>\n",
       "    </tr>\n",
       "    <tr>\n",
       "      <th>4624</th>\n",
       "      <td>4624</td>\n",
       "      <td>1226066296</td>\n",
       "      <td>1173490</td>\n",
       "      <td>8369</td>\n",
       "      <td>0</td>\n",
       "      <td>272</td>\n",
       "      <td>0</td>\n",
       "      <td>0.0</td>\n",
       "      <td>7000.0</td>\n",
       "      <td>True</td>\n",
       "      <td>...</td>\n",
       "      <td>1337</td>\n",
       "      <td>1691</td>\n",
       "      <td>-354</td>\n",
       "      <td>1605</td>\n",
       "      <td>-281</td>\n",
       "      <td>16</td>\n",
       "      <td>13</td>\n",
       "      <td>0.937672</td>\n",
       "      <td>0.0</td>\n",
       "      <td>-0.937672</td>\n",
       "    </tr>\n",
       "    <tr>\n",
       "      <th>4973</th>\n",
       "      <td>4973</td>\n",
       "      <td>2547611731</td>\n",
       "      <td>1232090</td>\n",
       "      <td>3017</td>\n",
       "      <td>0</td>\n",
       "      <td>229</td>\n",
       "      <td>2</td>\n",
       "      <td>0.0</td>\n",
       "      <td>27666.0</td>\n",
       "      <td>True</td>\n",
       "      <td>...</td>\n",
       "      <td>1331</td>\n",
       "      <td>1727</td>\n",
       "      <td>-396</td>\n",
       "      <td>1598</td>\n",
       "      <td>-338</td>\n",
       "      <td>17</td>\n",
       "      <td>13</td>\n",
       "      <td>0.945220</td>\n",
       "      <td>0.0</td>\n",
       "      <td>-0.945220</td>\n",
       "    </tr>\n",
       "    <tr>\n",
       "      <th>11849</th>\n",
       "      <td>11849</td>\n",
       "      <td>16228032920</td>\n",
       "      <td>1283420</td>\n",
       "      <td>2865</td>\n",
       "      <td>0</td>\n",
       "      <td>4753</td>\n",
       "      <td>1</td>\n",
       "      <td>0.0</td>\n",
       "      <td>21000.0</td>\n",
       "      <td>True</td>\n",
       "      <td>...</td>\n",
       "      <td>1025</td>\n",
       "      <td>1766</td>\n",
       "      <td>-741</td>\n",
       "      <td>1696</td>\n",
       "      <td>-727</td>\n",
       "      <td>17</td>\n",
       "      <td>10</td>\n",
       "      <td>0.994002</td>\n",
       "      <td>0.0</td>\n",
       "      <td>-0.994002</td>\n",
       "    </tr>\n",
       "    <tr>\n",
       "      <th>11928</th>\n",
       "      <td>11928</td>\n",
       "      <td>16390234040</td>\n",
       "      <td>1283420</td>\n",
       "      <td>2905</td>\n",
       "      <td>0</td>\n",
       "      <td>4813</td>\n",
       "      <td>0</td>\n",
       "      <td>0.0</td>\n",
       "      <td>21000.0</td>\n",
       "      <td>True</td>\n",
       "      <td>...</td>\n",
       "      <td>1194</td>\n",
       "      <td>1755</td>\n",
       "      <td>-561</td>\n",
       "      <td>1682</td>\n",
       "      <td>-549</td>\n",
       "      <td>17</td>\n",
       "      <td>11</td>\n",
       "      <td>0.956235</td>\n",
       "      <td>0.0</td>\n",
       "      <td>-0.956235</td>\n",
       "    </tr>\n",
       "    <tr>\n",
       "      <th>11946</th>\n",
       "      <td>11946</td>\n",
       "      <td>16420932589</td>\n",
       "      <td>1283420</td>\n",
       "      <td>10503</td>\n",
       "      <td>0</td>\n",
       "      <td>4826</td>\n",
       "      <td>0</td>\n",
       "      <td>0.0</td>\n",
       "      <td>33000.0</td>\n",
       "      <td>True</td>\n",
       "      <td>...</td>\n",
       "      <td>1300</td>\n",
       "      <td>1679</td>\n",
       "      <td>-379</td>\n",
       "      <td>1803</td>\n",
       "      <td>-507</td>\n",
       "      <td>16</td>\n",
       "      <td>13</td>\n",
       "      <td>0.944939</td>\n",
       "      <td>0.0</td>\n",
       "      <td>-0.944939</td>\n",
       "    </tr>\n",
       "    <tr>\n",
       "      <th>12000</th>\n",
       "      <td>12000</td>\n",
       "      <td>16479214422</td>\n",
       "      <td>1283420</td>\n",
       "      <td>3061</td>\n",
       "      <td>0</td>\n",
       "      <td>4861</td>\n",
       "      <td>0</td>\n",
       "      <td>0.0</td>\n",
       "      <td>22666.0</td>\n",
       "      <td>True</td>\n",
       "      <td>...</td>\n",
       "      <td>1436</td>\n",
       "      <td>1741</td>\n",
       "      <td>-305</td>\n",
       "      <td>1665</td>\n",
       "      <td>-278</td>\n",
       "      <td>17</td>\n",
       "      <td>14</td>\n",
       "      <td>0.931843</td>\n",
       "      <td>0.0</td>\n",
       "      <td>-0.931843</td>\n",
       "    </tr>\n",
       "    <tr>\n",
       "      <th>12184</th>\n",
       "      <td>12184</td>\n",
       "      <td>16793992538</td>\n",
       "      <td>1283420</td>\n",
       "      <td>3262</td>\n",
       "      <td>0</td>\n",
       "      <td>5001</td>\n",
       "      <td>3</td>\n",
       "      <td>0.0</td>\n",
       "      <td>27333.0</td>\n",
       "      <td>True</td>\n",
       "      <td>...</td>\n",
       "      <td>1136</td>\n",
       "      <td>1767</td>\n",
       "      <td>-631</td>\n",
       "      <td>1690</td>\n",
       "      <td>-592</td>\n",
       "      <td>17</td>\n",
       "      <td>11</td>\n",
       "      <td>0.963920</td>\n",
       "      <td>0.0</td>\n",
       "      <td>-0.963920</td>\n",
       "    </tr>\n",
       "    <tr>\n",
       "      <th>12286</th>\n",
       "      <td>12286</td>\n",
       "      <td>17159466484</td>\n",
       "      <td>1283420</td>\n",
       "      <td>2163</td>\n",
       "      <td>0</td>\n",
       "      <td>5079</td>\n",
       "      <td>2</td>\n",
       "      <td>0.0</td>\n",
       "      <td>25333.0</td>\n",
       "      <td>True</td>\n",
       "      <td>...</td>\n",
       "      <td>1280</td>\n",
       "      <td>1778</td>\n",
       "      <td>-498</td>\n",
       "      <td>1815</td>\n",
       "      <td>-582</td>\n",
       "      <td>17</td>\n",
       "      <td>12</td>\n",
       "      <td>0.939501</td>\n",
       "      <td>0.0</td>\n",
       "      <td>-0.939501</td>\n",
       "    </tr>\n",
       "  </tbody>\n",
       "</table>\n",
       "<p>10 rows × 27 columns</p>\n",
       "</div>"
      ],
      "text/plain": [
       "       index    timestamp  user_id  content_id  content_type_id  \\\n",
       "1131    1131  20370167464   138650        3990                0   \n",
       "3239    3239   1585533801   475020        7001                0   \n",
       "4624    4624   1226066296  1173490        8369                0   \n",
       "4973    4973   2547611731  1232090        3017                0   \n",
       "11849  11849  16228032920  1283420        2865                0   \n",
       "11928  11928  16390234040  1283420        2905                0   \n",
       "11946  11946  16420932589  1283420       10503                0   \n",
       "12000  12000  16479214422  1283420        3061                0   \n",
       "12184  12184  16793992538  1283420        3262                0   \n",
       "12286  12286  17159466484  1283420        2163                0   \n",
       "\n",
       "       task_container_id  user_answer  answered_correctly  \\\n",
       "1131                 782            2                 0.0   \n",
       "3239                 542            0                 0.0   \n",
       "4624                 272            0                 0.0   \n",
       "4973                 229            2                 0.0   \n",
       "11849               4753            1                 0.0   \n",
       "11928               4813            0                 0.0   \n",
       "11946               4826            0                 0.0   \n",
       "12000               4861            0                 0.0   \n",
       "12184               5001            3                 0.0   \n",
       "12286               5079            2                 0.0   \n",
       "\n",
       "       prior_question_elapsed_time prior_question_had_explanation  ...  \\\n",
       "1131                       27000.0                           True  ...   \n",
       "3239                       37333.0                           True  ...   \n",
       "4624                        7000.0                           True  ...   \n",
       "4973                       27666.0                           True  ...   \n",
       "11849                      21000.0                           True  ...   \n",
       "11928                      21000.0                           True  ...   \n",
       "11946                      33000.0                           True  ...   \n",
       "12000                      22666.0                           True  ...   \n",
       "12184                      27333.0                           True  ...   \n",
       "12286                      25333.0                           True  ...   \n",
       "\n",
       "       content_rating  user_id_rating  rating_diff_content_user_id  \\\n",
       "1131             1517            1670                         -153   \n",
       "3239             1174            1632                         -458   \n",
       "4624             1337            1691                         -354   \n",
       "4973             1331            1727                         -396   \n",
       "11849            1025            1766                         -741   \n",
       "11928            1194            1755                         -561   \n",
       "11946            1300            1679                         -379   \n",
       "12000            1436            1741                         -305   \n",
       "12184            1136            1767                         -631   \n",
       "12286            1280            1778                         -498   \n",
       "\n",
       "       ['user_id', 'part']_rating rating_diff_content_['user_id', 'part']  \\\n",
       "1131                         1726                                    -234   \n",
       "3239                         1564                                    -435   \n",
       "4624                         1605                                    -281   \n",
       "4973                         1598                                    -338   \n",
       "11849                        1696                                    -727   \n",
       "11928                        1682                                    -549   \n",
       "11946                        1803                                    -507   \n",
       "12000                        1665                                    -278   \n",
       "12184                        1690                                    -592   \n",
       "12286                        1815                                    -582   \n",
       "\n",
       "       user_id_rating_bin content_rating_bin   predict  target  diff_target  \n",
       "1131                   16                 15  0.901000     0.0    -0.901000  \n",
       "3239                   16                 11  0.931124     0.0    -0.931124  \n",
       "4624                   16                 13  0.937672     0.0    -0.937672  \n",
       "4973                   17                 13  0.945220     0.0    -0.945220  \n",
       "11849                  17                 10  0.994002     0.0    -0.994002  \n",
       "11928                  17                 11  0.956235     0.0    -0.956235  \n",
       "11946                  16                 13  0.944939     0.0    -0.944939  \n",
       "12000                  17                 14  0.931843     0.0    -0.931843  \n",
       "12184                  17                 11  0.963920     0.0    -0.963920  \n",
       "12286                  17                 12  0.939501     0.0    -0.939501  \n",
       "\n",
       "[10 rows x 27 columns]"
      ]
     },
     "execution_count": 14,
     "metadata": {},
     "output_type": "execute_result"
    }
   ],
   "source": [
    "df[df[\"diff_target\"] < -0.9].head(10)"
   ]
  },
  {
   "cell_type": "code",
   "execution_count": 17,
   "metadata": {
    "collapsed": true
   },
   "outputs": [],
   "source": [
    "df[df[\"user_id\"]==1283420].to_csv(\"046_predict_miss/1283420.csv\")"
   ]
  },
  {
   "cell_type": "code",
   "execution_count": null,
   "metadata": {
    "collapsed": true
   },
   "outputs": [],
   "source": []
  },
  {
   "cell_type": "code",
   "execution_count": 26,
   "metadata": {},
   "outputs": [
    {
     "name": "stderr",
     "output_type": "stream",
     "text": [
      "/home/owner/anaconda3/lib/python3.6/site-packages/ipykernel_launcher.py:1: UserWarning: Boolean Series key will be reindexed to match DataFrame index.\n",
      "  \"\"\"Entry point for launching an IPython kernel.\n"
     ]
    },
    {
     "data": {
      "text/html": [
       "<div>\n",
       "<style scoped>\n",
       "    .dataframe tbody tr th:only-of-type {\n",
       "        vertical-align: middle;\n",
       "    }\n",
       "\n",
       "    .dataframe tbody tr th {\n",
       "        vertical-align: top;\n",
       "    }\n",
       "\n",
       "    .dataframe thead th {\n",
       "        text-align: right;\n",
       "    }\n",
       "</style>\n",
       "<table border=\"1\" class=\"dataframe\">\n",
       "  <thead>\n",
       "    <tr style=\"text-align: right;\">\n",
       "      <th></th>\n",
       "      <th>count</th>\n",
       "      <th>mean</th>\n",
       "      <th>std</th>\n",
       "      <th>min</th>\n",
       "      <th>25%</th>\n",
       "      <th>50%</th>\n",
       "      <th>75%</th>\n",
       "      <th>max</th>\n",
       "    </tr>\n",
       "    <tr>\n",
       "      <th>part</th>\n",
       "      <th></th>\n",
       "      <th></th>\n",
       "      <th></th>\n",
       "      <th></th>\n",
       "      <th></th>\n",
       "      <th></th>\n",
       "      <th></th>\n",
       "      <th></th>\n",
       "    </tr>\n",
       "  </thead>\n",
       "  <tbody>\n",
       "    <tr>\n",
       "      <th>1</th>\n",
       "      <td>984.0</td>\n",
       "      <td>1229.190041</td>\n",
       "      <td>190.340882</td>\n",
       "      <td>617.0</td>\n",
       "      <td>1123.00</td>\n",
       "      <td>1222.0</td>\n",
       "      <td>1345.25</td>\n",
       "      <td>1775.0</td>\n",
       "    </tr>\n",
       "    <tr>\n",
       "      <th>2</th>\n",
       "      <td>1644.0</td>\n",
       "      <td>1312.138686</td>\n",
       "      <td>152.938824</td>\n",
       "      <td>807.0</td>\n",
       "      <td>1213.00</td>\n",
       "      <td>1319.0</td>\n",
       "      <td>1415.00</td>\n",
       "      <td>1800.0</td>\n",
       "    </tr>\n",
       "    <tr>\n",
       "      <th>3</th>\n",
       "      <td>1553.0</td>\n",
       "      <td>1326.875724</td>\n",
       "      <td>174.358861</td>\n",
       "      <td>686.0</td>\n",
       "      <td>1211.00</td>\n",
       "      <td>1327.0</td>\n",
       "      <td>1447.00</td>\n",
       "      <td>1807.0</td>\n",
       "    </tr>\n",
       "    <tr>\n",
       "      <th>4</th>\n",
       "      <td>1432.0</td>\n",
       "      <td>1360.474162</td>\n",
       "      <td>187.236147</td>\n",
       "      <td>814.0</td>\n",
       "      <td>1240.75</td>\n",
       "      <td>1357.0</td>\n",
       "      <td>1486.00</td>\n",
       "      <td>1913.0</td>\n",
       "    </tr>\n",
       "    <tr>\n",
       "      <th>5</th>\n",
       "      <td>5485.0</td>\n",
       "      <td>1404.148769</td>\n",
       "      <td>166.394697</td>\n",
       "      <td>835.0</td>\n",
       "      <td>1287.00</td>\n",
       "      <td>1407.0</td>\n",
       "      <td>1522.00</td>\n",
       "      <td>1940.0</td>\n",
       "    </tr>\n",
       "    <tr>\n",
       "      <th>6</th>\n",
       "      <td>1200.0</td>\n",
       "      <td>1380.128333</td>\n",
       "      <td>183.957782</td>\n",
       "      <td>839.0</td>\n",
       "      <td>1255.75</td>\n",
       "      <td>1372.0</td>\n",
       "      <td>1501.00</td>\n",
       "      <td>1982.0</td>\n",
       "    </tr>\n",
       "    <tr>\n",
       "      <th>7</th>\n",
       "      <td>1154.0</td>\n",
       "      <td>1369.714038</td>\n",
       "      <td>170.833870</td>\n",
       "      <td>911.0</td>\n",
       "      <td>1242.25</td>\n",
       "      <td>1374.0</td>\n",
       "      <td>1486.00</td>\n",
       "      <td>2015.0</td>\n",
       "    </tr>\n",
       "  </tbody>\n",
       "</table>\n",
       "</div>"
      ],
      "text/plain": [
       "       count         mean         std    min      25%     50%      75%     max\n",
       "part                                                                          \n",
       "1      984.0  1229.190041  190.340882  617.0  1123.00  1222.0  1345.25  1775.0\n",
       "2     1644.0  1312.138686  152.938824  807.0  1213.00  1319.0  1415.00  1800.0\n",
       "3     1553.0  1326.875724  174.358861  686.0  1211.00  1327.0  1447.00  1807.0\n",
       "4     1432.0  1360.474162  187.236147  814.0  1240.75  1357.0  1486.00  1913.0\n",
       "5     5485.0  1404.148769  166.394697  835.0  1287.00  1407.0  1522.00  1940.0\n",
       "6     1200.0  1380.128333  183.957782  839.0  1255.75  1372.0  1501.00  1982.0\n",
       "7     1154.0  1369.714038  170.833870  911.0  1242.25  1374.0  1486.00  2015.0"
      ]
     },
     "execution_count": 26,
     "metadata": {},
     "output_type": "execute_result"
    }
   ],
   "source": [
    "df.drop_duplicates(\"content_id\")[df[\"content_type_id\"]==0].groupby(\"part\")[\"content_rating\"].describe()"
   ]
  },
  {
   "cell_type": "code",
   "execution_count": 27,
   "metadata": {},
   "outputs": [
    {
     "name": "stderr",
     "output_type": "stream",
     "text": [
      "/home/owner/anaconda3/lib/python3.6/site-packages/ipykernel_launcher.py:1: UserWarning: Boolean Series key will be reindexed to match DataFrame index.\n",
      "  \"\"\"Entry point for launching an IPython kernel.\n"
     ]
    },
    {
     "data": {
      "text/plain": [
       "<matplotlib.axes._subplots.AxesSubplot at 0x7ff32d9e75f8>"
      ]
     },
     "execution_count": 27,
     "metadata": {},
     "output_type": "execute_result"
    },
    {
     "data": {
      "image/png": "[encoded data removed]",
      "text/plain": [
       "<Figure size 432x288 with 1 Axes>"
      ]
     },
     "metadata": {},
     "output_type": "display_data"
    }
   ],
   "source": [
    "df.drop_duplicates(\"content_id\")[df[\"content_type_id\"]==0][\"content_rating\"].hist(bins=100)"
   ]
  },
  {
   "cell_type": "code",
   "execution_count": null,
   "metadata": {
    "collapsed": true
   },
   "outputs": [],
   "source": []
  }
 ],
 "metadata": {
  "kernelspec": {
   "display_name": "Python 3",
   "language": "python",
   "name": "python3"
  },
  "language_info": {
   "codemirror_mode": {
    "name": "ipython",
    "version": 3
   },
   "file_extension": ".py",
   "mimetype": "text/x-python",
   "name": "python",
   "nbconvert_exporter": "python",
   "pygments_lexer": "ipython3",
   "version": "3.6.1"
  }
 },
 "nbformat": 4,
 "nbformat_minor": 2
}
